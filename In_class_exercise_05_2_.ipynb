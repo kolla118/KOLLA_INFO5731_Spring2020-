{
  "cells": [
    {
      "cell_type": "markdown",
      "metadata": {
        "id": "view-in-github",
        "colab_type": "text"
      },
      "source": [
        "<a href=\"https://colab.research.google.com/github/kolla118/KOLLA_INFO5731_Spring2020-/blob/main/In_class_exercise_05_2_.ipynb\" target=\"_parent\"><img src=\"https://colab.research.google.com/assets/colab-badge.svg\" alt=\"Open In Colab\"/></a>"
      ]
    },
    {
      "cell_type": "markdown",
      "metadata": {
        "id": "rx71v9NaBKGH"
      },
      "source": [
        "# **The fifth in-class-exercise (40 points in total, 04/12/2022)**"
      ]
    },
    {
      "cell_type": "markdown",
      "metadata": {
        "id": "hicHIfrRBKGI"
      },
      "source": [
        "(20 points) The purpose of the question is to practice different machine learning algorithms for text classification as well as the performance evaluation. In addition, you are requried to conduct *10 fold cross validation (https://scikit-learn.org/stable/modules/cross_validation.html)* in the training. \n",
        "\n",
        "The dataset can be download from here: https://github.com/unt-iialab/info5731-spring2022/blob/main/assignments/exercise05_datacollection.zip. The dataset contains two files train data and test data for sentiment analysis in IMDB review, it has two categories: 1 represents positive and 0 represents negative. You need to split the training data into training and validate data (80% for training and 20% for validation, https://towardsdatascience.com/train-test-split-and-cross-validation-in-python-80b61beca4b6) and perform 10 fold cross validation while training the classifier. The final trained model was final evaluated on the test data. \n",
        "\n",
        "Algorithms:\n",
        "\n",
        "(1) MultinominalNB\n",
        "\n",
        "(2) SVM \n",
        "\n",
        "(3) KNN \n",
        "\n",
        "(4) Decision tree\n",
        "\n",
        "(5) Random Forest\n",
        "\n",
        "(6) XGBoost\n",
        "\n",
        "Evaluation measurement:\n",
        "\n",
        "(1) Accuracy\n",
        "\n",
        "(2) Recall\n",
        "\n",
        "(3) Precison \n",
        "\n",
        "(4) F-1 score"
      ]
    },
    {
      "cell_type": "code",
      "execution_count": null,
      "metadata": {
        "colab": {
          "base_uri": "https://localhost:8080/"
        },
        "id": "ZnTx7PiOBKGJ",
        "outputId": "a6f66c47-fb6d-4120-c2e7-82eeae3befe0"
      },
      "outputs": [
        {
          "output_type": "stream",
          "name": "stdout",
          "text": [
            "Requirement already satisfied: xgboost in /usr/local/lib/python3.7/dist-packages (0.90)\n",
            "Requirement already satisfied: scipy in /usr/local/lib/python3.7/dist-packages (from xgboost) (1.4.1)\n",
            "Requirement already satisfied: numpy in /usr/local/lib/python3.7/dist-packages (from xgboost) (1.21.5)\n"
          ]
        }
      ],
      "source": [
        "pip install xgboost"
      ]
    },
    {
      "cell_type": "code",
      "source": [
        "#Importing modules\n",
        "import numpy as np\n",
        "import pandas as pd\n",
        "from numpy import mean\n",
        "from sklearn.datasets import make_classification\n",
        "from sklearn.model_selection import KFold\n",
        "from sklearn.model_selection import LeaveOneOut\n",
        "from sklearn.model_selection import cross_val_score, train_test_split\n",
        "\n",
        "#Model imports\n",
        "from sklearn.naive_bayes import MultinomialNB\n",
        "from sklearn.svm import LinearSVC\n",
        "from sklearn.neighbors import KNeighborsClassifier\n",
        "from sklearn.tree import DecisionTreeClassifier\n",
        "from sklearn.ensemble import RandomForestClassifier\n",
        "from xgboost import XGBClassifier\n"
      ],
      "metadata": {
        "id": "tmP8zcrxCTOg"
      },
      "execution_count": null,
      "outputs": []
    },
    {
      "cell_type": "code",
      "source": [
        "df_training = pd.read_csv(r'/content/stsa-train.txt',sep = 'delimiter=',header= None,names=['Text'])\n",
        "df_training[['Sentiment','Text']] = df_training[\"Text\"].str.split(\" \", 1, expand=True)\n",
        "\n",
        "df_training.head()"
      ],
      "metadata": {
        "colab": {
          "base_uri": "https://localhost:8080/",
          "height": 262
        },
        "id": "7Obo6InUCVR-",
        "outputId": "2c0317c0-0dc5-4126-cc8c-a11efd50535c"
      },
      "execution_count": null,
      "outputs": [
        {
          "output_type": "stream",
          "name": "stderr",
          "text": [
            "/usr/local/lib/python3.7/dist-packages/pandas/util/_decorators.py:311: ParserWarning: Falling back to the 'python' engine because the 'c' engine does not support regex separators (separators > 1 char and different from '\\s+' are interpreted as regex); you can avoid this warning by specifying engine='python'.\n",
            "  return func(*args, **kwargs)\n"
          ]
        },
        {
          "output_type": "execute_result",
          "data": {
            "text/plain": [
              "                                                Text Sentiment\n",
              "0  a stirring , funny and finally transporting re...         1\n",
              "1  apparently reassembled from the cutting-room f...         0\n",
              "2  they presume their audience wo n't sit still f...         0\n",
              "3  this is a visually stunning rumination on love...         1\n",
              "4  jonathan parker 's bartleby should have been t...         1"
            ],
            "text/html": [
              "\n",
              "  <div id=\"df-cd3001a1-3e10-42b6-9cd8-f38e28416232\">\n",
              "    <div class=\"colab-df-container\">\n",
              "      <div>\n",
              "<style scoped>\n",
              "    .dataframe tbody tr th:only-of-type {\n",
              "        vertical-align: middle;\n",
              "    }\n",
              "\n",
              "    .dataframe tbody tr th {\n",
              "        vertical-align: top;\n",
              "    }\n",
              "\n",
              "    .dataframe thead th {\n",
              "        text-align: right;\n",
              "    }\n",
              "</style>\n",
              "<table border=\"1\" class=\"dataframe\">\n",
              "  <thead>\n",
              "    <tr style=\"text-align: right;\">\n",
              "      <th></th>\n",
              "      <th>Text</th>\n",
              "      <th>Sentiment</th>\n",
              "    </tr>\n",
              "  </thead>\n",
              "  <tbody>\n",
              "    <tr>\n",
              "      <th>0</th>\n",
              "      <td>a stirring , funny and finally transporting re...</td>\n",
              "      <td>1</td>\n",
              "    </tr>\n",
              "    <tr>\n",
              "      <th>1</th>\n",
              "      <td>apparently reassembled from the cutting-room f...</td>\n",
              "      <td>0</td>\n",
              "    </tr>\n",
              "    <tr>\n",
              "      <th>2</th>\n",
              "      <td>they presume their audience wo n't sit still f...</td>\n",
              "      <td>0</td>\n",
              "    </tr>\n",
              "    <tr>\n",
              "      <th>3</th>\n",
              "      <td>this is a visually stunning rumination on love...</td>\n",
              "      <td>1</td>\n",
              "    </tr>\n",
              "    <tr>\n",
              "      <th>4</th>\n",
              "      <td>jonathan parker 's bartleby should have been t...</td>\n",
              "      <td>1</td>\n",
              "    </tr>\n",
              "  </tbody>\n",
              "</table>\n",
              "</div>\n",
              "      <button class=\"colab-df-convert\" onclick=\"convertToInteractive('df-cd3001a1-3e10-42b6-9cd8-f38e28416232')\"\n",
              "              title=\"Convert this dataframe to an interactive table.\"\n",
              "              style=\"display:none;\">\n",
              "        \n",
              "  <svg xmlns=\"http://www.w3.org/2000/svg\" height=\"24px\"viewBox=\"0 0 24 24\"\n",
              "       width=\"24px\">\n",
              "    <path d=\"M0 0h24v24H0V0z\" fill=\"none\"/>\n",
              "    <path d=\"M18.56 5.44l.94 2.06.94-2.06 2.06-.94-2.06-.94-.94-2.06-.94 2.06-2.06.94zm-11 1L8.5 8.5l.94-2.06 2.06-.94-2.06-.94L8.5 2.5l-.94 2.06-2.06.94zm10 10l.94 2.06.94-2.06 2.06-.94-2.06-.94-.94-2.06-.94 2.06-2.06.94z\"/><path d=\"M17.41 7.96l-1.37-1.37c-.4-.4-.92-.59-1.43-.59-.52 0-1.04.2-1.43.59L10.3 9.45l-7.72 7.72c-.78.78-.78 2.05 0 2.83L4 21.41c.39.39.9.59 1.41.59.51 0 1.02-.2 1.41-.59l7.78-7.78 2.81-2.81c.8-.78.8-2.07 0-2.86zM5.41 20L4 18.59l7.72-7.72 1.47 1.35L5.41 20z\"/>\n",
              "  </svg>\n",
              "      </button>\n",
              "      \n",
              "  <style>\n",
              "    .colab-df-container {\n",
              "      display:flex;\n",
              "      flex-wrap:wrap;\n",
              "      gap: 12px;\n",
              "    }\n",
              "\n",
              "    .colab-df-convert {\n",
              "      background-color: #E8F0FE;\n",
              "      border: none;\n",
              "      border-radius: 50%;\n",
              "      cursor: pointer;\n",
              "      display: none;\n",
              "      fill: #1967D2;\n",
              "      height: 32px;\n",
              "      padding: 0 0 0 0;\n",
              "      width: 32px;\n",
              "    }\n",
              "\n",
              "    .colab-df-convert:hover {\n",
              "      background-color: #E2EBFA;\n",
              "      box-shadow: 0px 1px 2px rgba(60, 64, 67, 0.3), 0px 1px 3px 1px rgba(60, 64, 67, 0.15);\n",
              "      fill: #174EA6;\n",
              "    }\n",
              "\n",
              "    [theme=dark] .colab-df-convert {\n",
              "      background-color: #3B4455;\n",
              "      fill: #D2E3FC;\n",
              "    }\n",
              "\n",
              "    [theme=dark] .colab-df-convert:hover {\n",
              "      background-color: #434B5C;\n",
              "      box-shadow: 0px 1px 3px 1px rgba(0, 0, 0, 0.15);\n",
              "      filter: drop-shadow(0px 1px 2px rgba(0, 0, 0, 0.3));\n",
              "      fill: #FFFFFF;\n",
              "    }\n",
              "  </style>\n",
              "\n",
              "      <script>\n",
              "        const buttonEl =\n",
              "          document.querySelector('#df-cd3001a1-3e10-42b6-9cd8-f38e28416232 button.colab-df-convert');\n",
              "        buttonEl.style.display =\n",
              "          google.colab.kernel.accessAllowed ? 'block' : 'none';\n",
              "\n",
              "        async function convertToInteractive(key) {\n",
              "          const element = document.querySelector('#df-cd3001a1-3e10-42b6-9cd8-f38e28416232');\n",
              "          const dataTable =\n",
              "            await google.colab.kernel.invokeFunction('convertToInteractive',\n",
              "                                                     [key], {});\n",
              "          if (!dataTable) return;\n",
              "\n",
              "          const docLinkHtml = 'Like what you see? Visit the ' +\n",
              "            '<a target=\"_blank\" href=https://colab.research.google.com/notebooks/data_table.ipynb>data table notebook</a>'\n",
              "            + ' to learn more about interactive tables.';\n",
              "          element.innerHTML = '';\n",
              "          dataTable['output_type'] = 'display_data';\n",
              "          await google.colab.output.renderOutput(dataTable, element);\n",
              "          const docLink = document.createElement('div');\n",
              "          docLink.innerHTML = docLinkHtml;\n",
              "          element.appendChild(docLink);\n",
              "        }\n",
              "      </script>\n",
              "    </div>\n",
              "  </div>\n",
              "  "
            ]
          },
          "metadata": {},
          "execution_count": 4
        }
      ]
    },
    {
      "cell_type": "code",
      "source": [
        "df_test = pd.read_csv(r'/content/stsa-test.txt',sep = 'delimiter=',header= None,names=['Text'])\n",
        "df_test[['Sentiment','Text']] = df_test[\"Text\"].str.split(\" \", 1, expand=True)\n",
        "df_test.head()"
      ],
      "metadata": {
        "colab": {
          "base_uri": "https://localhost:8080/",
          "height": 262
        },
        "id": "6sBeE92bCY2k",
        "outputId": "ea1eea80-7488-40fc-8aa7-f42b74129bdf"
      },
      "execution_count": null,
      "outputs": [
        {
          "output_type": "stream",
          "name": "stderr",
          "text": [
            "/usr/local/lib/python3.7/dist-packages/pandas/util/_decorators.py:311: ParserWarning: Falling back to the 'python' engine because the 'c' engine does not support regex separators (separators > 1 char and different from '\\s+' are interpreted as regex); you can avoid this warning by specifying engine='python'.\n",
            "  return func(*args, **kwargs)\n"
          ]
        },
        {
          "output_type": "execute_result",
          "data": {
            "text/plain": [
              "                                                Text Sentiment\n",
              "0     no movement , no yuks , not much of anything .         0\n",
              "1  a gob of drivel so sickly sweet , even the eag...         0\n",
              "2  gangs of new york is an unapologetic mess , wh...         0\n",
              "3  we never really feel involved with the story ,...         0\n",
              "4            this is one of polanski 's best films .         1"
            ],
            "text/html": [
              "\n",
              "  <div id=\"df-6fd2614e-0bd9-416e-bb61-e888e682ea2b\">\n",
              "    <div class=\"colab-df-container\">\n",
              "      <div>\n",
              "<style scoped>\n",
              "    .dataframe tbody tr th:only-of-type {\n",
              "        vertical-align: middle;\n",
              "    }\n",
              "\n",
              "    .dataframe tbody tr th {\n",
              "        vertical-align: top;\n",
              "    }\n",
              "\n",
              "    .dataframe thead th {\n",
              "        text-align: right;\n",
              "    }\n",
              "</style>\n",
              "<table border=\"1\" class=\"dataframe\">\n",
              "  <thead>\n",
              "    <tr style=\"text-align: right;\">\n",
              "      <th></th>\n",
              "      <th>Text</th>\n",
              "      <th>Sentiment</th>\n",
              "    </tr>\n",
              "  </thead>\n",
              "  <tbody>\n",
              "    <tr>\n",
              "      <th>0</th>\n",
              "      <td>no movement , no yuks , not much of anything .</td>\n",
              "      <td>0</td>\n",
              "    </tr>\n",
              "    <tr>\n",
              "      <th>1</th>\n",
              "      <td>a gob of drivel so sickly sweet , even the eag...</td>\n",
              "      <td>0</td>\n",
              "    </tr>\n",
              "    <tr>\n",
              "      <th>2</th>\n",
              "      <td>gangs of new york is an unapologetic mess , wh...</td>\n",
              "      <td>0</td>\n",
              "    </tr>\n",
              "    <tr>\n",
              "      <th>3</th>\n",
              "      <td>we never really feel involved with the story ,...</td>\n",
              "      <td>0</td>\n",
              "    </tr>\n",
              "    <tr>\n",
              "      <th>4</th>\n",
              "      <td>this is one of polanski 's best films .</td>\n",
              "      <td>1</td>\n",
              "    </tr>\n",
              "  </tbody>\n",
              "</table>\n",
              "</div>\n",
              "      <button class=\"colab-df-convert\" onclick=\"convertToInteractive('df-6fd2614e-0bd9-416e-bb61-e888e682ea2b')\"\n",
              "              title=\"Convert this dataframe to an interactive table.\"\n",
              "              style=\"display:none;\">\n",
              "        \n",
              "  <svg xmlns=\"http://www.w3.org/2000/svg\" height=\"24px\"viewBox=\"0 0 24 24\"\n",
              "       width=\"24px\">\n",
              "    <path d=\"M0 0h24v24H0V0z\" fill=\"none\"/>\n",
              "    <path d=\"M18.56 5.44l.94 2.06.94-2.06 2.06-.94-2.06-.94-.94-2.06-.94 2.06-2.06.94zm-11 1L8.5 8.5l.94-2.06 2.06-.94-2.06-.94L8.5 2.5l-.94 2.06-2.06.94zm10 10l.94 2.06.94-2.06 2.06-.94-2.06-.94-.94-2.06-.94 2.06-2.06.94z\"/><path d=\"M17.41 7.96l-1.37-1.37c-.4-.4-.92-.59-1.43-.59-.52 0-1.04.2-1.43.59L10.3 9.45l-7.72 7.72c-.78.78-.78 2.05 0 2.83L4 21.41c.39.39.9.59 1.41.59.51 0 1.02-.2 1.41-.59l7.78-7.78 2.81-2.81c.8-.78.8-2.07 0-2.86zM5.41 20L4 18.59l7.72-7.72 1.47 1.35L5.41 20z\"/>\n",
              "  </svg>\n",
              "      </button>\n",
              "      \n",
              "  <style>\n",
              "    .colab-df-container {\n",
              "      display:flex;\n",
              "      flex-wrap:wrap;\n",
              "      gap: 12px;\n",
              "    }\n",
              "\n",
              "    .colab-df-convert {\n",
              "      background-color: #E8F0FE;\n",
              "      border: none;\n",
              "      border-radius: 50%;\n",
              "      cursor: pointer;\n",
              "      display: none;\n",
              "      fill: #1967D2;\n",
              "      height: 32px;\n",
              "      padding: 0 0 0 0;\n",
              "      width: 32px;\n",
              "    }\n",
              "\n",
              "    .colab-df-convert:hover {\n",
              "      background-color: #E2EBFA;\n",
              "      box-shadow: 0px 1px 2px rgba(60, 64, 67, 0.3), 0px 1px 3px 1px rgba(60, 64, 67, 0.15);\n",
              "      fill: #174EA6;\n",
              "    }\n",
              "\n",
              "    [theme=dark] .colab-df-convert {\n",
              "      background-color: #3B4455;\n",
              "      fill: #D2E3FC;\n",
              "    }\n",
              "\n",
              "    [theme=dark] .colab-df-convert:hover {\n",
              "      background-color: #434B5C;\n",
              "      box-shadow: 0px 1px 3px 1px rgba(0, 0, 0, 0.15);\n",
              "      filter: drop-shadow(0px 1px 2px rgba(0, 0, 0, 0.3));\n",
              "      fill: #FFFFFF;\n",
              "    }\n",
              "  </style>\n",
              "\n",
              "      <script>\n",
              "        const buttonEl =\n",
              "          document.querySelector('#df-6fd2614e-0bd9-416e-bb61-e888e682ea2b button.colab-df-convert');\n",
              "        buttonEl.style.display =\n",
              "          google.colab.kernel.accessAllowed ? 'block' : 'none';\n",
              "\n",
              "        async function convertToInteractive(key) {\n",
              "          const element = document.querySelector('#df-6fd2614e-0bd9-416e-bb61-e888e682ea2b');\n",
              "          const dataTable =\n",
              "            await google.colab.kernel.invokeFunction('convertToInteractive',\n",
              "                                                     [key], {});\n",
              "          if (!dataTable) return;\n",
              "\n",
              "          const docLinkHtml = 'Like what you see? Visit the ' +\n",
              "            '<a target=\"_blank\" href=https://colab.research.google.com/notebooks/data_table.ipynb>data table notebook</a>'\n",
              "            + ' to learn more about interactive tables.';\n",
              "          element.innerHTML = '';\n",
              "          dataTable['output_type'] = 'display_data';\n",
              "          await google.colab.output.renderOutput(dataTable, element);\n",
              "          const docLink = document.createElement('div');\n",
              "          docLink.innerHTML = docLinkHtml;\n",
              "          element.appendChild(docLink);\n",
              "        }\n",
              "      </script>\n",
              "    </div>\n",
              "  </div>\n",
              "  "
            ]
          },
          "metadata": {},
          "execution_count": 5
        }
      ]
    },
    {
      "cell_type": "code",
      "source": [
        "# Write your code here\n",
        "\n",
        "import os\n",
        "import tweepy as tw\n",
        "import pandas as pd\n",
        "import re\n",
        "import nltk\n",
        "nltk.download('wordnet')\n",
        "nltk.download('stopwords')\n",
        "nltk.download('words')\n",
        "from nltk.corpus import stopwords\n",
        "import requests\n",
        "from bs4 import BeautifulSoup\n",
        "from nltk.stem import WordNetLemmatizer\n",
        "\n",
        "words = set(nltk.corpus.words.words())\n",
        "\n",
        "def get_lemmatized_docs(document):\n",
        "  stemmer = WordNetLemmatizer()\n",
        "  eng_stop_word_list = stopwords.words(\"english\")\n",
        "  bag_of_words = []\n",
        "  # removing all the special characters\n",
        "  document = re.sub(r'\\W', ' ', str(document))\n",
        "\n",
        "  # removing all single characters\n",
        "  document = re.sub(r'\\s+[a-zA-Z]\\s+', ' ', document)\n",
        "\n",
        "  # removing multiple spaces and adding single space in place\n",
        "  document = re.sub(r'\\s+', ' ', document, flags=re.I)\n",
        "\n",
        "  # removing the 'b' prefix added during byte conversion\n",
        "  document = re.sub(r'^b\\s+', '', document)\n",
        "\n",
        "  # removing numbers\n",
        "  document = re.sub(r'\\d+','',document)\n",
        "\n",
        "  # converting all words to lowercase\n",
        "  document = document.lower()\n",
        "      \n",
        "  # Splitting the cleaned document into a list of words, which will be subsequently added to a bag after more processing\n",
        "  document = document.split()\n",
        "  document = [stemmer.lemmatize(word) for word in document]\n",
        "  document = [word for word in document if word not in eng_stop_word_list]\n",
        "  document = ' '.join(document)\n",
        "  document = \" \".join(word for word in nltk.wordpunct_tokenize(document) if word.lower() in words or not word.isalpha())\n",
        "  return document\n",
        "\n",
        "\n",
        "\n"
      ],
      "metadata": {
        "colab": {
          "base_uri": "https://localhost:8080/"
        },
        "id": "T5_TOEEVCem_",
        "outputId": "a8b04c31-4ac3-48f6-978e-636f32186482"
      },
      "execution_count": null,
      "outputs": [
        {
          "output_type": "stream",
          "name": "stdout",
          "text": [
            "[nltk_data] Downloading package wordnet to /root/nltk_data...\n",
            "[nltk_data]   Unzipping corpora/wordnet.zip.\n",
            "[nltk_data] Downloading package stopwords to /root/nltk_data...\n",
            "[nltk_data]   Unzipping corpora/stopwords.zip.\n",
            "[nltk_data] Downloading package words to /root/nltk_data...\n",
            "[nltk_data]   Unzipping corpora/words.zip.\n"
          ]
        }
      ]
    },
    {
      "cell_type": "code",
      "source": [
        "from sklearn.feature_extraction.text import TfidfVectorizer\n",
        "tf_idf_vect = TfidfVectorizer(analyzer = get_lemmatized_docs)\n",
        "X_tf_idf = tf_idf_vect.fit_transform(df_training['Text'])\n",
        "X_tf_idf_dafrme=pd.DataFrame(X_tf_idf.toarray())\n",
        "X_tf_idf_dafrme.columns=tf_idf_vect.get_feature_names()\n",
        "X_test_tfidf = tf_idf_vect.transform(df_test['Text'])"
      ],
      "metadata": {
        "colab": {
          "base_uri": "https://localhost:8080/"
        },
        "id": "UP4SR69-ChXn",
        "outputId": "f703ab5d-ea04-441a-82ff-49ed1f31e5a2"
      },
      "execution_count": null,
      "outputs": [
        {
          "output_type": "stream",
          "name": "stderr",
          "text": [
            "/usr/local/lib/python3.7/dist-packages/sklearn/utils/deprecation.py:87: FutureWarning: Function get_feature_names is deprecated; get_feature_names is deprecated in 1.0 and will be removed in 1.2. Please use get_feature_names_out instead.\n",
            "  warnings.warn(msg, category=FutureWarning)\n"
          ]
        }
      ]
    },
    {
      "cell_type": "code",
      "source": [
        "# Classifers in Question\n",
        "MNB = MultinomialNB()\n",
        "SVM = LinearSVC()\n",
        "KNN = KNeighborsClassifier()\n",
        "DT = DecisionTreeClassifier()\n",
        "RF = RandomForestClassifier()\n",
        "XGB = XGBClassifier()\n"
      ],
      "metadata": {
        "id": "KMZfnVjLCijO"
      },
      "execution_count": null,
      "outputs": []
    },
    {
      "cell_type": "code",
      "source": [
        "#Cross-validation 10 fold\n",
        "cv = KFold(n_splits=10, shuffle=True, random_state=1)\n"
      ],
      "metadata": {
        "id": "ocFg85nTClPy"
      },
      "execution_count": null,
      "outputs": []
    },
    {
      "cell_type": "code",
      "source": [
        "x_train, x_test, y_train, y_test = train_test_split(X_tf_idf_dafrme, df_training['Sentiment'].values,\n",
        "                                                test_size=0.2, random_state=42)"
      ],
      "metadata": {
        "id": "Gr2ZoRt9ClBs"
      },
      "execution_count": null,
      "outputs": []
    },
    {
      "cell_type": "code",
      "source": [
        "from sklearn.metrics import accuracy_score\n",
        "from sklearn.metrics import classification_report\n",
        "MNB_test = MNB.fit(x_train,y_train)\n",
        "y_MNB = MNB_test.predict(x_test)\n",
        "print('Accuracy Score %s' % accuracy_score(y_MNB,y_test))\n",
        "print(classification_report(y_test,y_MNB))\n",
        "from sklearn.model_selection import cross_val_score\n",
        "#accuracy\n",
        "scores_MNB = cross_val_score(MNB, x_test, y_test, cv=cv)\n",
        "print(\"Accuracy using MNB\",scores_MNB.mean())"
      ],
      "metadata": {
        "colab": {
          "base_uri": "https://localhost:8080/"
        },
        "id": "POhs_RM-Cpsp",
        "outputId": "b20b3c4e-54d7-46e3-d9e8-ec20fb415b49"
      },
      "execution_count": null,
      "outputs": [
        {
          "output_type": "stream",
          "name": "stdout",
          "text": [
            "Accuracy Score 0.5079479768786127\n",
            "              precision    recall  f1-score   support\n",
            "\n",
            "           0       0.37      0.02      0.04       671\n",
            "           1       0.51      0.97      0.67       713\n",
            "\n",
            "    accuracy                           0.51      1384\n",
            "   macro avg       0.44      0.49      0.35      1384\n",
            "weighted avg       0.44      0.51      0.36      1384\n",
            "\n",
            "Accuracy using MNB 0.5208580961317901\n"
          ]
        }
      ]
    },
    {
      "cell_type": "code",
      "source": [
        "SVM_test = SVM.fit(x_train,y_train)\n",
        "y_SVM = SVM_test.predict(x_test)\n",
        "print('Accuracy Score %s' % accuracy_score(y_SVM,y_test))\n",
        "print(classification_report(y_test,y_SVM))\n",
        "from sklearn.model_selection import cross_val_score\n",
        "#accuracy\n",
        "scores_SVM = cross_val_score(SVM, x_test, y_test, cv=cv)\n",
        "print(\"Accuracy using SVM\",scores_SVM.mean())"
      ],
      "metadata": {
        "colab": {
          "base_uri": "https://localhost:8080/"
        },
        "id": "WmzqDjZGCpjo",
        "outputId": "6b011419-3054-4352-e5a1-11fe64c9845c"
      },
      "execution_count": null,
      "outputs": [
        {
          "output_type": "stream",
          "name": "stdout",
          "text": [
            "Accuracy Score 0.5715317919075145\n",
            "              precision    recall  f1-score   support\n",
            "\n",
            "           0       0.58      0.44      0.50       671\n",
            "           1       0.57      0.70      0.63       713\n",
            "\n",
            "    accuracy                           0.57      1384\n",
            "   macro avg       0.57      0.57      0.56      1384\n",
            "weighted avg       0.57      0.57      0.56      1384\n",
            "\n",
            "Accuracy using SVM 0.5390001042644146\n"
          ]
        }
      ]
    },
    {
      "cell_type": "code",
      "source": [
        "# Write your code here\n",
        "\n",
        "KNN_test = KNN.fit(x_train,y_train)\n",
        "y_KNN = KNN_test.predict(x_test)\n",
        "print('Accuracy Score %s' % accuracy_score(y_KNN,y_test))\n",
        "print(classification_report(y_test,y_KNN))\n",
        "from sklearn.model_selection import cross_val_score\n",
        "#accuracy\n",
        "scores_KNN = cross_val_score(KNN, x_test, y_test, cv=cv)\n",
        "print(\"Accuracy using knn\",scores_KNN.mean())"
      ],
      "metadata": {
        "colab": {
          "base_uri": "https://localhost:8080/"
        },
        "id": "Jlv9zyMyCuHA",
        "outputId": "93aef0ae-1634-44d8-d41b-bc23b4fc6721"
      },
      "execution_count": null,
      "outputs": [
        {
          "output_type": "stream",
          "name": "stdout",
          "text": [
            "Accuracy Score 0.5267341040462428\n",
            "              precision    recall  f1-score   support\n",
            "\n",
            "           0       0.51      0.44      0.47       671\n",
            "           1       0.54      0.61      0.57       713\n",
            "\n",
            "    accuracy                           0.53      1384\n",
            "   macro avg       0.52      0.52      0.52      1384\n",
            "weighted avg       0.53      0.53      0.52      1384\n",
            "\n",
            "Accuracy using knn 0.5260243978730059\n"
          ]
        }
      ]
    },
    {
      "cell_type": "code",
      "source": [
        "dec_tree_test = DT.fit(x_train,y_train)\n",
        "y_dec_tree = dec_tree_test.predict(x_test)\n",
        "print('Accuracy Score %s' % accuracy_score(y_dec_tree,y_test))\n",
        "print(classification_report(y_test,y_dec_tree))\n",
        "#accuracy\n",
        "scores_DT = cross_val_score(DT, x_test, y_test, cv=cv)\n",
        "print(\"Accuracy using Decision trees\",scores_DT.mean())"
      ],
      "metadata": {
        "colab": {
          "base_uri": "https://localhost:8080/"
        },
        "id": "4yE0q0k5Cv1H",
        "outputId": "c1fb8811-a5c1-4bf8-9d5e-105362af4a36"
      },
      "execution_count": null,
      "outputs": [
        {
          "output_type": "stream",
          "name": "stdout",
          "text": [
            "Accuracy Score 0.5086705202312138\n",
            "              precision    recall  f1-score   support\n",
            "\n",
            "           0       0.49      0.48      0.49       671\n",
            "           1       0.52      0.53      0.53       713\n",
            "\n",
            "    accuracy                           0.51      1384\n",
            "   macro avg       0.51      0.51      0.51      1384\n",
            "weighted avg       0.51      0.51      0.51      1384\n",
            "\n",
            "Accuracy using Decision trees 0.5057449692419977\n"
          ]
        }
      ]
    },
    {
      "cell_type": "code",
      "source": [
        "RF_test = RF.fit(x_train,y_train)\n",
        "y_RF = RF_test.predict(x_test)\n",
        "print('Accuracy Score %s' % accuracy_score(y_RF,y_test))\n",
        "print(classification_report(y_test,y_RF))\n",
        "#accuracy\n",
        "scores_RF = cross_val_score(RF, x_test, y_test, cv=cv)\n",
        "print(\"Accuracy using Random Forest\",scores_RF.mean())"
      ],
      "metadata": {
        "colab": {
          "base_uri": "https://localhost:8080/"
        },
        "id": "-MURjDl-Cvti",
        "outputId": "73636378-7697-44cf-c2e0-3a70b7e14bbd"
      },
      "execution_count": null,
      "outputs": [
        {
          "output_type": "stream",
          "name": "stdout",
          "text": [
            "Accuracy Score 0.5498554913294798\n",
            "              precision    recall  f1-score   support\n",
            "\n",
            "           0       0.54      0.49      0.51       671\n",
            "           1       0.56      0.61      0.58       713\n",
            "\n",
            "    accuracy                           0.55      1384\n",
            "   macro avg       0.55      0.55      0.55      1384\n",
            "weighted avg       0.55      0.55      0.55      1384\n",
            "\n",
            "Accuracy using Random Forest 0.5426389323323949\n"
          ]
        }
      ]
    },
    {
      "cell_type": "code",
      "source": [
        "XGB_test = XGB.fit(x_train,y_train)\n",
        "#prediction\n",
        "y_XGB = XGB_test.predict(x_test)\n",
        "print('Accuracy Score %s' % accuracy_score(y_XGB,y_test))\n",
        "print(classification_report(y_test,y_XGB))\n",
        "#accuracy\n",
        "scores_XGB = cross_val_score(XGB, x_test, y_test, cv=cv)\n",
        "print(\"Accuracy using XGBoost\",scores_XGB.mean())"
      ],
      "metadata": {
        "colab": {
          "base_uri": "https://localhost:8080/"
        },
        "id": "4t55irw4C55W",
        "outputId": "f91fbb66-a2b6-444a-d347-717a325a24db"
      },
      "execution_count": null,
      "outputs": [
        {
          "output_type": "stream",
          "name": "stdout",
          "text": [
            "Accuracy Score 0.5549132947976878\n",
            "              precision    recall  f1-score   support\n",
            "\n",
            "           0       0.55      0.45      0.49       671\n",
            "           1       0.56      0.66      0.60       713\n",
            "\n",
            "    accuracy                           0.55      1384\n",
            "   macro avg       0.55      0.55      0.55      1384\n",
            "weighted avg       0.55      0.55      0.55      1384\n",
            "\n",
            "Accuracy using XGBoost 0.5202585757480972\n"
          ]
        }
      ]
    },
    {
      "cell_type": "code",
      "source": [
        "svm_classifed_result = SVM_test.predict(X_test_tfidf)\n",
        "print(accuracy_score(svm_classifed_result,df_test['Sentiment']))"
      ],
      "metadata": {
        "colab": {
          "base_uri": "https://localhost:8080/"
        },
        "id": "-Yj07X0mC5yW",
        "outputId": "160e01ac-92f6-41f0-d9ae-34b7c1ede6e1"
      },
      "execution_count": null,
      "outputs": [
        {
          "output_type": "stream",
          "name": "stdout",
          "text": [
            "0.5683690280065898\n"
          ]
        },
        {
          "output_type": "stream",
          "name": "stderr",
          "text": [
            "/usr/local/lib/python3.7/dist-packages/sklearn/base.py:451: UserWarning: X does not have valid feature names, but LinearSVC was fitted with feature names\n",
            "  \"X does not have valid feature names, but\"\n"
          ]
        }
      ]
    },
    {
      "cell_type": "markdown",
      "metadata": {
        "id": "LtT_fY0NBKGJ"
      },
      "source": [
        "(20 points) The purpose of the question is to practice different machine learning algorithms for text clustering\n",
        "Please downlad the dataset by using the following link.  https://www.kaggle.com/PromptCloudHQ/amazon-reviews-unlocked-mobile-phones\n",
        "(You can also use different text data which you want)\n",
        "\n",
        "Apply the listed clustering methods to the dataset:\n",
        "\n",
        "K means, \n",
        "DBSCAN,\n",
        "Hierarchical clustering. \n",
        "\n",
        "You can refer to of the codes from  the follwing link below. \n",
        "https://www.kaggle.com/karthik3890/text-clustering "
      ]
    },
    {
      "cell_type": "code",
      "execution_count": null,
      "metadata": {
        "colab": {
          "base_uri": "https://localhost:8080/",
          "height": 206
        },
        "id": "5xfZhPP5BKGJ",
        "outputId": "16ebc374-05e8-4c94-809f-d5f67b8d251c"
      },
      "outputs": [
        {
          "output_type": "execute_result",
          "data": {
            "text/plain": [
              "                                        Product Name Brand Name   Price  \\\n",
              "0  \"CLEAR CLEAN ESN\" Sprint EPIC 4G Galaxy SPH-D7...    Samsung  199.99   \n",
              "1  \"CLEAR CLEAN ESN\" Sprint EPIC 4G Galaxy SPH-D7...    Samsung  199.99   \n",
              "2  \"CLEAR CLEAN ESN\" Sprint EPIC 4G Galaxy SPH-D7...    Samsung  199.99   \n",
              "3  \"CLEAR CLEAN ESN\" Sprint EPIC 4G Galaxy SPH-D7...    Samsung  199.99   \n",
              "4  \"CLEAR CLEAN ESN\" Sprint EPIC 4G Galaxy SPH-D7...    Samsung  199.99   \n",
              "\n",
              "   Rating                                            Reviews  Review Votes  \n",
              "0       5  I feel so LUCKY to have found this used (phone...           1.0  \n",
              "1       4  nice phone, nice up grade from my pantach revu...           0.0  \n",
              "2       5                                       Very pleased           0.0  \n",
              "3       4  It works good but it goes slow sometimes but i...           0.0  \n",
              "4       4  Great phone to replace my lost phone. The only...           0.0  "
            ],
            "text/html": [
              "\n",
              "  <div id=\"df-1a5c563f-8b76-4033-a82c-638e7e0f70fd\">\n",
              "    <div class=\"colab-df-container\">\n",
              "      <div>\n",
              "<style scoped>\n",
              "    .dataframe tbody tr th:only-of-type {\n",
              "        vertical-align: middle;\n",
              "    }\n",
              "\n",
              "    .dataframe tbody tr th {\n",
              "        vertical-align: top;\n",
              "    }\n",
              "\n",
              "    .dataframe thead th {\n",
              "        text-align: right;\n",
              "    }\n",
              "</style>\n",
              "<table border=\"1\" class=\"dataframe\">\n",
              "  <thead>\n",
              "    <tr style=\"text-align: right;\">\n",
              "      <th></th>\n",
              "      <th>Product Name</th>\n",
              "      <th>Brand Name</th>\n",
              "      <th>Price</th>\n",
              "      <th>Rating</th>\n",
              "      <th>Reviews</th>\n",
              "      <th>Review Votes</th>\n",
              "    </tr>\n",
              "  </thead>\n",
              "  <tbody>\n",
              "    <tr>\n",
              "      <th>0</th>\n",
              "      <td>\"CLEAR CLEAN ESN\" Sprint EPIC 4G Galaxy SPH-D7...</td>\n",
              "      <td>Samsung</td>\n",
              "      <td>199.99</td>\n",
              "      <td>5</td>\n",
              "      <td>I feel so LUCKY to have found this used (phone...</td>\n",
              "      <td>1.0</td>\n",
              "    </tr>\n",
              "    <tr>\n",
              "      <th>1</th>\n",
              "      <td>\"CLEAR CLEAN ESN\" Sprint EPIC 4G Galaxy SPH-D7...</td>\n",
              "      <td>Samsung</td>\n",
              "      <td>199.99</td>\n",
              "      <td>4</td>\n",
              "      <td>nice phone, nice up grade from my pantach revu...</td>\n",
              "      <td>0.0</td>\n",
              "    </tr>\n",
              "    <tr>\n",
              "      <th>2</th>\n",
              "      <td>\"CLEAR CLEAN ESN\" Sprint EPIC 4G Galaxy SPH-D7...</td>\n",
              "      <td>Samsung</td>\n",
              "      <td>199.99</td>\n",
              "      <td>5</td>\n",
              "      <td>Very pleased</td>\n",
              "      <td>0.0</td>\n",
              "    </tr>\n",
              "    <tr>\n",
              "      <th>3</th>\n",
              "      <td>\"CLEAR CLEAN ESN\" Sprint EPIC 4G Galaxy SPH-D7...</td>\n",
              "      <td>Samsung</td>\n",
              "      <td>199.99</td>\n",
              "      <td>4</td>\n",
              "      <td>It works good but it goes slow sometimes but i...</td>\n",
              "      <td>0.0</td>\n",
              "    </tr>\n",
              "    <tr>\n",
              "      <th>4</th>\n",
              "      <td>\"CLEAR CLEAN ESN\" Sprint EPIC 4G Galaxy SPH-D7...</td>\n",
              "      <td>Samsung</td>\n",
              "      <td>199.99</td>\n",
              "      <td>4</td>\n",
              "      <td>Great phone to replace my lost phone. The only...</td>\n",
              "      <td>0.0</td>\n",
              "    </tr>\n",
              "  </tbody>\n",
              "</table>\n",
              "</div>\n",
              "      <button class=\"colab-df-convert\" onclick=\"convertToInteractive('df-1a5c563f-8b76-4033-a82c-638e7e0f70fd')\"\n",
              "              title=\"Convert this dataframe to an interactive table.\"\n",
              "              style=\"display:none;\">\n",
              "        \n",
              "  <svg xmlns=\"http://www.w3.org/2000/svg\" height=\"24px\"viewBox=\"0 0 24 24\"\n",
              "       width=\"24px\">\n",
              "    <path d=\"M0 0h24v24H0V0z\" fill=\"none\"/>\n",
              "    <path d=\"M18.56 5.44l.94 2.06.94-2.06 2.06-.94-2.06-.94-.94-2.06-.94 2.06-2.06.94zm-11 1L8.5 8.5l.94-2.06 2.06-.94-2.06-.94L8.5 2.5l-.94 2.06-2.06.94zm10 10l.94 2.06.94-2.06 2.06-.94-2.06-.94-.94-2.06-.94 2.06-2.06.94z\"/><path d=\"M17.41 7.96l-1.37-1.37c-.4-.4-.92-.59-1.43-.59-.52 0-1.04.2-1.43.59L10.3 9.45l-7.72 7.72c-.78.78-.78 2.05 0 2.83L4 21.41c.39.39.9.59 1.41.59.51 0 1.02-.2 1.41-.59l7.78-7.78 2.81-2.81c.8-.78.8-2.07 0-2.86zM5.41 20L4 18.59l7.72-7.72 1.47 1.35L5.41 20z\"/>\n",
              "  </svg>\n",
              "      </button>\n",
              "      \n",
              "  <style>\n",
              "    .colab-df-container {\n",
              "      display:flex;\n",
              "      flex-wrap:wrap;\n",
              "      gap: 12px;\n",
              "    }\n",
              "\n",
              "    .colab-df-convert {\n",
              "      background-color: #E8F0FE;\n",
              "      border: none;\n",
              "      border-radius: 50%;\n",
              "      cursor: pointer;\n",
              "      display: none;\n",
              "      fill: #1967D2;\n",
              "      height: 32px;\n",
              "      padding: 0 0 0 0;\n",
              "      width: 32px;\n",
              "    }\n",
              "\n",
              "    .colab-df-convert:hover {\n",
              "      background-color: #E2EBFA;\n",
              "      box-shadow: 0px 1px 2px rgba(60, 64, 67, 0.3), 0px 1px 3px 1px rgba(60, 64, 67, 0.15);\n",
              "      fill: #174EA6;\n",
              "    }\n",
              "\n",
              "    [theme=dark] .colab-df-convert {\n",
              "      background-color: #3B4455;\n",
              "      fill: #D2E3FC;\n",
              "    }\n",
              "\n",
              "    [theme=dark] .colab-df-convert:hover {\n",
              "      background-color: #434B5C;\n",
              "      box-shadow: 0px 1px 3px 1px rgba(0, 0, 0, 0.15);\n",
              "      filter: drop-shadow(0px 1px 2px rgba(0, 0, 0, 0.3));\n",
              "      fill: #FFFFFF;\n",
              "    }\n",
              "  </style>\n",
              "\n",
              "      <script>\n",
              "        const buttonEl =\n",
              "          document.querySelector('#df-1a5c563f-8b76-4033-a82c-638e7e0f70fd button.colab-df-convert');\n",
              "        buttonEl.style.display =\n",
              "          google.colab.kernel.accessAllowed ? 'block' : 'none';\n",
              "\n",
              "        async function convertToInteractive(key) {\n",
              "          const element = document.querySelector('#df-1a5c563f-8b76-4033-a82c-638e7e0f70fd');\n",
              "          const dataTable =\n",
              "            await google.colab.kernel.invokeFunction('convertToInteractive',\n",
              "                                                     [key], {});\n",
              "          if (!dataTable) return;\n",
              "\n",
              "          const docLinkHtml = 'Like what you see? Visit the ' +\n",
              "            '<a target=\"_blank\" href=https://colab.research.google.com/notebooks/data_table.ipynb>data table notebook</a>'\n",
              "            + ' to learn more about interactive tables.';\n",
              "          element.innerHTML = '';\n",
              "          dataTable['output_type'] = 'display_data';\n",
              "          await google.colab.output.renderOutput(dataTable, element);\n",
              "          const docLink = document.createElement('div');\n",
              "          docLink.innerHTML = docLinkHtml;\n",
              "          element.appendChild(docLink);\n",
              "        }\n",
              "      </script>\n",
              "    </div>\n",
              "  </div>\n",
              "  "
            ]
          },
          "metadata": {},
          "execution_count": 1
        }
      ],
      "source": [
        "import pandas as pd\n",
        "#load the data\n",
        "sample=pd.read_csv(\"../content/Amazon_Unlocked_Mobile.csv\")\n",
        "sample.head()"
      ]
    },
    {
      "cell_type": "code",
      "source": [
        "import seaborn as sns\n",
        "sns.countplot(sample.Rating)"
      ],
      "metadata": {
        "colab": {
          "base_uri": "https://localhost:8080/",
          "height": 352
        },
        "id": "yVNgCPGlDoyW",
        "outputId": "004d1d65-86ac-47bc-b90c-5b069f3bc5b5"
      },
      "execution_count": null,
      "outputs": [
        {
          "output_type": "stream",
          "name": "stderr",
          "text": [
            "/usr/local/lib/python3.7/dist-packages/seaborn/_decorators.py:43: FutureWarning: Pass the following variable as a keyword arg: x. From version 0.12, the only valid positional argument will be `data`, and passing other arguments without an explicit keyword will result in an error or misinterpretation.\n",
            "  FutureWarning\n"
          ]
        },
        {
          "output_type": "execute_result",
          "data": {
            "text/plain": [
              "<matplotlib.axes._subplots.AxesSubplot at 0x7f693da7b910>"
            ]
          },
          "metadata": {},
          "execution_count": 2
        },
        {
          "output_type": "display_data",
          "data": {
            "text/plain": [
              "<Figure size 432x288 with 1 Axes>"
            ],
            "image/png": "[encoded data removed]"
          },
          "metadata": {
            "needs_background": "light"
          }
        }
      ]
    },
    {
      "cell_type": "code",
      "source": [
        "def partition(x):\n",
        "    if x < 3:\n",
        "        return 'negative'\n",
        "    return 'positive'\n",
        "\n",
        "#changing reviews with Rating less than 3 to be positive\n",
        "actualScore = sample['Rating']\n",
        "positiveNegative = actualScore.map(partition) \n",
        "sample['RatingTransformed'] = positiveNegative"
      ],
      "metadata": {
        "id": "MKoYu-eFDota"
      },
      "execution_count": null,
      "outputs": []
    },
    {
      "cell_type": "code",
      "source": [
        "sns.countplot(sample.RatingTransformed)\n"
      ],
      "metadata": {
        "colab": {
          "base_uri": "https://localhost:8080/",
          "height": 352
        },
        "id": "5VPeNNT8DooP",
        "outputId": "def70a4a-3920-4ffe-d66d-e552f737ae7d"
      },
      "execution_count": null,
      "outputs": [
        {
          "output_type": "stream",
          "name": "stderr",
          "text": [
            "/usr/local/lib/python3.7/dist-packages/seaborn/_decorators.py:43: FutureWarning: Pass the following variable as a keyword arg: x. From version 0.12, the only valid positional argument will be `data`, and passing other arguments without an explicit keyword will result in an error or misinterpretation.\n",
            "  FutureWarning\n"
          ]
        },
        {
          "output_type": "execute_result",
          "data": {
            "text/plain": [
              "<matplotlib.axes._subplots.AxesSubplot at 0x7f694c533ed0>"
            ]
          },
          "metadata": {},
          "execution_count": 4
        },
        {
          "output_type": "display_data",
          "data": {
            "text/plain": [
              "<Figure size 432x288 with 1 Axes>"
            ],
            "image/png": "[encoded data removed]"
          },
          "metadata": {
            "needs_background": "light"
          }
        }
      ]
    },
    {
      "cell_type": "code",
      "source": [
        "import nltk\n",
        "nltk.download('stopwords')\n",
        "from nltk.corpus import stopwords\n",
        "#initialising the snowball stemmer which is developed in recent years\n",
        "sno = nltk.stem.SnowballStemmer('english') \n",
        "stop=set(stopwords.words('english'))\n",
        "\n",
        "final = sample"
      ],
      "metadata": {
        "colab": {
          "base_uri": "https://localhost:8080/"
        },
        "id": "V3Po3NPaDofY",
        "outputId": "1d8ea50e-5f58-49ad-f796-d02db2b40806"
      },
      "execution_count": null,
      "outputs": [
        {
          "output_type": "stream",
          "name": "stdout",
          "text": [
            "[nltk_data] Downloading package stopwords to /root/nltk_data...\n",
            "[nltk_data]   Unzipping corpora/stopwords.zip.\n"
          ]
        }
      ]
    },
    {
      "cell_type": "code",
      "source": [
        "#Write your code here.\n",
        "\n",
        "def cleanhtml(sentence): #function to clean the word of any html-tags\n",
        "    cleanr = re.compile('<.*?>')\n",
        "    cleantext = re.sub(cleanr, ' ', sentence)\n",
        "    return cleantext\n",
        "\n",
        "def cleanpunc(sentence):\n",
        "    cleaned_data = re.sub(r'[?|!|\\'|\"|#]',r'',sent)\n",
        "    cleaned_data = re.sub(r'[.|,|)|(|\\|/]',r' ',cleaned_data)\n",
        "    return  cleaned_data\n",
        "\n"
      ],
      "metadata": {
        "id": "1VsV22hjDwDs"
      },
      "execution_count": null,
      "outputs": []
    },
    {
      "cell_type": "code",
      "source": [
        "final = sample.sample(n=1000, random_state=1)"
      ],
      "metadata": {
        "id": "odwzhxaVDv_S"
      },
      "execution_count": null,
      "outputs": []
    },
    {
      "cell_type": "code",
      "source": [
        "# Clean text\n",
        "import re\n",
        "\n",
        "i=0\n",
        "str1=' '\n",
        "final_string=[]\n",
        "# store words from +ve reviews here\n",
        "all_positive_words=[] \n",
        "# store words from -ve reviews here.\n",
        "all_negative_words=[] \n",
        "s=''\n",
        "for sent in final['Reviews'].values:\n",
        "    filtered_sent=[]\n",
        "    #sent=cleanhtml(sent) # remove HTMl tags\n",
        "    try:\n",
        "      for w in sent.split():\n",
        "          for cleaned_words in cleanpunc(w).split():\n",
        "              if((cleaned_words.isalpha()) & (len(cleaned_words)>2)):    \n",
        "                  if(cleaned_words.lower() not in stop):\n",
        "                      s=(sno.stem(cleaned_words.lower())).encode('utf8')\n",
        "                      filtered_sent.append(s)\n",
        "                      if (final['RatingTransformed'].values)[i] == 'positive': \n",
        "                        #list of all words used to describe positive reviews\n",
        "                          all_positive_words.append(s) \n",
        "                      if(final['RatingTransformed'].values)[i] == 'negative':\n",
        "                        #list of all words used to describe negative reviews reviews\n",
        "                          all_negative_words.append(s) \n",
        "                  else:\n",
        "                      continue\n",
        "              else:\n",
        "                  continue \n",
        "                   #final string of cleaned words\n",
        "      str1 = b\" \".join(filtered_sent)\n",
        "      \n",
        "      #print('str1:', str1)\n",
        "      final_string.append(str1)\n",
        "      i+=1\n",
        "    except AttributeError as e:\n",
        "      # No words to split\n",
        "      final_string.append('')\n",
        "      i+=1"
      ],
      "metadata": {
        "id": "NnUlQPoWDv5j"
      },
      "execution_count": null,
      "outputs": []
    },
    {
      "cell_type": "code",
      "source": [
        "final['CleanedText']=final_string \n",
        "final['CleanedText']=final['CleanedText'].str.decode(\"utf-8\")\n",
        "final = final.fillna('')"
      ],
      "metadata": {
        "id": "ENkLNxNIDvxH"
      },
      "execution_count": null,
      "outputs": []
    },
    {
      "cell_type": "code",
      "source": [
        "from sklearn.feature_extraction.text import CountVectorizer\n",
        "count_vect = CountVectorizer()\n",
        "#bow = count_vect.fit_transform(final['CleanedText'].values)\n",
        "bow = count_vect.fit_transform(final['CleanedText'].values)\n",
        "print(bow.shape)"
      ],
      "metadata": {
        "colab": {
          "base_uri": "https://localhost:8080/"
        },
        "id": "XkkxHhpqD9WP",
        "outputId": "86c97a8d-e00a-4f94-e361-4892ec372d50"
      },
      "execution_count": null,
      "outputs": [
        {
          "output_type": "stream",
          "name": "stdout",
          "text": [
            "(1000, 2660)\n"
          ]
        }
      ]
    },
    {
      "cell_type": "code",
      "source": [
        "terms = count_vect.get_feature_names()\n"
      ],
      "metadata": {
        "colab": {
          "base_uri": "https://localhost:8080/"
        },
        "id": "nrjtsSk1D9SI",
        "outputId": "7168ff73-dd4b-474e-f95b-e94b49b250b7"
      },
      "execution_count": null,
      "outputs": [
        {
          "output_type": "stream",
          "name": "stderr",
          "text": [
            "/usr/local/lib/python3.7/dist-packages/sklearn/utils/deprecation.py:87: FutureWarning: Function get_feature_names is deprecated; get_feature_names is deprecated in 1.0 and will be removed in 1.2. Please use get_feature_names_out instead.\n",
            "  warnings.warn(msg, category=FutureWarning)\n"
          ]
        }
      ]
    },
    {
      "cell_type": "code",
      "source": [
        "from sklearn.cluster import KMeans\n",
        "model = KMeans(n_clusters = 10,init='k-means++',random_state=99)\n",
        "model.fit(bow)"
      ],
      "metadata": {
        "colab": {
          "base_uri": "https://localhost:8080/"
        },
        "id": "MHXgkCkhEBwx",
        "outputId": "2510be49-2b0e-4f86-b416-7f85b799aac4"
      },
      "execution_count": null,
      "outputs": [
        {
          "output_type": "execute_result",
          "data": {
            "text/plain": [
              "KMeans(n_clusters=10, random_state=99)"
            ]
          },
          "metadata": {},
          "execution_count": 12
        }
      ]
    },
    {
      "cell_type": "code",
      "source": [
        "labels = model.labels_\n",
        "cluster_center=model.cluster_centers_"
      ],
      "metadata": {
        "id": "CYmshLDsEBrD"
      },
      "execution_count": null,
      "outputs": []
    },
    {
      "cell_type": "code",
      "source": [
        "from sklearn import metrics\n",
        "silhouette_score = metrics.silhouette_score(bow, labels, metric='euclidean')\n",
        "silhouette_score"
      ],
      "metadata": {
        "colab": {
          "base_uri": "https://localhost:8080/"
        },
        "id": "3AmRwd0uEBnJ",
        "outputId": "1e558dcc-aaa7-47d0-8ba3-2c687198bd99"
      },
      "execution_count": null,
      "outputs": [
        {
          "output_type": "execute_result",
          "data": {
            "text/plain": [
              "0.8677877653732496"
            ]
          },
          "metadata": {},
          "execution_count": 14
        }
      ]
    },
    {
      "cell_type": "code",
      "source": [
        "dafrme = final\n",
        "dafrme['Bow Clus Label'] = model.labels_ \n",
        "dafrme.head(2)"
      ],
      "metadata": {
        "colab": {
          "base_uri": "https://localhost:8080/",
          "height": 208
        },
        "id": "LUljtvHkEBiV",
        "outputId": "c412402d-0681-4c52-c5ea-b79f0a9cf0ee"
      },
      "execution_count": null,
      "outputs": [
        {
          "output_type": "execute_result",
          "data": {
            "text/plain": [
              "                                             Product Name   Brand Name  \\\n",
              "103270  BLU Advance 4.0L Unlocked Smartphone -Global G...          BLU   \n",
              "297857  POSH MOBILE MICRO X, The Smallest Smartphone i...  Posh Mobile   \n",
              "\n",
              "         Price  Rating                                            Reviews  \\\n",
              "103270  149.99       4  Had it for 1 year, can't really complain. Gave...   \n",
              "297857   49.99       5                                    Perfect, thanks   \n",
              "\n",
              "       Review Votes RatingTransformed  \\\n",
              "103270          0.0          positive   \n",
              "297857          1.0          positive   \n",
              "\n",
              "                                              CleanedText  Bow Clus Label  \n",
              "103270  year cant realli complain gave teenag replac w...               2  \n",
              "297857                        perfect thank perfect thank               2  "
            ],
            "text/html": [
              "\n",
              "  <div id=\"df-9e6a65c6-3226-42be-bffa-11fcfa8e2301\">\n",
              "    <div class=\"colab-df-container\">\n",
              "      <div>\n",
              "<style scoped>\n",
              "    .dataframe tbody tr th:only-of-type {\n",
              "        vertical-align: middle;\n",
              "    }\n",
              "\n",
              "    .dataframe tbody tr th {\n",
              "        vertical-align: top;\n",
              "    }\n",
              "\n",
              "    .dataframe thead th {\n",
              "        text-align: right;\n",
              "    }\n",
              "</style>\n",
              "<table border=\"1\" class=\"dataframe\">\n",
              "  <thead>\n",
              "    <tr style=\"text-align: right;\">\n",
              "      <th></th>\n",
              "      <th>Product Name</th>\n",
              "      <th>Brand Name</th>\n",
              "      <th>Price</th>\n",
              "      <th>Rating</th>\n",
              "      <th>Reviews</th>\n",
              "      <th>Review Votes</th>\n",
              "      <th>RatingTransformed</th>\n",
              "      <th>CleanedText</th>\n",
              "      <th>Bow Clus Label</th>\n",
              "    </tr>\n",
              "  </thead>\n",
              "  <tbody>\n",
              "    <tr>\n",
              "      <th>103270</th>\n",
              "      <td>BLU Advance 4.0L Unlocked Smartphone -Global G...</td>\n",
              "      <td>BLU</td>\n",
              "      <td>149.99</td>\n",
              "      <td>4</td>\n",
              "      <td>Had it for 1 year, can't really complain. Gave...</td>\n",
              "      <td>0.0</td>\n",
              "      <td>positive</td>\n",
              "      <td>year cant realli complain gave teenag replac w...</td>\n",
              "      <td>2</td>\n",
              "    </tr>\n",
              "    <tr>\n",
              "      <th>297857</th>\n",
              "      <td>POSH MOBILE MICRO X, The Smallest Smartphone i...</td>\n",
              "      <td>Posh Mobile</td>\n",
              "      <td>49.99</td>\n",
              "      <td>5</td>\n",
              "      <td>Perfect, thanks</td>\n",
              "      <td>1.0</td>\n",
              "      <td>positive</td>\n",
              "      <td>perfect thank perfect thank</td>\n",
              "      <td>2</td>\n",
              "    </tr>\n",
              "  </tbody>\n",
              "</table>\n",
              "</div>\n",
              "      <button class=\"colab-df-convert\" onclick=\"convertToInteractive('df-9e6a65c6-3226-42be-bffa-11fcfa8e2301')\"\n",
              "              title=\"Convert this dataframe to an interactive table.\"\n",
              "              style=\"display:none;\">\n",
              "        \n",
              "  <svg xmlns=\"http://www.w3.org/2000/svg\" height=\"24px\"viewBox=\"0 0 24 24\"\n",
              "       width=\"24px\">\n",
              "    <path d=\"M0 0h24v24H0V0z\" fill=\"none\"/>\n",
              "    <path d=\"M18.56 5.44l.94 2.06.94-2.06 2.06-.94-2.06-.94-.94-2.06-.94 2.06-2.06.94zm-11 1L8.5 8.5l.94-2.06 2.06-.94-2.06-.94L8.5 2.5l-.94 2.06-2.06.94zm10 10l.94 2.06.94-2.06 2.06-.94-2.06-.94-.94-2.06-.94 2.06-2.06.94z\"/><path d=\"M17.41 7.96l-1.37-1.37c-.4-.4-.92-.59-1.43-.59-.52 0-1.04.2-1.43.59L10.3 9.45l-7.72 7.72c-.78.78-.78 2.05 0 2.83L4 21.41c.39.39.9.59 1.41.59.51 0 1.02-.2 1.41-.59l7.78-7.78 2.81-2.81c.8-.78.8-2.07 0-2.86zM5.41 20L4 18.59l7.72-7.72 1.47 1.35L5.41 20z\"/>\n",
              "  </svg>\n",
              "      </button>\n",
              "      \n",
              "  <style>\n",
              "    .colab-df-container {\n",
              "      display:flex;\n",
              "      flex-wrap:wrap;\n",
              "      gap: 12px;\n",
              "    }\n",
              "\n",
              "    .colab-df-convert {\n",
              "      background-color: #E8F0FE;\n",
              "      border: none;\n",
              "      border-radius: 50%;\n",
              "      cursor: pointer;\n",
              "      display: none;\n",
              "      fill: #1967D2;\n",
              "      height: 32px;\n",
              "      padding: 0 0 0 0;\n",
              "      width: 32px;\n",
              "    }\n",
              "\n",
              "    .colab-df-convert:hover {\n",
              "      background-color: #E2EBFA;\n",
              "      box-shadow: 0px 1px 2px rgba(60, 64, 67, 0.3), 0px 1px 3px 1px rgba(60, 64, 67, 0.15);\n",
              "      fill: #174EA6;\n",
              "    }\n",
              "\n",
              "    [theme=dark] .colab-df-convert {\n",
              "      background-color: #3B4455;\n",
              "      fill: #D2E3FC;\n",
              "    }\n",
              "\n",
              "    [theme=dark] .colab-df-convert:hover {\n",
              "      background-color: #434B5C;\n",
              "      box-shadow: 0px 1px 3px 1px rgba(0, 0, 0, 0.15);\n",
              "      filter: drop-shadow(0px 1px 2px rgba(0, 0, 0, 0.3));\n",
              "      fill: #FFFFFF;\n",
              "    }\n",
              "  </style>\n",
              "\n",
              "      <script>\n",
              "        const buttonEl =\n",
              "          document.querySelector('#df-9e6a65c6-3226-42be-bffa-11fcfa8e2301 button.colab-df-convert');\n",
              "        buttonEl.style.display =\n",
              "          google.colab.kernel.accessAllowed ? 'block' : 'none';\n",
              "\n",
              "        async function convertToInteractive(key) {\n",
              "          const element = document.querySelector('#df-9e6a65c6-3226-42be-bffa-11fcfa8e2301');\n",
              "          const dataTable =\n",
              "            await google.colab.kernel.invokeFunction('convertToInteractive',\n",
              "                                                     [key], {});\n",
              "          if (!dataTable) return;\n",
              "\n",
              "          const docLinkHtml = 'Like what you see? Visit the ' +\n",
              "            '<a target=\"_blank\" href=https://colab.research.google.com/notebooks/data_table.ipynb>data table notebook</a>'\n",
              "            + ' to learn more about interactive tables.';\n",
              "          element.innerHTML = '';\n",
              "          dataTable['output_type'] = 'display_data';\n",
              "          await google.colab.output.renderOutput(dataTable, element);\n",
              "          const docLink = document.createElement('div');\n",
              "          docLink.innerHTML = docLinkHtml;\n",
              "          element.appendChild(docLink);\n",
              "        }\n",
              "      </script>\n",
              "    </div>\n",
              "  </div>\n",
              "  "
            ]
          },
          "metadata": {},
          "execution_count": 15
        }
      ]
    },
    {
      "cell_type": "code",
      "source": [
        "dafrme.groupby(['Bow Clus Label'])['Reviews'].count()\n"
      ],
      "metadata": {
        "colab": {
          "base_uri": "https://localhost:8080/"
        },
        "id": "-g7lqtVNEOTX",
        "outputId": "0024ae5c-77e3-40e6-b807-681cb4b35b4c"
      },
      "execution_count": null,
      "outputs": [
        {
          "output_type": "execute_result",
          "data": {
            "text/plain": [
              "Bow Clus Label\n",
              "0     34\n",
              "1      1\n",
              "2    958\n",
              "3      1\n",
              "4      1\n",
              "5      1\n",
              "6      1\n",
              "7      1\n",
              "8      1\n",
              "9      1\n",
              "Name: Reviews, dtype: int64"
            ]
          },
          "metadata": {},
          "execution_count": 16
        }
      ]
    },
    {
      "cell_type": "code",
      "source": [
        "print(\"Top terms per cluster:\")\n",
        "order_centroids = model.cluster_centers_.argsort()[:, ::-1]\n",
        "terms = count_vect.get_feature_names()\n",
        "for i in range(10):\n",
        "    print(\"Cluster %d:\" % i, end='')\n",
        "    for ind in order_centroids[i, :10]:\n",
        "        print(' %s' % terms[ind], end='')\n",
        "        print()"
      ],
      "metadata": {
        "colab": {
          "base_uri": "https://localhost:8080/"
        },
        "id": "uZEXyN9hEOOs",
        "outputId": "945c8400-9821-48d9-e66a-f898006eaac7"
      },
      "execution_count": null,
      "outputs": [
        {
          "output_type": "stream",
          "name": "stdout",
          "text": [
            "Top terms per cluster:\n",
            "Cluster 0: phone\n",
            " use\n",
            " batteri\n",
            " like\n",
            " good\n",
            " camera\n",
            " time\n",
            " one\n",
            " get\n",
            " screen\n",
            "Cluster 1: phone\n",
            " seller\n",
            " month\n",
            " work\n",
            " samsung\n",
            " report\n",
            " return\n",
            " said\n",
            " unlock\n",
            " stolen\n",
            "Cluster 2: phone\n",
            " work\n",
            " use\n",
            " great\n",
            " get\n",
            " good\n",
            " one\n",
            " screen\n",
            " like\n",
            " time\n",
            "Cluster 3: phone\n",
            " got\n",
            " month\n",
            " product\n",
            " later\n",
            " compani\n",
            " dont\n",
            " never\n",
            " give\n",
            " apart\n",
            "Cluster 4: phone\n",
            " gps\n",
            " app\n",
            " problem\n",
            " get\n",
            " fix\n",
            " navig\n",
            " use\n",
            " screen\n",
            " work\n",
            "Cluster 5: phone\n",
            " camera\n",
            " realli\n",
            " screen\n",
            " servic\n",
            " photo\n",
            " gps\n",
            " take\n",
            " compani\n",
            " need\n",
            "Cluster 6: phone\n",
            " applic\n",
            " updat\n",
            " contact\n",
            " turn\n",
            " work\n",
            " deal\n",
            " quit\n",
            " tri\n",
            " facebook\n",
            "Cluster 7: phone\n",
            " cabl\n",
            " issu\n",
            " tri\n",
            " port\n",
            " card\n",
            " factori\n",
            " qualiti\n",
            " connect\n",
            " proper\n",
            "Cluster 8: phone\n",
            " small\n",
            " like\n",
            " sometim\n",
            " get\n",
            " micro\n",
            " take\n",
            " sinc\n",
            " usb\n",
            " use\n",
            "Cluster 9: phone\n",
            " use\n",
            " flir\n",
            " one\n",
            " great\n",
            " your\n",
            " cant\n",
            " see\n",
            " there\n",
            " featur\n"
          ]
        },
        {
          "output_type": "stream",
          "name": "stderr",
          "text": [
            "/usr/local/lib/python3.7/dist-packages/sklearn/utils/deprecation.py:87: FutureWarning: Function get_feature_names is deprecated; get_feature_names is deprecated in 1.0 and will be removed in 1.2. Please use get_feature_names_out instead.\n",
            "  warnings.warn(msg, category=FutureWarning)\n"
          ]
        }
      ]
    },
    {
      "cell_type": "code",
      "source": [
        "import matplotlib.pyplot as plt\n",
        "plt.bar([x for x in range(10)], dafrme.groupby(['Bow Clus Label'])['Reviews'].count(), alpha = 0.4)\n",
        "plt.title('KMeans cluster points')\n",
        "plt.xlabel(\"Cluster number\")\n",
        "plt.ylabel(\"Number of points\")\n",
        "plt.show()"
      ],
      "metadata": {
        "colab": {
          "base_uri": "https://localhost:8080/",
          "height": 295
        },
        "id": "KhU36yAHEOH5",
        "outputId": "62ae7b42-60d1-4689-f9f1-376a190a7df1"
      },
      "execution_count": null,
      "outputs": [
        {
          "output_type": "display_data",
          "data": {
            "text/plain": [
              "<Figure size 432x288 with 1 Axes>"
            ],
            "image/png": "[encoded data removed]"
          },
          "metadata": {
            "needs_background": "light"
          }
        }
      ]
    },
    {
      "cell_type": "code",
      "source": [
        "from sklearn.feature_extraction.text import TfidfVectorizer\n",
        "tf_idf_vect = TfidfVectorizer()\n",
        "tf_idf = tf_idf_vect.fit_transform(final['CleanedText'].values)\n",
        "tf_idf.shape"
      ],
      "metadata": {
        "colab": {
          "base_uri": "https://localhost:8080/"
        },
        "id": "edt4FG3kERWK",
        "outputId": "abbed78c-9b40-4b10-f5b5-7c7de5af2a11"
      },
      "execution_count": null,
      "outputs": [
        {
          "output_type": "execute_result",
          "data": {
            "text/plain": [
              "(1000, 2660)"
            ]
          },
          "metadata": {},
          "execution_count": 19
        }
      ]
    },
    {
      "cell_type": "code",
      "source": [
        "from sklearn.cluster import KMeans\n",
        "model_tf = KMeans(n_clusters = 10,random_state=99)\n",
        "model_tf.fit(tf_idf)"
      ],
      "metadata": {
        "colab": {
          "base_uri": "https://localhost:8080/"
        },
        "id": "fhQf1NH1ERQ_",
        "outputId": "d6aa22aa-61ef-488c-ca9c-7715eae7e9da"
      },
      "execution_count": null,
      "outputs": [
        {
          "output_type": "execute_result",
          "data": {
            "text/plain": [
              "KMeans(n_clusters=10, random_state=99)"
            ]
          },
          "metadata": {},
          "execution_count": 20
        }
      ]
    },
    {
      "cell_type": "code",
      "source": [
        "labels_tf = model_tf.labels_\n",
        "cluster_center_tf=model_tf.cluster_centers_\n",
        "cluster_center_tf"
      ],
      "metadata": {
        "colab": {
          "base_uri": "https://localhost:8080/"
        },
        "id": "e1zaUOgzEZ0W",
        "outputId": "a0178e30-38f4-4567-963a-4e272fa5c1a5"
      },
      "execution_count": null,
      "outputs": [
        {
          "output_type": "execute_result",
          "data": {
            "text/plain": [
              "array([[0.        , 0.00211943, 0.00463832, ..., 0.        , 0.        ,\n",
              "        0.        ],\n",
              "       [0.        , 0.        , 0.        , ..., 0.        , 0.        ,\n",
              "        0.        ],\n",
              "       [0.        , 0.        , 0.        , ..., 0.        , 0.        ,\n",
              "        0.        ],\n",
              "       ...,\n",
              "       [0.        , 0.00025242, 0.00691803, ..., 0.0009042 , 0.00113021,\n",
              "        0.00099414],\n",
              "       [0.        , 0.        , 0.        , ..., 0.        , 0.        ,\n",
              "        0.        ],\n",
              "       [0.        , 0.        , 0.        , ..., 0.        , 0.        ,\n",
              "        0.        ]])"
            ]
          },
          "metadata": {},
          "execution_count": 21
        }
      ]
    },
    {
      "cell_type": "code",
      "source": [
        "terms1 = tf_idf_vect.get_feature_names()\n",
        "terms1[1:10]"
      ],
      "metadata": {
        "colab": {
          "base_uri": "https://localhost:8080/"
        },
        "id": "D9QZbyYYEZw9",
        "outputId": "80e50cf9-180a-4329-9f45-4076abb8ff19"
      },
      "execution_count": null,
      "outputs": [
        {
          "output_type": "stream",
          "name": "stderr",
          "text": [
            "/usr/local/lib/python3.7/dist-packages/sklearn/utils/deprecation.py:87: FutureWarning: Function get_feature_names is deprecated; get_feature_names is deprecated in 1.0 and will be removed in 1.2. Please use get_feature_names_out instead.\n",
            "  warnings.warn(msg, category=FutureWarning)\n"
          ]
        },
        {
          "output_type": "execute_result",
          "data": {
            "text/plain": [
              "['abil',\n",
              " 'abl',\n",
              " 'abnorm',\n",
              " 'abroad',\n",
              " 'absolut',\n",
              " 'absurd',\n",
              " 'acceler',\n",
              " 'accent',\n",
              " 'accept']"
            ]
          },
          "metadata": {},
          "execution_count": 22
        }
      ]
    },
    {
      "cell_type": "code",
      "source": [
        "from sklearn import metrics\n",
        "silhouette_score_tf = metrics.silhouette_score(tf_idf, labels_tf, metric='euclidean')\n",
        "silhouette_score_tf"
      ],
      "metadata": {
        "colab": {
          "base_uri": "https://localhost:8080/"
        },
        "id": "GRAlNRxGEZt0",
        "outputId": "c25e95f8-c3a8-498e-8a33-73b31fc02093"
      },
      "execution_count": null,
      "outputs": [
        {
          "output_type": "execute_result",
          "data": {
            "text/plain": [
              "0.0641401485898055"
            ]
          },
          "metadata": {},
          "execution_count": 23
        }
      ]
    },
    {
      "cell_type": "code",
      "source": [
        "dafrme1 = dafrme\n",
        "dafrme1['Tfidf Clus Label'] = model_tf.labels_\n",
        "dafrme1.head(5)"
      ],
      "metadata": {
        "colab": {
          "base_uri": "https://localhost:8080/",
          "height": 371
        },
        "id": "xz321r8kEZpj",
        "outputId": "4d0a6ef4-56a3-42f8-a852-c97f44271d41"
      },
      "execution_count": null,
      "outputs": [
        {
          "output_type": "execute_result",
          "data": {
            "text/plain": [
              "                                             Product Name   Brand Name  \\\n",
              "103270  BLU Advance 4.0L Unlocked Smartphone -Global G...          BLU   \n",
              "297857  POSH MOBILE MICRO X, The Smallest Smartphone i...  Posh Mobile   \n",
              "40075            Apple iPhone 5s 16GB (Silver) - T-Mobile        Apple   \n",
              "100790  Blackberry Torch 9800 Unlocked Phone with 5 MP...   BlackBerry   \n",
              "58055   Apple iPhone 6 Plus 64GB Unlocked Smartphone -...                \n",
              "\n",
              "         Price  Rating                                            Reviews  \\\n",
              "103270  149.99       4  Had it for 1 year, can't really complain. Gave...   \n",
              "297857   49.99       5                                    Perfect, thanks   \n",
              "40075    75.65       1  the back camera stopped working, the phone tou...   \n",
              "100790   82.62       5                                              Good!   \n",
              "58055   529.99       5  no complaints. worked fine and still working p...   \n",
              "\n",
              "       Review Votes RatingTransformed  \\\n",
              "103270          0.0          positive   \n",
              "297857          1.0          positive   \n",
              "40075           1.0          negative   \n",
              "100790          0.0          positive   \n",
              "58055           0.0          positive   \n",
              "\n",
              "                                              CleanedText  Bow Clus Label  \\\n",
              "103270  year cant realli complain gave teenag replac w...               2   \n",
              "297857                        perfect thank perfect thank               2   \n",
              "40075   back camera stop work phone touch screen stop ...               2   \n",
              "100790                                               good               2   \n",
              "58055   complaint work fine still work perfect tear we...               2   \n",
              "\n",
              "        Tfidf Clus Label  \n",
              "103270                 7  \n",
              "297857                 3  \n",
              "40075                  5  \n",
              "100790                 9  \n",
              "58055                  5  "
            ],
            "text/html": [
              "\n",
              "  <div id=\"df-a6650295-b273-44ed-893e-15db263522b8\">\n",
              "    <div class=\"colab-df-container\">\n",
              "      <div>\n",
              "<style scoped>\n",
              "    .dataframe tbody tr th:only-of-type {\n",
              "        vertical-align: middle;\n",
              "    }\n",
              "\n",
              "    .dataframe tbody tr th {\n",
              "        vertical-align: top;\n",
              "    }\n",
              "\n",
              "    .dataframe thead th {\n",
              "        text-align: right;\n",
              "    }\n",
              "</style>\n",
              "<table border=\"1\" class=\"dataframe\">\n",
              "  <thead>\n",
              "    <tr style=\"text-align: right;\">\n",
              "      <th></th>\n",
              "      <th>Product Name</th>\n",
              "      <th>Brand Name</th>\n",
              "      <th>Price</th>\n",
              "      <th>Rating</th>\n",
              "      <th>Reviews</th>\n",
              "      <th>Review Votes</th>\n",
              "      <th>RatingTransformed</th>\n",
              "      <th>CleanedText</th>\n",
              "      <th>Bow Clus Label</th>\n",
              "      <th>Tfidf Clus Label</th>\n",
              "    </tr>\n",
              "  </thead>\n",
              "  <tbody>\n",
              "    <tr>\n",
              "      <th>103270</th>\n",
              "      <td>BLU Advance 4.0L Unlocked Smartphone -Global G...</td>\n",
              "      <td>BLU</td>\n",
              "      <td>149.99</td>\n",
              "      <td>4</td>\n",
              "      <td>Had it for 1 year, can't really complain. Gave...</td>\n",
              "      <td>0.0</td>\n",
              "      <td>positive</td>\n",
              "      <td>year cant realli complain gave teenag replac w...</td>\n",
              "      <td>2</td>\n",
              "      <td>7</td>\n",
              "    </tr>\n",
              "    <tr>\n",
              "      <th>297857</th>\n",
              "      <td>POSH MOBILE MICRO X, The Smallest Smartphone i...</td>\n",
              "      <td>Posh Mobile</td>\n",
              "      <td>49.99</td>\n",
              "      <td>5</td>\n",
              "      <td>Perfect, thanks</td>\n",
              "      <td>1.0</td>\n",
              "      <td>positive</td>\n",
              "      <td>perfect thank perfect thank</td>\n",
              "      <td>2</td>\n",
              "      <td>3</td>\n",
              "    </tr>\n",
              "    <tr>\n",
              "      <th>40075</th>\n",
              "      <td>Apple iPhone 5s 16GB (Silver) - T-Mobile</td>\n",
              "      <td>Apple</td>\n",
              "      <td>75.65</td>\n",
              "      <td>1</td>\n",
              "      <td>the back camera stopped working, the phone tou...</td>\n",
              "      <td>1.0</td>\n",
              "      <td>negative</td>\n",
              "      <td>back camera stop work phone touch screen stop ...</td>\n",
              "      <td>2</td>\n",
              "      <td>5</td>\n",
              "    </tr>\n",
              "    <tr>\n",
              "      <th>100790</th>\n",
              "      <td>Blackberry Torch 9800 Unlocked Phone with 5 MP...</td>\n",
              "      <td>BlackBerry</td>\n",
              "      <td>82.62</td>\n",
              "      <td>5</td>\n",
              "      <td>Good!</td>\n",
              "      <td>0.0</td>\n",
              "      <td>positive</td>\n",
              "      <td>good</td>\n",
              "      <td>2</td>\n",
              "      <td>9</td>\n",
              "    </tr>\n",
              "    <tr>\n",
              "      <th>58055</th>\n",
              "      <td>Apple iPhone 6 Plus 64GB Unlocked Smartphone -...</td>\n",
              "      <td></td>\n",
              "      <td>529.99</td>\n",
              "      <td>5</td>\n",
              "      <td>no complaints. worked fine and still working p...</td>\n",
              "      <td>0.0</td>\n",
              "      <td>positive</td>\n",
              "      <td>complaint work fine still work perfect tear we...</td>\n",
              "      <td>2</td>\n",
              "      <td>5</td>\n",
              "    </tr>\n",
              "  </tbody>\n",
              "</table>\n",
              "</div>\n",
              "      <button class=\"colab-df-convert\" onclick=\"convertToInteractive('df-a6650295-b273-44ed-893e-15db263522b8')\"\n",
              "              title=\"Convert this dataframe to an interactive table.\"\n",
              "              style=\"display:none;\">\n",
              "        \n",
              "  <svg xmlns=\"http://www.w3.org/2000/svg\" height=\"24px\"viewBox=\"0 0 24 24\"\n",
              "       width=\"24px\">\n",
              "    <path d=\"M0 0h24v24H0V0z\" fill=\"none\"/>\n",
              "    <path d=\"M18.56 5.44l.94 2.06.94-2.06 2.06-.94-2.06-.94-.94-2.06-.94 2.06-2.06.94zm-11 1L8.5 8.5l.94-2.06 2.06-.94-2.06-.94L8.5 2.5l-.94 2.06-2.06.94zm10 10l.94 2.06.94-2.06 2.06-.94-2.06-.94-.94-2.06-.94 2.06-2.06.94z\"/><path d=\"M17.41 7.96l-1.37-1.37c-.4-.4-.92-.59-1.43-.59-.52 0-1.04.2-1.43.59L10.3 9.45l-7.72 7.72c-.78.78-.78 2.05 0 2.83L4 21.41c.39.39.9.59 1.41.59.51 0 1.02-.2 1.41-.59l7.78-7.78 2.81-2.81c.8-.78.8-2.07 0-2.86zM5.41 20L4 18.59l7.72-7.72 1.47 1.35L5.41 20z\"/>\n",
              "  </svg>\n",
              "      </button>\n",
              "      \n",
              "  <style>\n",
              "    .colab-df-container {\n",
              "      display:flex;\n",
              "      flex-wrap:wrap;\n",
              "      gap: 12px;\n",
              "    }\n",
              "\n",
              "    .colab-df-convert {\n",
              "      background-color: #E8F0FE;\n",
              "      border: none;\n",
              "      border-radius: 50%;\n",
              "      cursor: pointer;\n",
              "      display: none;\n",
              "      fill: #1967D2;\n",
              "      height: 32px;\n",
              "      padding: 0 0 0 0;\n",
              "      width: 32px;\n",
              "    }\n",
              "\n",
              "    .colab-df-convert:hover {\n",
              "      background-color: #E2EBFA;\n",
              "      box-shadow: 0px 1px 2px rgba(60, 64, 67, 0.3), 0px 1px 3px 1px rgba(60, 64, 67, 0.15);\n",
              "      fill: #174EA6;\n",
              "    }\n",
              "\n",
              "    [theme=dark] .colab-df-convert {\n",
              "      background-color: #3B4455;\n",
              "      fill: #D2E3FC;\n",
              "    }\n",
              "\n",
              "    [theme=dark] .colab-df-convert:hover {\n",
              "      background-color: #434B5C;\n",
              "      box-shadow: 0px 1px 3px 1px rgba(0, 0, 0, 0.15);\n",
              "      filter: drop-shadow(0px 1px 2px rgba(0, 0, 0, 0.3));\n",
              "      fill: #FFFFFF;\n",
              "    }\n",
              "  </style>\n",
              "\n",
              "      <script>\n",
              "        const buttonEl =\n",
              "          document.querySelector('#df-a6650295-b273-44ed-893e-15db263522b8 button.colab-df-convert');\n",
              "        buttonEl.style.display =\n",
              "          google.colab.kernel.accessAllowed ? 'block' : 'none';\n",
              "\n",
              "        async function convertToInteractive(key) {\n",
              "          const element = document.querySelector('#df-a6650295-b273-44ed-893e-15db263522b8');\n",
              "          const dataTable =\n",
              "            await google.colab.kernel.invokeFunction('convertToInteractive',\n",
              "                                                     [key], {});\n",
              "          if (!dataTable) return;\n",
              "\n",
              "          const docLinkHtml = 'Like what you see? Visit the ' +\n",
              "            '<a target=\"_blank\" href=https://colab.research.google.com/notebooks/data_table.ipynb>data table notebook</a>'\n",
              "            + ' to learn more about interactive tables.';\n",
              "          element.innerHTML = '';\n",
              "          dataTable['output_type'] = 'display_data';\n",
              "          await google.colab.output.renderOutput(dataTable, element);\n",
              "          const docLink = document.createElement('div');\n",
              "          docLink.innerHTML = docLinkHtml;\n",
              "          element.appendChild(docLink);\n",
              "        }\n",
              "      </script>\n",
              "    </div>\n",
              "  </div>\n",
              "  "
            ]
          },
          "metadata": {},
          "execution_count": 24
        }
      ]
    },
    {
      "cell_type": "code",
      "source": [
        "dafrme1.groupby(['Tfidf Clus Label'])['Reviews'].count()"
      ],
      "metadata": {
        "colab": {
          "base_uri": "https://localhost:8080/"
        },
        "id": "354DdYfYEkeW",
        "outputId": "20abd3c9-8e3f-4e3e-d43b-3a08e6831e17"
      },
      "execution_count": null,
      "outputs": [
        {
          "output_type": "execute_result",
          "data": {
            "text/plain": [
              "Tfidf Clus Label\n",
              "0     48\n",
              "1    103\n",
              "2     46\n",
              "3    273\n",
              "4     18\n",
              "5     78\n",
              "6     27\n",
              "7    356\n",
              "8      6\n",
              "9     45\n",
              "Name: Reviews, dtype: int64"
            ]
          },
          "metadata": {},
          "execution_count": 25
        }
      ]
    },
    {
      "cell_type": "code",
      "source": [
        "print(\"Top terms per cluster:\")\n",
        "order_centroids = model_tf.cluster_centers_.argsort()[:, ::-1]\n",
        "for i in range(10):\n",
        "    print(\"Cluster %d:\" % i, end='')\n",
        "    for ind in order_centroids[i, :10]:\n",
        "        print(' %s' % terms1[ind], end='')\n",
        "        print()"
      ],
      "metadata": {
        "colab": {
          "base_uri": "https://localhost:8080/"
        },
        "id": "E62Y56U8EkYn",
        "outputId": "e2ae1017-118d-4e77-9827-c3b248524d6d"
      },
      "execution_count": null,
      "outputs": [
        {
          "output_type": "stream",
          "name": "stdout",
          "text": [
            "Top terms per cluster:\n",
            "Cluster 0: batteri\n",
            " charg\n",
            " phone\n",
            " life\n",
            " card\n",
            " hour\n",
            " sim\n",
            " month\n",
            " last\n",
            " even\n",
            "Cluster 1: great\n",
            " love\n",
            " phone\n",
            " work\n",
            " price\n",
            " fast\n",
            " iphon\n",
            " good\n",
            " son\n",
            " thank\n",
            "Cluster 2: excel\n",
            " product\n",
            " phone\n",
            " thank\n",
            " love\n",
            " everyth\n",
            " produtc\n",
            " describ\n",
            " good\n",
            " recommend\n",
            "Cluster 3: product\n",
            " perfect\n",
            " good\n",
            " iphon\n",
            " thank\n",
            " expect\n",
            " like\n",
            " new\n",
            " time\n",
            " qualiti\n",
            "Cluster 4: excelent\n",
            " producto\n",
            " punto\n",
            " telefono\n",
            " condit\n",
            " phone\n",
            " first\n",
            " flap\n",
            " flir\n",
            " flip\n",
            "Cluster 5: work\n",
            " well\n",
            " fine\n",
            " phone\n",
            " doesnt\n",
            " perfect\n",
            " still\n",
            " expect\n",
            " stop\n",
            " good\n",
            "Cluster 6: nice\n",
            " phone\n",
            " good\n",
            " product\n",
            " low\n",
            " work\n",
            " seller\n",
            " price\n",
            " camera\n",
            " came\n",
            "Cluster 7: phone\n",
            " use\n",
            " one\n",
            " work\n",
            " screen\n",
            " love\n",
            " good\n",
            " unlock\n",
            " like\n",
            " get\n",
            "Cluster 8: exelent\n",
            " producto\n",
            " ítem\n",
            " flake\n",
            " flir\n",
            " flip\n",
            " flawless\n",
            " flaw\n",
            " flash\n",
            " flap\n",
            "Cluster 9: good\n",
            " product\n",
            " phone\n",
            " price\n",
            " qualiti\n",
            " realli\n",
            " star\n",
            " far\n",
            " problem\n",
            " expect\n"
          ]
        }
      ]
    },
    {
      "cell_type": "code",
      "source": [
        "plt.bar([x for x in range(10)], dafrme1.groupby(['Tfidf Clus Label'])['Reviews'].count(), alpha = 0.4)\n",
        "plt.title('TFID cluster points')\n",
        "plt.xlabel(\"Cluster number\")\n",
        "plt.ylabel(\"Number of points\")\n",
        "plt.show()"
      ],
      "metadata": {
        "colab": {
          "base_uri": "https://localhost:8080/",
          "height": 295
        },
        "id": "_uGm0b9qEkPj",
        "outputId": "a80d0419-60ec-4840-8543-30543370b6be"
      },
      "execution_count": null,
      "outputs": [
        {
          "output_type": "display_data",
          "data": {
            "text/plain": [
              "<Figure size 432x288 with 1 Axes>"
            ],
            "image/png": "[encoded data removed]"
          },
          "metadata": {
            "needs_background": "light"
          }
        }
      ]
    },
    {
      "cell_type": "code",
      "source": [
        "#Average Word to Vector\n",
        "i=0\n",
        "list_of_sent=[]\n",
        "for sent in final['CleanedText'].values:\n",
        "    list_of_sent.append(sent.split())"
      ],
      "metadata": {
        "id": "ZusGFPnOEkM5"
      },
      "execution_count": null,
      "outputs": []
    },
    {
      "cell_type": "code",
      "source": [
        "i=0\n",
        "list_of_sent_train=[]\n",
        "for sent in final['CleanedText'].values:\n",
        "    filtered_sentence=[]\n",
        "    for w in sent.split():\n",
        "      if(len(filtered_sentence) > 10000):\n",
        "        continue\n",
        "      for cleaned_words in cleanpunc(w).split():\n",
        "        if(cleaned_words.isalpha()):\n",
        "          filtered_sentence.append(cleaned_words.lower())\n",
        "        else:\n",
        "          continue \n",
        "    list_of_sent_train.append(filtered_sentence)\n",
        "#print(list_of_sent_train)"
      ],
      "metadata": {
        "id": "H1tg1pV1EkJu"
      },
      "execution_count": null,
      "outputs": []
    },
    {
      "cell_type": "code",
      "source": [
        "print(list_of_sent_train[:10])"
      ],
      "metadata": {
        "colab": {
          "base_uri": "https://localhost:8080/"
        },
        "id": "1y7xPBanx3eV",
        "outputId": "24ec7134-582e-410b-c722-5e4c1f510148"
      },
      "execution_count": null,
      "outputs": [
        {
          "output_type": "stream",
          "name": "stdout",
          "text": [
            "[['year', 'cant', 'realli', 'complain', 'gave', 'teenag', 'replac', 'wait', 'upgrad', 'time', 'phone', 'use', 'crap', 'batteri', 'final', 'isnt', 'keep', 'anymor', 'wont', 'stay', 'charg', 'though', 'cant', 'realli', 'complain', 'phone', 'earpiec', 'doubl', 'extern', 'speaker', 'want', 'play', 'song', 'loud', 'wasnt', 'best', 'doabl', 'year', 'cant', 'realli', 'complain', 'gave', 'teenag', 'replac', 'wait', 'upgrad', 'time', 'phone', 'use', 'crap', 'batteri', 'final', 'isnt', 'keep', 'anymor', 'wont', 'stay', 'charg', 'though', 'cant', 'realli', 'complain', 'phone', 'earpiec', 'doubl', 'extern', 'speaker', 'want', 'play', 'song', 'loud', 'wasnt', 'best', 'doabl', 'year', 'cant', 'realli', 'complain', 'gave', 'teenag', 'replac', 'wait', 'upgrad', 'time', 'phone', 'use', 'crap', 'batteri', 'final', 'isnt', 'keep', 'anymor', 'wont', 'stay', 'charg', 'though', 'cant', 'realli', 'complain', 'phone', 'earpiec', 'doubl', 'extern', 'speaker', 'want', 'play', 'song', 'loud', 'wasnt', 'best', 'doabl', 'year', 'cant', 'realli', 'complain', 'gave', 'teenag', 'replac', 'wait', 'upgrad', 'time', 'phone', 'use', 'crap', 'batteri', 'final', 'isnt', 'keep', 'anymor', 'wont', 'stay', 'charg', 'though', 'cant', 'realli', 'complain', 'phone', 'earpiec', 'doubl', 'extern', 'speaker', 'want', 'play', 'song', 'loud', 'wasnt', 'best', 'doabl', 'year', 'cant', 'realli', 'complain', 'gave', 'teenag', 'replac', 'wait', 'upgrad', 'time', 'phone', 'use', 'crap', 'batteri', 'final', 'isnt', 'keep', 'anymor', 'wont', 'stay', 'charg', 'though', 'cant', 'realli', 'complain', 'phone', 'earpiec', 'doubl', 'extern', 'speaker', 'want', 'play', 'song', 'loud', 'wasnt', 'best', 'doabl', 'year', 'cant', 'realli', 'complain', 'gave', 'teenag', 'replac', 'wait', 'upgrad', 'time', 'phone', 'use', 'crap', 'batteri', 'final', 'isnt', 'keep', 'anymor', 'wont', 'stay', 'charg', 'though', 'cant', 'realli', 'complain', 'phone', 'earpiec', 'doubl', 'extern', 'speaker', 'want', 'play', 'song', 'loud', 'wasnt', 'best', 'doabl', 'year', 'cant', 'realli', 'complain', 'gave', 'teenag', 'replac', 'wait', 'upgrad', 'time', 'phone', 'use', 'crap', 'batteri', 'final', 'isnt', 'keep', 'anymor', 'wont', 'stay', 'charg', 'though', 'cant', 'realli', 'complain', 'phone', 'earpiec', 'doubl', 'extern', 'speaker', 'want', 'play', 'song', 'loud', 'wasnt', 'best', 'doabl', 'year', 'cant', 'realli', 'complain', 'gave', 'teenag', 'replac', 'wait', 'upgrad', 'time', 'phone', 'use', 'crap', 'batteri', 'final', 'isnt', 'keep', 'anymor', 'wont', 'stay', 'charg', 'though', 'cant', 'realli', 'complain', 'phone', 'earpiec', 'doubl', 'extern', 'speaker', 'want', 'play', 'song', 'loud', 'wasnt', 'best', 'doabl', 'year', 'cant', 'realli', 'complain', 'gave', 'teenag', 'replac', 'wait', 'upgrad', 'time', 'phone', 'use', 'crap', 'batteri', 'final', 'isnt', 'keep', 'anymor', 'wont', 'stay', 'charg', 'though', 'cant', 'realli', 'complain', 'phone', 'earpiec', 'doubl', 'extern', 'speaker', 'want', 'play', 'song', 'loud', 'wasnt', 'best', 'doabl', 'year', 'cant', 'realli', 'complain', 'gave', 'teenag', 'replac', 'wait', 'upgrad', 'time', 'phone', 'use', 'crap', 'batteri', 'final', 'isnt', 'keep', 'anymor', 'wont', 'stay', 'charg', 'though', 'cant', 'realli', 'complain', 'phone', 'earpiec', 'doubl', 'extern', 'speaker', 'want', 'play', 'song', 'loud', 'wasnt', 'best', 'doabl', 'year', 'cant', 'realli', 'complain', 'gave', 'teenag', 'replac', 'wait', 'upgrad', 'time', 'phone', 'use', 'crap', 'batteri', 'final', 'isnt', 'keep', 'anymor', 'wont', 'stay', 'charg', 'though', 'cant', 'realli', 'complain', 'phone', 'earpiec', 'doubl', 'extern', 'speaker', 'want', 'play', 'song', 'loud', 'wasnt', 'best', 'doabl', 'year', 'cant', 'realli', 'complain', 'gave', 'teenag', 'replac', 'wait', 'upgrad', 'time', 'phone', 'use', 'crap', 'batteri', 'final', 'isnt', 'keep', 'anymor', 'wont', 'stay', 'charg', 'though', 'cant', 'realli', 'complain', 'phone', 'earpiec', 'doubl', 'extern', 'speaker', 'want', 'play', 'song', 'loud', 'wasnt', 'best', 'doabl', 'year', 'cant', 'realli', 'complain', 'gave', 'teenag', 'replac', 'wait', 'upgrad', 'time', 'phone', 'use', 'crap', 'batteri', 'final', 'isnt', 'keep', 'anymor', 'wont', 'stay', 'charg', 'though', 'cant', 'realli', 'complain', 'phone', 'earpiec', 'doubl', 'extern', 'speaker', 'want', 'play', 'song', 'loud', 'wasnt', 'best', 'doabl', 'year', 'cant', 'realli', 'complain', 'gave', 'teenag', 'replac', 'wait', 'upgrad', 'time', 'phone', 'use', 'crap', 'batteri', 'final', 'isnt', 'keep', 'anymor', 'wont', 'stay', 'charg', 'though', 'cant', 'realli', 'complain', 'phone', 'earpiec', 'doubl', 'extern', 'speaker', 'want', 'play', 'song', 'loud', 'wasnt', 'best', 'doabl', 'year', 'cant', 'realli', 'complain', 'gave', 'teenag', 'replac', 'wait', 'upgrad', 'time', 'phone', 'use', 'crap', 'batteri', 'final', 'isnt', 'keep', 'anymor', 'wont', 'stay', 'charg', 'though', 'cant', 'realli', 'complain', 'phone', 'earpiec', 'doubl', 'extern', 'speaker', 'want', 'play', 'song', 'loud', 'wasnt', 'best', 'doabl', 'year', 'cant', 'realli', 'complain', 'gave', 'teenag', 'replac', 'wait', 'upgrad', 'time', 'phone', 'use', 'crap', 'batteri', 'final', 'isnt', 'keep', 'anymor', 'wont', 'stay', 'charg', 'though', 'cant', 'realli', 'complain', 'phone', 'earpiec', 'doubl', 'extern', 'speaker', 'want', 'play', 'song', 'loud', 'wasnt', 'best', 'doabl', 'year', 'cant', 'realli', 'complain', 'gave', 'teenag', 'replac', 'wait', 'upgrad', 'time', 'phone', 'use', 'crap', 'batteri', 'final', 'isnt', 'keep', 'anymor', 'wont', 'stay', 'charg', 'though', 'cant', 'realli', 'complain', 'phone', 'earpiec', 'doubl', 'extern', 'speaker', 'want', 'play', 'song', 'loud', 'wasnt', 'best', 'doabl', 'year', 'cant', 'realli', 'complain', 'gave', 'teenag', 'replac', 'wait', 'upgrad', 'time', 'phone', 'use', 'crap', 'batteri', 'final', 'isnt', 'keep', 'anymor', 'wont', 'stay', 'charg', 'though', 'cant', 'realli', 'complain', 'phone', 'earpiec', 'doubl', 'extern', 'speaker', 'want', 'play', 'song', 'loud', 'wasnt', 'best', 'doabl', 'year', 'cant', 'realli', 'complain', 'gave', 'teenag', 'replac', 'wait', 'upgrad', 'time', 'phone', 'use', 'crap', 'batteri', 'final', 'isnt', 'keep', 'anymor', 'wont', 'stay', 'charg', 'though', 'cant', 'realli', 'complain', 'phone', 'earpiec', 'doubl', 'extern', 'speaker', 'want', 'play', 'song', 'loud', 'wasnt', 'best', 'doabl', 'year', 'cant', 'realli', 'complain', 'gave', 'teenag', 'replac', 'wait', 'upgrad', 'time', 'phone', 'use', 'crap', 'batteri', 'final', 'isnt', 'keep', 'anymor', 'wont', 'stay', 'charg', 'though', 'cant', 'realli', 'complain', 'phone', 'earpiec', 'doubl', 'extern', 'speaker', 'want', 'play', 'song', 'loud', 'wasnt', 'best', 'doabl', 'year', 'cant', 'realli', 'complain', 'gave', 'teenag', 'replac', 'wait', 'upgrad', 'time', 'phone', 'use', 'crap', 'batteri', 'final', 'isnt', 'keep', 'anymor', 'wont', 'stay', 'charg', 'though', 'cant', 'realli', 'complain', 'phone', 'earpiec', 'doubl', 'extern', 'speaker', 'want', 'play', 'song', 'loud', 'wasnt', 'best', 'doabl', 'year', 'cant', 'realli', 'complain', 'gave', 'teenag', 'replac', 'wait', 'upgrad', 'time', 'phone', 'use', 'crap', 'batteri', 'final', 'isnt', 'keep', 'anymor', 'wont', 'stay', 'charg', 'though', 'cant', 'realli', 'complain', 'phone', 'earpiec', 'doubl', 'extern', 'speaker', 'want', 'play', 'song', 'loud', 'wasnt', 'best', 'doabl', 'year', 'cant', 'realli', 'complain', 'gave', 'teenag', 'replac', 'wait', 'upgrad', 'time', 'phone', 'use', 'crap', 'batteri', 'final', 'isnt', 'keep', 'anymor', 'wont', 'stay', 'charg', 'though', 'cant', 'realli', 'complain', 'phone', 'earpiec', 'doubl', 'extern', 'speaker', 'want', 'play', 'song', 'loud', 'wasnt', 'best', 'doabl', 'year', 'cant', 'realli', 'complain', 'gave', 'teenag', 'replac', 'wait', 'upgrad', 'time', 'phone', 'use', 'crap', 'batteri', 'final', 'isnt', 'keep', 'anymor', 'wont', 'stay', 'charg', 'though', 'cant', 'realli', 'complain', 'phone', 'earpiec', 'doubl', 'extern', 'speaker', 'want', 'play', 'song', 'loud', 'wasnt', 'best', 'doabl', 'year', 'cant', 'realli', 'complain', 'gave', 'teenag', 'replac', 'wait', 'upgrad', 'time', 'phone', 'use', 'crap', 'batteri', 'final', 'isnt', 'keep', 'anymor', 'wont', 'stay', 'charg', 'though', 'cant', 'realli', 'complain', 'phone', 'earpiec', 'doubl', 'extern', 'speaker', 'want', 'play', 'song', 'loud', 'wasnt', 'best', 'doabl', 'year', 'cant', 'realli', 'complain', 'gave', 'teenag', 'replac', 'wait', 'upgrad', 'time', 'phone', 'use', 'crap', 'batteri', 'final', 'isnt', 'keep', 'anymor', 'wont', 'stay', 'charg', 'though', 'cant', 'realli', 'complain', 'phone', 'earpiec', 'doubl', 'extern', 'speaker', 'want', 'play', 'song', 'loud', 'wasnt', 'best', 'doabl', 'year', 'cant', 'realli', 'complain', 'gave', 'teenag', 'replac', 'wait', 'upgrad', 'time', 'phone', 'use', 'crap', 'batteri', 'final', 'isnt', 'keep', 'anymor', 'wont', 'stay', 'charg', 'though', 'cant', 'realli', 'complain', 'phone', 'earpiec', 'doubl', 'extern', 'speaker', 'want', 'play', 'song', 'loud', 'wasnt', 'best', 'doabl', 'year', 'cant', 'realli', 'complain', 'gave', 'teenag', 'replac', 'wait', 'upgrad', 'time', 'phone', 'use', 'crap', 'batteri', 'final', 'isnt', 'keep', 'anymor', 'wont', 'stay', 'charg', 'though', 'cant', 'realli', 'complain', 'phone', 'earpiec', 'doubl', 'extern', 'speaker', 'want', 'play', 'song', 'loud', 'wasnt', 'best', 'doabl', 'year', 'cant', 'realli', 'complain', 'gave', 'teenag', 'replac', 'wait', 'upgrad', 'time', 'phone', 'use', 'crap', 'batteri', 'final', 'isnt', 'keep', 'anymor', 'wont', 'stay', 'charg', 'though', 'cant', 'realli', 'complain', 'phone', 'earpiec', 'doubl', 'extern', 'speaker', 'want', 'play', 'song', 'loud', 'wasnt', 'best', 'doabl', 'year', 'cant', 'realli', 'complain', 'gave', 'teenag', 'replac', 'wait', 'upgrad', 'time', 'phone', 'use', 'crap', 'batteri', 'final', 'isnt', 'keep', 'anymor', 'wont', 'stay', 'charg', 'though', 'cant', 'realli', 'complain', 'phone', 'earpiec', 'doubl', 'extern', 'speaker', 'want', 'play', 'song', 'loud', 'wasnt', 'best', 'doabl', 'year', 'cant', 'realli', 'complain', 'gave', 'teenag', 'replac', 'wait', 'upgrad', 'time', 'phone', 'use', 'crap', 'batteri', 'final', 'isnt', 'keep', 'anymor', 'wont', 'stay', 'charg', 'though', 'cant', 'realli', 'complain', 'phone', 'earpiec', 'doubl', 'extern', 'speaker', 'want', 'play', 'song', 'loud', 'wasnt', 'best', 'doabl', 'year', 'cant', 'realli', 'complain', 'gave', 'teenag', 'replac', 'wait', 'upgrad', 'time', 'phone', 'use', 'crap', 'batteri', 'final', 'isnt', 'keep', 'anymor', 'wont', 'stay', 'charg', 'though', 'cant', 'realli', 'complain', 'phone', 'earpiec', 'doubl', 'extern', 'speaker', 'want', 'play', 'song', 'loud', 'wasnt', 'best', 'doabl', 'year', 'cant', 'realli', 'complain', 'gave', 'teenag', 'replac', 'wait', 'upgrad', 'time', 'phone', 'use', 'crap', 'batteri', 'final', 'isnt', 'keep', 'anymor', 'wont', 'stay', 'charg', 'though', 'cant', 'realli', 'complain', 'phone', 'earpiec', 'doubl', 'extern', 'speaker', 'want', 'play', 'song', 'loud', 'wasnt', 'best', 'doabl', 'year', 'cant', 'realli', 'complain', 'gave', 'teenag', 'replac', 'wait', 'upgrad', 'time', 'phone', 'use', 'crap', 'batteri', 'final', 'isnt', 'keep', 'anymor', 'wont', 'stay', 'charg', 'though', 'cant', 'realli', 'complain', 'phone', 'earpiec', 'doubl', 'extern', 'speaker', 'want', 'play', 'song', 'loud', 'wasnt', 'best', 'doabl', 'year', 'cant', 'realli', 'complain', 'gave', 'teenag', 'replac', 'wait', 'upgrad', 'time', 'phone', 'use', 'crap', 'batteri', 'final', 'isnt', 'keep', 'anymor', 'wont', 'stay', 'charg', 'though', 'cant', 'realli', 'complain', 'phone', 'earpiec', 'doubl', 'extern', 'speaker', 'want', 'play', 'song', 'loud', 'wasnt', 'best', 'doabl', 'year', 'cant', 'realli', 'complain', 'gave', 'teenag', 'replac', 'wait', 'upgrad', 'time', 'phone', 'use', 'crap', 'batteri', 'final', 'isnt', 'keep', 'anymor', 'wont', 'stay', 'charg', 'though', 'cant', 'realli', 'complain', 'phone', 'earpiec', 'doubl', 'extern', 'speaker', 'want', 'play', 'song', 'loud', 'wasnt', 'best', 'doabl', 'year', 'cant', 'realli', 'complain', 'gave', 'teenag', 'replac', 'wait', 'upgrad', 'time', 'phone', 'use', 'crap', 'batteri', 'final', 'isnt', 'keep', 'anymor', 'wont', 'stay', 'charg', 'though', 'cant', 'realli', 'complain', 'phone', 'earpiec', 'doubl', 'extern', 'speaker', 'want', 'play', 'song', 'loud', 'wasnt', 'best', 'doabl', 'year', 'cant', 'realli', 'complain', 'gave', 'teenag', 'replac', 'wait', 'upgrad', 'time', 'phone', 'use', 'crap', 'batteri', 'final', 'isnt', 'keep', 'anymor', 'wont', 'stay', 'charg', 'though', 'cant', 'realli', 'complain', 'phone', 'earpiec', 'doubl', 'extern', 'speaker', 'want', 'play', 'song', 'loud', 'wasnt', 'best', 'doabl', 'year', 'cant', 'realli', 'complain', 'gave', 'teenag', 'replac', 'wait', 'upgrad', 'time', 'phone', 'use', 'crap', 'batteri', 'final', 'isnt', 'keep', 'anymor', 'wont', 'stay', 'charg', 'though', 'cant', 'realli', 'complain', 'phone', 'earpiec', 'doubl', 'extern', 'speaker', 'want', 'play', 'song', 'loud', 'wasnt', 'best', 'doabl', 'year', 'cant', 'realli', 'complain', 'gave', 'teenag', 'replac', 'wait', 'upgrad', 'time', 'phone', 'use', 'crap', 'batteri', 'final', 'isnt', 'keep', 'anymor', 'wont', 'stay', 'charg', 'though', 'cant', 'realli', 'complain', 'phone', 'earpiec', 'doubl', 'extern', 'speaker', 'want', 'play', 'song', 'loud', 'wasnt', 'best', 'doabl', 'year', 'cant', 'realli', 'complain', 'gave', 'teenag', 'replac', 'wait', 'upgrad', 'time', 'phone', 'use', 'crap', 'batteri', 'final', 'isnt', 'keep', 'anymor', 'wont', 'stay', 'charg', 'though', 'cant', 'realli', 'complain', 'phone', 'earpiec', 'doubl', 'extern', 'speaker', 'want', 'play', 'song', 'loud', 'wasnt', 'best', 'doabl', 'year', 'cant', 'realli', 'complain', 'gave', 'teenag', 'replac', 'wait', 'upgrad', 'time', 'phone', 'use', 'crap', 'batteri', 'final', 'isnt', 'keep', 'anymor', 'wont', 'stay', 'charg', 'though', 'cant', 'realli', 'complain', 'phone', 'earpiec', 'doubl', 'extern', 'speaker', 'want', 'play', 'song', 'loud', 'wasnt', 'best', 'doabl', 'year', 'cant', 'realli', 'complain', 'gave', 'teenag', 'replac', 'wait', 'upgrad', 'time', 'phone', 'use', 'crap', 'batteri', 'final', 'isnt', 'keep', 'anymor', 'wont', 'stay', 'charg', 'though', 'cant', 'realli', 'complain', 'phone', 'earpiec', 'doubl', 'extern', 'speaker', 'want', 'play', 'song', 'loud', 'wasnt', 'best', 'doabl', 'year', 'cant', 'realli', 'complain', 'gave', 'teenag', 'replac', 'wait', 'upgrad', 'time', 'phone', 'use', 'crap', 'batteri', 'final', 'isnt', 'keep', 'anymor', 'wont', 'stay', 'charg', 'though', 'cant', 'realli', 'complain', 'phone', 'earpiec', 'doubl', 'extern', 'speaker', 'want', 'play', 'song', 'loud', 'wasnt', 'best', 'doabl', 'year', 'cant', 'realli', 'complain', 'gave', 'teenag', 'replac', 'wait', 'upgrad', 'time', 'phone', 'use', 'crap', 'batteri', 'final', 'isnt', 'keep', 'anymor', 'wont', 'stay', 'charg', 'though', 'cant', 'realli', 'complain', 'phone', 'earpiec', 'doubl', 'extern', 'speaker', 'want', 'play', 'song', 'loud', 'wasnt', 'best', 'doabl', 'year', 'cant', 'realli', 'complain', 'gave', 'teenag', 'replac', 'wait', 'upgrad', 'time', 'phone', 'use', 'crap', 'batteri', 'final', 'isnt', 'keep', 'anymor', 'wont', 'stay', 'charg', 'though', 'cant', 'realli', 'complain', 'phone', 'earpiec', 'doubl', 'extern', 'speaker', 'want', 'play', 'song', 'loud', 'wasnt', 'best', 'doabl', 'year', 'cant', 'realli', 'complain', 'gave', 'teenag', 'replac', 'wait', 'upgrad', 'time', 'phone', 'use', 'crap', 'batteri', 'final', 'isnt', 'keep', 'anymor', 'wont', 'stay', 'charg', 'though', 'cant', 'realli', 'complain', 'phone', 'earpiec', 'doubl', 'extern', 'speaker', 'want', 'play', 'song', 'loud', 'wasnt', 'best', 'doabl', 'year', 'cant', 'realli', 'complain', 'gave', 'teenag', 'replac', 'wait', 'upgrad', 'time', 'phone', 'use', 'crap', 'batteri', 'final', 'isnt', 'keep', 'anymor', 'wont', 'stay', 'charg', 'though', 'cant', 'realli', 'complain', 'phone', 'earpiec', 'doubl', 'extern', 'speaker', 'want', 'play', 'song', 'loud', 'wasnt', 'best', 'doabl', 'year', 'cant', 'realli', 'complain', 'gave', 'teenag', 'replac', 'wait', 'upgrad', 'time', 'phone', 'use', 'crap', 'batteri', 'final', 'isnt', 'keep', 'anymor', 'wont', 'stay', 'charg', 'though', 'cant', 'realli', 'complain', 'phone', 'earpiec', 'doubl', 'extern', 'speaker', 'want', 'play', 'song', 'loud', 'wasnt', 'best', 'doabl', 'year', 'cant', 'realli', 'complain', 'gave', 'teenag', 'replac', 'wait', 'upgrad', 'time', 'phone', 'use', 'crap', 'batteri', 'final', 'isnt', 'keep', 'anymor', 'wont', 'stay', 'charg', 'though', 'cant', 'realli', 'complain', 'phone', 'earpiec', 'doubl', 'extern', 'speaker', 'want', 'play', 'song', 'loud', 'wasnt', 'best', 'doabl', 'year', 'cant', 'realli', 'complain', 'gave', 'teenag', 'replac', 'wait', 'upgrad', 'time', 'phone', 'use', 'crap', 'batteri', 'final', 'isnt', 'keep', 'anymor', 'wont', 'stay', 'charg', 'though', 'cant', 'realli', 'complain', 'phone', 'earpiec', 'doubl', 'extern', 'speaker', 'want', 'play', 'song', 'loud', 'wasnt', 'best', 'doabl', 'year', 'cant', 'realli', 'complain', 'gave', 'teenag', 'replac', 'wait', 'upgrad', 'time', 'phone', 'use', 'crap', 'batteri', 'final', 'isnt', 'keep', 'anymor', 'wont', 'stay', 'charg', 'though', 'cant', 'realli', 'complain', 'phone', 'earpiec', 'doubl', 'extern', 'speaker', 'want', 'play', 'song', 'loud', 'wasnt', 'best', 'doabl', 'year', 'cant', 'realli', 'complain', 'gave', 'teenag', 'replac', 'wait', 'upgrad', 'time', 'phone', 'use', 'crap', 'batteri', 'final', 'isnt', 'keep', 'anymor', 'wont', 'stay', 'charg', 'though', 'cant', 'realli', 'complain', 'phone', 'earpiec', 'doubl', 'extern', 'speaker', 'want', 'play', 'song', 'loud', 'wasnt', 'best', 'doabl', 'year', 'cant', 'realli', 'complain', 'gave', 'teenag', 'replac', 'wait', 'upgrad', 'time', 'phone', 'use', 'crap', 'batteri', 'final', 'isnt', 'keep', 'anymor', 'wont', 'stay', 'charg', 'though', 'cant', 'realli', 'complain', 'phone', 'earpiec', 'doubl', 'extern', 'speaker', 'want', 'play', 'song', 'loud', 'wasnt', 'best', 'doabl', 'year', 'cant', 'realli', 'complain', 'gave', 'teenag', 'replac', 'wait', 'upgrad', 'time', 'phone', 'use', 'crap', 'batteri', 'final', 'isnt', 'keep', 'anymor', 'wont', 'stay', 'charg', 'though', 'cant', 'realli', 'complain', 'phone', 'earpiec', 'doubl', 'extern', 'speaker', 'want', 'play', 'song', 'loud', 'wasnt', 'best', 'doabl', 'year', 'cant', 'realli', 'complain', 'gave', 'teenag', 'replac', 'wait', 'upgrad', 'time', 'phone', 'use', 'crap', 'batteri', 'final', 'isnt', 'keep', 'anymor', 'wont', 'stay', 'charg', 'though', 'cant', 'realli', 'complain', 'phone', 'earpiec', 'doubl', 'extern', 'speaker', 'want', 'play', 'song', 'loud', 'wasnt', 'best', 'doabl', 'year', 'cant', 'realli', 'complain', 'gave', 'teenag', 'replac', 'wait', 'upgrad', 'time', 'phone', 'use', 'crap', 'batteri', 'final', 'isnt', 'keep', 'anymor', 'wont', 'stay', 'charg', 'though', 'cant', 'realli', 'complain', 'phone', 'earpiec', 'doubl', 'extern', 'speaker', 'want', 'play', 'song', 'loud', 'wasnt', 'best', 'doabl', 'year', 'cant', 'realli', 'complain', 'gave', 'teenag', 'replac', 'wait', 'upgrad', 'time', 'phone', 'use', 'crap', 'batteri', 'final', 'isnt', 'keep', 'anymor', 'wont', 'stay', 'charg', 'though', 'cant', 'realli', 'complain', 'phone', 'earpiec', 'doubl', 'extern', 'speaker', 'want', 'play', 'song', 'loud', 'wasnt', 'best', 'doabl', 'year', 'cant', 'realli', 'complain', 'gave', 'teenag', 'replac', 'wait', 'upgrad', 'time', 'phone', 'use', 'crap', 'batteri', 'final', 'isnt', 'keep', 'anymor', 'wont', 'stay', 'charg', 'though', 'cant', 'realli', 'complain', 'phone', 'earpiec', 'doubl', 'extern', 'speaker', 'want', 'play', 'song', 'loud', 'wasnt', 'best', 'doabl', 'year', 'cant', 'realli', 'complain', 'gave', 'teenag', 'replac', 'wait', 'upgrad', 'time', 'phone', 'use', 'crap', 'batteri', 'final', 'isnt', 'keep', 'anymor', 'wont', 'stay', 'charg', 'though', 'cant', 'realli', 'complain', 'phone', 'earpiec', 'doubl', 'extern', 'speaker', 'want', 'play', 'song', 'loud', 'wasnt', 'best', 'doabl', 'year', 'cant', 'realli', 'complain', 'gave', 'teenag', 'replac', 'wait', 'upgrad', 'time', 'phone', 'use', 'crap', 'batteri', 'final', 'isnt', 'keep', 'anymor', 'wont', 'stay', 'charg', 'though', 'cant', 'realli', 'complain', 'phone', 'earpiec', 'doubl', 'extern', 'speaker', 'want', 'play', 'song', 'loud', 'wasnt', 'best', 'doabl', 'year', 'cant', 'realli', 'complain', 'gave', 'teenag', 'replac', 'wait', 'upgrad', 'time', 'phone', 'use', 'crap', 'batteri', 'final', 'isnt', 'keep', 'anymor', 'wont', 'stay', 'charg', 'though', 'cant', 'realli', 'complain', 'phone', 'earpiec', 'doubl', 'extern', 'speaker', 'want', 'play', 'song', 'loud', 'wasnt', 'best', 'doabl', 'year', 'cant', 'realli', 'complain', 'gave', 'teenag', 'replac', 'wait', 'upgrad', 'time', 'phone', 'use', 'crap', 'batteri', 'final', 'isnt', 'keep', 'anymor', 'wont', 'stay', 'charg', 'though', 'cant', 'realli', 'complain', 'phone', 'earpiec', 'doubl', 'extern', 'speaker', 'want', 'play', 'song', 'loud', 'wasnt', 'best', 'doabl', 'year', 'cant', 'realli', 'complain', 'gave', 'teenag', 'replac', 'wait', 'upgrad', 'time', 'phone', 'use', 'crap', 'batteri', 'final', 'isnt', 'keep', 'anymor', 'wont', 'stay', 'charg', 'though', 'cant', 'realli', 'complain', 'phone', 'earpiec', 'doubl', 'extern', 'speaker', 'want', 'play', 'song', 'loud', 'wasnt', 'best', 'doabl', 'year', 'cant', 'realli', 'complain', 'gave', 'teenag', 'replac', 'wait', 'upgrad', 'time', 'phone', 'use', 'crap', 'batteri', 'final', 'isnt', 'keep', 'anymor', 'wont', 'stay', 'charg', 'though', 'cant', 'realli', 'complain', 'phone', 'earpiec', 'doubl', 'extern', 'speaker', 'want', 'play', 'song', 'loud', 'wasnt', 'best', 'doabl', 'year', 'cant', 'realli', 'complain', 'gave', 'teenag', 'replac', 'wait', 'upgrad', 'time', 'phone', 'use', 'crap', 'batteri', 'final', 'isnt', 'keep', 'anymor', 'wont', 'stay', 'charg', 'though', 'cant', 'realli', 'complain', 'phone', 'earpiec', 'doubl', 'extern', 'speaker', 'want', 'play', 'song', 'loud', 'wasnt', 'best', 'doabl', 'year', 'cant', 'realli', 'complain', 'gave', 'teenag', 'replac', 'wait', 'upgrad', 'time', 'phone', 'use', 'crap', 'batteri', 'final', 'isnt', 'keep', 'anymor', 'wont', 'stay', 'charg', 'though', 'cant', 'realli', 'complain', 'phone', 'earpiec', 'doubl', 'extern', 'speaker', 'want', 'play', 'song', 'loud', 'wasnt', 'best', 'doabl', 'year', 'cant', 'realli', 'complain', 'gave', 'teenag', 'replac', 'wait', 'upgrad', 'time', 'phone', 'use', 'crap', 'batteri', 'final', 'isnt', 'keep', 'anymor', 'wont', 'stay', 'charg', 'though', 'cant', 'realli', 'complain', 'phone', 'earpiec', 'doubl', 'extern', 'speaker', 'want', 'play', 'song', 'loud', 'wasnt', 'best', 'doabl', 'year', 'cant', 'realli', 'complain', 'gave', 'teenag', 'replac', 'wait', 'upgrad', 'time', 'phone', 'use', 'crap', 'batteri', 'final', 'isnt', 'keep', 'anymor', 'wont', 'stay', 'charg', 'though', 'cant', 'realli', 'complain', 'phone', 'earpiec', 'doubl', 'extern', 'speaker', 'want', 'play', 'song', 'loud', 'wasnt', 'best', 'doabl', 'year', 'cant', 'realli', 'complain', 'gave', 'teenag', 'replac', 'wait', 'upgrad', 'time', 'phone', 'use', 'crap', 'batteri', 'final', 'isnt', 'keep', 'anymor', 'wont', 'stay', 'charg', 'though', 'cant', 'realli', 'complain', 'phone', 'earpiec', 'doubl', 'extern', 'speaker', 'want', 'play', 'song', 'loud', 'wasnt', 'best', 'doabl', 'year', 'cant', 'realli', 'complain', 'gave', 'teenag', 'replac', 'wait', 'upgrad', 'time', 'phone', 'use', 'crap', 'batteri', 'final', 'isnt', 'keep', 'anymor', 'wont', 'stay', 'charg', 'though', 'cant', 'realli', 'complain', 'phone', 'earpiec', 'doubl', 'extern', 'speaker', 'want', 'play', 'song', 'loud', 'wasnt', 'best', 'doabl', 'year', 'cant', 'realli', 'complain', 'gave', 'teenag', 'replac', 'wait', 'upgrad', 'time', 'phone', 'use', 'crap', 'batteri', 'final', 'isnt', 'keep', 'anymor', 'wont', 'stay', 'charg', 'though', 'cant', 'realli', 'complain', 'phone', 'earpiec', 'doubl', 'extern', 'speaker', 'want', 'play', 'song', 'loud', 'wasnt', 'best', 'doabl', 'year', 'cant', 'realli', 'complain', 'gave', 'teenag', 'replac', 'wait', 'upgrad', 'time', 'phone', 'use', 'crap', 'batteri', 'final', 'isnt', 'keep', 'anymor', 'wont', 'stay', 'charg', 'though', 'cant', 'realli', 'complain', 'phone', 'earpiec', 'doubl', 'extern', 'speaker', 'want', 'play', 'song', 'loud', 'wasnt', 'best', 'doabl', 'year', 'cant', 'realli', 'complain', 'gave', 'teenag', 'replac', 'wait', 'upgrad', 'time', 'phone', 'use', 'crap', 'batteri', 'final', 'isnt', 'keep', 'anymor', 'wont', 'stay', 'charg', 'though', 'cant', 'realli', 'complain', 'phone', 'earpiec', 'doubl', 'extern', 'speaker', 'want', 'play', 'song', 'loud', 'wasnt', 'best', 'doabl', 'year', 'cant', 'realli', 'complain', 'gave', 'teenag', 'replac', 'wait', 'upgrad', 'time', 'phone', 'use', 'crap', 'batteri', 'final', 'isnt', 'keep', 'anymor', 'wont', 'stay', 'charg', 'though', 'cant', 'realli', 'complain', 'phone', 'earpiec', 'doubl', 'extern', 'speaker', 'want', 'play', 'song', 'loud', 'wasnt', 'best', 'doabl', 'year', 'cant', 'realli', 'complain', 'gave', 'teenag', 'replac', 'wait', 'upgrad', 'time', 'phone', 'use', 'crap', 'batteri', 'final', 'isnt', 'keep', 'anymor', 'wont', 'stay', 'charg', 'though', 'cant', 'realli', 'complain', 'phone', 'earpiec', 'doubl', 'extern', 'speaker', 'want', 'play', 'song', 'loud', 'wasnt', 'best', 'doabl', 'year', 'cant', 'realli', 'complain', 'gave', 'teenag', 'replac', 'wait', 'upgrad', 'time', 'phone', 'use', 'crap', 'batteri', 'final', 'isnt', 'keep', 'anymor', 'wont', 'stay', 'charg', 'though', 'cant', 'realli', 'complain', 'phone', 'earpiec', 'doubl', 'extern', 'speaker', 'want', 'play', 'song', 'loud', 'wasnt', 'best', 'doabl', 'year', 'cant', 'realli', 'complain', 'gave', 'teenag', 'replac', 'wait', 'upgrad', 'time', 'phone', 'use', 'crap', 'batteri', 'final', 'isnt', 'keep', 'anymor', 'wont', 'stay', 'charg', 'though', 'cant', 'realli', 'complain', 'phone', 'earpiec', 'doubl', 'extern', 'speaker', 'want', 'play', 'song', 'loud', 'wasnt', 'best', 'doabl', 'year', 'cant', 'realli', 'complain', 'gave', 'teenag', 'replac', 'wait', 'upgrad', 'time', 'phone', 'use', 'crap', 'batteri', 'final', 'isnt', 'keep', 'anymor', 'wont', 'stay', 'charg', 'though', 'cant', 'realli', 'complain', 'phone', 'earpiec', 'doubl', 'extern', 'speaker', 'want', 'play', 'song', 'loud', 'wasnt', 'best', 'doabl', 'year', 'cant', 'realli', 'complain', 'gave', 'teenag', 'replac', 'wait', 'upgrad', 'time', 'phone', 'use', 'crap', 'batteri', 'final', 'isnt', 'keep', 'anymor', 'wont', 'stay', 'charg', 'though', 'cant', 'realli', 'complain', 'phone', 'earpiec', 'doubl', 'extern', 'speaker', 'want', 'play', 'song', 'loud', 'wasnt', 'best', 'doabl', 'year', 'cant', 'realli', 'complain', 'gave', 'teenag', 'replac', 'wait', 'upgrad', 'time', 'phone', 'use', 'crap', 'batteri', 'final', 'isnt', 'keep', 'anymor', 'wont', 'stay', 'charg', 'though', 'cant', 'realli', 'complain', 'phone', 'earpiec', 'doubl', 'extern', 'speaker', 'want', 'play', 'song', 'loud', 'wasnt', 'best', 'doabl', 'year', 'cant', 'realli', 'complain', 'gave', 'teenag', 'replac', 'wait', 'upgrad', 'time', 'phone', 'use', 'crap', 'batteri', 'final', 'isnt', 'keep', 'anymor', 'wont', 'stay', 'charg', 'though', 'cant', 'realli', 'complain', 'phone', 'earpiec', 'doubl', 'extern', 'speaker', 'want', 'play', 'song', 'loud', 'wasnt', 'best', 'doabl', 'year', 'cant', 'realli', 'complain', 'gave', 'teenag', 'replac', 'wait', 'upgrad', 'time', 'phone', 'use', 'crap', 'batteri', 'final', 'isnt', 'keep', 'anymor', 'wont', 'stay', 'charg', 'though', 'cant', 'realli', 'complain', 'phone', 'earpiec', 'doubl', 'extern', 'speaker', 'want', 'play', 'song', 'loud', 'wasnt', 'best', 'doabl', 'year', 'cant', 'realli', 'complain', 'gave', 'teenag', 'replac', 'wait', 'upgrad', 'time', 'phone', 'use', 'crap', 'batteri', 'final', 'isnt', 'keep', 'anymor', 'wont', 'stay', 'charg', 'though', 'cant', 'realli', 'complain', 'phone', 'earpiec', 'doubl', 'extern', 'speaker', 'want', 'play', 'song', 'loud', 'wasnt', 'best', 'doabl', 'year', 'cant', 'realli', 'complain', 'gave', 'teenag', 'replac', 'wait', 'upgrad', 'time', 'phone', 'use', 'crap', 'batteri', 'final', 'isnt', 'keep', 'anymor', 'wont', 'stay', 'charg', 'though', 'cant', 'realli', 'complain', 'phone', 'earpiec', 'doubl', 'extern', 'speaker', 'want', 'play', 'song', 'loud', 'wasnt', 'best', 'doabl', 'year', 'cant', 'realli', 'complain', 'gave', 'teenag', 'replac', 'wait', 'upgrad', 'time', 'phone', 'use', 'crap', 'batteri', 'final', 'isnt', 'keep', 'anymor', 'wont', 'stay', 'charg', 'though', 'cant', 'realli', 'complain', 'phone', 'earpiec', 'doubl', 'extern', 'speaker', 'want', 'play', 'song', 'loud', 'wasnt', 'best', 'doabl', 'year', 'cant', 'realli', 'complain', 'gave', 'teenag', 'replac', 'wait', 'upgrad', 'time', 'phone', 'use', 'crap', 'batteri', 'final', 'isnt', 'keep', 'anymor', 'wont', 'stay', 'charg', 'though', 'cant', 'realli', 'complain', 'phone', 'earpiec', 'doubl', 'extern', 'speaker', 'want', 'play', 'song', 'loud', 'wasnt', 'best', 'doabl', 'year', 'cant', 'realli', 'complain', 'gave', 'teenag', 'replac', 'wait', 'upgrad', 'time', 'phone', 'use', 'crap', 'batteri', 'final', 'isnt', 'keep', 'anymor', 'wont', 'stay', 'charg', 'though', 'cant', 'realli', 'complain', 'phone', 'earpiec', 'doubl', 'extern', 'speaker', 'want', 'play', 'song', 'loud', 'wasnt', 'best', 'doabl', 'year', 'cant', 'realli', 'complain', 'gave', 'teenag', 'replac', 'wait', 'upgrad', 'time', 'phone', 'use', 'crap', 'batteri', 'final', 'isnt', 'keep', 'anymor', 'wont', 'stay', 'charg', 'though', 'cant', 'realli', 'complain', 'phone', 'earpiec', 'doubl', 'extern', 'speaker', 'want', 'play', 'song', 'loud', 'wasnt', 'best', 'doabl', 'year', 'cant', 'realli', 'complain', 'gave', 'teenag', 'replac', 'wait', 'upgrad', 'time', 'phone', 'use', 'crap', 'batteri', 'final', 'isnt', 'keep', 'anymor', 'wont', 'stay', 'charg', 'though', 'cant', 'realli', 'complain', 'phone', 'earpiec', 'doubl', 'extern', 'speaker', 'want', 'play', 'song', 'loud', 'wasnt', 'best', 'doabl', 'year', 'cant', 'realli', 'complain', 'gave', 'teenag', 'replac', 'wait', 'upgrad', 'time', 'phone', 'use', 'crap', 'batteri', 'final', 'isnt', 'keep', 'anymor', 'wont', 'stay', 'charg', 'though', 'cant', 'realli', 'complain', 'phone', 'earpiec', 'doubl', 'extern', 'speaker', 'want', 'play', 'song', 'loud', 'wasnt', 'best', 'doabl', 'year', 'cant', 'realli', 'complain', 'gave', 'teenag', 'replac', 'wait', 'upgrad', 'time', 'phone', 'use', 'crap', 'batteri', 'final', 'isnt', 'keep', 'anymor', 'wont', 'stay', 'charg', 'though', 'cant', 'realli', 'complain', 'phone', 'earpiec', 'doubl', 'extern', 'speaker', 'want', 'play', 'song', 'loud', 'wasnt', 'best', 'doabl', 'year', 'cant', 'realli', 'complain', 'gave', 'teenag', 'replac', 'wait', 'upgrad', 'time', 'phone', 'use', 'crap', 'batteri', 'final', 'isnt', 'keep', 'anymor', 'wont', 'stay', 'charg', 'though', 'cant', 'realli', 'complain', 'phone', 'earpiec', 'doubl', 'extern', 'speaker', 'want', 'play', 'song', 'loud', 'wasnt', 'best', 'doabl', 'year', 'cant', 'realli', 'complain', 'gave', 'teenag', 'replac', 'wait', 'upgrad', 'time', 'phone', 'use', 'crap', 'batteri', 'final', 'isnt', 'keep', 'anymor', 'wont', 'stay', 'charg', 'though', 'cant', 'realli', 'complain', 'phone', 'earpiec', 'doubl', 'extern', 'speaker', 'want', 'play', 'song', 'loud', 'wasnt', 'best', 'doabl', 'year', 'cant', 'realli', 'complain', 'gave', 'teenag', 'replac', 'wait', 'upgrad', 'time', 'phone', 'use', 'crap', 'batteri', 'final', 'isnt', 'keep', 'anymor', 'wont', 'stay', 'charg', 'though', 'cant', 'realli', 'complain', 'phone', 'earpiec', 'doubl', 'extern', 'speaker', 'want', 'play', 'song', 'loud', 'wasnt', 'best', 'doabl', 'year', 'cant', 'realli', 'complain', 'gave', 'teenag', 'replac', 'wait', 'upgrad', 'time', 'phone', 'use', 'crap', 'batteri', 'final', 'isnt', 'keep', 'anymor', 'wont', 'stay', 'charg', 'though', 'cant', 'realli', 'complain', 'phone', 'earpiec', 'doubl', 'extern', 'speaker', 'want', 'play', 'song', 'loud', 'wasnt', 'best', 'doabl', 'year', 'cant', 'realli', 'complain', 'gave', 'teenag', 'replac', 'wait', 'upgrad', 'time', 'phone', 'use', 'crap', 'batteri', 'final', 'isnt', 'keep', 'anymor', 'wont', 'stay', 'charg', 'though', 'cant', 'realli', 'complain', 'phone', 'earpiec', 'doubl', 'extern', 'speaker', 'want', 'play', 'song', 'loud', 'wasnt', 'best', 'doabl', 'year', 'cant', 'realli', 'complain', 'gave', 'teenag', 'replac', 'wait', 'upgrad', 'time', 'phone', 'use', 'crap', 'batteri', 'final', 'isnt', 'keep', 'anymor', 'wont', 'stay', 'charg', 'though', 'cant', 'realli', 'complain', 'phone', 'earpiec', 'doubl', 'extern', 'speaker', 'want', 'play', 'song', 'loud', 'wasnt', 'best', 'doabl', 'year', 'cant', 'realli', 'complain', 'gave', 'teenag', 'replac', 'wait', 'upgrad', 'time', 'phone', 'use', 'crap', 'batteri', 'final', 'isnt', 'keep', 'anymor', 'wont', 'stay', 'charg', 'though', 'cant', 'realli', 'complain', 'phone', 'earpiec', 'doubl', 'extern', 'speaker', 'want', 'play', 'song', 'loud', 'wasnt', 'best', 'doabl', 'year', 'cant', 'realli', 'complain', 'gave', 'teenag', 'replac', 'wait', 'upgrad', 'time', 'phone', 'use', 'crap', 'batteri', 'final', 'isnt', 'keep', 'anymor', 'wont', 'stay', 'charg', 'though', 'cant', 'realli', 'complain', 'phone', 'earpiec', 'doubl', 'extern', 'speaker', 'want', 'play', 'song', 'loud', 'wasnt', 'best', 'doabl', 'year', 'cant', 'realli', 'complain', 'gave', 'teenag', 'replac', 'wait', 'upgrad', 'time', 'phone', 'use', 'crap', 'batteri', 'final', 'isnt', 'keep', 'anymor', 'wont', 'stay', 'charg', 'though', 'cant', 'realli', 'complain', 'phone', 'earpiec', 'doubl', 'extern', 'speaker', 'want', 'play', 'song', 'loud', 'wasnt', 'best', 'doabl', 'year', 'cant', 'realli', 'complain', 'gave', 'teenag', 'replac', 'wait', 'upgrad', 'time', 'phone', 'use', 'crap', 'batteri', 'final', 'isnt', 'keep', 'anymor', 'wont', 'stay', 'charg', 'though', 'cant', 'realli', 'complain', 'phone', 'earpiec', 'doubl', 'extern', 'speaker', 'want', 'play', 'song', 'loud', 'wasnt', 'best', 'doabl', 'year', 'cant', 'realli', 'complain', 'gave', 'teenag', 'replac', 'wait', 'upgrad', 'time', 'phone', 'use', 'crap', 'batteri', 'final', 'isnt', 'keep', 'anymor', 'wont', 'stay', 'charg', 'though', 'cant', 'realli', 'complain', 'phone', 'earpiec', 'doubl', 'extern', 'speaker', 'want', 'play', 'song', 'loud', 'wasnt', 'best', 'doabl', 'year', 'cant', 'realli', 'complain', 'gave', 'teenag', 'replac', 'wait', 'upgrad', 'time', 'phone', 'use', 'crap', 'batteri', 'final', 'isnt', 'keep', 'anymor', 'wont', 'stay', 'charg', 'though', 'cant', 'realli', 'complain', 'phone', 'earpiec', 'doubl', 'extern', 'speaker', 'want', 'play', 'song', 'loud', 'wasnt', 'best', 'doabl', 'year', 'cant', 'realli', 'complain', 'gave', 'teenag', 'replac', 'wait', 'upgrad', 'time', 'phone', 'use', 'crap', 'batteri', 'final', 'isnt', 'keep', 'anymor', 'wont', 'stay', 'charg', 'though', 'cant', 'realli', 'complain', 'phone', 'earpiec', 'doubl', 'extern', 'speaker', 'want', 'play', 'song', 'loud', 'wasnt', 'best', 'doabl', 'year', 'cant', 'realli', 'complain', 'gave', 'teenag', 'replac', 'wait', 'upgrad', 'time', 'phone', 'use', 'crap', 'batteri', 'final', 'isnt', 'keep', 'anymor', 'wont', 'stay', 'charg', 'though', 'cant', 'realli', 'complain', 'phone', 'earpiec', 'doubl', 'extern', 'speaker', 'want', 'play', 'song', 'loud', 'wasnt', 'best', 'doabl', 'year', 'cant', 'realli', 'complain', 'gave', 'teenag', 'replac', 'wait', 'upgrad', 'time', 'phone', 'use', 'crap', 'batteri', 'final', 'isnt', 'keep', 'anymor', 'wont', 'stay', 'charg', 'though', 'cant', 'realli', 'complain', 'phone', 'earpiec', 'doubl', 'extern', 'speaker', 'want', 'play', 'song', 'loud', 'wasnt', 'best', 'doabl', 'year', 'cant', 'realli', 'complain', 'gave', 'teenag', 'replac', 'wait', 'upgrad', 'time', 'phone', 'use', 'crap', 'batteri', 'final', 'isnt', 'keep', 'anymor', 'wont', 'stay', 'charg', 'though', 'cant', 'realli', 'complain', 'phone', 'earpiec', 'doubl', 'extern', 'speaker', 'want', 'play', 'song', 'loud', 'wasnt', 'best', 'doabl', 'year', 'cant', 'realli', 'complain', 'gave', 'teenag', 'replac', 'wait', 'upgrad', 'time', 'phone', 'use', 'crap', 'batteri', 'final', 'isnt', 'keep', 'anymor', 'wont', 'stay', 'charg', 'though', 'cant', 'realli', 'complain', 'phone', 'earpiec', 'doubl', 'extern', 'speaker', 'want', 'play', 'song', 'loud', 'wasnt', 'best', 'doabl', 'year', 'cant', 'realli', 'complain', 'gave', 'teenag', 'replac', 'wait', 'upgrad', 'time', 'phone', 'use', 'crap', 'batteri', 'final', 'isnt', 'keep', 'anymor', 'wont', 'stay', 'charg', 'though', 'cant', 'realli', 'complain', 'phone', 'earpiec', 'doubl', 'extern', 'speaker', 'want', 'play', 'song', 'loud', 'wasnt', 'best', 'doabl', 'year', 'cant', 'realli', 'complain', 'gave', 'teenag', 'replac', 'wait', 'upgrad', 'time', 'phone', 'use', 'crap', 'batteri', 'final', 'isnt', 'keep', 'anymor', 'wont', 'stay', 'charg', 'though', 'cant', 'realli', 'complain', 'phone', 'earpiec', 'doubl', 'extern', 'speaker', 'want', 'play', 'song', 'loud', 'wasnt', 'best', 'doabl', 'year', 'cant', 'realli', 'complain', 'gave', 'teenag', 'replac', 'wait', 'upgrad', 'time', 'phone', 'use', 'crap', 'batteri', 'final', 'isnt', 'keep', 'anymor', 'wont', 'stay', 'charg', 'though', 'cant', 'realli', 'complain', 'phone', 'earpiec', 'doubl', 'extern', 'speaker', 'want', 'play', 'song', 'loud', 'wasnt', 'best', 'doabl', 'year', 'cant', 'realli', 'complain', 'gave', 'teenag', 'replac', 'wait', 'upgrad', 'time', 'phone', 'use', 'crap', 'batteri', 'final', 'isnt', 'keep', 'anymor', 'wont', 'stay', 'charg', 'though', 'cant', 'realli', 'complain', 'phone', 'earpiec', 'doubl', 'extern', 'speaker', 'want', 'play', 'song', 'loud', 'wasnt', 'best', 'doabl', 'year', 'cant', 'realli', 'complain', 'gave', 'teenag', 'replac', 'wait', 'upgrad', 'time', 'phone', 'use', 'crap', 'batteri', 'final', 'isnt', 'keep', 'anymor', 'wont', 'stay', 'charg', 'though', 'cant', 'realli', 'complain', 'phone', 'earpiec', 'doubl', 'extern', 'speaker', 'want', 'play', 'song', 'loud', 'wasnt', 'best', 'doabl', 'year', 'cant', 'realli', 'complain', 'gave', 'teenag', 'replac', 'wait', 'upgrad', 'time', 'phone', 'use', 'crap', 'batteri', 'final', 'isnt', 'keep', 'anymor', 'wont', 'stay', 'charg', 'though', 'cant', 'realli', 'complain', 'phone', 'earpiec', 'doubl', 'extern', 'speaker', 'want', 'play', 'song', 'loud', 'wasnt', 'best', 'doabl', 'year', 'cant', 'realli', 'complain', 'gave', 'teenag', 'replac', 'wait', 'upgrad', 'time', 'phone', 'use', 'crap', 'batteri', 'final', 'isnt', 'keep', 'anymor', 'wont', 'stay', 'charg', 'though', 'cant', 'realli', 'complain', 'phone', 'earpiec', 'doubl', 'extern', 'speaker', 'want', 'play', 'song', 'loud', 'wasnt', 'best', 'doabl', 'year', 'cant', 'realli', 'complain', 'gave', 'teenag', 'replac', 'wait', 'upgrad', 'time', 'phone', 'use', 'crap', 'batteri', 'final', 'isnt', 'keep', 'anymor', 'wont', 'stay', 'charg', 'though', 'cant', 'realli', 'complain', 'phone', 'earpiec', 'doubl', 'extern', 'speaker', 'want', 'play', 'song', 'loud', 'wasnt', 'best', 'doabl', 'year', 'cant', 'realli', 'complain', 'gave', 'teenag', 'replac', 'wait', 'upgrad', 'time', 'phone', 'use', 'crap', 'batteri', 'final', 'isnt', 'keep', 'anymor', 'wont', 'stay', 'charg', 'though', 'cant', 'realli', 'complain', 'phone', 'earpiec', 'doubl', 'extern', 'speaker', 'want', 'play', 'song', 'loud', 'wasnt', 'best', 'doabl', 'year', 'cant', 'realli', 'complain', 'gave', 'teenag', 'replac', 'wait', 'upgrad', 'time', 'phone', 'use', 'crap', 'batteri', 'final', 'isnt', 'keep', 'anymor', 'wont', 'stay', 'charg', 'though', 'cant', 'realli', 'complain', 'phone', 'earpiec', 'doubl', 'extern', 'speaker', 'want', 'play', 'song', 'loud', 'wasnt', 'best', 'doabl', 'year', 'cant', 'realli', 'complain', 'gave', 'teenag', 'replac', 'wait', 'upgrad', 'time', 'phone', 'use', 'crap', 'batteri', 'final', 'isnt', 'keep', 'anymor', 'wont', 'stay', 'charg', 'though', 'cant', 'realli', 'complain', 'phone', 'earpiec', 'doubl', 'extern', 'speaker', 'want', 'play', 'song', 'loud', 'wasnt', 'best', 'doabl', 'year', 'cant', 'realli', 'complain', 'gave', 'teenag', 'replac', 'wait', 'upgrad', 'time', 'phone', 'use', 'crap', 'batteri', 'final', 'isnt', 'keep', 'anymor', 'wont', 'stay', 'charg', 'though', 'cant', 'realli', 'complain', 'phone', 'earpiec', 'doubl', 'extern', 'speaker', 'want', 'play', 'song', 'loud', 'wasnt', 'best', 'doabl', 'year', 'cant', 'realli', 'complain', 'gave', 'teenag', 'replac', 'wait', 'upgrad', 'time', 'phone', 'use', 'crap', 'batteri', 'final', 'isnt', 'keep', 'anymor', 'wont', 'stay', 'charg', 'though', 'cant', 'realli', 'complain', 'phone', 'earpiec', 'doubl', 'extern', 'speaker', 'want', 'play', 'song', 'loud', 'wasnt', 'best', 'doabl', 'year', 'cant', 'realli', 'complain', 'gave', 'teenag', 'replac', 'wait', 'upgrad', 'time', 'phone', 'use', 'crap', 'batteri', 'final', 'isnt', 'keep', 'anymor', 'wont', 'stay', 'charg', 'though', 'cant', 'realli', 'complain', 'phone', 'earpiec', 'doubl', 'extern', 'speaker', 'want', 'play', 'song', 'loud', 'wasnt', 'best', 'doabl', 'year', 'cant', 'realli', 'complain', 'gave', 'teenag', 'replac', 'wait', 'upgrad', 'time', 'phone', 'use', 'crap', 'batteri', 'final', 'isnt', 'keep', 'anymor', 'wont', 'stay', 'charg', 'though', 'cant', 'realli', 'complain', 'phone', 'earpiec', 'doubl', 'extern', 'speaker', 'want', 'play', 'song', 'loud', 'wasnt', 'best', 'doabl', 'year', 'cant', 'realli', 'complain', 'gave', 'teenag', 'replac', 'wait', 'upgrad', 'time', 'phone', 'use', 'crap', 'batteri', 'final', 'isnt', 'keep', 'anymor', 'wont', 'stay', 'charg', 'though', 'cant', 'realli', 'complain', 'phone', 'earpiec', 'doubl', 'extern', 'speaker', 'want', 'play', 'song', 'loud', 'wasnt', 'best', 'doabl', 'year', 'cant', 'realli', 'complain', 'gave', 'teenag', 'replac', 'wait', 'upgrad', 'time', 'phone', 'use', 'crap', 'batteri', 'final', 'isnt', 'keep', 'anymor', 'wont', 'stay', 'charg', 'though', 'cant', 'realli', 'complain', 'phone', 'earpiec', 'doubl', 'extern', 'speaker', 'want', 'play', 'song', 'loud', 'wasnt', 'best', 'doabl', 'year', 'cant', 'realli', 'complain', 'gave', 'teenag', 'replac', 'wait', 'upgrad', 'time', 'phone', 'use', 'crap', 'batteri', 'final', 'isnt', 'keep', 'anymor', 'wont', 'stay', 'charg', 'though', 'cant', 'realli', 'complain', 'phone', 'earpiec', 'doubl', 'extern', 'speaker', 'want', 'play', 'song', 'loud', 'wasnt', 'best', 'doabl', 'year', 'cant', 'realli', 'complain', 'gave', 'teenag', 'replac', 'wait', 'upgrad', 'time', 'phone', 'use', 'crap', 'batteri', 'final', 'isnt', 'keep', 'anymor', 'wont', 'stay', 'charg', 'though', 'cant', 'realli', 'complain', 'phone', 'earpiec', 'doubl', 'extern', 'speaker', 'want', 'play', 'song', 'loud', 'wasnt', 'best', 'doabl', 'year', 'cant', 'realli', 'complain', 'gave', 'teenag', 'replac', 'wait', 'upgrad', 'time', 'phone', 'use', 'crap', 'batteri', 'final', 'isnt', 'keep', 'anymor', 'wont', 'stay', 'charg', 'though', 'cant', 'realli', 'complain', 'phone', 'earpiec', 'doubl', 'extern', 'speaker', 'want', 'play', 'song', 'loud', 'wasnt', 'best', 'doabl', 'year', 'cant', 'realli', 'complain', 'gave', 'teenag', 'replac', 'wait', 'upgrad', 'time', 'phone', 'use', 'crap', 'batteri', 'final', 'isnt', 'keep', 'anymor', 'wont', 'stay', 'charg', 'though', 'cant', 'realli', 'complain', 'phone', 'earpiec', 'doubl', 'extern', 'speaker', 'want', 'play', 'song', 'loud', 'wasnt', 'best', 'doabl', 'year', 'cant', 'realli', 'complain', 'gave', 'teenag', 'replac', 'wait', 'upgrad', 'time', 'phone', 'use', 'crap', 'batteri', 'final', 'isnt', 'keep', 'anymor', 'wont', 'stay', 'charg', 'though', 'cant', 'realli', 'complain', 'phone', 'earpiec', 'doubl', 'extern', 'speaker', 'want', 'play', 'song', 'loud', 'wasnt', 'best', 'doabl', 'year', 'cant', 'realli', 'complain', 'gave', 'teenag', 'replac', 'wait', 'upgrad', 'time', 'phone', 'use', 'crap', 'batteri', 'final', 'isnt', 'keep', 'anymor', 'wont', 'stay', 'charg', 'though', 'cant', 'realli', 'complain', 'phone', 'earpiec', 'doubl', 'extern', 'speaker', 'want', 'play', 'song', 'loud', 'wasnt', 'best', 'doabl', 'year', 'cant', 'realli', 'complain', 'gave', 'teenag', 'replac', 'wait', 'upgrad', 'time', 'phone', 'use', 'crap', 'batteri', 'final', 'isnt', 'keep', 'anymor', 'wont', 'stay', 'charg', 'though', 'cant', 'realli', 'complain', 'phone', 'earpiec', 'doubl', 'extern', 'speaker', 'want', 'play', 'song', 'loud', 'wasnt', 'best', 'doabl', 'year', 'cant', 'realli', 'complain', 'gave', 'teenag', 'replac', 'wait', 'upgrad', 'time', 'phone', 'use', 'crap', 'batteri', 'final', 'isnt', 'keep', 'anymor', 'wont', 'stay', 'charg', 'though', 'cant', 'realli', 'complain', 'phone', 'earpiec', 'doubl', 'extern', 'speaker', 'want', 'play', 'song', 'loud', 'wasnt', 'best', 'doabl', 'year', 'cant', 'realli', 'complain', 'gave', 'teenag', 'replac', 'wait', 'upgrad', 'time', 'phone', 'use', 'crap', 'batteri', 'final', 'isnt', 'keep', 'anymor', 'wont', 'stay', 'charg', 'though', 'cant', 'realli', 'complain', 'phone', 'earpiec', 'doubl', 'extern', 'speaker', 'want', 'play', 'song', 'loud', 'wasnt', 'best', 'doabl', 'year', 'cant', 'realli', 'complain', 'gave', 'teenag', 'replac', 'wait', 'upgrad', 'time', 'phone', 'use', 'crap', 'batteri', 'final', 'isnt', 'keep', 'anymor', 'wont', 'stay', 'charg', 'though', 'cant', 'realli', 'complain', 'phone', 'earpiec', 'doubl', 'extern', 'speaker', 'want', 'play', 'song', 'loud', 'wasnt', 'best', 'doabl', 'year', 'cant', 'realli', 'complain', 'gave', 'teenag', 'replac', 'wait', 'upgrad', 'time', 'phone', 'use', 'crap', 'batteri', 'final', 'isnt', 'keep', 'anymor', 'wont', 'stay', 'charg', 'though', 'cant', 'realli', 'complain', 'phone', 'earpiec', 'doubl', 'extern', 'speaker', 'want', 'play', 'song', 'loud', 'wasnt', 'best', 'doabl', 'year', 'cant', 'realli', 'complain', 'gave', 'teenag', 'replac', 'wait', 'upgrad', 'time', 'phone', 'use', 'crap', 'batteri', 'final', 'isnt', 'keep', 'anymor', 'wont', 'stay', 'charg', 'though', 'cant', 'realli', 'complain', 'phone', 'earpiec', 'doubl', 'extern', 'speaker', 'want', 'play', 'song', 'loud', 'wasnt', 'best', 'doabl', 'year', 'cant', 'realli', 'complain', 'gave', 'teenag', 'replac', 'wait', 'upgrad', 'time', 'phone', 'use', 'crap', 'batteri', 'final', 'isnt', 'keep', 'anymor', 'wont', 'stay', 'charg', 'though', 'cant', 'realli', 'complain', 'phone', 'earpiec', 'doubl', 'extern', 'speaker', 'want', 'play', 'song', 'loud', 'wasnt', 'best', 'doabl', 'year', 'cant', 'realli', 'complain', 'gave', 'teenag', 'replac', 'wait', 'upgrad', 'time', 'phone', 'use', 'crap', 'batteri', 'final', 'isnt', 'keep', 'anymor', 'wont', 'stay', 'charg', 'though', 'cant', 'realli', 'complain', 'phone', 'earpiec', 'doubl', 'extern', 'speaker', 'want', 'play', 'song', 'loud', 'wasnt', 'best', 'doabl', 'year', 'cant', 'realli', 'complain', 'gave', 'teenag', 'replac', 'wait', 'upgrad', 'time', 'phone', 'use', 'crap', 'batteri', 'final', 'isnt', 'keep', 'anymor', 'wont', 'stay', 'charg', 'though', 'cant', 'realli', 'complain', 'phone', 'earpiec', 'doubl', 'extern', 'speaker', 'want', 'play', 'song', 'loud', 'wasnt', 'best', 'doabl', 'year', 'cant', 'realli', 'complain', 'gave', 'teenag', 'replac', 'wait', 'upgrad', 'time', 'phone', 'use', 'crap', 'batteri', 'final', 'isnt', 'keep', 'anymor', 'wont', 'stay', 'charg', 'though', 'cant', 'realli', 'complain', 'phone', 'earpiec', 'doubl', 'extern', 'speaker', 'want', 'play', 'song', 'loud', 'wasnt', 'best', 'doabl', 'year', 'cant', 'realli', 'complain', 'gave', 'teenag', 'replac', 'wait', 'upgrad', 'time', 'phone', 'use', 'crap', 'batteri', 'final', 'isnt', 'keep', 'anymor', 'wont', 'stay', 'charg', 'though', 'cant', 'realli', 'complain', 'phone', 'earpiec', 'doubl', 'extern', 'speaker', 'want', 'play', 'song', 'loud', 'wasnt', 'best', 'doabl', 'year', 'cant', 'realli', 'complain', 'gave', 'teenag', 'replac', 'wait', 'upgrad', 'time', 'phone', 'use', 'crap', 'batteri', 'final', 'isnt', 'keep', 'anymor', 'wont', 'stay', 'charg', 'though', 'cant', 'realli', 'complain', 'phone', 'earpiec', 'doubl', 'extern', 'speaker', 'want', 'play', 'song', 'loud', 'wasnt', 'best', 'doabl', 'year', 'cant', 'realli', 'complain', 'gave', 'teenag', 'replac', 'wait', 'upgrad', 'time', 'phone', 'use', 'crap', 'batteri', 'final', 'isnt', 'keep', 'anymor', 'wont', 'stay', 'charg', 'though', 'cant', 'realli', 'complain', 'phone', 'earpiec', 'doubl', 'extern', 'speaker', 'want', 'play', 'song', 'loud', 'wasnt', 'best', 'doabl', 'year', 'cant', 'realli', 'complain', 'gave', 'teenag', 'replac', 'wait', 'upgrad', 'time', 'phone', 'use', 'crap', 'batteri', 'final', 'isnt', 'keep', 'anymor', 'wont', 'stay', 'charg', 'though', 'cant', 'realli', 'complain', 'phone', 'earpiec', 'doubl', 'extern', 'speaker', 'want', 'play', 'song', 'loud', 'wasnt', 'best', 'doabl', 'year', 'cant', 'realli', 'complain', 'gave', 'teenag', 'replac', 'wait', 'upgrad', 'time', 'phone', 'use', 'crap', 'batteri', 'final', 'isnt', 'keep', 'anymor', 'wont', 'stay', 'charg', 'though', 'cant', 'realli', 'complain', 'phone', 'earpiec', 'doubl', 'extern', 'speaker', 'want', 'play', 'song', 'loud', 'wasnt', 'best', 'doabl', 'year', 'cant', 'realli', 'complain', 'gave', 'teenag', 'replac', 'wait', 'upgrad', 'time', 'phone', 'use', 'crap', 'batteri', 'final', 'isnt', 'keep', 'anymor', 'wont', 'stay', 'charg', 'though', 'cant', 'realli', 'complain', 'phone', 'earpiec', 'doubl', 'extern', 'speaker', 'want', 'play', 'song', 'loud', 'wasnt', 'best', 'doabl', 'year', 'cant', 'realli', 'complain', 'gave', 'teenag', 'replac', 'wait', 'upgrad', 'time', 'phone', 'use', 'crap', 'batteri', 'final', 'isnt', 'keep', 'anymor', 'wont', 'stay', 'charg', 'though', 'cant', 'realli', 'complain', 'phone', 'earpiec', 'doubl', 'extern', 'speaker', 'want', 'play', 'song', 'loud', 'wasnt', 'best', 'doabl', 'year', 'cant', 'realli', 'complain', 'gave', 'teenag', 'replac', 'wait', 'upgrad', 'time', 'phone', 'use', 'crap', 'batteri', 'final', 'isnt', 'keep', 'anymor', 'wont', 'stay', 'charg', 'though', 'cant', 'realli', 'complain', 'phone', 'earpiec', 'doubl', 'extern', 'speaker', 'want', 'play', 'song', 'loud', 'wasnt', 'best', 'doabl', 'year', 'cant', 'realli', 'complain', 'gave', 'teenag', 'replac', 'wait', 'upgrad', 'time', 'phone', 'use', 'crap', 'batteri', 'final', 'isnt', 'keep', 'anymor', 'wont', 'stay', 'charg', 'though', 'cant', 'realli', 'complain', 'phone', 'earpiec', 'doubl', 'extern', 'speaker', 'want', 'play', 'song', 'loud', 'wasnt', 'best', 'doabl', 'year', 'cant', 'realli', 'complain', 'gave', 'teenag', 'replac', 'wait', 'upgrad', 'time', 'phone', 'use', 'crap', 'batteri', 'final', 'isnt', 'keep', 'anymor', 'wont', 'stay', 'charg', 'though', 'cant', 'realli', 'complain', 'phone', 'earpiec', 'doubl', 'extern', 'speaker', 'want', 'play', 'song', 'loud', 'wasnt', 'best', 'doabl', 'year', 'cant', 'realli', 'complain', 'gave', 'teenag', 'replac', 'wait', 'upgrad', 'time', 'phone', 'use', 'crap', 'batteri', 'final', 'isnt', 'keep', 'anymor', 'wont', 'stay', 'charg', 'though', 'cant', 'realli', 'complain', 'phone', 'earpiec', 'doubl', 'extern', 'speaker', 'want', 'play', 'song', 'loud', 'wasnt', 'best', 'doabl', 'year', 'cant', 'realli', 'complain', 'gave', 'teenag', 'replac', 'wait', 'upgrad', 'time', 'phone', 'use', 'crap', 'batteri', 'final', 'isnt', 'keep', 'anymor', 'wont', 'stay', 'charg', 'though', 'cant', 'realli', 'complain', 'phone', 'earpiec', 'doubl', 'extern', 'speaker', 'want', 'play', 'song', 'loud', 'wasnt', 'best', 'doabl', 'year', 'cant', 'realli', 'complain', 'gave', 'teenag', 'replac', 'wait', 'upgrad', 'time', 'phone', 'use', 'crap', 'batteri', 'final', 'isnt', 'keep', 'anymor', 'wont', 'stay', 'charg', 'though', 'cant', 'realli', 'complain', 'phone', 'earpiec', 'doubl', 'extern', 'speaker', 'want', 'play', 'song', 'loud', 'wasnt', 'best', 'doabl', 'year', 'cant', 'realli', 'complain', 'gave', 'teenag', 'replac', 'wait', 'upgrad', 'time', 'phone', 'use', 'crap', 'batteri', 'final', 'isnt', 'keep', 'anymor', 'wont', 'stay', 'charg', 'though', 'cant', 'realli', 'complain', 'phone', 'earpiec', 'doubl', 'extern', 'speaker', 'want', 'play', 'song', 'loud', 'wasnt', 'best', 'doabl', 'year', 'cant', 'realli', 'complain', 'gave', 'teenag', 'replac', 'wait', 'upgrad', 'time', 'phone', 'use', 'crap', 'batteri', 'final', 'isnt', 'keep', 'anymor', 'wont', 'stay', 'charg', 'though', 'cant', 'realli', 'complain', 'phone', 'earpiec', 'doubl', 'extern', 'speaker', 'want', 'play', 'song', 'loud', 'wasnt', 'best', 'doabl', 'year', 'cant', 'realli', 'complain', 'gave', 'teenag', 'replac', 'wait', 'upgrad', 'time', 'phone', 'use', 'crap', 'batteri', 'final', 'isnt', 'keep', 'anymor', 'wont', 'stay', 'charg', 'though', 'cant', 'realli', 'complain', 'phone', 'earpiec', 'doubl', 'extern', 'speaker', 'want', 'play', 'song', 'loud', 'wasnt', 'best', 'doabl', 'year', 'cant', 'realli', 'complain', 'gave', 'teenag', 'replac', 'wait', 'upgrad', 'time', 'phone', 'use', 'crap', 'batteri', 'final', 'isnt', 'keep', 'anymor', 'wont', 'stay', 'charg', 'though', 'cant', 'realli', 'complain', 'phone', 'earpiec', 'doubl', 'extern', 'speaker', 'want', 'play', 'song', 'loud', 'wasnt', 'best', 'doabl', 'year', 'cant', 'realli', 'complain', 'gave', 'teenag', 'replac', 'wait', 'upgrad', 'time', 'phone', 'use', 'crap', 'batteri', 'final', 'isnt', 'keep', 'anymor', 'wont', 'stay', 'charg', 'though', 'cant', 'realli', 'complain', 'phone', 'earpiec', 'doubl', 'extern', 'speaker', 'want', 'play', 'song', 'loud', 'wasnt', 'best', 'doabl', 'year', 'cant', 'realli', 'complain', 'gave', 'teenag', 'replac', 'wait', 'upgrad', 'time', 'phone', 'use', 'crap', 'batteri', 'final', 'isnt', 'keep', 'anymor', 'wont', 'stay', 'charg', 'though', 'cant', 'realli', 'complain', 'phone', 'earpiec', 'doubl', 'extern', 'speaker', 'want', 'play', 'song', 'loud', 'wasnt', 'best', 'doabl', 'year', 'cant', 'realli', 'complain', 'gave', 'teenag', 'replac', 'wait', 'upgrad', 'time', 'phone', 'use', 'crap', 'batteri', 'final', 'isnt', 'keep', 'anymor', 'wont', 'stay', 'charg', 'though', 'cant', 'realli', 'complain', 'phone', 'earpiec', 'doubl', 'extern', 'speaker', 'want', 'play', 'song', 'loud', 'wasnt', 'best', 'doabl', 'year', 'cant', 'realli', 'complain', 'gave', 'teenag', 'replac', 'wait', 'upgrad', 'time', 'phone', 'use', 'crap', 'batteri', 'final', 'isnt', 'keep', 'anymor', 'wont', 'stay', 'charg', 'though', 'cant', 'realli', 'complain', 'phone', 'earpiec', 'doubl', 'extern', 'speaker', 'want', 'play', 'song', 'loud', 'wasnt', 'best', 'doabl', 'year', 'cant', 'realli', 'complain', 'gave', 'teenag', 'replac', 'wait', 'upgrad', 'time', 'phone', 'use', 'crap', 'batteri', 'final', 'isnt', 'keep', 'anymor', 'wont', 'stay', 'charg', 'though', 'cant', 'realli', 'complain', 'phone', 'earpiec', 'doubl', 'extern', 'speaker', 'want', 'play', 'song', 'loud', 'wasnt', 'best', 'doabl', 'year', 'cant', 'realli', 'complain', 'gave', 'teenag', 'replac', 'wait', 'upgrad', 'time', 'phone', 'use', 'crap', 'batteri', 'final', 'isnt', 'keep', 'anymor', 'wont', 'stay', 'charg', 'though', 'cant', 'realli', 'complain', 'phone', 'earpiec', 'doubl', 'extern', 'speaker', 'want', 'play', 'song', 'loud', 'wasnt', 'best', 'doabl', 'year', 'cant', 'realli', 'complain', 'gave', 'teenag', 'replac', 'wait', 'upgrad', 'time', 'phone', 'use', 'crap', 'batteri', 'final', 'isnt', 'keep', 'anymor', 'wont', 'stay', 'charg', 'though', 'cant', 'realli', 'complain', 'phone', 'earpiec', 'doubl', 'extern', 'speaker', 'want', 'play', 'song', 'loud', 'wasnt', 'best', 'doabl', 'year', 'cant', 'realli', 'complain', 'gave', 'teenag', 'replac', 'wait', 'upgrad', 'time', 'phone', 'use', 'crap', 'batteri', 'final', 'isnt', 'keep', 'anymor', 'wont', 'stay', 'charg', 'though', 'cant', 'realli', 'complain', 'phone', 'earpiec', 'doubl', 'extern', 'speaker', 'want', 'play', 'song', 'loud', 'wasnt', 'best', 'doabl', 'year', 'cant', 'realli', 'complain', 'gave', 'teenag', 'replac', 'wait', 'upgrad', 'time', 'phone', 'use', 'crap', 'batteri', 'final', 'isnt', 'keep', 'anymor', 'wont', 'stay', 'charg', 'though', 'cant', 'realli', 'complain', 'phone', 'earpiec', 'doubl', 'extern', 'speaker', 'want', 'play', 'song', 'loud', 'wasnt', 'best', 'doabl', 'year', 'cant', 'realli', 'complain', 'gave', 'teenag', 'replac', 'wait', 'upgrad', 'time', 'phone', 'use', 'crap', 'batteri', 'final', 'isnt', 'keep', 'anymor', 'wont', 'stay', 'charg', 'though', 'cant', 'realli', 'complain', 'phone', 'earpiec', 'doubl', 'extern', 'speaker', 'want', 'play', 'song', 'loud', 'wasnt', 'best', 'doabl', 'year', 'cant', 'realli', 'complain', 'gave', 'teenag', 'replac', 'wait', 'upgrad', 'time', 'phone', 'use', 'crap', 'batteri', 'final', 'isnt', 'keep', 'anymor', 'wont', 'stay', 'charg', 'though', 'cant', 'realli', 'complain', 'phone', 'earpiec', 'doubl', 'extern', 'speaker', 'want', 'play', 'song', 'loud', 'wasnt', 'best', 'doabl', 'year', 'cant', 'realli', 'complain', 'gave', 'teenag', 'replac', 'wait', 'upgrad', 'time', 'phone', 'use', 'crap', 'batteri', 'final', 'isnt', 'keep', 'anymor', 'wont', 'stay', 'charg', 'though', 'cant', 'realli', 'complain', 'phone', 'earpiec', 'doubl', 'extern', 'speaker', 'want', 'play', 'song', 'loud', 'wasnt', 'best', 'doabl', 'year', 'cant', 'realli', 'complain', 'gave', 'teenag', 'replac', 'wait', 'upgrad', 'time', 'phone', 'use', 'crap', 'batteri', 'final', 'isnt', 'keep', 'anymor', 'wont', 'stay', 'charg', 'though', 'cant', 'realli', 'complain', 'phone', 'earpiec', 'doubl', 'extern', 'speaker', 'want', 'play', 'song', 'loud', 'wasnt', 'best', 'doabl', 'year', 'cant', 'realli', 'complain', 'gave', 'teenag', 'replac', 'wait', 'upgrad', 'time', 'phone', 'use', 'crap', 'batteri', 'final', 'isnt', 'keep', 'anymor', 'wont', 'stay', 'charg', 'though', 'cant', 'realli', 'complain', 'phone', 'earpiec', 'doubl', 'extern', 'speaker', 'want', 'play', 'song', 'loud', 'wasnt', 'best', 'doabl', 'year', 'cant', 'realli', 'complain', 'gave', 'teenag', 'replac', 'wait', 'upgrad', 'time', 'phone', 'use', 'crap', 'batteri', 'final', 'isnt', 'keep', 'anymor', 'wont', 'stay', 'charg', 'though', 'cant', 'realli', 'complain', 'phone', 'earpiec', 'doubl', 'extern', 'speaker', 'want', 'play', 'song', 'loud', 'wasnt', 'best', 'doabl', 'year', 'cant', 'realli', 'complain', 'gave', 'teenag', 'replac', 'wait', 'upgrad', 'time', 'phone', 'use', 'crap', 'batteri', 'final', 'isnt', 'keep', 'anymor', 'wont', 'stay', 'charg', 'though', 'cant', 'realli', 'complain', 'phone', 'earpiec', 'doubl', 'extern', 'speaker', 'want', 'play', 'song', 'loud', 'wasnt', 'best', 'doabl', 'year', 'cant', 'realli', 'complain', 'gave', 'teenag', 'replac', 'wait', 'upgrad', 'time', 'phone', 'use', 'crap', 'batteri', 'final', 'isnt', 'keep', 'anymor', 'wont', 'stay', 'charg', 'though', 'cant', 'realli', 'complain', 'phone', 'earpiec', 'doubl', 'extern', 'speaker', 'want', 'play', 'song', 'loud', 'wasnt', 'best', 'doabl', 'year', 'cant', 'realli', 'complain', 'gave', 'teenag', 'replac', 'wait', 'upgrad', 'time', 'phone', 'use', 'crap', 'batteri', 'final', 'isnt', 'keep', 'anymor', 'wont', 'stay', 'charg', 'though', 'cant', 'realli', 'complain', 'phone', 'earpiec', 'doubl', 'extern', 'speaker', 'want', 'play', 'song', 'loud', 'wasnt', 'best', 'doabl', 'year', 'cant', 'realli', 'complain', 'gave', 'teenag', 'replac', 'wait', 'upgrad', 'time', 'phone', 'use', 'crap', 'batteri', 'final', 'isnt', 'keep', 'anymor', 'wont', 'stay', 'charg', 'though', 'cant', 'realli', 'complain', 'phone', 'earpiec', 'doubl', 'extern', 'speaker', 'want', 'play', 'song', 'loud', 'wasnt', 'best', 'doabl', 'year', 'cant', 'realli', 'complain', 'gave', 'teenag', 'replac', 'wait', 'upgrad', 'time', 'phone', 'use', 'crap', 'batteri', 'final', 'isnt', 'keep', 'anymor', 'wont', 'stay', 'charg', 'though', 'cant', 'realli', 'complain', 'phone', 'earpiec', 'doubl', 'extern', 'speaker', 'want', 'play', 'song', 'loud', 'wasnt', 'best', 'doabl', 'year', 'cant', 'realli', 'complain', 'gave', 'teenag', 'replac', 'wait', 'upgrad', 'time', 'phone', 'use', 'crap', 'batteri', 'final', 'isnt', 'keep', 'anymor', 'wont', 'stay', 'charg', 'though', 'cant', 'realli', 'complain', 'phone', 'earpiec', 'doubl', 'extern', 'speaker', 'want', 'play', 'song', 'loud', 'wasnt', 'best', 'doabl', 'year', 'cant', 'realli', 'complain', 'gave', 'teenag', 'replac', 'wait', 'upgrad', 'time', 'phone', 'use', 'crap', 'batteri', 'final', 'isnt', 'keep', 'anymor', 'wont', 'stay', 'charg', 'though', 'cant', 'realli', 'complain', 'phone', 'earpiec', 'doubl', 'extern', 'speaker', 'want', 'play', 'song', 'loud', 'wasnt', 'best', 'doabl', 'year', 'cant', 'realli', 'complain', 'gave', 'teenag', 'replac', 'wait', 'upgrad', 'time', 'phone', 'use', 'crap', 'batteri', 'final', 'isnt', 'keep', 'anymor', 'wont', 'stay', 'charg', 'though', 'cant', 'realli', 'complain', 'phone', 'earpiec', 'doubl', 'extern', 'speaker', 'want', 'play', 'song', 'loud', 'wasnt', 'best', 'doabl', 'year', 'cant', 'realli', 'complain', 'gave', 'teenag', 'replac', 'wait', 'upgrad', 'time', 'phone', 'use', 'crap', 'batteri', 'final', 'isnt', 'keep', 'anymor', 'wont', 'stay', 'charg', 'though', 'cant', 'realli', 'complain', 'phone', 'earpiec', 'doubl', 'extern', 'speaker', 'want', 'play', 'song', 'loud', 'wasnt', 'best', 'doabl', 'year', 'cant', 'realli', 'complain', 'gave', 'teenag', 'replac', 'wait', 'upgrad', 'time', 'phone', 'use', 'crap', 'batteri', 'final', 'isnt', 'keep', 'anymor', 'wont', 'stay', 'charg', 'though', 'cant', 'realli', 'complain', 'phone', 'earpiec', 'doubl', 'extern', 'speaker', 'want', 'play', 'song', 'loud', 'wasnt', 'best', 'doabl', 'year', 'cant', 'realli', 'complain', 'gave', 'teenag', 'replac', 'wait', 'upgrad', 'time', 'phone', 'use', 'crap', 'batteri', 'final', 'isnt', 'keep', 'anymor', 'wont', 'stay', 'charg', 'though', 'cant', 'realli', 'complain', 'phone', 'earpiec', 'doubl', 'extern', 'speaker', 'want', 'play', 'song', 'loud', 'wasnt', 'best', 'doabl', 'year', 'cant', 'realli', 'complain', 'gave', 'teenag', 'replac', 'wait', 'upgrad', 'time', 'phone', 'use', 'crap', 'batteri', 'final', 'isnt', 'keep', 'anymor', 'wont', 'stay', 'charg', 'though', 'cant', 'realli', 'complain', 'phone', 'earpiec', 'doubl', 'extern', 'speaker', 'want', 'play', 'song', 'loud', 'wasnt', 'best', 'doabl', 'year', 'cant', 'realli', 'complain', 'gave', 'teenag', 'replac', 'wait', 'upgrad', 'time', 'phone', 'use', 'crap', 'batteri', 'final', 'isnt', 'keep', 'anymor', 'wont', 'stay', 'charg', 'though', 'cant', 'realli', 'complain', 'phone', 'earpiec', 'doubl', 'extern', 'speaker', 'want', 'play', 'song', 'loud', 'wasnt', 'best', 'doabl', 'year', 'cant', 'realli', 'complain', 'gave', 'teenag', 'replac', 'wait', 'upgrad', 'time', 'phone', 'use', 'crap', 'batteri', 'final', 'isnt', 'keep', 'anymor', 'wont', 'stay', 'charg', 'though', 'cant', 'realli', 'complain', 'phone', 'earpiec', 'doubl', 'extern', 'speaker', 'want', 'play', 'song', 'loud', 'wasnt', 'best', 'doabl', 'year', 'cant', 'realli', 'complain', 'gave', 'teenag', 'replac', 'wait', 'upgrad', 'time', 'phone', 'use', 'crap', 'batteri', 'final', 'isnt', 'keep', 'anymor', 'wont', 'stay', 'charg', 'though', 'cant', 'realli', 'complain', 'phone', 'earpiec', 'doubl', 'extern', 'speaker', 'want', 'play', 'song', 'loud', 'wasnt', 'best', 'doabl', 'year', 'cant', 'realli', 'complain', 'gave', 'teenag', 'replac', 'wait', 'upgrad', 'time', 'phone', 'use', 'crap', 'batteri', 'final', 'isnt', 'keep', 'anymor', 'wont', 'stay', 'charg', 'though', 'cant', 'realli', 'complain', 'phone', 'earpiec', 'doubl', 'extern', 'speaker', 'want', 'play', 'song', 'loud', 'wasnt', 'best', 'doabl', 'year', 'cant', 'realli', 'complain', 'gave', 'teenag', 'replac', 'wait', 'upgrad', 'time', 'phone', 'use', 'crap', 'batteri', 'final', 'isnt', 'keep', 'anymor', 'wont', 'stay', 'charg', 'though', 'cant', 'realli', 'complain', 'phone', 'earpiec', 'doubl', 'extern', 'speaker', 'want', 'play', 'song', 'loud', 'wasnt', 'best', 'doabl', 'year', 'cant', 'realli', 'complain', 'gave', 'teenag', 'replac', 'wait', 'upgrad', 'time', 'phone', 'use', 'crap', 'batteri', 'final', 'isnt', 'keep', 'anymor', 'wont', 'stay', 'charg', 'though', 'cant', 'realli', 'complain', 'phone', 'earpiec', 'doubl', 'extern', 'speaker', 'want', 'play', 'song', 'loud', 'wasnt', 'best', 'doabl', 'year', 'cant', 'realli', 'complain', 'gave', 'teenag', 'replac', 'wait', 'upgrad', 'time', 'phone', 'use', 'crap', 'batteri', 'final', 'isnt', 'keep', 'anymor', 'wont', 'stay', 'charg', 'though', 'cant', 'realli', 'complain', 'phone', 'earpiec', 'doubl', 'extern', 'speaker', 'want', 'play', 'song', 'loud', 'wasnt', 'best', 'doabl', 'year', 'cant', 'realli', 'complain', 'gave', 'teenag', 'replac', 'wait', 'upgrad', 'time', 'phone', 'use', 'crap', 'batteri', 'final', 'isnt', 'keep', 'anymor', 'wont', 'stay', 'charg', 'though', 'cant', 'realli', 'complain', 'phone', 'earpiec', 'doubl', 'extern', 'speaker', 'want', 'play', 'song', 'loud', 'wasnt', 'best', 'doabl', 'year', 'cant', 'realli', 'complain', 'gave', 'teenag', 'replac', 'wait', 'upgrad', 'time', 'phone', 'use', 'crap', 'batteri', 'final', 'isnt', 'keep', 'anymor', 'wont', 'stay', 'charg', 'though', 'cant', 'realli', 'complain', 'phone', 'earpiec', 'doubl', 'extern', 'speaker', 'want', 'play', 'song', 'loud', 'wasnt', 'best', 'doabl', 'year', 'cant', 'realli', 'complain', 'gave', 'teenag', 'replac', 'wait', 'upgrad', 'time', 'phone', 'use', 'crap', 'batteri', 'final', 'isnt', 'keep', 'anymor', 'wont', 'stay', 'charg', 'though', 'cant', 'realli', 'complain', 'phone', 'earpiec', 'doubl', 'extern', 'speaker', 'want', 'play', 'song', 'loud', 'wasnt', 'best', 'doabl', 'year', 'cant', 'realli', 'complain', 'gave', 'teenag', 'replac', 'wait', 'upgrad', 'time', 'phone', 'use', 'crap', 'batteri', 'final', 'isnt', 'keep', 'anymor', 'wont', 'stay', 'charg', 'though', 'cant', 'realli', 'complain', 'phone', 'earpiec', 'doubl', 'extern', 'speaker', 'want', 'play', 'song', 'loud', 'wasnt', 'best', 'doabl', 'year', 'cant', 'realli', 'complain', 'gave', 'teenag', 'replac', 'wait', 'upgrad', 'time', 'phone', 'use', 'crap', 'batteri', 'final', 'isnt', 'keep', 'anymor', 'wont', 'stay', 'charg', 'though', 'cant', 'realli', 'complain', 'phone', 'earpiec', 'doubl', 'extern', 'speaker', 'want', 'play', 'song', 'loud', 'wasnt', 'best', 'doabl', 'year', 'cant', 'realli', 'complain', 'gave', 'teenag', 'replac', 'wait', 'upgrad', 'time', 'phone', 'use', 'crap', 'batteri', 'final', 'isnt', 'keep', 'anymor', 'wont', 'stay', 'charg', 'though', 'cant', 'realli', 'complain', 'phone', 'earpiec', 'doubl', 'extern', 'speaker', 'want', 'play', 'song', 'loud', 'wasnt', 'best', 'doabl', 'year', 'cant', 'realli', 'complain', 'gave', 'teenag', 'replac', 'wait', 'upgrad', 'time', 'phone', 'use', 'crap', 'batteri', 'final', 'isnt', 'keep', 'anymor', 'wont', 'stay', 'charg', 'though', 'cant', 'realli', 'complain', 'phone', 'earpiec', 'doubl', 'extern', 'speaker', 'want', 'play', 'song', 'loud', 'wasnt', 'best', 'doabl', 'year', 'cant', 'realli', 'complain', 'gave', 'teenag', 'replac', 'wait', 'upgrad', 'time', 'phone', 'use', 'crap', 'batteri', 'final', 'isnt', 'keep', 'anymor', 'wont', 'stay', 'charg', 'though', 'cant', 'realli', 'complain', 'phone', 'earpiec', 'doubl', 'extern', 'speaker', 'want', 'play', 'song', 'loud', 'wasnt', 'best', 'doabl', 'year', 'cant', 'realli', 'complain', 'gave', 'teenag', 'replac', 'wait', 'upgrad', 'time', 'phone', 'use', 'crap', 'batteri', 'final', 'isnt', 'keep', 'anymor', 'wont', 'stay', 'charg', 'though', 'cant', 'realli', 'complain', 'phone', 'earpiec', 'doubl', 'extern', 'speaker', 'want', 'play', 'song', 'loud', 'wasnt', 'best', 'doabl', 'year', 'cant', 'realli', 'complain', 'gave', 'teenag', 'replac', 'wait', 'upgrad', 'time', 'phone', 'use', 'crap', 'batteri', 'final', 'isnt', 'keep', 'anymor', 'wont', 'stay', 'charg', 'though', 'cant', 'realli', 'complain', 'phone', 'earpiec', 'doubl', 'extern', 'speaker', 'want', 'play', 'song', 'loud', 'wasnt', 'best', 'doabl', 'year', 'cant', 'realli', 'complain', 'gave', 'teenag', 'replac', 'wait', 'upgrad', 'time', 'phone', 'use', 'crap', 'batteri', 'final', 'isnt', 'keep', 'anymor', 'wont', 'stay', 'charg', 'though', 'cant', 'realli', 'complain', 'phone', 'earpiec', 'doubl', 'extern', 'speaker', 'want', 'play', 'song', 'loud', 'wasnt', 'best', 'doabl', 'year', 'cant', 'realli', 'complain', 'gave', 'teenag', 'replac', 'wait', 'upgrad', 'time', 'phone', 'use', 'crap', 'batteri', 'final', 'isnt', 'keep', 'anymor', 'wont', 'stay', 'charg', 'though', 'cant', 'realli', 'complain', 'phone', 'earpiec', 'doubl', 'extern', 'speaker', 'want', 'play', 'song', 'loud', 'wasnt', 'best', 'doabl', 'year', 'cant', 'realli', 'complain', 'gave', 'teenag', 'replac', 'wait', 'upgrad', 'time', 'phone', 'use', 'crap', 'batteri', 'final', 'isnt', 'keep', 'anymor', 'wont', 'stay', 'charg', 'though', 'cant', 'realli', 'complain', 'phone', 'earpiec', 'doubl', 'extern', 'speaker', 'want', 'play', 'song', 'loud', 'wasnt', 'best', 'doabl', 'year', 'cant', 'realli', 'complain', 'gave', 'teenag', 'replac', 'wait', 'upgrad', 'time', 'phone', 'use', 'crap', 'batteri', 'final', 'isnt', 'keep', 'anymor', 'wont', 'stay', 'charg', 'though', 'cant', 'realli', 'complain', 'phone', 'earpiec', 'doubl', 'extern', 'speaker', 'want', 'play', 'song', 'loud', 'wasnt', 'best', 'doabl', 'year', 'cant', 'realli', 'complain', 'gave', 'teenag', 'replac', 'wait', 'upgrad', 'time', 'phone', 'use', 'crap', 'batteri', 'final', 'isnt', 'keep', 'anymor', 'wont', 'stay', 'charg', 'though', 'cant', 'realli', 'complain', 'phone', 'earpiec', 'doubl', 'extern', 'speaker', 'want', 'play', 'song', 'loud', 'wasnt', 'best', 'doabl', 'year', 'cant', 'realli', 'complain', 'gave', 'teenag', 'replac', 'wait', 'upgrad', 'time', 'phone', 'use', 'crap', 'batteri', 'final', 'isnt', 'keep', 'anymor', 'wont', 'stay', 'charg', 'though', 'cant', 'realli', 'complain', 'phone', 'earpiec', 'doubl', 'extern', 'speaker', 'want', 'play', 'song', 'loud', 'wasnt', 'best', 'doabl', 'year', 'cant', 'realli', 'complain', 'gave', 'teenag', 'replac', 'wait', 'upgrad', 'time', 'phone', 'use', 'crap', 'batteri', 'final', 'isnt', 'keep', 'anymor', 'wont', 'stay', 'charg', 'though', 'cant', 'realli', 'complain', 'phone', 'earpiec', 'doubl', 'extern', 'speaker', 'want', 'play', 'song', 'loud', 'wasnt', 'best', 'doabl', 'year', 'cant', 'realli', 'complain', 'gave', 'teenag', 'replac', 'wait', 'upgrad', 'time', 'phone', 'use', 'crap', 'batteri', 'final', 'isnt', 'keep', 'anymor', 'wont', 'stay', 'charg', 'though', 'cant', 'realli', 'complain', 'phone', 'earpiec', 'doubl', 'extern', 'speaker', 'want', 'play', 'song', 'loud', 'wasnt', 'best', 'doabl', 'year', 'cant', 'realli', 'complain', 'gave', 'teenag', 'replac', 'wait', 'upgrad', 'time', 'phone', 'use', 'crap', 'batteri', 'final', 'isnt', 'keep', 'anymor', 'wont', 'stay', 'charg', 'though', 'cant', 'realli', 'complain', 'phone', 'earpiec', 'doubl', 'extern', 'speaker', 'want', 'play', 'song', 'loud', 'wasnt', 'best', 'doabl', 'year', 'cant', 'realli', 'complain', 'gave', 'teenag', 'replac', 'wait', 'upgrad', 'time', 'phone', 'use', 'crap', 'batteri', 'final', 'isnt', 'keep', 'anymor', 'wont', 'stay', 'charg', 'though', 'cant', 'realli', 'complain', 'phone', 'earpiec', 'doubl', 'extern', 'speaker', 'want', 'play', 'song', 'loud', 'wasnt', 'best', 'doabl', 'year', 'cant', 'realli', 'complain', 'gave', 'teenag', 'replac', 'wait', 'upgrad', 'time', 'phone', 'use', 'crap', 'batteri', 'final', 'isnt', 'keep', 'anymor', 'wont', 'stay', 'charg', 'though', 'cant', 'realli', 'complain', 'phone', 'earpiec', 'doubl', 'extern', 'speaker', 'want', 'play', 'song', 'loud', 'wasnt', 'best', 'doabl', 'year', 'cant', 'realli', 'complain', 'gave', 'teenag', 'replac', 'wait', 'upgrad', 'time', 'phone', 'use', 'crap', 'batteri', 'final', 'isnt', 'keep', 'anymor', 'wont', 'stay', 'charg', 'though', 'cant', 'realli', 'complain', 'phone', 'earpiec', 'doubl', 'extern', 'speaker', 'want', 'play', 'song', 'loud', 'wasnt', 'best', 'doabl', 'year', 'cant', 'realli', 'complain', 'gave', 'teenag', 'replac', 'wait', 'upgrad', 'time', 'phone', 'use', 'crap', 'batteri', 'final', 'isnt', 'keep', 'anymor', 'wont', 'stay', 'charg', 'though', 'cant', 'realli', 'complain', 'phone', 'earpiec', 'doubl', 'extern', 'speaker', 'want', 'play', 'song', 'loud', 'wasnt', 'best', 'doabl', 'year', 'cant', 'realli', 'complain', 'gave', 'teenag', 'replac', 'wait', 'upgrad', 'time', 'phone', 'use', 'crap', 'batteri', 'final', 'isnt', 'keep', 'anymor', 'wont', 'stay', 'charg', 'though', 'cant', 'realli', 'complain', 'phone', 'earpiec', 'doubl', 'extern', 'speaker', 'want', 'play', 'song', 'loud', 'wasnt', 'best', 'doabl', 'year', 'cant', 'realli', 'complain', 'gave', 'teenag', 'replac', 'wait', 'upgrad', 'time', 'phone', 'use', 'crap', 'batteri', 'final', 'isnt', 'keep', 'anymor', 'wont', 'stay', 'charg', 'though', 'cant', 'realli', 'complain', 'phone', 'earpiec', 'doubl', 'extern', 'speaker', 'want', 'play', 'song', 'loud', 'wasnt', 'best', 'doabl', 'year', 'cant', 'realli', 'complain', 'gave', 'teenag', 'replac', 'wait', 'upgrad', 'time', 'phone', 'use', 'crap', 'batteri', 'final', 'isnt', 'keep', 'anymor', 'wont', 'stay', 'charg', 'though', 'cant', 'realli', 'complain', 'phone', 'earpiec', 'doubl', 'extern', 'speaker', 'want', 'play', 'song', 'loud', 'wasnt', 'best', 'doabl', 'year', 'cant', 'realli', 'complain', 'gave', 'teenag', 'replac', 'wait', 'upgrad', 'time', 'phone', 'use', 'crap', 'batteri', 'final', 'isnt', 'keep', 'anymor', 'wont', 'stay', 'charg', 'though', 'cant', 'realli', 'complain', 'phone', 'earpiec', 'doubl', 'extern', 'speaker', 'want', 'play', 'song', 'loud', 'wasnt', 'best', 'doabl', 'year', 'cant', 'realli', 'complain', 'gave', 'teenag', 'replac', 'wait', 'upgrad', 'time', 'phone', 'use', 'crap', 'batteri', 'final', 'isnt', 'keep', 'anymor', 'wont', 'stay', 'charg', 'though', 'cant', 'realli', 'complain', 'phone', 'earpiec', 'doubl', 'extern', 'speaker', 'want', 'play', 'song', 'loud', 'wasnt', 'best', 'doabl', 'year', 'cant', 'realli', 'complain', 'gave', 'teenag', 'replac', 'wait', 'upgrad', 'time', 'phone', 'use', 'crap', 'batteri', 'final', 'isnt', 'keep', 'anymor', 'wont', 'stay', 'charg', 'though', 'cant', 'realli', 'complain', 'phone', 'earpiec', 'doubl', 'extern', 'speaker', 'want', 'play', 'song', 'loud', 'wasnt', 'best', 'doabl', 'year', 'cant', 'realli', 'complain', 'gave', 'teenag', 'replac', 'wait', 'upgrad', 'time', 'phone', 'use', 'crap', 'batteri', 'final', 'isnt', 'keep', 'anymor', 'wont', 'stay', 'charg', 'though', 'cant', 'realli', 'complain', 'phone', 'earpiec', 'doubl', 'extern', 'speaker', 'want', 'play', 'song', 'loud', 'wasnt', 'best', 'doabl', 'year', 'cant', 'realli', 'complain', 'gave', 'teenag', 'replac', 'wait', 'upgrad', 'time', 'phone', 'use', 'crap', 'batteri', 'final', 'isnt', 'keep', 'anymor', 'wont', 'stay', 'charg', 'though', 'cant', 'realli', 'complain', 'phone', 'earpiec', 'doubl', 'extern', 'speaker', 'want', 'play', 'song', 'loud', 'wasnt', 'best', 'doabl', 'year', 'cant', 'realli', 'complain', 'gave', 'teenag', 'replac', 'wait', 'upgrad', 'time', 'phone', 'use', 'crap', 'batteri', 'final', 'isnt', 'keep', 'anymor', 'wont', 'stay', 'charg', 'though', 'cant', 'realli', 'complain', 'phone', 'earpiec', 'doubl', 'extern', 'speaker', 'want', 'play', 'song', 'loud', 'wasnt', 'best', 'doabl', 'year', 'cant', 'realli', 'complain', 'gave', 'teenag', 'replac', 'wait', 'upgrad', 'time', 'phone', 'use', 'crap', 'batteri', 'final', 'isnt', 'keep', 'anymor', 'wont', 'stay', 'charg', 'though', 'cant', 'realli', 'complain', 'phone', 'earpiec', 'doubl', 'extern', 'speaker', 'want', 'play', 'song', 'loud', 'wasnt', 'best', 'doabl', 'year', 'cant', 'realli', 'complain', 'gave', 'teenag', 'replac', 'wait', 'upgrad', 'time', 'phone', 'use', 'crap', 'batteri', 'final', 'isnt', 'keep', 'anymor', 'wont', 'stay', 'charg', 'though', 'cant', 'realli', 'complain', 'phone', 'earpiec', 'doubl', 'extern', 'speaker', 'want', 'play', 'song', 'loud', 'wasnt', 'best', 'doabl', 'year', 'cant', 'realli', 'complain', 'gave', 'teenag', 'replac', 'wait', 'upgrad', 'time', 'phone', 'use', 'crap', 'batteri', 'final', 'isnt', 'keep', 'anymor', 'wont', 'stay', 'charg', 'though', 'cant', 'realli', 'complain', 'phone', 'earpiec', 'doubl', 'extern', 'speaker', 'want', 'play', 'song', 'loud', 'wasnt', 'best', 'doabl', 'year', 'cant', 'realli', 'complain', 'gave', 'teenag', 'replac', 'wait', 'upgrad', 'time', 'phone', 'use', 'crap', 'batteri', 'final', 'isnt', 'keep', 'anymor', 'wont', 'stay', 'charg', 'though', 'cant', 'realli', 'complain', 'phone', 'earpiec', 'doubl', 'extern', 'speaker', 'want', 'play', 'song', 'loud', 'wasnt', 'best', 'doabl', 'year', 'cant', 'realli', 'complain', 'gave', 'teenag', 'replac', 'wait', 'upgrad', 'time', 'phone', 'use', 'crap', 'batteri', 'final', 'isnt', 'keep', 'anymor', 'wont', 'stay', 'charg', 'though', 'cant', 'realli', 'complain', 'phone', 'earpiec', 'doubl', 'extern', 'speaker', 'want', 'play', 'song', 'loud', 'wasnt', 'best', 'doabl', 'year', 'cant', 'realli', 'complain', 'gave', 'teenag', 'replac', 'wait', 'upgrad', 'time', 'phone', 'use', 'crap', 'batteri', 'final', 'isnt', 'keep', 'anymor', 'wont', 'stay', 'charg', 'though', 'cant', 'realli', 'complain', 'phone', 'earpiec', 'doubl', 'extern', 'speaker', 'want', 'play', 'song', 'loud', 'wasnt', 'best', 'doabl', 'year', 'cant', 'realli', 'complain', 'gave', 'teenag', 'replac', 'wait', 'upgrad', 'time', 'phone', 'use', 'crap', 'batteri', 'final', 'isnt', 'keep', 'anymor', 'wont', 'stay', 'charg', 'though', 'cant', 'realli', 'complain', 'phone', 'earpiec', 'doubl', 'extern', 'speaker', 'want', 'play', 'song', 'loud', 'wasnt', 'best', 'doabl', 'year', 'cant', 'realli', 'complain', 'gave', 'teenag', 'replac', 'wait', 'upgrad', 'time', 'phone', 'use', 'crap', 'batteri', 'final', 'isnt', 'keep', 'anymor', 'wont', 'stay', 'charg', 'though', 'cant', 'realli', 'complain', 'phone', 'earpiec', 'doubl', 'extern', 'speaker', 'want', 'play', 'song', 'loud', 'wasnt', 'best', 'doabl', 'year', 'cant', 'realli', 'complain', 'gave', 'teenag', 'replac', 'wait', 'upgrad', 'time', 'phone', 'use', 'crap', 'batteri', 'final', 'isnt', 'keep', 'anymor', 'wont', 'stay', 'charg', 'though', 'cant', 'realli', 'complain', 'phone', 'earpiec', 'doubl', 'extern', 'speaker', 'want', 'play', 'song', 'loud', 'wasnt', 'best', 'doabl', 'year', 'cant', 'realli', 'complain', 'gave', 'teenag', 'replac', 'wait', 'upgrad', 'time', 'phone', 'use', 'crap', 'batteri', 'final', 'isnt', 'keep', 'anymor', 'wont', 'stay', 'charg', 'though', 'cant', 'realli', 'complain', 'phone', 'earpiec', 'doubl', 'extern', 'speaker', 'want', 'play', 'song', 'loud', 'wasnt', 'best', 'doabl', 'year', 'cant', 'realli', 'complain', 'gave', 'teenag', 'replac', 'wait', 'upgrad', 'time', 'phone', 'use', 'crap', 'batteri', 'final', 'isnt', 'keep', 'anymor', 'wont', 'stay', 'charg', 'though', 'cant', 'realli', 'complain', 'phone', 'earpiec', 'doubl', 'extern', 'speaker', 'want', 'play', 'song', 'loud', 'wasnt', 'best', 'doabl', 'year', 'cant', 'realli', 'complain', 'gave', 'teenag', 'replac', 'wait', 'upgrad', 'time', 'phone', 'use', 'crap', 'batteri', 'final', 'isnt', 'keep', 'anymor', 'wont', 'stay', 'charg', 'though', 'cant', 'realli', 'complain', 'phone', 'earpiec', 'doubl', 'extern', 'speaker', 'want', 'play', 'song', 'loud', 'wasnt', 'best', 'doabl', 'year', 'cant', 'realli', 'complain', 'gave', 'teenag', 'replac', 'wait', 'upgrad', 'time', 'phone', 'use', 'crap', 'batteri', 'final', 'isnt', 'keep', 'anymor', 'wont', 'stay', 'charg', 'though', 'cant', 'realli', 'complain', 'phone', 'earpiec', 'doubl', 'extern', 'speaker', 'want', 'play', 'song', 'loud', 'wasnt', 'best', 'doabl', 'year', 'cant', 'realli', 'complain', 'gave', 'teenag', 'replac', 'wait', 'upgrad', 'time', 'phone', 'use', 'crap', 'batteri', 'final', 'isnt', 'keep', 'anymor', 'wont', 'stay', 'charg', 'though', 'cant', 'realli', 'complain', 'phone', 'earpiec', 'doubl', 'extern', 'speaker', 'want', 'play', 'song', 'loud', 'wasnt', 'best', 'doabl', 'year', 'cant', 'realli', 'complain', 'gave', 'teenag', 'replac', 'wait', 'upgrad', 'time', 'phone', 'use', 'crap', 'batteri', 'final', 'isnt', 'keep', 'anymor', 'wont', 'stay', 'charg', 'though', 'cant', 'realli', 'complain', 'phone', 'earpiec', 'doubl', 'extern', 'speaker', 'want', 'play', 'song', 'loud', 'wasnt', 'best', 'doabl', 'year', 'cant', 'realli', 'complain', 'gave', 'teenag', 'replac', 'wait', 'upgrad', 'time', 'phone', 'use', 'crap', 'batteri', 'final', 'isnt', 'keep', 'anymor', 'wont', 'stay', 'charg', 'though', 'cant', 'realli', 'complain', 'phone', 'earpiec', 'doubl', 'extern', 'speaker', 'want', 'play', 'song', 'loud', 'wasnt', 'best', 'doabl', 'year', 'cant', 'realli', 'complain', 'gave', 'teenag', 'replac', 'wait', 'upgrad', 'time', 'phone', 'use', 'crap', 'batteri', 'final', 'isnt', 'keep', 'anymor', 'wont', 'stay', 'charg', 'though', 'cant', 'realli', 'complain', 'phone', 'earpiec', 'doubl', 'extern', 'speaker', 'want', 'play', 'song', 'loud', 'wasnt', 'best', 'doabl', 'year', 'cant', 'realli', 'complain', 'gave', 'teenag', 'replac', 'wait', 'upgrad', 'time', 'phone', 'use', 'crap', 'batteri', 'final', 'isnt', 'keep', 'anymor', 'wont', 'stay', 'charg', 'though', 'cant', 'realli', 'complain', 'phone', 'earpiec', 'doubl', 'extern', 'speaker', 'want', 'play', 'song', 'loud', 'wasnt', 'best', 'doabl', 'year', 'cant', 'realli', 'complain', 'gave', 'teenag', 'replac', 'wait', 'upgrad', 'time', 'phone', 'use', 'crap', 'batteri', 'final', 'isnt', 'keep', 'anymor', 'wont', 'stay', 'charg', 'though', 'cant', 'realli', 'complain', 'phone', 'earpiec', 'doubl', 'extern', 'speaker', 'want', 'play', 'song', 'loud', 'wasnt', 'best', 'doabl', 'year', 'cant', 'realli', 'complain', 'gave', 'teenag', 'replac', 'wait', 'upgrad', 'time', 'phone', 'use', 'crap', 'batteri', 'final', 'isnt', 'keep', 'anymor', 'wont', 'stay', 'charg', 'though', 'cant', 'realli', 'complain', 'phone', 'earpiec', 'doubl', 'extern', 'speaker', 'want', 'play', 'song', 'loud', 'wasnt', 'best', 'doabl', 'year', 'cant', 'realli', 'complain', 'gave', 'teenag', 'replac', 'wait', 'upgrad', 'time', 'phone', 'use', 'crap', 'batteri', 'final', 'isnt', 'keep', 'anymor', 'wont', 'stay', 'charg', 'though', 'cant', 'realli', 'complain', 'phone', 'earpiec', 'doubl', 'extern', 'speaker', 'want', 'play', 'song', 'loud', 'wasnt', 'best', 'doabl', 'year', 'cant', 'realli', 'complain', 'gave', 'teenag', 'replac', 'wait', 'upgrad', 'time', 'phone', 'use', 'crap', 'batteri', 'final', 'isnt', 'keep', 'anymor', 'wont', 'stay', 'charg', 'though', 'cant', 'realli', 'complain', 'phone', 'earpiec', 'doubl', 'extern', 'speaker', 'want', 'play', 'song', 'loud', 'wasnt', 'best', 'doabl', 'year', 'cant', 'realli', 'complain', 'gave', 'teenag', 'replac', 'wait', 'upgrad', 'time', 'phone', 'use', 'crap', 'batteri', 'final', 'isnt', 'keep', 'anymor', 'wont', 'stay', 'charg', 'though', 'cant', 'realli', 'complain', 'phone', 'earpiec', 'doubl', 'extern', 'speaker', 'want', 'play', 'song', 'loud', 'wasnt', 'best', 'doabl', 'year', 'cant', 'realli', 'complain', 'gave', 'teenag', 'replac', 'wait', 'upgrad', 'time', 'phone', 'use', 'crap', 'batteri', 'final', 'isnt', 'keep', 'anymor', 'wont', 'stay', 'charg', 'though', 'cant', 'realli', 'complain', 'phone', 'earpiec', 'doubl', 'extern', 'speaker', 'want', 'play', 'song', 'loud', 'wasnt', 'best', 'doabl', 'year', 'cant', 'realli', 'complain', 'gave', 'teenag', 'replac', 'wait', 'upgrad', 'time', 'phone', 'use', 'crap', 'batteri', 'final', 'isnt', 'keep', 'anymor', 'wont', 'stay', 'charg', 'though', 'cant', 'realli', 'complain', 'phone', 'earpiec', 'doubl', 'extern', 'speaker', 'want', 'play', 'song', 'loud', 'wasnt', 'best', 'doabl', 'year', 'cant', 'realli', 'complain', 'gave', 'teenag', 'replac', 'wait', 'upgrad', 'time', 'phone', 'use', 'crap', 'batteri', 'final', 'isnt', 'keep', 'anymor', 'wont', 'stay', 'charg', 'though', 'cant', 'realli', 'complain', 'phone', 'earpiec', 'doubl', 'extern', 'speaker', 'want', 'play', 'song', 'loud', 'wasnt', 'best', 'doabl', 'year', 'cant', 'realli', 'complain', 'gave', 'teenag', 'replac', 'wait', 'upgrad', 'time', 'phone', 'use', 'crap', 'batteri', 'final', 'isnt', 'keep', 'anymor', 'wont', 'stay', 'charg', 'though', 'cant', 'realli', 'complain', 'phone', 'earpiec', 'doubl', 'extern', 'speaker', 'want', 'play', 'song', 'loud', 'wasnt', 'best', 'doabl', 'year', 'cant', 'realli', 'complain', 'gave', 'teenag', 'replac', 'wait', 'upgrad', 'time', 'phone', 'use', 'crap', 'batteri', 'final', 'isnt', 'keep', 'anymor', 'wont', 'stay', 'charg', 'though', 'cant', 'realli', 'complain', 'phone', 'earpiec', 'doubl', 'extern', 'speaker', 'want', 'play', 'song', 'loud', 'wasnt', 'best', 'doabl', 'year', 'cant', 'realli', 'complain', 'gave', 'teenag', 'replac', 'wait', 'upgrad', 'time', 'phone', 'use', 'crap', 'batteri', 'final', 'isnt', 'keep', 'anymor', 'wont', 'stay', 'charg', 'though', 'cant', 'realli', 'complain', 'phone', 'earpiec', 'doubl', 'extern', 'speaker', 'want', 'play', 'song', 'loud', 'wasnt', 'best', 'doabl', 'year', 'cant', 'realli', 'complain', 'gave', 'teenag', 'replac', 'wait', 'upgrad', 'time', 'phone', 'use', 'crap', 'batteri', 'final', 'isnt', 'keep', 'anymor', 'wont', 'stay', 'charg', 'though', 'cant', 'realli', 'complain', 'phone', 'earpiec', 'doubl', 'extern', 'speaker', 'want', 'play', 'song', 'loud', 'wasnt', 'best', 'doabl', 'year', 'cant', 'realli', 'complain', 'gave', 'teenag', 'replac', 'wait', 'upgrad', 'time', 'phone', 'use', 'crap', 'batteri', 'final', 'isnt', 'keep', 'anymor', 'wont', 'stay', 'charg', 'though', 'cant', 'realli', 'complain', 'phone', 'earpiec', 'doubl', 'extern', 'speaker', 'want', 'play', 'song', 'loud', 'wasnt', 'best', 'doabl', 'year', 'cant', 'realli', 'complain', 'gave', 'teenag', 'replac', 'wait', 'upgrad', 'time', 'phone', 'use', 'crap', 'batteri', 'final', 'isnt', 'keep', 'anymor', 'wont', 'stay', 'charg', 'though', 'cant', 'realli', 'complain', 'phone', 'earpiec', 'doubl', 'extern', 'speaker', 'want', 'play', 'song', 'loud', 'wasnt', 'best', 'doabl', 'year', 'cant', 'realli', 'complain', 'gave', 'teenag', 'replac', 'wait', 'upgrad', 'time', 'phone', 'use', 'crap', 'batteri', 'final', 'isnt', 'keep', 'anymor', 'wont', 'stay', 'charg', 'though', 'cant', 'realli', 'complain', 'phone', 'earpiec', 'doubl', 'extern', 'speaker', 'want', 'play', 'song', 'loud', 'wasnt', 'best', 'doabl', 'year', 'cant', 'realli', 'complain', 'gave', 'teenag', 'replac', 'wait', 'upgrad', 'time', 'phone', 'use', 'crap', 'batteri', 'final', 'isnt', 'keep', 'anymor', 'wont', 'stay', 'charg', 'though', 'cant', 'realli', 'complain', 'phone', 'earpiec', 'doubl', 'extern', 'speaker', 'want', 'play', 'song', 'loud', 'wasnt', 'best', 'doabl', 'year', 'cant', 'realli', 'complain', 'gave', 'teenag', 'replac', 'wait', 'upgrad', 'time', 'phone', 'use', 'crap', 'batteri', 'final', 'isnt', 'keep', 'anymor', 'wont', 'stay', 'charg', 'though', 'cant', 'realli', 'complain', 'phone', 'earpiec', 'doubl', 'extern', 'speaker', 'want', 'play', 'song', 'loud', 'wasnt', 'best', 'doabl', 'year', 'cant', 'realli', 'complain', 'gave', 'teenag', 'replac', 'wait', 'upgrad', 'time', 'phone', 'use', 'crap', 'batteri', 'final', 'isnt', 'keep', 'anymor', 'wont', 'stay', 'charg', 'though', 'cant', 'realli', 'complain', 'phone', 'earpiec', 'doubl', 'extern', 'speaker', 'want', 'play', 'song', 'loud', 'wasnt', 'best', 'doabl', 'year', 'cant', 'realli', 'complain', 'gave', 'teenag', 'replac', 'wait', 'upgrad', 'time', 'phone', 'use', 'crap', 'batteri', 'final', 'isnt', 'keep', 'anymor', 'wont', 'stay', 'charg', 'though', 'cant', 'realli', 'complain', 'phone', 'earpiec', 'doubl', 'extern', 'speaker', 'want', 'play', 'song', 'loud', 'wasnt', 'best', 'doabl', 'year', 'cant', 'realli', 'complain', 'gave', 'teenag', 'replac', 'wait', 'upgrad', 'time', 'phone', 'use', 'crap', 'batteri', 'final', 'isnt', 'keep', 'anymor', 'wont', 'stay', 'charg', 'though', 'cant', 'realli', 'complain', 'phone', 'earpiec', 'doubl', 'extern', 'speaker', 'want', 'play', 'song', 'loud', 'wasnt', 'best', 'doabl', 'year', 'cant', 'realli', 'complain', 'gave', 'teenag', 'replac', 'wait', 'upgrad', 'time', 'phone', 'use', 'crap', 'batteri', 'final', 'isnt', 'keep', 'anymor', 'wont', 'stay', 'charg', 'though', 'cant', 'realli', 'complain', 'phone', 'earpiec', 'doubl', 'extern', 'speaker', 'want', 'play', 'song', 'loud', 'wasnt', 'best', 'doabl', 'year', 'cant', 'realli', 'complain', 'gave', 'teenag', 'replac', 'wait', 'upgrad', 'time', 'phone', 'use', 'crap', 'batteri', 'final', 'isnt', 'keep', 'anymor', 'wont', 'stay', 'charg', 'though', 'cant', 'realli', 'complain', 'phone', 'earpiec', 'doubl', 'extern', 'speaker', 'want', 'play', 'song', 'loud', 'wasnt', 'best', 'doabl', 'year', 'cant', 'realli', 'complain', 'gave', 'teenag', 'replac', 'wait', 'upgrad', 'time', 'phone', 'use', 'crap', 'batteri', 'final', 'isnt', 'keep', 'anymor', 'wont', 'stay', 'charg', 'though', 'cant', 'realli', 'complain', 'phone', 'earpiec', 'doubl', 'extern', 'speaker', 'want', 'play', 'song', 'loud', 'wasnt', 'best', 'doabl', 'year', 'cant', 'realli', 'complain', 'gave', 'teenag', 'replac', 'wait', 'upgrad', 'time', 'phone', 'use', 'crap', 'batteri', 'final', 'isnt', 'keep', 'anymor', 'wont', 'stay', 'charg', 'though', 'cant', 'realli', 'complain', 'phone', 'earpiec', 'doubl', 'extern', 'speaker', 'want', 'play', 'song', 'loud', 'wasnt', 'best', 'doabl', 'year', 'cant', 'realli', 'complain', 'gave', 'teenag', 'replac', 'wait', 'upgrad', 'time', 'phone', 'use', 'crap', 'batteri', 'final', 'isnt', 'keep', 'anymor', 'wont', 'stay', 'charg', 'though', 'cant', 'realli', 'complain', 'phone', 'earpiec', 'doubl', 'extern', 'speaker', 'want', 'play', 'song', 'loud', 'wasnt', 'best', 'doabl', 'year', 'cant', 'realli', 'complain', 'gave', 'teenag', 'replac', 'wait', 'upgrad', 'time', 'phone', 'use', 'crap', 'batteri', 'final', 'isnt', 'keep', 'anymor', 'wont', 'stay', 'charg', 'though', 'cant', 'realli', 'complain', 'phone', 'earpiec', 'doubl', 'extern', 'speaker', 'want', 'play', 'song', 'loud', 'wasnt', 'best', 'doabl', 'year', 'cant', 'realli', 'complain', 'gave', 'teenag', 'replac', 'wait', 'upgrad', 'time', 'phone', 'use', 'crap', 'batteri', 'final', 'isnt', 'keep', 'anymor', 'wont', 'stay', 'charg', 'though', 'cant', 'realli', 'complain', 'phone', 'earpiec', 'doubl', 'extern', 'speaker', 'want', 'play', 'song', 'loud', 'wasnt', 'best', 'doabl', 'year', 'cant', 'realli', 'complain', 'gave', 'teenag', 'replac', 'wait', 'upgrad', 'time', 'phone', 'use', 'crap', 'batteri', 'final', 'isnt', 'keep', 'anymor', 'wont', 'stay', 'charg', 'though', 'cant', 'realli', 'complain', 'phone', 'earpiec', 'doubl', 'extern', 'speaker', 'want', 'play', 'song', 'loud', 'wasnt', 'best', 'doabl', 'year', 'cant', 'realli', 'complain', 'gave', 'teenag', 'replac', 'wait', 'upgrad', 'time', 'phone', 'use', 'crap', 'batteri', 'final', 'isnt', 'keep', 'anymor', 'wont', 'stay', 'charg', 'though', 'cant', 'realli', 'complain', 'phone', 'earpiec', 'doubl', 'extern', 'speaker', 'want', 'play', 'song', 'loud', 'wasnt', 'best', 'doabl', 'year', 'cant', 'realli', 'complain', 'gave', 'teenag', 'replac', 'wait', 'upgrad', 'time', 'phone', 'use', 'crap', 'batteri', 'final', 'isnt', 'keep', 'anymor', 'wont', 'stay', 'charg', 'though', 'cant', 'realli', 'complain', 'phone', 'earpiec', 'doubl', 'extern', 'speaker', 'want', 'play', 'song', 'loud', 'wasnt', 'best', 'doabl', 'year', 'cant', 'realli', 'complain', 'gave', 'teenag', 'replac', 'wait', 'upgrad', 'time', 'phone', 'use', 'crap', 'batteri', 'final', 'isnt', 'keep', 'anymor', 'wont', 'stay', 'charg', 'though', 'cant', 'realli', 'complain', 'phone', 'earpiec', 'doubl', 'extern', 'speaker', 'want', 'play', 'song', 'loud', 'wasnt', 'best', 'doabl', 'year', 'cant', 'realli', 'complain', 'gave', 'teenag', 'replac', 'wait', 'upgrad', 'time', 'phone', 'use', 'crap', 'batteri', 'final', 'isnt', 'keep', 'anymor', 'wont', 'stay', 'charg', 'though', 'cant', 'realli', 'complain', 'phone', 'earpiec', 'doubl', 'extern', 'speaker', 'want', 'play', 'song', 'loud', 'wasnt', 'best', 'doabl', 'year', 'cant', 'realli', 'complain', 'gave', 'teenag', 'replac', 'wait', 'upgrad', 'time', 'phone', 'use', 'crap', 'batteri', 'final', 'isnt', 'keep', 'anymor', 'wont', 'stay', 'charg', 'though', 'cant', 'realli', 'complain', 'phone', 'earpiec', 'doubl', 'extern', 'speaker', 'want', 'play', 'song', 'loud', 'wasnt', 'best', 'doabl', 'year', 'cant', 'realli', 'complain', 'gave', 'teenag', 'replac', 'wait', 'upgrad', 'time', 'phone', 'use', 'crap', 'batteri', 'final', 'isnt', 'keep', 'anymor', 'wont', 'stay', 'charg', 'though', 'cant', 'realli', 'complain', 'phone', 'earpiec', 'doubl', 'extern', 'speaker', 'want', 'play', 'song', 'loud', 'wasnt', 'best', 'doabl', 'year', 'cant', 'realli', 'complain', 'gave', 'teenag', 'replac', 'wait', 'upgrad', 'time', 'phone', 'use', 'crap', 'batteri', 'final', 'isnt', 'keep', 'anymor', 'wont', 'stay', 'charg', 'though', 'cant', 'realli', 'complain', 'phone', 'earpiec', 'doubl', 'extern', 'speaker', 'want', 'play', 'song', 'loud', 'wasnt', 'best', 'doabl', 'year', 'cant', 'realli', 'complain', 'gave', 'teenag', 'replac', 'wait', 'upgrad', 'time', 'phone', 'use', 'crap', 'batteri', 'final', 'isnt', 'keep', 'anymor', 'wont', 'stay', 'charg', 'though', 'cant', 'realli', 'complain', 'phone', 'earpiec', 'doubl', 'extern', 'speaker', 'want', 'play', 'song', 'loud', 'wasnt', 'best', 'doabl', 'year', 'cant', 'realli', 'complain', 'gave', 'teenag', 'replac', 'wait', 'upgrad', 'time', 'phone', 'use', 'crap', 'batteri', 'final', 'isnt', 'keep', 'anymor', 'wont', 'stay', 'charg', 'though', 'cant', 'realli', 'complain', 'phone', 'earpiec', 'doubl', 'extern', 'speaker', 'want', 'play', 'song', 'loud', 'wasnt', 'best', 'doabl', 'year', 'cant', 'realli', 'complain', 'gave', 'teenag', 'replac', 'wait', 'upgrad', 'time', 'phone', 'use', 'crap', 'batteri', 'final', 'isnt', 'keep', 'anymor', 'wont', 'stay', 'charg', 'though', 'cant', 'realli', 'complain', 'phone', 'earpiec', 'doubl', 'extern', 'speaker', 'want', 'play', 'song', 'loud', 'wasnt', 'best', 'doabl', 'year', 'cant', 'realli', 'complain', 'gave', 'teenag', 'replac', 'wait', 'upgrad', 'time', 'phone', 'use', 'crap', 'batteri', 'final', 'isnt', 'keep', 'anymor', 'wont', 'stay', 'charg', 'though', 'cant', 'realli', 'complain', 'phone', 'earpiec', 'doubl', 'extern', 'speaker', 'want', 'play', 'song', 'loud', 'wasnt', 'best', 'doabl', 'year', 'cant', 'realli', 'complain', 'gave', 'teenag', 'replac', 'wait', 'upgrad', 'time', 'phone', 'use', 'crap', 'batteri', 'final', 'isnt', 'keep', 'anymor', 'wont', 'stay', 'charg', 'though', 'cant', 'realli', 'complain', 'phone', 'earpiec', 'doubl', 'extern', 'speaker', 'want', 'play', 'song', 'loud', 'wasnt', 'best', 'doabl', 'year', 'cant', 'realli', 'complain', 'gave', 'teenag', 'replac', 'wait', 'upgrad', 'time', 'phone', 'use', 'crap', 'batteri', 'final', 'isnt', 'keep', 'anymor', 'wont', 'stay', 'charg', 'though', 'cant', 'realli', 'complain', 'phone', 'earpiec', 'doubl', 'extern', 'speaker', 'want', 'play', 'song', 'loud', 'wasnt', 'best', 'doabl', 'year', 'cant', 'realli', 'complain', 'gave', 'teenag', 'replac', 'wait', 'upgrad', 'time', 'phone', 'use', 'crap', 'batteri', 'final', 'isnt', 'keep', 'anymor', 'wont', 'stay', 'charg', 'though', 'cant', 'realli', 'complain', 'phone', 'earpiec', 'doubl', 'extern', 'speaker', 'want', 'play', 'song', 'loud', 'wasnt', 'best', 'doabl', 'year', 'cant', 'realli', 'complain', 'gave', 'teenag', 'replac', 'wait', 'upgrad', 'time', 'phone', 'use', 'crap', 'batteri', 'final', 'isnt', 'keep', 'anymor', 'wont', 'stay', 'charg', 'though', 'cant', 'realli', 'complain', 'phone', 'earpiec', 'doubl', 'extern', 'speaker', 'want', 'play', 'song', 'loud', 'wasnt', 'best', 'doabl', 'year', 'cant', 'realli', 'complain', 'gave', 'teenag', 'replac', 'wait', 'upgrad', 'time', 'phone', 'use', 'crap', 'batteri', 'final', 'isnt', 'keep', 'anymor', 'wont', 'stay', 'charg', 'though', 'cant', 'realli', 'complain', 'phone', 'earpiec', 'doubl', 'extern', 'speaker', 'want', 'play', 'song', 'loud', 'wasnt', 'best', 'doabl', 'year', 'cant', 'realli', 'complain', 'gave', 'teenag', 'replac', 'wait', 'upgrad', 'time', 'phone', 'use', 'crap', 'batteri', 'final', 'isnt', 'keep', 'anymor', 'wont', 'stay', 'charg', 'though', 'cant', 'realli', 'complain', 'phone', 'earpiec', 'doubl', 'extern', 'speaker', 'want', 'play', 'song', 'loud', 'wasnt', 'best', 'doabl', 'year', 'cant', 'realli', 'complain', 'gave', 'teenag', 'replac', 'wait', 'upgrad', 'time', 'phone', 'use', 'crap', 'batteri', 'final', 'isnt', 'keep', 'anymor', 'wont', 'stay', 'charg', 'though', 'cant', 'realli', 'complain', 'phone', 'earpiec', 'doubl', 'extern', 'speaker', 'want', 'play', 'song', 'loud', 'wasnt', 'best', 'doabl', 'year', 'cant', 'realli', 'complain', 'gave', 'teenag', 'replac', 'wait', 'upgrad', 'time', 'phone', 'use', 'crap', 'batteri', 'final', 'isnt', 'keep', 'anymor', 'wont', 'stay', 'charg', 'though', 'cant', 'realli', 'complain', 'phone', 'earpiec', 'doubl', 'extern', 'speaker', 'want', 'play', 'song', 'loud', 'wasnt', 'best', 'doabl', 'year', 'cant', 'realli', 'complain', 'gave', 'teenag', 'replac', 'wait', 'upgrad', 'time', 'phone', 'use', 'crap', 'batteri', 'final', 'isnt', 'keep', 'anymor', 'wont', 'stay', 'charg', 'though', 'cant', 'realli', 'complain', 'phone', 'earpiec', 'doubl', 'extern', 'speaker', 'want', 'play', 'song', 'loud', 'wasnt', 'best', 'doabl', 'year', 'cant', 'realli', 'complain', 'gave', 'teenag', 'replac', 'wait', 'upgrad', 'time', 'phone', 'use', 'crap', 'batteri', 'final', 'isnt', 'keep', 'anymor', 'wont', 'stay', 'charg', 'though', 'cant', 'realli', 'complain', 'phone', 'earpiec', 'doubl', 'extern', 'speaker', 'want', 'play', 'song', 'loud', 'wasnt', 'best', 'doabl', 'year', 'cant', 'realli', 'complain', 'gave', 'teenag', 'replac', 'wait', 'upgrad', 'time', 'phone', 'use', 'crap', 'batteri', 'final', 'isnt', 'keep', 'anymor', 'wont', 'stay', 'charg', 'though', 'cant', 'realli', 'complain', 'phone', 'earpiec', 'doubl', 'extern', 'speaker', 'want', 'play', 'song', 'loud', 'wasnt', 'best', 'doabl', 'year', 'cant', 'realli', 'complain', 'gave', 'teenag', 'replac', 'wait', 'upgrad', 'time', 'phone', 'use', 'crap', 'batteri', 'final', 'isnt', 'keep', 'anymor', 'wont', 'stay', 'charg', 'though', 'cant', 'realli', 'complain', 'phone', 'earpiec', 'doubl', 'extern', 'speaker', 'want', 'play', 'song', 'loud', 'wasnt', 'best', 'doabl', 'year', 'cant', 'realli', 'complain', 'gave', 'teenag', 'replac', 'wait', 'upgrad', 'time', 'phone', 'use', 'crap', 'batteri', 'final', 'isnt', 'keep', 'anymor', 'wont', 'stay', 'charg', 'though', 'cant', 'realli', 'complain', 'phone', 'earpiec', 'doubl', 'extern', 'speaker', 'want', 'play', 'song', 'loud', 'wasnt', 'best', 'doabl', 'year', 'cant', 'realli', 'complain', 'gave', 'teenag', 'replac', 'wait', 'upgrad', 'time', 'phone', 'use', 'crap', 'batteri', 'final', 'isnt', 'keep', 'anymor', 'wont', 'stay', 'charg', 'though', 'cant', 'realli', 'complain', 'phone', 'earpiec', 'doubl', 'extern', 'speaker', 'want', 'play', 'song', 'loud', 'wasnt', 'best', 'doabl', 'year', 'cant', 'realli', 'complain', 'gave', 'teenag', 'replac', 'wait', 'upgrad', 'time', 'phone', 'use', 'crap', 'batteri', 'final', 'isnt', 'keep', 'anymor', 'wont', 'stay', 'charg', 'though', 'cant', 'realli', 'complain', 'phone', 'earpiec', 'doubl', 'extern', 'speaker', 'want', 'play', 'song', 'loud', 'wasnt', 'best', 'doabl', 'year', 'cant', 'realli', 'complain', 'gave', 'teenag', 'replac', 'wait', 'upgrad', 'time', 'phone', 'use', 'crap', 'batteri', 'final', 'isnt', 'keep', 'anymor', 'wont', 'stay', 'charg', 'though', 'cant', 'realli', 'complain', 'phone', 'earpiec', 'doubl', 'extern', 'speaker', 'want', 'play', 'song', 'loud', 'wasnt', 'best', 'doabl', 'year', 'cant', 'realli', 'complain', 'gave', 'teenag', 'replac', 'wait', 'upgrad', 'time', 'phone', 'use', 'crap', 'batteri', 'final', 'isnt', 'keep', 'anymor', 'wont', 'stay', 'charg', 'though', 'cant', 'realli', 'complain', 'phone', 'earpiec', 'doubl', 'extern', 'speaker', 'want', 'play', 'song', 'loud', 'wasnt', 'best', 'doabl', 'year', 'cant', 'realli', 'complain', 'gave', 'teenag', 'replac', 'wait', 'upgrad', 'time', 'phone', 'use', 'crap', 'batteri', 'final', 'isnt', 'keep', 'anymor', 'wont', 'stay', 'charg', 'though', 'cant', 'realli', 'complain', 'phone', 'earpiec', 'doubl', 'extern', 'speaker', 'want', 'play', 'song', 'loud', 'wasnt', 'best', 'doabl', 'year', 'cant', 'realli', 'complain', 'gave', 'teenag', 'replac', 'wait', 'upgrad', 'time', 'phone', 'use', 'crap', 'batteri', 'final', 'isnt', 'keep', 'anymor', 'wont', 'stay', 'charg', 'though', 'cant', 'realli', 'complain', 'phone', 'earpiec', 'doubl', 'extern', 'speaker', 'want', 'play', 'song', 'loud', 'wasnt', 'best', 'doabl', 'year', 'cant', 'realli', 'complain', 'gave', 'teenag', 'replac', 'wait', 'upgrad', 'time', 'phone', 'use', 'crap', 'batteri', 'final', 'isnt', 'keep', 'anymor', 'wont', 'stay', 'charg', 'though', 'cant', 'realli', 'complain', 'phone', 'earpiec', 'doubl', 'extern', 'speaker', 'want', 'play', 'song', 'loud', 'wasnt', 'best', 'doabl', 'year', 'cant', 'realli', 'complain', 'gave', 'teenag', 'replac', 'wait', 'upgrad', 'time', 'phone', 'use', 'crap', 'batteri', 'final', 'isnt', 'keep', 'anymor', 'wont', 'stay', 'charg', 'though', 'cant', 'realli', 'complain', 'phone', 'earpiec', 'doubl', 'extern', 'speaker', 'want', 'play', 'song', 'loud', 'wasnt', 'best', 'doabl', 'year', 'cant', 'realli', 'complain', 'gave', 'teenag', 'replac', 'wait', 'upgrad', 'time', 'phone', 'use', 'crap', 'batteri', 'final', 'isnt', 'keep', 'anymor', 'wont', 'stay', 'charg', 'though', 'cant', 'realli', 'complain', 'phone', 'earpiec', 'doubl', 'extern', 'speaker', 'want', 'play', 'song', 'loud', 'wasnt', 'best', 'doabl', 'year', 'cant', 'realli', 'complain', 'gave', 'teenag', 'replac', 'wait', 'upgrad', 'time', 'phone', 'use', 'crap', 'batteri', 'final', 'isnt', 'keep', 'anymor', 'wont', 'stay', 'charg', 'though', 'cant', 'realli', 'complain', 'phone', 'earpiec', 'doubl', 'extern', 'speaker', 'want', 'play', 'song', 'loud', 'wasnt', 'best', 'doabl', 'year', 'cant', 'realli', 'complain', 'gave', 'teenag', 'replac', 'wait', 'upgrad', 'time', 'phone', 'use', 'crap', 'batteri', 'final', 'isnt', 'keep', 'anymor', 'wont', 'stay', 'charg', 'though', 'cant', 'realli', 'complain', 'phone', 'earpiec', 'doubl', 'extern', 'speaker', 'want', 'play', 'song', 'loud', 'wasnt', 'best', 'doabl', 'year', 'cant', 'realli', 'complain', 'gave', 'teenag', 'replac', 'wait', 'upgrad', 'time', 'phone', 'use', 'crap', 'batteri', 'final', 'isnt', 'keep', 'anymor', 'wont', 'stay', 'charg', 'though', 'cant', 'realli', 'complain', 'phone', 'earpiec', 'doubl', 'extern', 'speaker', 'want', 'play', 'song', 'loud', 'wasnt', 'best', 'doabl', 'year', 'cant', 'realli', 'complain', 'gave', 'teenag', 'replac', 'wait', 'upgrad', 'time', 'phone', 'use', 'crap', 'batteri', 'final', 'isnt', 'keep', 'anymor', 'wont', 'stay', 'charg', 'though', 'cant', 'realli', 'complain', 'phone', 'earpiec', 'doubl', 'extern', 'speaker', 'want', 'play', 'song', 'loud', 'wasnt', 'best', 'doabl'], ['perfect', 'thank', 'perfect', 'thank', 'perfect', 'thank', 'perfect', 'thank', 'perfect', 'thank', 'perfect', 'thank', 'perfect', 'thank', 'perfect', 'thank'], ['back', 'camera', 'stop', 'work', 'phone', 'touch', 'screen', 'stop', 'work', 'restart', 'phone', 'get', 'work', 'phone', 'huge', 'disappoint', 'worth', 'paid', 'back', 'camera', 'stop', 'work', 'phone', 'touch', 'screen', 'stop', 'work', 'restart', 'phone', 'get', 'work', 'phone', 'huge', 'disappoint', 'worth', 'paid', 'back', 'camera', 'stop', 'work', 'phone', 'touch', 'screen', 'stop', 'work', 'restart', 'phone', 'get', 'work', 'phone', 'huge', 'disappoint', 'worth', 'paid', 'back', 'camera', 'stop', 'work', 'phone', 'touch', 'screen', 'stop', 'work', 'restart', 'phone', 'get', 'work', 'phone', 'huge', 'disappoint', 'worth', 'paid', 'back', 'camera', 'stop', 'work', 'phone', 'touch', 'screen', 'stop', 'work', 'restart', 'phone', 'get', 'work', 'phone', 'huge', 'disappoint', 'worth', 'paid', 'back', 'camera', 'stop', 'work', 'phone', 'touch', 'screen', 'stop', 'work', 'restart', 'phone', 'get', 'work', 'phone', 'huge', 'disappoint', 'worth', 'paid', 'back', 'camera', 'stop', 'work', 'phone', 'touch', 'screen', 'stop', 'work', 'restart', 'phone', 'get', 'work', 'phone', 'huge', 'disappoint', 'worth', 'paid', 'back', 'camera', 'stop', 'work', 'phone', 'touch', 'screen', 'stop', 'work', 'restart', 'phone', 'get', 'work', 'phone', 'huge', 'disappoint', 'worth', 'paid', 'back', 'camera', 'stop', 'work', 'phone', 'touch', 'screen', 'stop', 'work', 'restart', 'phone', 'get', 'work', 'phone', 'huge', 'disappoint', 'worth', 'paid', 'back', 'camera', 'stop', 'work', 'phone', 'touch', 'screen', 'stop', 'work', 'restart', 'phone', 'get', 'work', 'phone', 'huge', 'disappoint', 'worth', 'paid', 'back', 'camera', 'stop', 'work', 'phone', 'touch', 'screen', 'stop', 'work', 'restart', 'phone', 'get', 'work', 'phone', 'huge', 'disappoint', 'worth', 'paid', 'back', 'camera', 'stop', 'work', 'phone', 'touch', 'screen', 'stop', 'work', 'restart', 'phone', 'get', 'work', 'phone', 'huge', 'disappoint', 'worth', 'paid', 'back', 'camera', 'stop', 'work', 'phone', 'touch', 'screen', 'stop', 'work', 'restart', 'phone', 'get', 'work', 'phone', 'huge', 'disappoint', 'worth', 'paid', 'back', 'camera', 'stop', 'work', 'phone', 'touch', 'screen', 'stop', 'work', 'restart', 'phone', 'get', 'work', 'phone', 'huge', 'disappoint', 'worth', 'paid', 'back', 'camera', 'stop', 'work', 'phone', 'touch', 'screen', 'stop', 'work', 'restart', 'phone', 'get', 'work', 'phone', 'huge', 'disappoint', 'worth', 'paid', 'back', 'camera', 'stop', 'work', 'phone', 'touch', 'screen', 'stop', 'work', 'restart', 'phone', 'get', 'work', 'phone', 'huge', 'disappoint', 'worth', 'paid', 'back', 'camera', 'stop', 'work', 'phone', 'touch', 'screen', 'stop', 'work', 'restart', 'phone', 'get', 'work', 'phone', 'huge', 'disappoint', 'worth', 'paid', 'back', 'camera', 'stop', 'work', 'phone', 'touch', 'screen', 'stop', 'work', 'restart', 'phone', 'get', 'work', 'phone', 'huge', 'disappoint', 'worth', 'paid', 'back', 'camera', 'stop', 'work', 'phone', 'touch', 'screen', 'stop', 'work', 'restart', 'phone', 'get', 'work', 'phone', 'huge', 'disappoint', 'worth', 'paid', 'back', 'camera', 'stop', 'work', 'phone', 'touch', 'screen', 'stop', 'work', 'restart', 'phone', 'get', 'work', 'phone', 'huge', 'disappoint', 'worth', 'paid', 'back', 'camera', 'stop', 'work', 'phone', 'touch', 'screen', 'stop', 'work', 'restart', 'phone', 'get', 'work', 'phone', 'huge', 'disappoint', 'worth', 'paid', 'back', 'camera', 'stop', 'work', 'phone', 'touch', 'screen', 'stop', 'work', 'restart', 'phone', 'get', 'work', 'phone', 'huge', 'disappoint', 'worth', 'paid', 'back', 'camera', 'stop', 'work', 'phone', 'touch', 'screen', 'stop', 'work', 'restart', 'phone', 'get', 'work', 'phone', 'huge', 'disappoint', 'worth', 'paid', 'back', 'camera', 'stop', 'work', 'phone', 'touch', 'screen', 'stop', 'work', 'restart', 'phone', 'get', 'work', 'phone', 'huge', 'disappoint', 'worth', 'paid', 'back', 'camera', 'stop', 'work', 'phone', 'touch', 'screen', 'stop', 'work', 'restart', 'phone', 'get', 'work', 'phone', 'huge', 'disappoint', 'worth', 'paid', 'back', 'camera', 'stop', 'work', 'phone', 'touch', 'screen', 'stop', 'work', 'restart', 'phone', 'get', 'work', 'phone', 'huge', 'disappoint', 'worth', 'paid', 'back', 'camera', 'stop', 'work', 'phone', 'touch', 'screen', 'stop', 'work', 'restart', 'phone', 'get', 'work', 'phone', 'huge', 'disappoint', 'worth', 'paid', 'back', 'camera', 'stop', 'work', 'phone', 'touch', 'screen', 'stop', 'work', 'restart', 'phone', 'get', 'work', 'phone', 'huge', 'disappoint', 'worth', 'paid', 'back', 'camera', 'stop', 'work', 'phone', 'touch', 'screen', 'stop', 'work', 'restart', 'phone', 'get', 'work', 'phone', 'huge', 'disappoint', 'worth', 'paid', 'back', 'camera', 'stop', 'work', 'phone', 'touch', 'screen', 'stop', 'work', 'restart', 'phone', 'get', 'work', 'phone', 'huge', 'disappoint', 'worth', 'paid', 'back', 'camera', 'stop', 'work', 'phone', 'touch', 'screen', 'stop', 'work', 'restart', 'phone', 'get', 'work', 'phone', 'huge', 'disappoint', 'worth', 'paid', 'back', 'camera', 'stop', 'work', 'phone', 'touch', 'screen', 'stop', 'work', 'restart', 'phone', 'get', 'work', 'phone', 'huge', 'disappoint', 'worth', 'paid', 'back', 'camera', 'stop', 'work', 'phone', 'touch', 'screen', 'stop', 'work', 'restart', 'phone', 'get', 'work', 'phone', 'huge', 'disappoint', 'worth', 'paid', 'back', 'camera', 'stop', 'work', 'phone', 'touch', 'screen', 'stop', 'work', 'restart', 'phone', 'get', 'work', 'phone', 'huge', 'disappoint', 'worth', 'paid', 'back', 'camera', 'stop', 'work', 'phone', 'touch', 'screen', 'stop', 'work', 'restart', 'phone', 'get', 'work', 'phone', 'huge', 'disappoint', 'worth', 'paid', 'back', 'camera', 'stop', 'work', 'phone', 'touch', 'screen', 'stop', 'work', 'restart', 'phone', 'get', 'work', 'phone', 'huge', 'disappoint', 'worth', 'paid', 'back', 'camera', 'stop', 'work', 'phone', 'touch', 'screen', 'stop', 'work', 'restart', 'phone', 'get', 'work', 'phone', 'huge', 'disappoint', 'worth', 'paid', 'back', 'camera', 'stop', 'work', 'phone', 'touch', 'screen', 'stop', 'work', 'restart', 'phone', 'get', 'work', 'phone', 'huge', 'disappoint', 'worth', 'paid', 'back', 'camera', 'stop', 'work', 'phone', 'touch', 'screen', 'stop', 'work', 'restart', 'phone', 'get', 'work', 'phone', 'huge', 'disappoint', 'worth', 'paid', 'back', 'camera', 'stop', 'work', 'phone', 'touch', 'screen', 'stop', 'work', 'restart', 'phone', 'get', 'work', 'phone', 'huge', 'disappoint', 'worth', 'paid', 'back', 'camera', 'stop', 'work', 'phone', 'touch', 'screen', 'stop', 'work', 'restart', 'phone', 'get', 'work', 'phone', 'huge', 'disappoint', 'worth', 'paid', 'back', 'camera', 'stop', 'work', 'phone', 'touch', 'screen', 'stop', 'work', 'restart', 'phone', 'get', 'work', 'phone', 'huge', 'disappoint', 'worth', 'paid', 'back', 'camera', 'stop', 'work', 'phone', 'touch', 'screen', 'stop', 'work', 'restart', 'phone', 'get', 'work', 'phone', 'huge', 'disappoint', 'worth', 'paid', 'back', 'camera', 'stop', 'work', 'phone', 'touch', 'screen', 'stop', 'work', 'restart', 'phone', 'get', 'work', 'phone', 'huge', 'disappoint', 'worth', 'paid', 'back', 'camera', 'stop', 'work', 'phone', 'touch', 'screen', 'stop', 'work', 'restart', 'phone', 'get', 'work', 'phone', 'huge', 'disappoint', 'worth', 'paid', 'back', 'camera', 'stop', 'work', 'phone', 'touch', 'screen', 'stop', 'work', 'restart', 'phone', 'get', 'work', 'phone', 'huge', 'disappoint', 'worth', 'paid', 'back', 'camera', 'stop', 'work', 'phone', 'touch', 'screen', 'stop', 'work', 'restart', 'phone', 'get', 'work', 'phone', 'huge', 'disappoint', 'worth', 'paid', 'back', 'camera', 'stop', 'work', 'phone', 'touch', 'screen', 'stop', 'work', 'restart', 'phone', 'get', 'work', 'phone', 'huge', 'disappoint', 'worth', 'paid', 'back', 'camera', 'stop', 'work', 'phone', 'touch', 'screen', 'stop', 'work', 'restart', 'phone', 'get', 'work', 'phone', 'huge', 'disappoint', 'worth', 'paid', 'back', 'camera', 'stop', 'work', 'phone', 'touch', 'screen', 'stop', 'work', 'restart', 'phone', 'get', 'work', 'phone', 'huge', 'disappoint', 'worth', 'paid', 'back', 'camera', 'stop', 'work', 'phone', 'touch', 'screen', 'stop', 'work', 'restart', 'phone', 'get', 'work', 'phone', 'huge', 'disappoint', 'worth', 'paid', 'back', 'camera', 'stop', 'work', 'phone', 'touch', 'screen', 'stop', 'work', 'restart', 'phone', 'get', 'work', 'phone', 'huge', 'disappoint', 'worth', 'paid', 'back', 'camera', 'stop', 'work', 'phone', 'touch', 'screen', 'stop', 'work', 'restart', 'phone', 'get', 'work', 'phone', 'huge', 'disappoint', 'worth', 'paid', 'back', 'camera', 'stop', 'work', 'phone', 'touch', 'screen', 'stop', 'work', 'restart', 'phone', 'get', 'work', 'phone', 'huge', 'disappoint', 'worth', 'paid', 'back', 'camera', 'stop', 'work', 'phone', 'touch', 'screen', 'stop', 'work', 'restart', 'phone', 'get', 'work', 'phone', 'huge', 'disappoint', 'worth', 'paid', 'back', 'camera', 'stop', 'work', 'phone', 'touch', 'screen', 'stop', 'work', 'restart', 'phone', 'get', 'work', 'phone', 'huge', 'disappoint', 'worth', 'paid', 'back', 'camera', 'stop', 'work', 'phone', 'touch', 'screen', 'stop', 'work', 'restart', 'phone', 'get', 'work', 'phone', 'huge', 'disappoint', 'worth', 'paid', 'back', 'camera', 'stop', 'work', 'phone', 'touch', 'screen', 'stop', 'work', 'restart', 'phone', 'get', 'work', 'phone', 'huge', 'disappoint', 'worth', 'paid', 'back', 'camera', 'stop', 'work', 'phone', 'touch', 'screen', 'stop', 'work', 'restart', 'phone', 'get', 'work', 'phone', 'huge', 'disappoint', 'worth', 'paid', 'back', 'camera', 'stop', 'work', 'phone', 'touch', 'screen', 'stop', 'work', 'restart', 'phone', 'get', 'work', 'phone', 'huge', 'disappoint', 'worth', 'paid', 'back', 'camera', 'stop', 'work', 'phone', 'touch', 'screen', 'stop', 'work', 'restart', 'phone', 'get', 'work', 'phone', 'huge', 'disappoint', 'worth', 'paid', 'back', 'camera', 'stop', 'work', 'phone', 'touch', 'screen', 'stop', 'work', 'restart', 'phone', 'get', 'work', 'phone', 'huge', 'disappoint', 'worth', 'paid', 'back', 'camera', 'stop', 'work', 'phone', 'touch', 'screen', 'stop', 'work', 'restart', 'phone', 'get', 'work', 'phone', 'huge', 'disappoint', 'worth', 'paid', 'back', 'camera', 'stop', 'work', 'phone', 'touch', 'screen', 'stop', 'work', 'restart', 'phone', 'get', 'work', 'phone', 'huge', 'disappoint', 'worth', 'paid', 'back', 'camera', 'stop', 'work', 'phone', 'touch', 'screen', 'stop', 'work', 'restart', 'phone', 'get', 'work', 'phone', 'huge', 'disappoint', 'worth', 'paid', 'back', 'camera', 'stop', 'work', 'phone', 'touch', 'screen', 'stop', 'work', 'restart', 'phone', 'get', 'work', 'phone', 'huge', 'disappoint', 'worth', 'paid', 'back', 'camera', 'stop', 'work', 'phone', 'touch', 'screen', 'stop', 'work', 'restart', 'phone', 'get', 'work', 'phone', 'huge', 'disappoint', 'worth', 'paid', 'back', 'camera', 'stop', 'work', 'phone', 'touch', 'screen', 'stop', 'work', 'restart', 'phone', 'get', 'work', 'phone', 'huge', 'disappoint', 'worth', 'paid', 'back', 'camera', 'stop', 'work', 'phone', 'touch', 'screen', 'stop', 'work', 'restart', 'phone', 'get', 'work', 'phone', 'huge', 'disappoint', 'worth', 'paid', 'back', 'camera', 'stop', 'work', 'phone', 'touch', 'screen', 'stop', 'work', 'restart', 'phone', 'get', 'work', 'phone', 'huge', 'disappoint', 'worth', 'paid', 'back', 'camera', 'stop', 'work', 'phone', 'touch', 'screen', 'stop', 'work', 'restart', 'phone', 'get', 'work', 'phone', 'huge', 'disappoint', 'worth', 'paid', 'back', 'camera', 'stop', 'work', 'phone', 'touch', 'screen', 'stop', 'work', 'restart', 'phone', 'get', 'work', 'phone', 'huge', 'disappoint', 'worth', 'paid', 'back', 'camera', 'stop', 'work', 'phone', 'touch', 'screen', 'stop', 'work', 'restart', 'phone', 'get', 'work', 'phone', 'huge', 'disappoint', 'worth', 'paid', 'back', 'camera', 'stop', 'work', 'phone', 'touch', 'screen', 'stop', 'work', 'restart', 'phone', 'get', 'work', 'phone', 'huge', 'disappoint', 'worth', 'paid', 'back', 'camera', 'stop', 'work', 'phone', 'touch', 'screen', 'stop', 'work', 'restart', 'phone', 'get', 'work', 'phone', 'huge', 'disappoint', 'worth', 'paid', 'back', 'camera', 'stop', 'work', 'phone', 'touch', 'screen', 'stop', 'work', 'restart', 'phone', 'get', 'work', 'phone', 'huge', 'disappoint', 'worth', 'paid', 'back', 'camera', 'stop', 'work', 'phone', 'touch', 'screen', 'stop', 'work', 'restart', 'phone', 'get', 'work', 'phone', 'huge', 'disappoint', 'worth', 'paid', 'back', 'camera', 'stop', 'work', 'phone', 'touch', 'screen', 'stop', 'work', 'restart', 'phone', 'get', 'work', 'phone', 'huge', 'disappoint', 'worth', 'paid', 'back', 'camera', 'stop', 'work', 'phone', 'touch', 'screen', 'stop', 'work', 'restart', 'phone', 'get', 'work', 'phone', 'huge', 'disappoint', 'worth', 'paid', 'back', 'camera', 'stop', 'work', 'phone', 'touch', 'screen', 'stop', 'work', 'restart', 'phone', 'get', 'work', 'phone', 'huge', 'disappoint', 'worth', 'paid', 'back', 'camera', 'stop', 'work', 'phone', 'touch', 'screen', 'stop', 'work', 'restart', 'phone', 'get', 'work', 'phone', 'huge', 'disappoint', 'worth', 'paid', 'back', 'camera', 'stop', 'work', 'phone', 'touch', 'screen', 'stop', 'work', 'restart', 'phone', 'get', 'work', 'phone', 'huge', 'disappoint', 'worth', 'paid', 'back', 'camera', 'stop', 'work', 'phone', 'touch', 'screen', 'stop', 'work', 'restart', 'phone', 'get', 'work', 'phone', 'huge', 'disappoint', 'worth', 'paid', 'back', 'camera', 'stop', 'work', 'phone', 'touch', 'screen', 'stop', 'work', 'restart', 'phone', 'get', 'work', 'phone', 'huge', 'disappoint', 'worth', 'paid', 'back', 'camera', 'stop', 'work', 'phone', 'touch', 'screen', 'stop', 'work', 'restart', 'phone', 'get', 'work', 'phone', 'huge', 'disappoint', 'worth', 'paid', 'back', 'camera', 'stop', 'work', 'phone', 'touch', 'screen', 'stop', 'work', 'restart', 'phone', 'get', 'work', 'phone', 'huge', 'disappoint', 'worth', 'paid', 'back', 'camera', 'stop', 'work', 'phone', 'touch', 'screen', 'stop', 'work', 'restart', 'phone', 'get', 'work', 'phone', 'huge', 'disappoint', 'worth', 'paid', 'back', 'camera', 'stop', 'work', 'phone', 'touch', 'screen', 'stop', 'work', 'restart', 'phone', 'get', 'work', 'phone', 'huge', 'disappoint', 'worth', 'paid', 'back', 'camera', 'stop', 'work', 'phone', 'touch', 'screen', 'stop', 'work', 'restart', 'phone', 'get', 'work', 'phone', 'huge', 'disappoint', 'worth', 'paid', 'back', 'camera', 'stop', 'work', 'phone', 'touch', 'screen', 'stop', 'work', 'restart', 'phone', 'get', 'work', 'phone', 'huge', 'disappoint', 'worth', 'paid', 'back', 'camera', 'stop', 'work', 'phone', 'touch', 'screen', 'stop', 'work', 'restart', 'phone', 'get', 'work', 'phone', 'huge', 'disappoint', 'worth', 'paid', 'back', 'camera', 'stop', 'work', 'phone', 'touch', 'screen', 'stop', 'work', 'restart', 'phone', 'get', 'work', 'phone', 'huge', 'disappoint', 'worth', 'paid', 'back', 'camera', 'stop', 'work', 'phone', 'touch', 'screen', 'stop', 'work', 'restart', 'phone', 'get', 'work', 'phone', 'huge', 'disappoint', 'worth', 'paid', 'back', 'camera', 'stop', 'work', 'phone', 'touch', 'screen', 'stop', 'work', 'restart', 'phone', 'get', 'work', 'phone', 'huge', 'disappoint', 'worth', 'paid', 'back', 'camera', 'stop', 'work', 'phone', 'touch', 'screen', 'stop', 'work', 'restart', 'phone', 'get', 'work', 'phone', 'huge', 'disappoint', 'worth', 'paid', 'back', 'camera', 'stop', 'work', 'phone', 'touch', 'screen', 'stop', 'work', 'restart', 'phone', 'get', 'work', 'phone', 'huge', 'disappoint', 'worth', 'paid', 'back', 'camera', 'stop', 'work', 'phone', 'touch', 'screen', 'stop', 'work', 'restart', 'phone', 'get', 'work', 'phone', 'huge', 'disappoint', 'worth', 'paid', 'back', 'camera', 'stop', 'work', 'phone', 'touch', 'screen', 'stop', 'work', 'restart', 'phone', 'get', 'work', 'phone', 'huge', 'disappoint', 'worth', 'paid', 'back', 'camera', 'stop', 'work', 'phone', 'touch', 'screen', 'stop', 'work', 'restart', 'phone', 'get', 'work', 'phone', 'huge', 'disappoint', 'worth', 'paid', 'back', 'camera', 'stop', 'work', 'phone', 'touch', 'screen', 'stop', 'work', 'restart', 'phone', 'get', 'work', 'phone', 'huge', 'disappoint', 'worth', 'paid', 'back', 'camera', 'stop', 'work', 'phone', 'touch', 'screen', 'stop', 'work', 'restart', 'phone', 'get', 'work', 'phone', 'huge', 'disappoint', 'worth', 'paid', 'back', 'camera', 'stop', 'work', 'phone', 'touch', 'screen', 'stop', 'work', 'restart', 'phone', 'get', 'work', 'phone', 'huge', 'disappoint', 'worth', 'paid', 'back', 'camera', 'stop', 'work', 'phone', 'touch', 'screen', 'stop', 'work', 'restart', 'phone', 'get', 'work', 'phone', 'huge', 'disappoint', 'worth', 'paid', 'back', 'camera', 'stop', 'work', 'phone', 'touch', 'screen', 'stop', 'work', 'restart', 'phone', 'get', 'work', 'phone', 'huge', 'disappoint', 'worth', 'paid', 'back', 'camera', 'stop', 'work', 'phone', 'touch', 'screen', 'stop', 'work', 'restart', 'phone', 'get', 'work', 'phone', 'huge', 'disappoint', 'worth', 'paid', 'back', 'camera', 'stop', 'work', 'phone', 'touch', 'screen', 'stop', 'work', 'restart', 'phone', 'get', 'work', 'phone', 'huge', 'disappoint', 'worth', 'paid', 'back', 'camera', 'stop', 'work', 'phone', 'touch', 'screen', 'stop', 'work', 'restart', 'phone', 'get', 'work', 'phone', 'huge', 'disappoint', 'worth', 'paid', 'back', 'camera', 'stop', 'work', 'phone', 'touch', 'screen', 'stop', 'work', 'restart', 'phone', 'get', 'work', 'phone', 'huge', 'disappoint', 'worth', 'paid', 'back', 'camera', 'stop', 'work', 'phone', 'touch', 'screen', 'stop', 'work', 'restart', 'phone', 'get', 'work', 'phone', 'huge', 'disappoint', 'worth', 'paid', 'back', 'camera', 'stop', 'work', 'phone', 'touch', 'screen', 'stop', 'work', 'restart', 'phone', 'get', 'work', 'phone', 'huge', 'disappoint', 'worth', 'paid', 'back', 'camera', 'stop', 'work', 'phone', 'touch', 'screen', 'stop', 'work', 'restart', 'phone', 'get', 'work', 'phone', 'huge', 'disappoint', 'worth', 'paid', 'back', 'camera', 'stop', 'work', 'phone', 'touch', 'screen', 'stop', 'work', 'restart', 'phone', 'get', 'work', 'phone', 'huge', 'disappoint', 'worth', 'paid', 'back', 'camera', 'stop', 'work', 'phone', 'touch', 'screen', 'stop', 'work', 'restart', 'phone', 'get', 'work', 'phone', 'huge', 'disappoint', 'worth', 'paid', 'back', 'camera', 'stop', 'work', 'phone', 'touch', 'screen', 'stop', 'work', 'restart', 'phone', 'get', 'work', 'phone', 'huge', 'disappoint', 'worth', 'paid', 'back', 'camera', 'stop', 'work', 'phone', 'touch', 'screen', 'stop', 'work', 'restart', 'phone', 'get', 'work', 'phone', 'huge', 'disappoint', 'worth', 'paid', 'back', 'camera', 'stop', 'work', 'phone', 'touch', 'screen', 'stop', 'work', 'restart', 'phone', 'get', 'work', 'phone', 'huge', 'disappoint', 'worth', 'paid', 'back', 'camera', 'stop', 'work', 'phone', 'touch', 'screen', 'stop', 'work', 'restart', 'phone', 'get', 'work', 'phone', 'huge', 'disappoint', 'worth', 'paid', 'back', 'camera', 'stop', 'work', 'phone', 'touch', 'screen', 'stop', 'work', 'restart', 'phone', 'get', 'work', 'phone', 'huge', 'disappoint', 'worth', 'paid', 'back', 'camera', 'stop', 'work', 'phone', 'touch', 'screen', 'stop', 'work', 'restart', 'phone', 'get', 'work', 'phone', 'huge', 'disappoint', 'worth', 'paid', 'back', 'camera', 'stop', 'work', 'phone', 'touch', 'screen', 'stop', 'work', 'restart', 'phone', 'get', 'work', 'phone', 'huge', 'disappoint', 'worth', 'paid', 'back', 'camera', 'stop', 'work', 'phone', 'touch', 'screen', 'stop', 'work', 'restart', 'phone', 'get', 'work', 'phone', 'huge', 'disappoint', 'worth', 'paid', 'back', 'camera', 'stop', 'work', 'phone', 'touch', 'screen', 'stop', 'work', 'restart', 'phone', 'get', 'work', 'phone', 'huge', 'disappoint', 'worth', 'paid', 'back', 'camera', 'stop', 'work', 'phone', 'touch', 'screen', 'stop', 'work', 'restart', 'phone', 'get', 'work', 'phone', 'huge', 'disappoint', 'worth', 'paid', 'back', 'camera', 'stop', 'work', 'phone', 'touch', 'screen', 'stop', 'work', 'restart', 'phone', 'get', 'work', 'phone', 'huge', 'disappoint', 'worth', 'paid', 'back', 'camera', 'stop', 'work', 'phone', 'touch', 'screen', 'stop', 'work', 'restart', 'phone', 'get', 'work', 'phone', 'huge', 'disappoint', 'worth', 'paid', 'back', 'camera', 'stop', 'work', 'phone', 'touch', 'screen', 'stop', 'work', 'restart', 'phone', 'get', 'work', 'phone', 'huge', 'disappoint', 'worth', 'paid', 'back', 'camera', 'stop', 'work', 'phone', 'touch', 'screen', 'stop', 'work', 'restart', 'phone', 'get', 'work', 'phone', 'huge', 'disappoint', 'worth', 'paid', 'back', 'camera', 'stop', 'work', 'phone', 'touch', 'screen', 'stop', 'work', 'restart', 'phone', 'get', 'work', 'phone', 'huge', 'disappoint', 'worth', 'paid', 'back', 'camera', 'stop', 'work', 'phone', 'touch', 'screen', 'stop', 'work', 'restart', 'phone', 'get', 'work', 'phone', 'huge', 'disappoint', 'worth', 'paid', 'back', 'camera', 'stop', 'work', 'phone', 'touch', 'screen', 'stop', 'work', 'restart', 'phone', 'get', 'work', 'phone', 'huge', 'disappoint', 'worth', 'paid', 'back', 'camera', 'stop', 'work', 'phone', 'touch', 'screen', 'stop', 'work', 'restart', 'phone', 'get', 'work', 'phone', 'huge', 'disappoint', 'worth', 'paid', 'back', 'camera', 'stop', 'work', 'phone', 'touch', 'screen', 'stop', 'work', 'restart', 'phone', 'get', 'work', 'phone', 'huge', 'disappoint', 'worth', 'paid', 'back', 'camera', 'stop', 'work', 'phone', 'touch', 'screen', 'stop', 'work', 'restart', 'phone', 'get', 'work', 'phone', 'huge', 'disappoint', 'worth', 'paid', 'back', 'camera', 'stop', 'work', 'phone', 'touch', 'screen', 'stop', 'work', 'restart', 'phone', 'get', 'work', 'phone', 'huge', 'disappoint', 'worth', 'paid', 'back', 'camera', 'stop', 'work', 'phone', 'touch', 'screen', 'stop', 'work', 'restart', 'phone', 'get', 'work', 'phone', 'huge', 'disappoint', 'worth', 'paid', 'back', 'camera', 'stop', 'work', 'phone', 'touch', 'screen', 'stop', 'work', 'restart', 'phone', 'get', 'work', 'phone', 'huge', 'disappoint', 'worth', 'paid', 'back', 'camera', 'stop', 'work', 'phone', 'touch', 'screen', 'stop', 'work', 'restart', 'phone', 'get', 'work', 'phone', 'huge', 'disappoint', 'worth', 'paid', 'back', 'camera', 'stop', 'work', 'phone', 'touch', 'screen', 'stop', 'work', 'restart', 'phone', 'get', 'work', 'phone', 'huge', 'disappoint', 'worth', 'paid', 'back', 'camera', 'stop', 'work', 'phone', 'touch', 'screen', 'stop', 'work', 'restart', 'phone', 'get', 'work', 'phone', 'huge', 'disappoint', 'worth', 'paid', 'back', 'camera', 'stop', 'work', 'phone', 'touch', 'screen', 'stop', 'work', 'restart', 'phone', 'get', 'work', 'phone', 'huge', 'disappoint', 'worth', 'paid', 'back', 'camera', 'stop', 'work', 'phone', 'touch', 'screen', 'stop', 'work', 'restart', 'phone', 'get', 'work', 'phone', 'huge', 'disappoint', 'worth', 'paid', 'back', 'camera', 'stop', 'work', 'phone', 'touch', 'screen', 'stop', 'work', 'restart', 'phone', 'get', 'work', 'phone', 'huge', 'disappoint', 'worth', 'paid', 'back', 'camera', 'stop', 'work', 'phone', 'touch', 'screen', 'stop', 'work', 'restart', 'phone', 'get', 'work', 'phone', 'huge', 'disappoint', 'worth', 'paid', 'back', 'camera', 'stop', 'work', 'phone', 'touch', 'screen', 'stop', 'work', 'restart', 'phone', 'get', 'work', 'phone', 'huge', 'disappoint', 'worth', 'paid', 'back', 'camera', 'stop', 'work', 'phone', 'touch', 'screen', 'stop', 'work', 'restart', 'phone', 'get', 'work', 'phone', 'huge', 'disappoint', 'worth', 'paid', 'back', 'camera', 'stop', 'work', 'phone', 'touch', 'screen', 'stop', 'work', 'restart', 'phone', 'get', 'work', 'phone', 'huge', 'disappoint', 'worth', 'paid', 'back', 'camera', 'stop', 'work', 'phone', 'touch', 'screen', 'stop', 'work', 'restart', 'phone', 'get', 'work', 'phone', 'huge', 'disappoint', 'worth', 'paid', 'back', 'camera', 'stop', 'work', 'phone', 'touch', 'screen', 'stop', 'work', 'restart', 'phone', 'get', 'work', 'phone', 'huge', 'disappoint', 'worth', 'paid', 'back', 'camera', 'stop', 'work', 'phone', 'touch', 'screen', 'stop', 'work', 'restart', 'phone', 'get', 'work', 'phone', 'huge', 'disappoint', 'worth', 'paid', 'back', 'camera', 'stop', 'work', 'phone', 'touch', 'screen', 'stop', 'work', 'restart', 'phone', 'get', 'work', 'phone', 'huge', 'disappoint', 'worth', 'paid', 'back', 'camera', 'stop', 'work', 'phone', 'touch', 'screen', 'stop', 'work', 'restart', 'phone', 'get', 'work', 'phone', 'huge', 'disappoint', 'worth', 'paid', 'back', 'camera', 'stop', 'work', 'phone', 'touch', 'screen', 'stop', 'work', 'restart', 'phone', 'get', 'work', 'phone', 'huge', 'disappoint', 'worth', 'paid', 'back', 'camera', 'stop', 'work', 'phone', 'touch', 'screen', 'stop', 'work', 'restart', 'phone', 'get', 'work', 'phone', 'huge', 'disappoint', 'worth', 'paid', 'back', 'camera', 'stop', 'work', 'phone', 'touch', 'screen', 'stop', 'work', 'restart', 'phone', 'get', 'work', 'phone', 'huge', 'disappoint', 'worth', 'paid', 'back', 'camera', 'stop', 'work', 'phone', 'touch', 'screen', 'stop', 'work', 'restart', 'phone', 'get', 'work', 'phone', 'huge', 'disappoint', 'worth', 'paid', 'back', 'camera', 'stop', 'work', 'phone', 'touch', 'screen', 'stop', 'work', 'restart', 'phone', 'get', 'work', 'phone', 'huge', 'disappoint', 'worth', 'paid', 'back', 'camera', 'stop', 'work', 'phone', 'touch', 'screen', 'stop', 'work', 'restart', 'phone', 'get', 'work', 'phone', 'huge', 'disappoint', 'worth', 'paid', 'back', 'camera', 'stop', 'work', 'phone', 'touch', 'screen', 'stop', 'work', 'restart', 'phone', 'get', 'work', 'phone', 'huge', 'disappoint', 'worth', 'paid', 'back', 'camera', 'stop', 'work', 'phone', 'touch', 'screen', 'stop', 'work', 'restart', 'phone', 'get', 'work', 'phone', 'huge', 'disappoint', 'worth', 'paid', 'back', 'camera', 'stop', 'work', 'phone', 'touch', 'screen', 'stop', 'work', 'restart', 'phone', 'get', 'work', 'phone', 'huge', 'disappoint', 'worth', 'paid', 'back', 'camera', 'stop', 'work', 'phone', 'touch', 'screen', 'stop', 'work', 'restart', 'phone', 'get', 'work', 'phone', 'huge', 'disappoint', 'worth', 'paid', 'back', 'camera', 'stop', 'work', 'phone', 'touch', 'screen', 'stop', 'work', 'restart', 'phone', 'get', 'work', 'phone', 'huge', 'disappoint', 'worth', 'paid', 'back', 'camera', 'stop', 'work', 'phone', 'touch', 'screen', 'stop', 'work', 'restart', 'phone', 'get', 'work', 'phone', 'huge', 'disappoint', 'worth', 'paid', 'back', 'camera', 'stop', 'work', 'phone', 'touch', 'screen', 'stop', 'work', 'restart', 'phone', 'get', 'work', 'phone', 'huge', 'disappoint', 'worth', 'paid', 'back', 'camera', 'stop', 'work', 'phone', 'touch', 'screen', 'stop', 'work', 'restart', 'phone', 'get', 'work', 'phone', 'huge', 'disappoint', 'worth', 'paid', 'back', 'camera', 'stop', 'work', 'phone', 'touch', 'screen', 'stop', 'work', 'restart', 'phone', 'get', 'work', 'phone', 'huge', 'disappoint', 'worth', 'paid', 'back', 'camera', 'stop', 'work', 'phone', 'touch', 'screen', 'stop', 'work', 'restart', 'phone', 'get', 'work', 'phone', 'huge', 'disappoint', 'worth', 'paid', 'back', 'camera', 'stop', 'work', 'phone', 'touch', 'screen', 'stop', 'work', 'restart', 'phone', 'get', 'work', 'phone', 'huge', 'disappoint', 'worth', 'paid', 'back', 'camera', 'stop', 'work', 'phone', 'touch', 'screen', 'stop', 'work', 'restart', 'phone', 'get', 'work', 'phone', 'huge', 'disappoint', 'worth', 'paid', 'back', 'camera', 'stop', 'work', 'phone', 'touch', 'screen', 'stop', 'work', 'restart', 'phone', 'get', 'work', 'phone', 'huge', 'disappoint', 'worth', 'paid', 'back', 'camera', 'stop', 'work', 'phone', 'touch', 'screen', 'stop', 'work', 'restart', 'phone', 'get', 'work', 'phone', 'huge', 'disappoint', 'worth', 'paid', 'back', 'camera', 'stop', 'work', 'phone', 'touch', 'screen', 'stop', 'work', 'restart', 'phone', 'get', 'work', 'phone', 'huge', 'disappoint', 'worth', 'paid', 'back', 'camera', 'stop', 'work', 'phone', 'touch', 'screen', 'stop', 'work', 'restart', 'phone', 'get', 'work', 'phone', 'huge', 'disappoint', 'worth', 'paid', 'back', 'camera', 'stop', 'work', 'phone', 'touch', 'screen', 'stop', 'work', 'restart', 'phone', 'get', 'work', 'phone', 'huge', 'disappoint', 'worth', 'paid', 'back', 'camera', 'stop', 'work', 'phone', 'touch', 'screen', 'stop', 'work', 'restart', 'phone', 'get', 'work', 'phone', 'huge', 'disappoint', 'worth', 'paid', 'back', 'camera', 'stop', 'work', 'phone', 'touch', 'screen', 'stop', 'work', 'restart', 'phone', 'get', 'work', 'phone', 'huge', 'disappoint', 'worth', 'paid', 'back', 'camera', 'stop', 'work', 'phone', 'touch', 'screen', 'stop', 'work', 'restart', 'phone', 'get', 'work', 'phone', 'huge', 'disappoint', 'worth', 'paid', 'back', 'camera', 'stop', 'work', 'phone', 'touch', 'screen', 'stop', 'work', 'restart', 'phone', 'get', 'work', 'phone', 'huge', 'disappoint', 'worth', 'paid', 'back', 'camera', 'stop', 'work', 'phone', 'touch', 'screen', 'stop', 'work', 'restart', 'phone', 'get', 'work', 'phone', 'huge', 'disappoint', 'worth', 'paid', 'back', 'camera', 'stop', 'work', 'phone', 'touch', 'screen', 'stop', 'work', 'restart', 'phone', 'get', 'work', 'phone', 'huge', 'disappoint', 'worth', 'paid', 'back', 'camera', 'stop', 'work', 'phone', 'touch', 'screen', 'stop', 'work', 'restart', 'phone', 'get', 'work', 'phone', 'huge', 'disappoint', 'worth', 'paid', 'back', 'camera', 'stop', 'work', 'phone', 'touch', 'screen', 'stop', 'work', 'restart', 'phone', 'get', 'work', 'phone', 'huge', 'disappoint', 'worth', 'paid', 'back', 'camera', 'stop', 'work', 'phone', 'touch', 'screen', 'stop', 'work', 'restart', 'phone', 'get', 'work', 'phone', 'huge', 'disappoint', 'worth', 'paid', 'back', 'camera', 'stop', 'work', 'phone', 'touch', 'screen', 'stop', 'work', 'restart', 'phone', 'get', 'work', 'phone', 'huge', 'disappoint', 'worth', 'paid', 'back', 'camera', 'stop', 'work', 'phone', 'touch', 'screen', 'stop', 'work', 'restart', 'phone', 'get', 'work', 'phone', 'huge', 'disappoint', 'worth', 'paid', 'back', 'camera', 'stop', 'work', 'phone', 'touch', 'screen', 'stop', 'work', 'restart', 'phone', 'get', 'work', 'phone', 'huge', 'disappoint', 'worth', 'paid', 'back', 'camera', 'stop', 'work', 'phone', 'touch', 'screen', 'stop', 'work', 'restart', 'phone', 'get', 'work', 'phone', 'huge', 'disappoint', 'worth', 'paid', 'back', 'camera', 'stop', 'work', 'phone', 'touch', 'screen', 'stop', 'work', 'restart', 'phone', 'get', 'work', 'phone', 'huge', 'disappoint', 'worth', 'paid', 'back', 'camera', 'stop', 'work', 'phone', 'touch', 'screen', 'stop', 'work', 'restart', 'phone', 'get', 'work', 'phone', 'huge', 'disappoint', 'worth', 'paid', 'back', 'camera', 'stop', 'work', 'phone', 'touch', 'screen', 'stop', 'work', 'restart', 'phone', 'get', 'work', 'phone', 'huge', 'disappoint', 'worth', 'paid', 'back', 'camera', 'stop', 'work', 'phone', 'touch', 'screen', 'stop', 'work', 'restart', 'phone', 'get', 'work', 'phone', 'huge', 'disappoint', 'worth', 'paid', 'back', 'camera', 'stop', 'work', 'phone', 'touch', 'screen', 'stop', 'work', 'restart', 'phone', 'get', 'work', 'phone', 'huge', 'disappoint', 'worth', 'paid', 'back', 'camera', 'stop', 'work', 'phone', 'touch', 'screen', 'stop', 'work', 'restart', 'phone', 'get', 'work', 'phone', 'huge', 'disappoint', 'worth', 'paid', 'back', 'camera', 'stop', 'work', 'phone', 'touch', 'screen', 'stop', 'work', 'restart', 'phone', 'get', 'work', 'phone', 'huge', 'disappoint', 'worth', 'paid', 'back', 'camera', 'stop', 'work', 'phone', 'touch', 'screen', 'stop', 'work', 'restart', 'phone', 'get', 'work', 'phone', 'huge', 'disappoint', 'worth', 'paid', 'back', 'camera', 'stop', 'work', 'phone', 'touch', 'screen', 'stop', 'work', 'restart', 'phone', 'get', 'work', 'phone', 'huge', 'disappoint', 'worth', 'paid', 'back', 'camera', 'stop', 'work', 'phone', 'touch', 'screen', 'stop', 'work', 'restart', 'phone', 'get', 'work', 'phone', 'huge', 'disappoint', 'worth', 'paid', 'back', 'camera', 'stop', 'work', 'phone', 'touch', 'screen', 'stop', 'work', 'restart', 'phone', 'get', 'work', 'phone', 'huge', 'disappoint', 'worth', 'paid', 'back', 'camera', 'stop', 'work', 'phone', 'touch', 'screen', 'stop', 'work', 'restart', 'phone', 'get', 'work', 'phone', 'huge', 'disappoint', 'worth', 'paid', 'back', 'camera', 'stop', 'work', 'phone', 'touch', 'screen', 'stop', 'work', 'restart', 'phone', 'get', 'work', 'phone', 'huge', 'disappoint', 'worth', 'paid', 'back', 'camera', 'stop', 'work', 'phone', 'touch', 'screen', 'stop', 'work', 'restart', 'phone', 'get', 'work', 'phone', 'huge', 'disappoint', 'worth', 'paid', 'back', 'camera', 'stop', 'work', 'phone', 'touch', 'screen', 'stop', 'work', 'restart', 'phone', 'get', 'work', 'phone', 'huge', 'disappoint', 'worth', 'paid', 'back', 'camera', 'stop', 'work', 'phone', 'touch', 'screen', 'stop', 'work', 'restart', 'phone', 'get', 'work', 'phone', 'huge', 'disappoint', 'worth', 'paid', 'back', 'camera', 'stop', 'work', 'phone', 'touch', 'screen', 'stop', 'work', 'restart', 'phone', 'get', 'work', 'phone', 'huge', 'disappoint', 'worth', 'paid', 'back', 'camera', 'stop', 'work', 'phone', 'touch', 'screen', 'stop', 'work', 'restart', 'phone', 'get', 'work', 'phone', 'huge', 'disappoint', 'worth', 'paid', 'back', 'camera', 'stop', 'work', 'phone', 'touch', 'screen', 'stop', 'work', 'restart', 'phone', 'get', 'work', 'phone', 'huge', 'disappoint', 'worth', 'paid', 'back', 'camera', 'stop', 'work', 'phone', 'touch', 'screen', 'stop', 'work', 'restart', 'phone', 'get', 'work', 'phone', 'huge', 'disappoint', 'worth', 'paid', 'back', 'camera', 'stop', 'work', 'phone', 'touch', 'screen', 'stop', 'work', 'restart', 'phone', 'get', 'work', 'phone', 'huge', 'disappoint', 'worth', 'paid', 'back', 'camera', 'stop', 'work', 'phone', 'touch', 'screen', 'stop', 'work', 'restart', 'phone', 'get', 'work', 'phone', 'huge', 'disappoint', 'worth', 'paid', 'back', 'camera', 'stop', 'work', 'phone', 'touch', 'screen', 'stop', 'work', 'restart', 'phone', 'get', 'work', 'phone', 'huge', 'disappoint', 'worth', 'paid', 'back', 'camera', 'stop', 'work', 'phone', 'touch', 'screen', 'stop', 'work', 'restart', 'phone', 'get', 'work', 'phone', 'huge', 'disappoint', 'worth', 'paid', 'back', 'camera', 'stop', 'work', 'phone', 'touch', 'screen', 'stop', 'work', 'restart', 'phone', 'get', 'work', 'phone', 'huge', 'disappoint', 'worth', 'paid', 'back', 'camera', 'stop', 'work', 'phone', 'touch', 'screen', 'stop', 'work', 'restart', 'phone', 'get', 'work', 'phone', 'huge', 'disappoint', 'worth', 'paid', 'back', 'camera', 'stop', 'work', 'phone', 'touch', 'screen', 'stop', 'work', 'restart', 'phone', 'get', 'work', 'phone', 'huge', 'disappoint', 'worth', 'paid', 'back', 'camera', 'stop', 'work', 'phone', 'touch', 'screen', 'stop', 'work', 'restart', 'phone', 'get', 'work', 'phone', 'huge', 'disappoint', 'worth', 'paid', 'back', 'camera', 'stop', 'work', 'phone', 'touch', 'screen', 'stop', 'work', 'restart', 'phone', 'get', 'work', 'phone', 'huge', 'disappoint', 'worth', 'paid', 'back', 'camera', 'stop', 'work', 'phone', 'touch', 'screen', 'stop', 'work', 'restart', 'phone', 'get', 'work', 'phone', 'huge', 'disappoint', 'worth', 'paid', 'back', 'camera', 'stop', 'work', 'phone', 'touch', 'screen', 'stop', 'work', 'restart', 'phone', 'get', 'work', 'phone', 'huge', 'disappoint', 'worth', 'paid', 'back', 'camera', 'stop', 'work', 'phone', 'touch', 'screen', 'stop', 'work', 'restart', 'phone', 'get', 'work', 'phone', 'huge', 'disappoint', 'worth', 'paid', 'back', 'camera', 'stop', 'work', 'phone', 'touch', 'screen', 'stop', 'work', 'restart', 'phone', 'get', 'work', 'phone', 'huge', 'disappoint', 'worth', 'paid', 'back', 'camera', 'stop', 'work', 'phone', 'touch', 'screen', 'stop', 'work', 'restart', 'phone', 'get', 'work', 'phone', 'huge', 'disappoint', 'worth', 'paid', 'back', 'camera', 'stop', 'work', 'phone', 'touch', 'screen', 'stop', 'work', 'restart', 'phone', 'get', 'work', 'phone', 'huge', 'disappoint', 'worth', 'paid', 'back', 'camera', 'stop', 'work', 'phone', 'touch', 'screen', 'stop', 'work', 'restart', 'phone', 'get', 'work', 'phone', 'huge', 'disappoint', 'worth', 'paid', 'back', 'camera', 'stop', 'work', 'phone', 'touch', 'screen', 'stop', 'work', 'restart', 'phone', 'get', 'work', 'phone', 'huge', 'disappoint', 'worth', 'paid', 'back', 'camera', 'stop', 'work', 'phone', 'touch', 'screen', 'stop', 'work', 'restart', 'phone', 'get', 'work', 'phone', 'huge', 'disappoint', 'worth', 'paid', 'back', 'camera', 'stop', 'work', 'phone', 'touch', 'screen', 'stop', 'work', 'restart', 'phone', 'get', 'work', 'phone', 'huge', 'disappoint', 'worth', 'paid', 'back', 'camera', 'stop', 'work', 'phone', 'touch', 'screen', 'stop', 'work', 'restart', 'phone', 'get', 'work', 'phone', 'huge', 'disappoint', 'worth', 'paid', 'back', 'camera', 'stop', 'work', 'phone', 'touch', 'screen', 'stop', 'work', 'restart', 'phone', 'get', 'work', 'phone', 'huge', 'disappoint', 'worth', 'paid', 'back', 'camera', 'stop', 'work', 'phone', 'touch', 'screen', 'stop', 'work', 'restart', 'phone', 'get', 'work', 'phone', 'huge', 'disappoint', 'worth', 'paid', 'back', 'camera', 'stop', 'work', 'phone', 'touch', 'screen', 'stop', 'work', 'restart', 'phone', 'get', 'work', 'phone', 'huge', 'disappoint', 'worth', 'paid', 'back', 'camera', 'stop', 'work', 'phone', 'touch', 'screen', 'stop', 'work', 'restart', 'phone', 'get', 'work', 'phone', 'huge', 'disappoint', 'worth', 'paid', 'back', 'camera', 'stop', 'work', 'phone', 'touch', 'screen', 'stop', 'work', 'restart', 'phone', 'get', 'work', 'phone', 'huge', 'disappoint', 'worth', 'paid', 'back', 'camera', 'stop', 'work', 'phone', 'touch', 'screen', 'stop', 'work', 'restart', 'phone', 'get', 'work', 'phone', 'huge', 'disappoint', 'worth', 'paid', 'back', 'camera', 'stop', 'work', 'phone', 'touch', 'screen', 'stop', 'work', 'restart', 'phone', 'get', 'work', 'phone', 'huge', 'disappoint', 'worth', 'paid', 'back', 'camera', 'stop', 'work', 'phone', 'touch', 'screen', 'stop', 'work', 'restart', 'phone', 'get', 'work', 'phone', 'huge', 'disappoint', 'worth', 'paid', 'back', 'camera', 'stop', 'work', 'phone', 'touch', 'screen', 'stop', 'work', 'restart', 'phone', 'get', 'work', 'phone', 'huge', 'disappoint', 'worth', 'paid', 'back', 'camera', 'stop', 'work', 'phone', 'touch', 'screen', 'stop', 'work', 'restart', 'phone', 'get', 'work', 'phone', 'huge', 'disappoint', 'worth', 'paid', 'back', 'camera', 'stop', 'work', 'phone', 'touch', 'screen', 'stop', 'work', 'restart', 'phone', 'get', 'work', 'phone', 'huge', 'disappoint', 'worth', 'paid', 'back', 'camera', 'stop', 'work', 'phone', 'touch', 'screen', 'stop', 'work', 'restart', 'phone', 'get', 'work', 'phone', 'huge', 'disappoint', 'worth', 'paid', 'back', 'camera', 'stop', 'work', 'phone', 'touch', 'screen', 'stop', 'work', 'restart', 'phone', 'get', 'work', 'phone', 'huge', 'disappoint', 'worth', 'paid', 'back', 'camera', 'stop', 'work', 'phone', 'touch', 'screen', 'stop', 'work', 'restart', 'phone', 'get', 'work', 'phone', 'huge', 'disappoint', 'worth', 'paid', 'back', 'camera', 'stop', 'work', 'phone', 'touch', 'screen', 'stop', 'work', 'restart', 'phone', 'get', 'work', 'phone', 'huge', 'disappoint', 'worth', 'paid', 'back', 'camera', 'stop', 'work', 'phone', 'touch', 'screen', 'stop', 'work', 'restart', 'phone', 'get', 'work', 'phone', 'huge', 'disappoint', 'worth', 'paid', 'back', 'camera', 'stop', 'work', 'phone', 'touch', 'screen', 'stop', 'work', 'restart', 'phone', 'get', 'work', 'phone', 'huge', 'disappoint', 'worth', 'paid', 'back', 'camera', 'stop', 'work', 'phone', 'touch', 'screen', 'stop', 'work', 'restart', 'phone', 'get', 'work', 'phone', 'huge', 'disappoint', 'worth', 'paid', 'back', 'camera', 'stop', 'work', 'phone', 'touch', 'screen', 'stop', 'work', 'restart', 'phone', 'get', 'work', 'phone', 'huge', 'disappoint', 'worth', 'paid', 'back', 'camera', 'stop', 'work', 'phone', 'touch', 'screen', 'stop', 'work', 'restart', 'phone', 'get', 'work', 'phone', 'huge', 'disappoint', 'worth', 'paid', 'back', 'camera', 'stop', 'work', 'phone', 'touch', 'screen', 'stop', 'work', 'restart', 'phone', 'get', 'work', 'phone', 'huge', 'disappoint', 'worth', 'paid', 'back', 'camera', 'stop', 'work', 'phone', 'touch', 'screen', 'stop', 'work', 'restart', 'phone', 'get', 'work', 'phone', 'huge', 'disappoint', 'worth', 'paid', 'back', 'camera', 'stop', 'work', 'phone', 'touch', 'screen', 'stop', 'work', 'restart', 'phone', 'get', 'work', 'phone', 'huge', 'disappoint', 'worth', 'paid', 'back', 'camera', 'stop', 'work', 'phone', 'touch', 'screen', 'stop', 'work', 'restart', 'phone', 'get', 'work', 'phone', 'huge', 'disappoint', 'worth', 'paid', 'back', 'camera', 'stop', 'work', 'phone', 'touch', 'screen', 'stop', 'work', 'restart', 'phone', 'get', 'work', 'phone', 'huge', 'disappoint', 'worth', 'paid', 'back', 'camera', 'stop', 'work', 'phone', 'touch', 'screen', 'stop', 'work', 'restart', 'phone', 'get', 'work', 'phone', 'huge', 'disappoint', 'worth', 'paid', 'back', 'camera', 'stop', 'work', 'phone', 'touch', 'screen', 'stop', 'work', 'restart', 'phone', 'get', 'work', 'phone', 'huge', 'disappoint', 'worth', 'paid', 'back', 'camera', 'stop', 'work', 'phone', 'touch', 'screen', 'stop', 'work', 'restart', 'phone', 'get', 'work', 'phone', 'huge', 'disappoint', 'worth', 'paid', 'back', 'camera', 'stop', 'work', 'phone', 'touch', 'screen', 'stop', 'work', 'restart', 'phone', 'get', 'work', 'phone', 'huge', 'disappoint', 'worth', 'paid', 'back', 'camera', 'stop', 'work', 'phone', 'touch', 'screen', 'stop', 'work', 'restart', 'phone', 'get', 'work', 'phone', 'huge', 'disappoint', 'worth', 'paid', 'back', 'camera', 'stop', 'work', 'phone', 'touch', 'screen', 'stop', 'work', 'restart', 'phone', 'get', 'work', 'phone', 'huge', 'disappoint', 'worth', 'paid', 'back', 'camera', 'stop', 'work', 'phone', 'touch', 'screen', 'stop', 'work', 'restart', 'phone', 'get', 'work', 'phone', 'huge', 'disappoint', 'worth', 'paid', 'back', 'camera', 'stop', 'work', 'phone', 'touch', 'screen', 'stop', 'work', 'restart', 'phone', 'get', 'work', 'phone', 'huge', 'disappoint', 'worth', 'paid', 'back', 'camera', 'stop', 'work', 'phone', 'touch', 'screen', 'stop', 'work', 'restart', 'phone', 'get', 'work', 'phone', 'huge', 'disappoint', 'worth', 'paid', 'back', 'camera', 'stop', 'work', 'phone', 'touch', 'screen', 'stop', 'work', 'restart', 'phone', 'get', 'work', 'phone', 'huge', 'disappoint', 'worth', 'paid', 'back', 'camera', 'stop', 'work', 'phone', 'touch', 'screen', 'stop', 'work', 'restart', 'phone', 'get', 'work', 'phone', 'huge', 'disappoint', 'worth', 'paid', 'back', 'camera', 'stop', 'work', 'phone', 'touch', 'screen', 'stop', 'work', 'restart', 'phone', 'get', 'work', 'phone', 'huge', 'disappoint', 'worth', 'paid', 'back', 'camera', 'stop', 'work', 'phone', 'touch', 'screen', 'stop', 'work', 'restart', 'phone', 'get', 'work', 'phone', 'huge', 'disappoint', 'worth', 'paid', 'back', 'camera', 'stop', 'work', 'phone', 'touch', 'screen', 'stop', 'work', 'restart', 'phone', 'get', 'work', 'phone', 'huge', 'disappoint', 'worth', 'paid', 'back', 'camera', 'stop', 'work', 'phone', 'touch', 'screen', 'stop', 'work', 'restart', 'phone', 'get', 'work', 'phone', 'huge', 'disappoint', 'worth', 'paid', 'back', 'camera', 'stop', 'work', 'phone', 'touch', 'screen', 'stop', 'work', 'restart', 'phone', 'get', 'work', 'phone', 'huge', 'disappoint', 'worth', 'paid', 'back', 'camera', 'stop', 'work', 'phone', 'touch', 'screen', 'stop', 'work', 'restart', 'phone', 'get', 'work', 'phone', 'huge', 'disappoint', 'worth', 'paid', 'back', 'camera', 'stop', 'work', 'phone', 'touch', 'screen', 'stop', 'work', 'restart', 'phone', 'get', 'work', 'phone', 'huge', 'disappoint', 'worth', 'paid', 'back', 'camera', 'stop', 'work', 'phone', 'touch', 'screen', 'stop', 'work', 'restart', 'phone', 'get', 'work', 'phone', 'huge', 'disappoint', 'worth', 'paid', 'back', 'camera', 'stop', 'work', 'phone', 'touch', 'screen', 'stop', 'work', 'restart', 'phone', 'get', 'work', 'phone', 'huge', 'disappoint', 'worth', 'paid', 'back', 'camera', 'stop', 'work', 'phone', 'touch', 'screen', 'stop', 'work', 'restart', 'phone', 'get', 'work', 'phone', 'huge', 'disappoint', 'worth', 'paid', 'back', 'camera', 'stop', 'work', 'phone', 'touch', 'screen', 'stop', 'work', 'restart', 'phone', 'get', 'work', 'phone', 'huge', 'disappoint', 'worth', 'paid', 'back', 'camera', 'stop', 'work', 'phone', 'touch', 'screen', 'stop', 'work', 'restart', 'phone', 'get', 'work', 'phone', 'huge', 'disappoint', 'worth', 'paid', 'back', 'camera', 'stop', 'work', 'phone', 'touch', 'screen', 'stop', 'work', 'restart', 'phone', 'get', 'work', 'phone', 'huge', 'disappoint', 'worth', 'paid', 'back', 'camera', 'stop', 'work', 'phone', 'touch', 'screen', 'stop', 'work', 'restart', 'phone', 'get', 'work', 'phone', 'huge', 'disappoint', 'worth', 'paid', 'back', 'camera', 'stop', 'work', 'phone', 'touch', 'screen', 'stop', 'work', 'restart', 'phone', 'get', 'work', 'phone', 'huge', 'disappoint', 'worth', 'paid', 'back', 'camera', 'stop', 'work', 'phone', 'touch', 'screen', 'stop', 'work', 'restart', 'phone', 'get', 'work', 'phone', 'huge', 'disappoint', 'worth', 'paid', 'back', 'camera', 'stop', 'work', 'phone', 'touch', 'screen', 'stop', 'work', 'restart', 'phone', 'get', 'work', 'phone', 'huge', 'disappoint', 'worth', 'paid', 'back', 'camera', 'stop', 'work', 'phone', 'touch', 'screen', 'stop', 'work', 'restart', 'phone', 'get', 'work', 'phone', 'huge', 'disappoint', 'worth', 'paid', 'back', 'camera', 'stop', 'work', 'phone', 'touch', 'screen', 'stop', 'work', 'restart', 'phone', 'get', 'work', 'phone', 'huge', 'disappoint', 'worth', 'paid', 'back', 'camera', 'stop', 'work', 'phone', 'touch', 'screen', 'stop', 'work', 'restart', 'phone', 'get', 'work', 'phone', 'huge', 'disappoint', 'worth', 'paid', 'back', 'camera', 'stop', 'work', 'phone', 'touch', 'screen', 'stop', 'work', 'restart', 'phone', 'get', 'work', 'phone', 'huge', 'disappoint', 'worth', 'paid', 'back', 'camera', 'stop', 'work', 'phone', 'touch', 'screen', 'stop', 'work', 'restart', 'phone', 'get', 'work', 'phone', 'huge', 'disappoint', 'worth', 'paid', 'back', 'camera', 'stop', 'work', 'phone', 'touch', 'screen', 'stop', 'work', 'restart', 'phone', 'get', 'work', 'phone', 'huge', 'disappoint', 'worth', 'paid', 'back', 'camera', 'stop', 'work', 'phone', 'touch', 'screen', 'stop', 'work', 'restart', 'phone', 'get', 'work', 'phone', 'huge', 'disappoint', 'worth', 'paid', 'back', 'camera', 'stop', 'work', 'phone', 'touch', 'screen', 'stop', 'work', 'restart', 'phone', 'get', 'work', 'phone', 'huge', 'disappoint', 'worth', 'paid', 'back', 'camera', 'stop', 'work', 'phone', 'touch', 'screen', 'stop', 'work', 'restart', 'phone', 'get', 'work', 'phone', 'huge', 'disappoint', 'worth', 'paid', 'back', 'camera', 'stop', 'work', 'phone', 'touch', 'screen', 'stop', 'work', 'restart', 'phone', 'get', 'work', 'phone', 'huge', 'disappoint', 'worth', 'paid', 'back', 'camera', 'stop', 'work', 'phone', 'touch', 'screen', 'stop', 'work', 'restart', 'phone', 'get', 'work', 'phone', 'huge', 'disappoint', 'worth', 'paid', 'back', 'camera', 'stop', 'work', 'phone', 'touch', 'screen', 'stop', 'work', 'restart', 'phone', 'get', 'work', 'phone', 'huge', 'disappoint', 'worth', 'paid', 'back', 'camera', 'stop', 'work', 'phone', 'touch', 'screen', 'stop', 'work', 'restart', 'phone', 'get', 'work', 'phone', 'huge', 'disappoint', 'worth', 'paid', 'back', 'camera', 'stop', 'work', 'phone', 'touch', 'screen', 'stop', 'work', 'restart', 'phone', 'get', 'work', 'phone', 'huge', 'disappoint', 'worth', 'paid', 'back', 'camera', 'stop', 'work', 'phone', 'touch', 'screen', 'stop', 'work', 'restart', 'phone', 'get', 'work', 'phone', 'huge', 'disappoint', 'worth', 'paid', 'back', 'camera', 'stop', 'work', 'phone', 'touch', 'screen', 'stop', 'work', 'restart', 'phone', 'get', 'work', 'phone', 'huge', 'disappoint', 'worth', 'paid', 'back', 'camera', 'stop', 'work', 'phone', 'touch', 'screen', 'stop', 'work', 'restart', 'phone', 'get', 'work', 'phone', 'huge', 'disappoint', 'worth', 'paid', 'back', 'camera', 'stop', 'work', 'phone', 'touch', 'screen', 'stop', 'work', 'restart', 'phone', 'get', 'work', 'phone', 'huge', 'disappoint', 'worth', 'paid', 'back', 'camera', 'stop', 'work', 'phone', 'touch', 'screen', 'stop', 'work', 'restart', 'phone', 'get', 'work', 'phone', 'huge', 'disappoint', 'worth', 'paid', 'back', 'camera', 'stop', 'work', 'phone', 'touch', 'screen', 'stop', 'work', 'restart', 'phone', 'get', 'work', 'phone', 'huge', 'disappoint', 'worth', 'paid', 'back', 'camera', 'stop', 'work', 'phone', 'touch', 'screen', 'stop', 'work', 'restart', 'phone', 'get', 'work', 'phone', 'huge', 'disappoint', 'worth', 'paid', 'back', 'camera', 'stop', 'work', 'phone', 'touch', 'screen', 'stop', 'work', 'restart', 'phone', 'get', 'work', 'phone', 'huge', 'disappoint', 'worth', 'paid', 'back', 'camera', 'stop', 'work', 'phone', 'touch', 'screen', 'stop', 'work', 'restart', 'phone', 'get', 'work', 'phone', 'huge', 'disappoint', 'worth', 'paid', 'back', 'camera', 'stop', 'work', 'phone', 'touch', 'screen', 'stop', 'work', 'restart', 'phone', 'get', 'work', 'phone', 'huge', 'disappoint', 'worth', 'paid', 'back', 'camera', 'stop', 'work', 'phone', 'touch', 'screen', 'stop', 'work', 'restart', 'phone', 'get', 'work', 'phone', 'huge', 'disappoint', 'worth', 'paid', 'back', 'camera', 'stop', 'work', 'phone', 'touch', 'screen', 'stop', 'work', 'restart', 'phone', 'get', 'work', 'phone', 'huge', 'disappoint', 'worth', 'paid', 'back', 'camera', 'stop', 'work', 'phone', 'touch', 'screen', 'stop', 'work', 'restart', 'phone', 'get', 'work', 'phone', 'huge', 'disappoint', 'worth', 'paid', 'back', 'camera', 'stop', 'work', 'phone', 'touch', 'screen', 'stop', 'work', 'restart', 'phone', 'get', 'work', 'phone', 'huge', 'disappoint', 'worth', 'paid', 'back', 'camera', 'stop', 'work', 'phone', 'touch', 'screen', 'stop', 'work', 'restart', 'phone', 'get', 'work', 'phone', 'huge', 'disappoint', 'worth', 'paid', 'back', 'camera', 'stop', 'work', 'phone', 'touch', 'screen', 'stop', 'work', 'restart', 'phone', 'get', 'work', 'phone', 'huge', 'disappoint', 'worth', 'paid', 'back', 'camera', 'stop', 'work', 'phone', 'touch', 'screen', 'stop', 'work', 'restart', 'phone', 'get', 'work', 'phone', 'huge', 'disappoint', 'worth', 'paid', 'back', 'camera', 'stop', 'work', 'phone', 'touch', 'screen', 'stop', 'work', 'restart', 'phone', 'get', 'work', 'phone', 'huge', 'disappoint', 'worth', 'paid', 'back', 'camera', 'stop', 'work', 'phone', 'touch', 'screen', 'stop', 'work', 'restart', 'phone', 'get', 'work', 'phone', 'huge', 'disappoint', 'worth', 'paid', 'back', 'camera', 'stop', 'work', 'phone', 'touch', 'screen', 'stop', 'work', 'restart', 'phone', 'get', 'work', 'phone', 'huge', 'disappoint', 'worth', 'paid', 'back', 'camera', 'stop', 'work', 'phone', 'touch', 'screen', 'stop', 'work', 'restart', 'phone', 'get', 'work', 'phone', 'huge', 'disappoint', 'worth', 'paid', 'back', 'camera', 'stop', 'work', 'phone', 'touch', 'screen', 'stop', 'work', 'restart', 'phone', 'get', 'work', 'phone', 'huge', 'disappoint', 'worth', 'paid', 'back', 'camera', 'stop', 'work', 'phone', 'touch', 'screen', 'stop', 'work', 'restart', 'phone', 'get', 'work', 'phone', 'huge', 'disappoint', 'worth', 'paid', 'back', 'camera', 'stop', 'work', 'phone', 'touch', 'screen', 'stop', 'work', 'restart', 'phone', 'get', 'work', 'phone', 'huge', 'disappoint', 'worth', 'paid', 'back', 'camera', 'stop', 'work', 'phone', 'touch', 'screen', 'stop', 'work', 'restart', 'phone', 'get', 'work', 'phone', 'huge', 'disappoint', 'worth', 'paid', 'back', 'camera', 'stop', 'work', 'phone', 'touch', 'screen', 'stop', 'work', 'restart', 'phone', 'get', 'work', 'phone', 'huge', 'disappoint', 'worth', 'paid', 'back', 'camera', 'stop', 'work', 'phone', 'touch', 'screen', 'stop', 'work', 'restart', 'phone', 'get', 'work', 'phone', 'huge', 'disappoint', 'worth', 'paid', 'back', 'camera', 'stop', 'work', 'phone', 'touch', 'screen', 'stop', 'work', 'restart', 'phone', 'get', 'work', 'phone', 'huge', 'disappoint', 'worth', 'paid', 'back', 'camera', 'stop', 'work', 'phone', 'touch', 'screen', 'stop', 'work', 'restart', 'phone', 'get', 'work', 'phone', 'huge', 'disappoint', 'worth', 'paid', 'back', 'camera', 'stop', 'work', 'phone', 'touch', 'screen', 'stop', 'work', 'restart', 'phone', 'get', 'work', 'phone', 'huge', 'disappoint', 'worth', 'paid', 'back', 'camera', 'stop', 'work', 'phone', 'touch', 'screen', 'stop', 'work', 'restart', 'phone', 'get', 'work', 'phone', 'huge', 'disappoint', 'worth', 'paid', 'back', 'camera', 'stop', 'work', 'phone', 'touch', 'screen', 'stop', 'work', 'restart', 'phone', 'get', 'work', 'phone', 'huge', 'disappoint', 'worth', 'paid', 'back', 'camera', 'stop', 'work', 'phone', 'touch', 'screen', 'stop', 'work', 'restart', 'phone', 'get', 'work', 'phone', 'huge', 'disappoint', 'worth', 'paid', 'back', 'camera', 'stop', 'work', 'phone', 'touch', 'screen', 'stop', 'work', 'restart', 'phone', 'get', 'work', 'phone', 'huge', 'disappoint', 'worth', 'paid', 'back', 'camera', 'stop', 'work', 'phone', 'touch', 'screen', 'stop', 'work', 'restart', 'phone', 'get', 'work', 'phone', 'huge', 'disappoint', 'worth', 'paid', 'back', 'camera', 'stop', 'work', 'phone', 'touch', 'screen', 'stop', 'work', 'restart', 'phone', 'get', 'work', 'phone', 'huge', 'disappoint', 'worth', 'paid', 'back', 'camera', 'stop', 'work', 'phone', 'touch', 'screen', 'stop', 'work', 'restart', 'phone', 'get', 'work', 'phone', 'huge', 'disappoint', 'worth', 'paid', 'back', 'camera', 'stop', 'work', 'phone', 'touch', 'screen', 'stop', 'work', 'restart', 'phone', 'get', 'work', 'phone', 'huge', 'disappoint', 'worth', 'paid', 'back', 'camera', 'stop', 'work', 'phone', 'touch', 'screen', 'stop', 'work', 'restart', 'phone', 'get', 'work', 'phone', 'huge', 'disappoint', 'worth', 'paid', 'back', 'camera', 'stop', 'work', 'phone', 'touch', 'screen', 'stop', 'work', 'restart', 'phone', 'get', 'work', 'phone', 'huge', 'disappoint', 'worth', 'paid', 'back', 'camera', 'stop', 'work', 'phone', 'touch', 'screen', 'stop', 'work', 'restart', 'phone', 'get', 'work', 'phone', 'huge', 'disappoint', 'worth', 'paid', 'back', 'camera', 'stop', 'work', 'phone', 'touch', 'screen', 'stop', 'work', 'restart', 'phone', 'get', 'work', 'phone', 'huge', 'disappoint', 'worth', 'paid', 'back', 'camera', 'stop', 'work', 'phone', 'touch', 'screen', 'stop', 'work', 'restart', 'phone', 'get', 'work', 'phone', 'huge', 'disappoint', 'worth', 'paid', 'back', 'camera', 'stop', 'work', 'phone', 'touch', 'screen', 'stop', 'work', 'restart', 'phone', 'get', 'work', 'phone', 'huge', 'disappoint', 'worth', 'paid', 'back', 'camera', 'stop', 'work', 'phone', 'touch', 'screen', 'stop', 'work', 'restart', 'phone', 'get', 'work', 'phone', 'huge', 'disappoint', 'worth', 'paid', 'back', 'camera', 'stop', 'work', 'phone', 'touch', 'screen', 'stop', 'work', 'restart', 'phone', 'get', 'work', 'phone', 'huge', 'disappoint', 'worth', 'paid', 'back', 'camera', 'stop', 'work', 'phone', 'touch', 'screen', 'stop', 'work', 'restart', 'phone', 'get', 'work', 'phone', 'huge', 'disappoint', 'worth', 'paid', 'back', 'camera', 'stop', 'work', 'phone', 'touch', 'screen', 'stop', 'work', 'restart', 'phone', 'get', 'work', 'phone', 'huge', 'disappoint', 'worth', 'paid', 'back', 'camera', 'stop', 'work', 'phone', 'touch', 'screen', 'stop', 'work', 'restart', 'phone', 'get', 'work', 'phone', 'huge', 'disappoint', 'worth', 'paid', 'back', 'camera', 'stop', 'work', 'phone', 'touch', 'screen', 'stop', 'work', 'restart', 'phone', 'get', 'work', 'phone', 'huge', 'disappoint', 'worth', 'paid', 'back', 'camera', 'stop', 'work', 'phone', 'touch', 'screen', 'stop', 'work', 'restart', 'phone', 'get', 'work', 'phone', 'huge', 'disappoint', 'worth', 'paid', 'back', 'camera', 'stop', 'work', 'phone', 'touch', 'screen', 'stop', 'work', 'restart', 'phone', 'get', 'work', 'phone', 'huge', 'disappoint', 'worth', 'paid', 'back', 'camera', 'stop', 'work', 'phone', 'touch', 'screen', 'stop', 'work', 'restart', 'phone', 'get', 'work', 'phone', 'huge', 'disappoint', 'worth', 'paid', 'back', 'camera', 'stop', 'work', 'phone', 'touch', 'screen', 'stop', 'work', 'restart', 'phone', 'get', 'work', 'phone', 'huge', 'disappoint', 'worth', 'paid', 'back', 'camera', 'stop', 'work', 'phone', 'touch', 'screen', 'stop', 'work', 'restart', 'phone', 'get', 'work', 'phone', 'huge', 'disappoint', 'worth', 'paid', 'back', 'camera', 'stop', 'work', 'phone', 'touch', 'screen', 'stop', 'work', 'restart', 'phone', 'get', 'work', 'phone', 'huge', 'disappoint', 'worth', 'paid', 'back', 'camera', 'stop', 'work', 'phone', 'touch', 'screen', 'stop', 'work', 'restart', 'phone', 'get', 'work', 'phone', 'huge', 'disappoint', 'worth', 'paid', 'back', 'camera', 'stop', 'work', 'phone', 'touch', 'screen', 'stop', 'work', 'restart', 'phone', 'get', 'work', 'phone', 'huge', 'disappoint', 'worth', 'paid', 'back', 'camera', 'stop', 'work', 'phone', 'touch', 'screen', 'stop', 'work', 'restart', 'phone', 'get', 'work', 'phone', 'huge', 'disappoint', 'worth', 'paid', 'back', 'camera', 'stop', 'work', 'phone', 'touch', 'screen', 'stop', 'work', 'restart', 'phone', 'get', 'work', 'phone', 'huge', 'disappoint', 'worth', 'paid', 'back', 'camera', 'stop', 'work', 'phone', 'touch', 'screen', 'stop', 'work', 'restart', 'phone', 'get', 'work', 'phone', 'huge', 'disappoint', 'worth', 'paid', 'back', 'camera', 'stop', 'work', 'phone', 'touch', 'screen', 'stop', 'work', 'restart', 'phone', 'get', 'work', 'phone', 'huge', 'disappoint', 'worth', 'paid', 'back', 'camera', 'stop', 'work', 'phone', 'touch', 'screen', 'stop', 'work', 'restart', 'phone', 'get', 'work', 'phone', 'huge', 'disappoint', 'worth', 'paid', 'back', 'camera', 'stop', 'work', 'phone', 'touch', 'screen', 'stop', 'work', 'restart', 'phone', 'get', 'work', 'phone', 'huge', 'disappoint', 'worth', 'paid', 'back', 'camera', 'stop', 'work', 'phone', 'touch', 'screen', 'stop', 'work', 'restart', 'phone', 'get', 'work', 'phone', 'huge', 'disappoint', 'worth', 'paid', 'back', 'camera', 'stop', 'work', 'phone', 'touch', 'screen', 'stop', 'work', 'restart', 'phone', 'get', 'work', 'phone', 'huge', 'disappoint', 'worth', 'paid', 'back', 'camera', 'stop', 'work', 'phone', 'touch', 'screen', 'stop', 'work', 'restart', 'phone', 'get', 'work', 'phone', 'huge', 'disappoint', 'worth', 'paid', 'back', 'camera', 'stop', 'work', 'phone', 'touch', 'screen', 'stop', 'work', 'restart', 'phone', 'get', 'work', 'phone', 'huge', 'disappoint', 'worth', 'paid', 'back', 'camera', 'stop', 'work', 'phone', 'touch', 'screen', 'stop', 'work', 'restart', 'phone', 'get', 'work', 'phone', 'huge', 'disappoint', 'worth', 'paid', 'back', 'camera', 'stop', 'work', 'phone', 'touch', 'screen', 'stop', 'work', 'restart', 'phone', 'get', 'work', 'phone', 'huge', 'disappoint', 'worth', 'paid', 'back', 'camera', 'stop', 'work', 'phone', 'touch', 'screen', 'stop', 'work', 'restart', 'phone', 'get', 'work', 'phone', 'huge', 'disappoint', 'worth', 'paid', 'back', 'camera', 'stop', 'work', 'phone', 'touch', 'screen', 'stop', 'work', 'restart', 'phone', 'get', 'work', 'phone', 'huge', 'disappoint', 'worth', 'paid', 'back', 'camera', 'stop', 'work', 'phone', 'touch', 'screen', 'stop', 'work', 'restart', 'phone', 'get', 'work', 'phone', 'huge', 'disappoint', 'worth', 'paid', 'back', 'camera', 'stop', 'work', 'phone', 'touch', 'screen', 'stop', 'work', 'restart', 'phone', 'get', 'work', 'phone', 'huge', 'disappoint', 'worth', 'paid', 'back', 'camera', 'stop', 'work', 'phone', 'touch', 'screen', 'stop', 'work', 'restart', 'phone', 'get', 'work', 'phone', 'huge', 'disappoint', 'worth', 'paid', 'back', 'camera', 'stop', 'work', 'phone', 'touch', 'screen', 'stop', 'work', 'restart', 'phone', 'get', 'work', 'phone', 'huge', 'disappoint', 'worth', 'paid', 'back', 'camera', 'stop', 'work', 'phone', 'touch', 'screen', 'stop', 'work', 'restart', 'phone', 'get', 'work', 'phone', 'huge', 'disappoint', 'worth', 'paid', 'back', 'camera', 'stop', 'work', 'phone', 'touch', 'screen', 'stop', 'work', 'restart', 'phone', 'get', 'work', 'phone', 'huge', 'disappoint', 'worth', 'paid', 'back', 'camera', 'stop', 'work', 'phone', 'touch', 'screen', 'stop', 'work', 'restart', 'phone', 'get', 'work', 'phone', 'huge', 'disappoint', 'worth', 'paid', 'back', 'camera', 'stop', 'work', 'phone', 'touch', 'screen', 'stop', 'work', 'restart', 'phone', 'get', 'work', 'phone', 'huge', 'disappoint', 'worth', 'paid', 'back', 'camera', 'stop', 'work', 'phone', 'touch', 'screen', 'stop', 'work', 'restart', 'phone', 'get', 'work', 'phone', 'huge', 'disappoint', 'worth', 'paid', 'back', 'camera', 'stop', 'work', 'phone', 'touch', 'screen', 'stop', 'work', 'restart', 'phone', 'get', 'work', 'phone', 'huge', 'disappoint', 'worth', 'paid', 'back', 'camera', 'stop', 'work', 'phone', 'touch', 'screen', 'stop', 'work', 'restart', 'phone', 'get', 'work', 'phone', 'huge', 'disappoint', 'worth', 'paid', 'back', 'camera', 'stop', 'work', 'phone', 'touch', 'screen', 'stop', 'work', 'restart', 'phone', 'get', 'work', 'phone', 'huge', 'disappoint', 'worth', 'paid', 'back', 'camera', 'stop', 'work', 'phone', 'touch', 'screen', 'stop', 'work', 'restart', 'phone', 'get', 'work', 'phone', 'huge', 'disappoint', 'worth', 'paid', 'back', 'camera', 'stop', 'work', 'phone', 'touch', 'screen', 'stop', 'work', 'restart', 'phone', 'get', 'work', 'phone', 'huge', 'disappoint', 'worth', 'paid', 'back', 'camera', 'stop', 'work', 'phone', 'touch', 'screen', 'stop', 'work', 'restart', 'phone', 'get', 'work', 'phone', 'huge', 'disappoint', 'worth', 'paid', 'back', 'camera', 'stop', 'work', 'phone', 'touch', 'screen', 'stop', 'work', 'restart', 'phone', 'get', 'work', 'phone', 'huge', 'disappoint', 'worth', 'paid', 'back', 'camera', 'stop', 'work', 'phone', 'touch', 'screen', 'stop', 'work', 'restart', 'phone', 'get', 'work', 'phone', 'huge', 'disappoint', 'worth', 'paid', 'back', 'camera', 'stop', 'work', 'phone', 'touch', 'screen', 'stop', 'work', 'restart', 'phone', 'get', 'work', 'phone', 'huge', 'disappoint', 'worth', 'paid', 'back', 'camera', 'stop', 'work', 'phone', 'touch', 'screen', 'stop', 'work', 'restart', 'phone', 'get', 'work', 'phone', 'huge', 'disappoint', 'worth', 'paid', 'back', 'camera', 'stop', 'work', 'phone', 'touch', 'screen', 'stop', 'work', 'restart', 'phone', 'get', 'work', 'phone', 'huge', 'disappoint', 'worth', 'paid', 'back', 'camera', 'stop', 'work', 'phone', 'touch', 'screen', 'stop', 'work', 'restart', 'phone', 'get', 'work', 'phone', 'huge', 'disappoint', 'worth', 'paid', 'back', 'camera', 'stop', 'work', 'phone', 'touch', 'screen', 'stop', 'work', 'restart', 'phone', 'get', 'work', 'phone', 'huge', 'disappoint', 'worth', 'paid', 'back', 'camera', 'stop', 'work', 'phone', 'touch', 'screen', 'stop', 'work', 'restart', 'phone', 'get', 'work', 'phone', 'huge', 'disappoint', 'worth', 'paid', 'back', 'camera', 'stop', 'work', 'phone', 'touch', 'screen', 'stop', 'work', 'restart', 'phone', 'get', 'work', 'phone', 'huge', 'disappoint', 'worth', 'paid', 'back', 'camera', 'stop', 'work', 'phone', 'touch', 'screen', 'stop', 'work', 'restart', 'phone', 'get', 'work', 'phone', 'huge', 'disappoint', 'worth', 'paid', 'back', 'camera', 'stop', 'work', 'phone', 'touch', 'screen', 'stop', 'work', 'restart', 'phone', 'get', 'work', 'phone', 'huge', 'disappoint', 'worth', 'paid', 'back', 'camera', 'stop', 'work', 'phone', 'touch', 'screen', 'stop', 'work', 'restart', 'phone', 'get', 'work', 'phone', 'huge', 'disappoint', 'worth', 'paid', 'back', 'camera', 'stop', 'work', 'phone', 'touch', 'screen', 'stop', 'work', 'restart', 'phone', 'get', 'work', 'phone', 'huge', 'disappoint', 'worth', 'paid', 'back', 'camera', 'stop', 'work', 'phone', 'touch', 'screen', 'stop', 'work', 'restart', 'phone', 'get', 'work', 'phone', 'huge', 'disappoint', 'worth', 'paid', 'back', 'camera', 'stop', 'work', 'phone', 'touch', 'screen', 'stop', 'work', 'restart', 'phone', 'get', 'work', 'phone', 'huge', 'disappoint', 'worth', 'paid', 'back', 'camera', 'stop', 'work', 'phone', 'touch', 'screen', 'stop', 'work', 'restart', 'phone', 'get', 'work', 'phone', 'huge', 'disappoint', 'worth', 'paid', 'back', 'camera', 'stop', 'work', 'phone', 'touch', 'screen', 'stop', 'work', 'restart', 'phone', 'get', 'work', 'phone', 'huge', 'disappoint', 'worth', 'paid', 'back', 'camera', 'stop', 'work', 'phone', 'touch', 'screen', 'stop', 'work', 'restart', 'phone', 'get', 'work', 'phone', 'huge', 'disappoint', 'worth', 'paid', 'back', 'camera', 'stop', 'work', 'phone', 'touch', 'screen', 'stop', 'work', 'restart', 'phone', 'get', 'work', 'phone', 'huge', 'disappoint', 'worth', 'paid', 'back', 'camera', 'stop', 'work', 'phone', 'touch', 'screen', 'stop', 'work', 'restart', 'phone', 'get', 'work', 'phone', 'huge', 'disappoint', 'worth', 'paid', 'back', 'camera', 'stop', 'work', 'phone', 'touch', 'screen', 'stop', 'work', 'restart', 'phone', 'get', 'work', 'phone', 'huge', 'disappoint', 'worth', 'paid', 'back', 'camera', 'stop', 'work', 'phone', 'touch', 'screen', 'stop', 'work', 'restart', 'phone', 'get', 'work', 'phone', 'huge', 'disappoint', 'worth', 'paid', 'back', 'camera', 'stop', 'work', 'phone', 'touch', 'screen', 'stop', 'work', 'restart', 'phone', 'get', 'work', 'phone', 'huge', 'disappoint', 'worth', 'paid', 'back', 'camera', 'stop', 'work', 'phone', 'touch', 'screen', 'stop', 'work', 'restart', 'phone', 'get', 'work', 'phone', 'huge', 'disappoint', 'worth', 'paid', 'back', 'camera', 'stop', 'work', 'phone', 'touch', 'screen', 'stop', 'work', 'restart', 'phone', 'get', 'work', 'phone', 'huge', 'disappoint', 'worth', 'paid', 'back', 'camera', 'stop', 'work', 'phone', 'touch', 'screen', 'stop', 'work', 'restart', 'phone', 'get', 'work', 'phone', 'huge', 'disappoint', 'worth', 'paid', 'back', 'camera', 'stop', 'work', 'phone', 'touch', 'screen', 'stop', 'work', 'restart', 'phone', 'get', 'work', 'phone', 'huge', 'disappoint', 'worth', 'paid', 'back', 'camera', 'stop', 'work', 'phone', 'touch', 'screen', 'stop', 'work', 'restart', 'phone', 'get', 'work', 'phone', 'huge', 'disappoint', 'worth', 'paid', 'back', 'camera', 'stop', 'work', 'phone', 'touch', 'screen', 'stop', 'work', 'restart', 'phone', 'get', 'work', 'phone', 'huge', 'disappoint', 'worth', 'paid', 'back', 'camera', 'stop', 'work', 'phone', 'touch', 'screen', 'stop', 'work', 'restart', 'phone', 'get', 'work', 'phone', 'huge', 'disappoint', 'worth', 'paid', 'back', 'camera', 'stop', 'work', 'phone', 'touch', 'screen', 'stop', 'work', 'restart', 'phone', 'get', 'work', 'phone', 'huge', 'disappoint', 'worth', 'paid', 'back', 'camera', 'stop', 'work', 'phone', 'touch', 'screen', 'stop', 'work', 'restart', 'phone', 'get', 'work', 'phone', 'huge', 'disappoint', 'worth', 'paid', 'back', 'camera', 'stop', 'work', 'phone', 'touch', 'screen', 'stop', 'work', 'restart', 'phone', 'get', 'work', 'phone', 'huge', 'disappoint', 'worth', 'paid', 'back', 'camera', 'stop', 'work', 'phone', 'touch', 'screen', 'stop', 'work', 'restart', 'phone', 'get', 'work', 'phone', 'huge', 'disappoint', 'worth', 'paid', 'back', 'camera', 'stop', 'work', 'phone', 'touch', 'screen', 'stop', 'work', 'restart', 'phone', 'get', 'work', 'phone', 'huge', 'disappoint', 'worth', 'paid', 'back', 'camera', 'stop', 'work', 'phone', 'touch', 'screen', 'stop', 'work', 'restart', 'phone', 'get', 'work', 'phone', 'huge', 'disappoint', 'worth', 'paid', 'back', 'camera', 'stop', 'work', 'phone', 'touch', 'screen', 'stop', 'work', 'restart', 'phone', 'get', 'work', 'phone', 'huge', 'disappoint', 'worth', 'paid', 'back', 'camera', 'stop', 'work', 'phone', 'touch', 'screen', 'stop', 'work', 'restart', 'phone', 'get', 'work', 'phone', 'huge', 'disappoint', 'worth', 'paid', 'back', 'camera', 'stop', 'work', 'phone', 'touch', 'screen', 'stop', 'work', 'restart', 'phone', 'get', 'work', 'phone', 'huge', 'disappoint', 'worth', 'paid', 'back', 'camera', 'stop', 'work', 'phone', 'touch', 'screen', 'stop', 'work', 'restart', 'phone', 'get', 'work', 'phone', 'huge', 'disappoint', 'worth', 'paid', 'back', 'camera', 'stop', 'work', 'phone', 'touch', 'screen', 'stop', 'work', 'restart', 'phone', 'get', 'work', 'phone', 'huge', 'disappoint', 'worth', 'paid', 'back', 'camera', 'stop', 'work', 'phone', 'touch', 'screen', 'stop', 'work', 'restart', 'phone', 'get', 'work', 'phone', 'huge', 'disappoint', 'worth', 'paid', 'back', 'camera', 'stop', 'work', 'phone', 'touch', 'screen', 'stop', 'work', 'restart', 'phone', 'get', 'work', 'phone', 'huge', 'disappoint', 'worth', 'paid', 'back', 'camera', 'stop', 'work', 'phone', 'touch', 'screen', 'stop', 'work', 'restart', 'phone', 'get', 'work', 'phone', 'huge', 'disappoint', 'worth', 'paid', 'back', 'camera', 'stop', 'work', 'phone', 'touch', 'screen', 'stop', 'work', 'restart', 'phone', 'get', 'work', 'phone', 'huge', 'disappoint', 'worth', 'paid', 'back', 'camera', 'stop', 'work', 'phone', 'touch', 'screen', 'stop', 'work', 'restart', 'phone', 'get', 'work', 'phone', 'huge', 'disappoint', 'worth', 'paid', 'back', 'camera', 'stop', 'work', 'phone', 'touch', 'screen', 'stop', 'work', 'restart', 'phone', 'get', 'work', 'phone', 'huge', 'disappoint', 'worth', 'paid', 'back', 'camera', 'stop', 'work', 'phone', 'touch', 'screen', 'stop', 'work', 'restart', 'phone', 'get', 'work', 'phone', 'huge', 'disappoint', 'worth', 'paid', 'back', 'camera', 'stop', 'work', 'phone', 'touch', 'screen', 'stop', 'work', 'restart', 'phone', 'get', 'work', 'phone', 'huge', 'disappoint', 'worth', 'paid', 'back', 'camera', 'stop', 'work', 'phone', 'touch', 'screen', 'stop', 'work', 'restart', 'phone', 'get', 'work', 'phone', 'huge', 'disappoint', 'worth', 'paid', 'back', 'camera', 'stop', 'work', 'phone', 'touch', 'screen', 'stop', 'work', 'restart', 'phone', 'get', 'work', 'phone', 'huge', 'disappoint', 'worth', 'paid', 'back', 'camera', 'stop', 'work', 'phone', 'touch', 'screen', 'stop', 'work', 'restart', 'phone', 'get', 'work', 'phone', 'huge', 'disappoint', 'worth', 'paid', 'back', 'camera', 'stop', 'work', 'phone', 'touch', 'screen', 'stop', 'work', 'restart', 'phone', 'get', 'work', 'phone', 'huge', 'disappoint', 'worth', 'paid', 'back', 'camera', 'stop', 'work', 'phone', 'touch', 'screen', 'stop', 'work', 'restart', 'phone', 'get', 'work', 'phone', 'huge', 'disappoint', 'worth', 'paid', 'back', 'camera', 'stop', 'work', 'phone', 'touch', 'screen', 'stop', 'work', 'restart', 'phone', 'get', 'work', 'phone', 'huge', 'disappoint', 'worth', 'paid', 'back', 'camera', 'stop', 'work', 'phone', 'touch', 'screen', 'stop', 'work', 'restart', 'phone', 'get', 'work', 'phone', 'huge', 'disappoint', 'worth', 'paid', 'back', 'camera', 'stop', 'work', 'phone', 'touch', 'screen', 'stop', 'work', 'restart', 'phone', 'get', 'work', 'phone', 'huge', 'disappoint', 'worth', 'paid', 'back', 'camera', 'stop', 'work', 'phone', 'touch', 'screen', 'stop', 'work', 'restart', 'phone', 'get', 'work', 'phone', 'huge', 'disappoint', 'worth', 'paid', 'back', 'camera', 'stop', 'work', 'phone', 'touch', 'screen', 'stop', 'work', 'restart', 'phone', 'get', 'work', 'phone', 'huge', 'disappoint', 'worth', 'paid', 'back', 'camera', 'stop', 'work', 'phone', 'touch', 'screen', 'stop', 'work', 'restart', 'phone', 'get', 'work', 'phone', 'huge', 'disappoint', 'worth', 'paid', 'back', 'camera', 'stop', 'work', 'phone', 'touch', 'screen', 'stop', 'work', 'restart', 'phone', 'get', 'work', 'phone', 'huge', 'disappoint', 'worth', 'paid', 'back', 'camera', 'stop', 'work', 'phone', 'touch', 'screen', 'stop', 'work', 'restart', 'phone', 'get', 'work', 'phone', 'huge', 'disappoint', 'worth', 'paid', 'back', 'camera', 'stop', 'work', 'phone', 'touch', 'screen', 'stop', 'work', 'restart', 'phone', 'get', 'work', 'phone', 'huge', 'disappoint', 'worth', 'paid', 'back', 'camera', 'stop', 'work', 'phone', 'touch', 'screen', 'stop', 'work', 'restart', 'phone', 'get', 'work', 'phone', 'huge', 'disappoint', 'worth', 'paid', 'back', 'camera', 'stop', 'work', 'phone', 'touch', 'screen', 'stop', 'work', 'restart', 'phone', 'get', 'work', 'phone', 'huge', 'disappoint', 'worth', 'paid', 'back', 'camera', 'stop', 'work', 'phone', 'touch', 'screen', 'stop', 'work', 'restart', 'phone', 'get', 'work', 'phone', 'huge', 'disappoint', 'worth', 'paid', 'back', 'camera', 'stop', 'work', 'phone', 'touch', 'screen', 'stop', 'work', 'restart', 'phone', 'get', 'work', 'phone', 'huge', 'disappoint', 'worth', 'paid', 'back', 'camera', 'stop', 'work', 'phone', 'touch', 'screen', 'stop', 'work', 'restart', 'phone', 'get', 'work', 'phone', 'huge', 'disappoint', 'worth', 'paid', 'back', 'camera', 'stop', 'work', 'phone', 'touch', 'screen', 'stop', 'work', 'restart', 'phone', 'get', 'work', 'phone', 'huge', 'disappoint', 'worth', 'paid', 'back', 'camera', 'stop', 'work', 'phone', 'touch', 'screen', 'stop', 'work', 'restart', 'phone', 'get', 'work', 'phone', 'huge', 'disappoint', 'worth', 'paid', 'back', 'camera', 'stop', 'work', 'phone', 'touch', 'screen', 'stop', 'work', 'restart', 'phone', 'get', 'work', 'phone', 'huge', 'disappoint', 'worth', 'paid', 'back', 'camera', 'stop', 'work', 'phone', 'touch', 'screen', 'stop', 'work', 'restart', 'phone', 'get', 'work', 'phone', 'huge', 'disappoint', 'worth', 'paid', 'back', 'camera', 'stop', 'work', 'phone', 'touch', 'screen', 'stop', 'work', 'restart', 'phone', 'get', 'work', 'phone', 'huge', 'disappoint', 'worth', 'paid', 'back', 'camera', 'stop', 'work', 'phone', 'touch', 'screen', 'stop', 'work', 'restart', 'phone', 'get', 'work', 'phone', 'huge', 'disappoint', 'worth', 'paid', 'back', 'camera', 'stop', 'work', 'phone', 'touch', 'screen', 'stop', 'work', 'restart', 'phone', 'get', 'work', 'phone', 'huge', 'disappoint', 'worth', 'paid', 'back', 'camera', 'stop', 'work', 'phone', 'touch', 'screen', 'stop', 'work', 'restart', 'phone', 'get', 'work', 'phone', 'huge', 'disappoint', 'worth', 'paid', 'back', 'camera', 'stop', 'work', 'phone', 'touch', 'screen', 'stop', 'work', 'restart', 'phone', 'get', 'work', 'phone', 'huge', 'disappoint', 'worth', 'paid', 'back', 'camera', 'stop', 'work', 'phone', 'touch', 'screen', 'stop', 'work', 'restart', 'phone', 'get', 'work', 'phone', 'huge', 'disappoint', 'worth', 'paid', 'back', 'camera', 'stop', 'work', 'phone', 'touch', 'screen', 'stop', 'work', 'restart', 'phone', 'get', 'work', 'phone', 'huge', 'disappoint', 'worth', 'paid', 'back', 'camera', 'stop', 'work', 'phone', 'touch', 'screen', 'stop', 'work', 'restart', 'phone', 'get', 'work', 'phone', 'huge', 'disappoint', 'worth', 'paid', 'back', 'camera', 'stop', 'work', 'phone', 'touch', 'screen', 'stop', 'work', 'restart', 'phone', 'get', 'work', 'phone', 'huge', 'disappoint', 'worth', 'paid', 'back', 'camera', 'stop', 'work', 'phone', 'touch', 'screen', 'stop', 'work', 'restart', 'phone', 'get', 'work', 'phone', 'huge', 'disappoint', 'worth', 'paid', 'back', 'camera', 'stop', 'work', 'phone', 'touch', 'screen', 'stop', 'work', 'restart', 'phone', 'get', 'work', 'phone', 'huge', 'disappoint', 'worth', 'paid', 'back', 'camera', 'stop', 'work', 'phone', 'touch', 'screen', 'stop', 'work', 'restart', 'phone', 'get', 'work', 'phone', 'huge', 'disappoint', 'worth', 'paid', 'back', 'camera', 'stop', 'work', 'phone', 'touch', 'screen', 'stop', 'work', 'restart', 'phone', 'get', 'work', 'phone', 'huge', 'disappoint', 'worth', 'paid', 'back', 'camera', 'stop', 'work', 'phone', 'touch', 'screen', 'stop', 'work', 'restart', 'phone', 'get', 'work', 'phone', 'huge', 'disappoint', 'worth', 'paid', 'back', 'camera', 'stop', 'work', 'phone', 'touch', 'screen', 'stop', 'work', 'restart', 'phone', 'get', 'work', 'phone', 'huge', 'disappoint', 'worth', 'paid', 'back', 'camera', 'stop', 'work', 'phone', 'touch', 'screen', 'stop', 'work', 'restart', 'phone', 'get', 'work', 'phone', 'huge', 'disappoint', 'worth', 'paid', 'back', 'camera', 'stop', 'work', 'phone', 'touch', 'screen', 'stop', 'work', 'restart', 'phone', 'get', 'work', 'phone', 'huge', 'disappoint', 'worth', 'paid', 'back', 'camera', 'stop', 'work', 'phone', 'touch', 'screen', 'stop', 'work', 'restart', 'phone', 'get', 'work', 'phone', 'huge', 'disappoint', 'worth', 'paid', 'back', 'camera', 'stop', 'work', 'phone', 'touch', 'screen', 'stop', 'work', 'restart', 'phone', 'get', 'work', 'phone', 'huge', 'disappoint', 'worth', 'paid', 'back', 'camera', 'stop', 'work', 'phone', 'touch', 'screen', 'stop', 'work', 'restart', 'phone', 'get', 'work', 'phone', 'huge', 'disappoint', 'worth', 'paid', 'back', 'camera', 'stop', 'work', 'phone', 'touch', 'screen', 'stop', 'work', 'restart', 'phone', 'get', 'work', 'phone', 'huge', 'disappoint', 'worth', 'paid', 'back', 'camera', 'stop', 'work', 'phone', 'touch', 'screen', 'stop', 'work', 'restart', 'phone', 'get', 'work', 'phone', 'huge', 'disappoint', 'worth', 'paid', 'back', 'camera', 'stop', 'work', 'phone', 'touch', 'screen', 'stop', 'work', 'restart', 'phone', 'get', 'work', 'phone', 'huge', 'disappoint', 'worth', 'paid', 'back', 'camera', 'stop', 'work', 'phone', 'touch', 'screen', 'stop', 'work', 'restart', 'phone', 'get', 'work', 'phone', 'huge', 'disappoint', 'worth', 'paid', 'back', 'camera', 'stop', 'work', 'phone', 'touch', 'screen', 'stop', 'work', 'restart', 'phone', 'get', 'work', 'phone', 'huge', 'disappoint', 'worth', 'paid', 'back', 'camera', 'stop', 'work', 'phone', 'touch', 'screen', 'stop', 'work', 'restart', 'phone', 'get', 'work', 'phone', 'huge', 'disappoint', 'worth', 'paid', 'back', 'camera', 'stop', 'work', 'phone', 'touch', 'screen', 'stop', 'work', 'restart', 'phone', 'get', 'work', 'phone', 'huge', 'disappoint', 'worth', 'paid', 'back', 'camera', 'stop', 'work', 'phone', 'touch', 'screen', 'stop', 'work', 'restart', 'phone', 'get', 'work', 'phone', 'huge', 'disappoint', 'worth', 'paid', 'back', 'camera', 'stop', 'work', 'phone', 'touch', 'screen', 'stop', 'work', 'restart', 'phone', 'get', 'work', 'phone', 'huge', 'disappoint', 'worth', 'paid', 'back', 'camera', 'stop', 'work', 'phone', 'touch', 'screen', 'stop', 'work', 'restart', 'phone', 'get', 'work', 'phone', 'huge', 'disappoint', 'worth', 'paid', 'back', 'camera', 'stop', 'work', 'phone', 'touch', 'screen', 'stop', 'work', 'restart', 'phone', 'get', 'work', 'phone', 'huge', 'disappoint', 'worth', 'paid', 'back', 'camera', 'stop', 'work', 'phone', 'touch', 'screen', 'stop', 'work', 'restart', 'phone', 'get', 'work', 'phone', 'huge', 'disappoint', 'worth', 'paid', 'back', 'camera', 'stop', 'work', 'phone', 'touch', 'screen', 'stop', 'work', 'restart', 'phone', 'get', 'work', 'phone', 'huge', 'disappoint', 'worth', 'paid', 'back', 'camera', 'stop', 'work', 'phone', 'touch', 'screen', 'stop', 'work', 'restart', 'phone', 'get', 'work', 'phone', 'huge', 'disappoint', 'worth', 'paid', 'back', 'camera', 'stop', 'work', 'phone', 'touch', 'screen', 'stop', 'work', 'restart', 'phone', 'get', 'work', 'phone', 'huge', 'disappoint', 'worth', 'paid', 'back', 'camera', 'stop', 'work', 'phone', 'touch', 'screen', 'stop', 'work', 'restart', 'phone', 'get', 'work', 'phone', 'huge', 'disappoint', 'worth', 'paid', 'back', 'camera', 'stop', 'work', 'phone', 'touch', 'screen', 'stop', 'work', 'restart', 'phone', 'get', 'work', 'phone', 'huge', 'disappoint', 'worth', 'paid', 'back', 'camera', 'stop', 'work', 'phone', 'touch', 'screen', 'stop', 'work', 'restart', 'phone', 'get', 'work', 'phone', 'huge', 'disappoint', 'worth', 'paid', 'back', 'camera', 'stop', 'work', 'phone', 'touch', 'screen', 'stop', 'work', 'restart', 'phone', 'get', 'work', 'phone', 'huge', 'disappoint', 'worth', 'paid', 'back', 'camera', 'stop', 'work', 'phone', 'touch', 'screen', 'stop', 'work', 'restart', 'phone', 'get', 'work', 'phone', 'huge', 'disappoint', 'worth', 'paid', 'back', 'camera', 'stop', 'work', 'phone', 'touch', 'screen', 'stop', 'work', 'restart', 'phone', 'get', 'work', 'phone', 'huge', 'disappoint', 'worth', 'paid', 'back', 'camera', 'stop', 'work', 'phone', 'touch', 'screen', 'stop', 'work', 'restart', 'phone', 'get', 'work', 'phone', 'huge', 'disappoint', 'worth', 'paid', 'back', 'camera', 'stop', 'work', 'phone', 'touch', 'screen', 'stop', 'work', 'restart', 'phone', 'get', 'work', 'phone', 'huge', 'disappoint', 'worth', 'paid', 'back', 'camera', 'stop', 'work', 'phone', 'touch', 'screen', 'stop', 'work', 'restart', 'phone', 'get', 'work', 'phone', 'huge', 'disappoint', 'worth', 'paid', 'back', 'camera', 'stop', 'work', 'phone', 'touch', 'screen', 'stop', 'work', 'restart', 'phone', 'get', 'work', 'phone', 'huge', 'disappoint', 'worth', 'paid', 'back', 'camera', 'stop', 'work', 'phone', 'touch', 'screen', 'stop', 'work', 'restart', 'phone', 'get', 'work', 'phone', 'huge', 'disappoint', 'worth', 'paid', 'back', 'camera', 'stop', 'work', 'phone', 'touch', 'screen', 'stop', 'work', 'restart', 'phone', 'get', 'work', 'phone', 'huge', 'disappoint', 'worth', 'paid', 'back', 'camera', 'stop', 'work', 'phone', 'touch', 'screen', 'stop', 'work', 'restart', 'phone', 'get', 'work', 'phone', 'huge', 'disappoint', 'worth', 'paid', 'back', 'camera', 'stop', 'work', 'phone', 'touch', 'screen', 'stop', 'work', 'restart', 'phone', 'get', 'work', 'phone', 'huge', 'disappoint', 'worth', 'paid', 'back', 'camera', 'stop', 'work', 'phone', 'touch', 'screen', 'stop', 'work', 'restart', 'phone', 'get', 'work', 'phone', 'huge', 'disappoint', 'worth', 'paid', 'back', 'camera', 'stop', 'work', 'phone', 'touch', 'screen', 'stop', 'work', 'restart', 'phone', 'get', 'work', 'phone', 'huge', 'disappoint', 'worth', 'paid', 'back', 'camera', 'stop', 'work', 'phone', 'touch', 'screen', 'stop', 'work', 'restart', 'phone', 'get', 'work', 'phone', 'huge', 'disappoint', 'worth', 'paid', 'back', 'camera', 'stop', 'work', 'phone', 'touch', 'screen', 'stop', 'work', 'restart', 'phone', 'get', 'work', 'phone', 'huge', 'disappoint', 'worth', 'paid', 'back', 'camera', 'stop', 'work', 'phone', 'touch', 'screen', 'stop', 'work', 'restart', 'phone', 'get', 'work', 'phone', 'huge', 'disappoint', 'worth', 'paid', 'back', 'camera', 'stop', 'work', 'phone', 'touch', 'screen', 'stop', 'work', 'restart', 'phone', 'get', 'work', 'phone', 'huge', 'disappoint', 'worth', 'paid', 'back', 'camera', 'stop', 'work', 'phone', 'touch', 'screen', 'stop', 'work', 'restart', 'phone', 'get', 'work', 'phone', 'huge', 'disappoint', 'worth', 'paid', 'back', 'camera', 'stop', 'work', 'phone', 'touch', 'screen', 'stop', 'work', 'restart', 'phone', 'get', 'work', 'phone', 'huge', 'disappoint', 'worth', 'paid', 'back', 'camera', 'stop', 'work', 'phone', 'touch', 'screen', 'stop', 'work', 'restart', 'phone', 'get', 'work', 'phone', 'huge', 'disappoint', 'worth', 'paid', 'back', 'camera', 'stop', 'work', 'phone', 'touch', 'screen', 'stop', 'work', 'restart', 'phone', 'get', 'work', 'phone', 'huge', 'disappoint', 'worth', 'paid', 'back', 'camera', 'stop', 'work', 'phone', 'touch', 'screen', 'stop', 'work', 'restart', 'phone', 'get', 'work', 'phone', 'huge', 'disappoint', 'worth', 'paid', 'back', 'camera', 'stop', 'work', 'phone', 'touch', 'screen', 'stop', 'work', 'restart', 'phone', 'get', 'work', 'phone', 'huge', 'disappoint', 'worth', 'paid', 'back', 'camera', 'stop', 'work', 'phone', 'touch', 'screen', 'stop', 'work', 'restart', 'phone', 'get', 'work', 'phone', 'huge', 'disappoint', 'worth', 'paid', 'back', 'camera', 'stop', 'work', 'phone', 'touch', 'screen', 'stop', 'work', 'restart', 'phone', 'get', 'work', 'phone', 'huge', 'disappoint', 'worth', 'paid', 'back', 'camera', 'stop', 'work', 'phone', 'touch', 'screen', 'stop', 'work', 'restart', 'phone', 'get', 'work', 'phone', 'huge', 'disappoint', 'worth', 'paid', 'back', 'camera', 'stop', 'work', 'phone', 'touch', 'screen', 'stop', 'work', 'restart', 'phone', 'get', 'work', 'phone', 'huge', 'disappoint', 'worth', 'paid', 'back', 'camera', 'stop', 'work', 'phone', 'touch', 'screen', 'stop', 'work', 'restart', 'phone', 'get', 'work', 'phone', 'huge', 'disappoint', 'worth', 'paid', 'back', 'camera', 'stop', 'work', 'phone', 'touch', 'screen', 'stop', 'work', 'restart', 'phone', 'get', 'work', 'phone', 'huge', 'disappoint', 'worth', 'paid', 'back', 'camera', 'stop', 'work', 'phone', 'touch', 'screen', 'stop', 'work', 'restart', 'phone', 'get', 'work', 'phone', 'huge', 'disappoint', 'worth', 'paid', 'back', 'camera', 'stop', 'work', 'phone', 'touch', 'screen', 'stop', 'work', 'restart', 'phone', 'get', 'work', 'phone', 'huge', 'disappoint', 'worth', 'paid', 'back', 'camera', 'stop', 'work', 'phone', 'touch', 'screen', 'stop', 'work', 'restart', 'phone', 'get', 'work', 'phone', 'huge', 'disappoint', 'worth', 'paid', 'back', 'camera', 'stop', 'work', 'phone', 'touch', 'screen', 'stop', 'work', 'restart', 'phone', 'get', 'work', 'phone', 'huge', 'disappoint', 'worth', 'paid', 'back', 'camera', 'stop', 'work', 'phone', 'touch', 'screen', 'stop', 'work', 'restart', 'phone', 'get', 'work', 'phone', 'huge', 'disappoint', 'worth', 'paid', 'back', 'camera', 'stop', 'work', 'phone', 'touch', 'screen', 'stop', 'work', 'restart', 'phone', 'get', 'work', 'phone', 'huge', 'disappoint', 'worth', 'paid', 'back', 'camera', 'stop', 'work', 'phone', 'touch', 'screen', 'stop', 'work', 'restart', 'phone', 'get', 'work', 'phone', 'huge', 'disappoint', 'worth', 'paid', 'back', 'camera', 'stop', 'work', 'phone', 'touch', 'screen', 'stop', 'work', 'restart', 'phone', 'get', 'work', 'phone', 'huge', 'disappoint', 'worth', 'paid', 'back', 'camera', 'stop', 'work', 'phone', 'touch', 'screen', 'stop', 'work', 'restart', 'phone', 'get', 'work', 'phone', 'huge', 'disappoint', 'worth', 'paid', 'back', 'camera', 'stop', 'work', 'phone', 'touch', 'screen', 'stop', 'work', 'restart', 'phone', 'get', 'work', 'phone', 'huge', 'disappoint', 'worth', 'paid', 'back', 'camera', 'stop', 'work', 'phone', 'touch', 'screen', 'stop', 'work', 'restart', 'phone', 'get', 'work', 'phone', 'huge', 'disappoint', 'worth', 'paid', 'back', 'camera', 'stop', 'work', 'phone', 'touch', 'screen', 'stop', 'work', 'restart', 'phone', 'get', 'work', 'phone', 'huge', 'disappoint', 'worth', 'paid', 'back', 'camera', 'stop', 'work', 'phone', 'touch', 'screen', 'stop', 'work', 'restart', 'phone', 'get', 'work', 'phone', 'huge', 'disappoint', 'worth', 'paid', 'back', 'camera', 'stop', 'work', 'phone', 'touch', 'screen', 'stop', 'work', 'restart', 'phone', 'get', 'work', 'phone', 'huge', 'disappoint', 'worth', 'paid', 'back', 'camera', 'stop', 'work', 'phone', 'touch', 'screen', 'stop', 'work', 'restart', 'phone', 'get', 'work', 'phone', 'huge', 'disappoint', 'worth', 'paid', 'back', 'camera', 'stop', 'work', 'phone', 'touch', 'screen', 'stop', 'work', 'restart', 'phone', 'get', 'work', 'phone', 'huge', 'disappoint', 'worth', 'paid', 'back', 'camera', 'stop', 'work', 'phone', 'touch', 'screen', 'stop', 'work', 'restart', 'phone', 'get', 'work', 'phone', 'huge', 'disappoint', 'worth', 'paid', 'back', 'camera', 'stop', 'work', 'phone', 'touch', 'screen', 'stop', 'work', 'restart', 'phone', 'get', 'work', 'phone', 'huge', 'disappoint', 'worth', 'paid', 'back', 'camera', 'stop', 'work', 'phone', 'touch', 'screen', 'stop', 'work', 'restart', 'phone', 'get', 'work', 'phone', 'huge', 'disappoint', 'worth', 'paid', 'back', 'camera', 'stop', 'work', 'phone', 'touch', 'screen', 'stop', 'work', 'restart', 'phone', 'get', 'work', 'phone', 'huge', 'disappoint', 'worth', 'paid', 'back', 'camera', 'stop', 'work', 'phone', 'touch', 'screen', 'stop', 'work', 'restart', 'phone', 'get', 'work', 'phone', 'huge', 'disappoint', 'worth', 'paid', 'back', 'camera', 'stop', 'work', 'phone', 'touch', 'screen', 'stop', 'work', 'restart', 'phone', 'get', 'work', 'phone', 'huge', 'disappoint', 'worth', 'paid', 'back', 'camera', 'stop', 'work', 'phone', 'touch', 'screen', 'stop', 'work', 'restart', 'phone', 'get', 'work', 'phone', 'huge', 'disappoint', 'worth', 'paid', 'back', 'camera', 'stop', 'work', 'phone', 'touch', 'screen', 'stop', 'work', 'restart', 'phone', 'get', 'work', 'phone', 'huge', 'disappoint', 'worth', 'paid', 'back', 'camera', 'stop', 'work', 'phone', 'touch', 'screen', 'stop', 'work', 'restart', 'phone', 'get', 'work', 'phone', 'huge', 'disappoint', 'worth', 'paid', 'back', 'camera', 'stop', 'work', 'phone', 'touch', 'screen', 'stop', 'work', 'restart', 'phone', 'get', 'work', 'phone', 'huge', 'disappoint', 'worth', 'paid', 'back', 'camera', 'stop', 'work', 'phone', 'touch', 'screen', 'stop', 'work', 'restart', 'phone', 'get', 'work', 'phone', 'huge', 'disappoint', 'worth', 'paid', 'back', 'camera', 'stop', 'work', 'phone', 'touch', 'screen', 'stop', 'work', 'restart', 'phone', 'get', 'work', 'phone', 'huge', 'disappoint', 'worth', 'paid', 'back', 'camera', 'stop', 'work', 'phone', 'touch', 'screen', 'stop', 'work', 'restart', 'phone', 'get', 'work', 'phone', 'huge', 'disappoint', 'worth', 'paid', 'back', 'camera', 'stop', 'work', 'phone', 'touch', 'screen', 'stop', 'work', 'restart', 'phone', 'get', 'work', 'phone', 'huge', 'disappoint', 'worth', 'paid', 'back', 'camera', 'stop', 'work', 'phone', 'touch', 'screen', 'stop', 'work', 'restart', 'phone', 'get', 'work', 'phone', 'huge', 'disappoint', 'worth', 'paid', 'back', 'camera', 'stop', 'work', 'phone', 'touch', 'screen', 'stop', 'work', 'restart', 'phone', 'get', 'work', 'phone', 'huge', 'disappoint', 'worth', 'paid', 'back', 'camera', 'stop', 'work', 'phone', 'touch', 'screen', 'stop', 'work', 'restart', 'phone', 'get', 'work', 'phone', 'huge', 'disappoint', 'worth', 'paid', 'back', 'camera', 'stop', 'work', 'phone', 'touch', 'screen', 'stop', 'work', 'restart', 'phone', 'get', 'work', 'phone', 'huge', 'disappoint', 'worth', 'paid', 'back', 'camera', 'stop', 'work', 'phone', 'touch', 'screen', 'stop', 'work', 'restart', 'phone', 'get', 'work', 'phone', 'huge', 'disappoint', 'worth', 'paid', 'back', 'camera', 'stop', 'work', 'phone', 'touch', 'screen', 'stop', 'work', 'restart', 'phone', 'get', 'work', 'phone', 'huge', 'disappoint', 'worth', 'paid', 'back', 'camera', 'stop', 'work', 'phone', 'touch', 'screen', 'stop', 'work', 'restart', 'phone', 'get', 'work', 'phone', 'huge', 'disappoint', 'worth', 'paid', 'back', 'camera', 'stop', 'work', 'phone', 'touch', 'screen', 'stop', 'work', 'restart', 'phone', 'get', 'work', 'phone', 'huge', 'disappoint', 'worth', 'paid', 'back', 'camera', 'stop', 'work', 'phone', 'touch', 'screen', 'stop', 'work', 'restart', 'phone', 'get', 'work', 'phone', 'huge', 'disappoint', 'worth', 'paid', 'back', 'camera', 'stop', 'work', 'phone', 'touch', 'screen', 'stop', 'work', 'restart', 'phone', 'get', 'work', 'phone', 'huge', 'disappoint', 'worth', 'paid', 'back', 'camera', 'stop', 'work', 'phone', 'touch', 'screen', 'stop', 'work', 'restart', 'phone', 'get', 'work', 'phone', 'huge', 'disappoint', 'worth', 'paid', 'back', 'camera', 'stop', 'work', 'phone', 'touch', 'screen', 'stop', 'work', 'restart', 'phone', 'get', 'work', 'phone', 'huge', 'disappoint', 'worth', 'paid', 'back', 'camera', 'stop', 'work', 'phone', 'touch', 'screen', 'stop', 'work', 'restart', 'phone', 'get', 'work', 'phone', 'huge', 'disappoint', 'worth', 'paid', 'back', 'camera', 'stop', 'work', 'phone', 'touch', 'screen', 'stop', 'work', 'restart', 'phone', 'get', 'work', 'phone', 'huge', 'disappoint', 'worth', 'paid', 'back', 'camera', 'stop', 'work', 'phone', 'touch', 'screen', 'stop', 'work', 'restart', 'phone', 'get', 'work', 'phone', 'huge', 'disappoint', 'worth', 'paid', 'back', 'camera', 'stop', 'work', 'phone', 'touch', 'screen', 'stop', 'work', 'restart', 'phone', 'get', 'work', 'phone', 'huge', 'disappoint', 'worth', 'paid', 'back', 'camera', 'stop', 'work', 'phone', 'touch', 'screen', 'stop', 'work', 'restart', 'phone', 'get', 'work', 'phone', 'huge', 'disappoint', 'worth', 'paid', 'back', 'camera', 'stop', 'work', 'phone', 'touch', 'screen', 'stop', 'work', 'restart', 'phone', 'get', 'work', 'phone', 'huge', 'disappoint', 'worth', 'paid', 'back', 'camera', 'stop', 'work', 'phone', 'touch', 'screen', 'stop', 'work', 'restart', 'phone', 'get', 'work', 'phone', 'huge', 'disappoint', 'worth', 'paid', 'back', 'camera', 'stop', 'work', 'phone', 'touch', 'screen', 'stop', 'work', 'restart', 'phone', 'get', 'work', 'phone', 'huge', 'disappoint', 'worth', 'paid', 'back', 'camera', 'stop', 'work', 'phone', 'touch', 'screen', 'stop', 'work', 'restart', 'phone', 'get', 'work', 'phone', 'huge', 'disappoint', 'worth', 'paid', 'back', 'camera', 'stop', 'work', 'phone', 'touch', 'screen', 'stop', 'work', 'restart', 'phone', 'get', 'work', 'phone', 'huge', 'disappoint', 'worth', 'paid', 'back', 'camera', 'stop', 'work', 'phone', 'touch', 'screen', 'stop', 'work', 'restart', 'phone', 'get', 'work', 'phone', 'huge', 'disappoint', 'worth', 'paid', 'back', 'camera', 'stop', 'work', 'phone', 'touch', 'screen', 'stop', 'work', 'restart', 'phone', 'get', 'work', 'phone', 'huge', 'disappoint', 'worth', 'paid', 'back', 'camera', 'stop', 'work', 'phone', 'touch', 'screen', 'stop', 'work', 'restart', 'phone', 'get', 'work', 'phone', 'huge', 'disappoint', 'worth', 'paid', 'back', 'camera', 'stop', 'work', 'phone', 'touch', 'screen', 'stop', 'work', 'restart', 'phone', 'get', 'work', 'phone', 'huge', 'disappoint', 'worth', 'paid'], ['good'], ['complaint', 'work', 'fine', 'still', 'work', 'perfect', 'tear', 'wear', 'sign', 'refurbish', 'phone', 'complaint', 'work', 'fine', 'still', 'work', 'perfect', 'tear', 'wear', 'sign', 'refurbish', 'phone', 'complaint', 'work', 'fine', 'still', 'work', 'perfect', 'tear', 'wear', 'sign', 'refurbish', 'phone', 'complaint', 'work', 'fine', 'still', 'work', 'perfect', 'tear', 'wear', 'sign', 'refurbish', 'phone', 'complaint', 'work', 'fine', 'still', 'work', 'perfect', 'tear', 'wear', 'sign', 'refurbish', 'phone', 'complaint', 'work', 'fine', 'still', 'work', 'perfect', 'tear', 'wear', 'sign', 'refurbish', 'phone', 'complaint', 'work', 'fine', 'still', 'work', 'perfect', 'tear', 'wear', 'sign', 'refurbish', 'phone', 'complaint', 'work', 'fine', 'still', 'work', 'perfect', 'tear', 'wear', 'sign', 'refurbish', 'phone', 'complaint', 'work', 'fine', 'still', 'work', 'perfect', 'tear', 'wear', 'sign', 'refurbish', 'phone', 'complaint', 'work', 'fine', 'still', 'work', 'perfect', 'tear', 'wear', 'sign', 'refurbish', 'phone', 'complaint', 'work', 'fine', 'still', 'work', 'perfect', 'tear', 'wear', 'sign', 'refurbish', 'phone', 'complaint', 'work', 'fine', 'still', 'work', 'perfect', 'tear', 'wear', 'sign', 'refurbish', 'phone', 'complaint', 'work', 'fine', 'still', 'work', 'perfect', 'tear', 'wear', 'sign', 'refurbish', 'phone', 'complaint', 'work', 'fine', 'still', 'work', 'perfect', 'tear', 'wear', 'sign', 'refurbish', 'phone', 'complaint', 'work', 'fine', 'still', 'work', 'perfect', 'tear', 'wear', 'sign', 'refurbish', 'phone', 'complaint', 'work', 'fine', 'still', 'work', 'perfect', 'tear', 'wear', 'sign', 'refurbish', 'phone', 'complaint', 'work', 'fine', 'still', 'work', 'perfect', 'tear', 'wear', 'sign', 'refurbish', 'phone', 'complaint', 'work', 'fine', 'still', 'work', 'perfect', 'tear', 'wear', 'sign', 'refurbish', 'phone', 'complaint', 'work', 'fine', 'still', 'work', 'perfect', 'tear', 'wear', 'sign', 'refurbish', 'phone', 'complaint', 'work', 'fine', 'still', 'work', 'perfect', 'tear', 'wear', 'sign', 'refurbish', 'phone', 'complaint', 'work', 'fine', 'still', 'work', 'perfect', 'tear', 'wear', 'sign', 'refurbish', 'phone', 'complaint', 'work', 'fine', 'still', 'work', 'perfect', 'tear', 'wear', 'sign', 'refurbish', 'phone', 'complaint', 'work', 'fine', 'still', 'work', 'perfect', 'tear', 'wear', 'sign', 'refurbish', 'phone', 'complaint', 'work', 'fine', 'still', 'work', 'perfect', 'tear', 'wear', 'sign', 'refurbish', 'phone', 'complaint', 'work', 'fine', 'still', 'work', 'perfect', 'tear', 'wear', 'sign', 'refurbish', 'phone', 'complaint', 'work', 'fine', 'still', 'work', 'perfect', 'tear', 'wear', 'sign', 'refurbish', 'phone', 'complaint', 'work', 'fine', 'still', 'work', 'perfect', 'tear', 'wear', 'sign', 'refurbish', 'phone', 'complaint', 'work', 'fine', 'still', 'work', 'perfect', 'tear', 'wear', 'sign', 'refurbish', 'phone', 'complaint', 'work', 'fine', 'still', 'work', 'perfect', 'tear', 'wear', 'sign', 'refurbish', 'phone', 'complaint', 'work', 'fine', 'still', 'work', 'perfect', 'tear', 'wear', 'sign', 'refurbish', 'phone', 'complaint', 'work', 'fine', 'still', 'work', 'perfect', 'tear', 'wear', 'sign', 'refurbish', 'phone', 'complaint', 'work', 'fine', 'still', 'work', 'perfect', 'tear', 'wear', 'sign', 'refurbish', 'phone', 'complaint', 'work', 'fine', 'still', 'work', 'perfect', 'tear', 'wear', 'sign', 'refurbish', 'phone', 'complaint', 'work', 'fine', 'still', 'work', 'perfect', 'tear', 'wear', 'sign', 'refurbish', 'phone', 'complaint', 'work', 'fine', 'still', 'work', 'perfect', 'tear', 'wear', 'sign', 'refurbish', 'phone', 'complaint', 'work', 'fine', 'still', 'work', 'perfect', 'tear', 'wear', 'sign', 'refurbish', 'phone', 'complaint', 'work', 'fine', 'still', 'work', 'perfect', 'tear', 'wear', 'sign', 'refurbish', 'phone', 'complaint', 'work', 'fine', 'still', 'work', 'perfect', 'tear', 'wear', 'sign', 'refurbish', 'phone', 'complaint', 'work', 'fine', 'still', 'work', 'perfect', 'tear', 'wear', 'sign', 'refurbish', 'phone', 'complaint', 'work', 'fine', 'still', 'work', 'perfect', 'tear', 'wear', 'sign', 'refurbish', 'phone', 'complaint', 'work', 'fine', 'still', 'work', 'perfect', 'tear', 'wear', 'sign', 'refurbish', 'phone', 'complaint', 'work', 'fine', 'still', 'work', 'perfect', 'tear', 'wear', 'sign', 'refurbish', 'phone', 'complaint', 'work', 'fine', 'still', 'work', 'perfect', 'tear', 'wear', 'sign', 'refurbish', 'phone', 'complaint', 'work', 'fine', 'still', 'work', 'perfect', 'tear', 'wear', 'sign', 'refurbish', 'phone', 'complaint', 'work', 'fine', 'still', 'work', 'perfect', 'tear', 'wear', 'sign', 'refurbish', 'phone', 'complaint', 'work', 'fine', 'still', 'work', 'perfect', 'tear', 'wear', 'sign', 'refurbish', 'phone', 'complaint', 'work', 'fine', 'still', 'work', 'perfect', 'tear', 'wear', 'sign', 'refurbish', 'phone', 'complaint', 'work', 'fine', 'still', 'work', 'perfect', 'tear', 'wear', 'sign', 'refurbish', 'phone', 'complaint', 'work', 'fine', 'still', 'work', 'perfect', 'tear', 'wear', 'sign', 'refurbish', 'phone', 'complaint', 'work', 'fine', 'still', 'work', 'perfect', 'tear', 'wear', 'sign', 'refurbish', 'phone', 'complaint', 'work', 'fine', 'still', 'work', 'perfect', 'tear', 'wear', 'sign', 'refurbish', 'phone', 'complaint', 'work', 'fine', 'still', 'work', 'perfect', 'tear', 'wear', 'sign', 'refurbish', 'phone', 'complaint', 'work', 'fine', 'still', 'work', 'perfect', 'tear', 'wear', 'sign', 'refurbish', 'phone', 'complaint', 'work', 'fine', 'still', 'work', 'perfect', 'tear', 'wear', 'sign', 'refurbish', 'phone', 'complaint', 'work', 'fine', 'still', 'work', 'perfect', 'tear', 'wear', 'sign', 'refurbish', 'phone', 'complaint', 'work', 'fine', 'still', 'work', 'perfect', 'tear', 'wear', 'sign', 'refurbish', 'phone', 'complaint', 'work', 'fine', 'still', 'work', 'perfect', 'tear', 'wear', 'sign', 'refurbish', 'phone', 'complaint', 'work', 'fine', 'still', 'work', 'perfect', 'tear', 'wear', 'sign', 'refurbish', 'phone', 'complaint', 'work', 'fine', 'still', 'work', 'perfect', 'tear', 'wear', 'sign', 'refurbish', 'phone', 'complaint', 'work', 'fine', 'still', 'work', 'perfect', 'tear', 'wear', 'sign', 'refurbish', 'phone', 'complaint', 'work', 'fine', 'still', 'work', 'perfect', 'tear', 'wear', 'sign', 'refurbish', 'phone', 'complaint', 'work', 'fine', 'still', 'work', 'perfect', 'tear', 'wear', 'sign', 'refurbish', 'phone', 'complaint', 'work', 'fine', 'still', 'work', 'perfect', 'tear', 'wear', 'sign', 'refurbish', 'phone', 'complaint', 'work', 'fine', 'still', 'work', 'perfect', 'tear', 'wear', 'sign', 'refurbish', 'phone', 'complaint', 'work', 'fine', 'still', 'work', 'perfect', 'tear', 'wear', 'sign', 'refurbish', 'phone', 'complaint', 'work', 'fine', 'still', 'work', 'perfect', 'tear', 'wear', 'sign', 'refurbish', 'phone', 'complaint', 'work', 'fine', 'still', 'work', 'perfect', 'tear', 'wear', 'sign', 'refurbish', 'phone', 'complaint', 'work', 'fine', 'still', 'work', 'perfect', 'tear', 'wear', 'sign', 'refurbish', 'phone', 'complaint', 'work', 'fine', 'still', 'work', 'perfect', 'tear', 'wear', 'sign', 'refurbish', 'phone', 'complaint', 'work', 'fine', 'still', 'work', 'perfect', 'tear', 'wear', 'sign', 'refurbish', 'phone', 'complaint', 'work', 'fine', 'still', 'work', 'perfect', 'tear', 'wear', 'sign', 'refurbish', 'phone', 'complaint', 'work', 'fine', 'still', 'work', 'perfect', 'tear', 'wear', 'sign', 'refurbish', 'phone', 'complaint', 'work', 'fine', 'still', 'work', 'perfect', 'tear', 'wear', 'sign', 'refurbish', 'phone', 'complaint', 'work', 'fine', 'still', 'work', 'perfect', 'tear', 'wear', 'sign', 'refurbish', 'phone', 'complaint', 'work', 'fine', 'still', 'work', 'perfect', 'tear', 'wear', 'sign', 'refurbish', 'phone', 'complaint', 'work', 'fine', 'still', 'work', 'perfect', 'tear', 'wear', 'sign', 'refurbish', 'phone', 'complaint', 'work', 'fine', 'still', 'work', 'perfect', 'tear', 'wear', 'sign', 'refurbish', 'phone', 'complaint', 'work', 'fine', 'still', 'work', 'perfect', 'tear', 'wear', 'sign', 'refurbish', 'phone', 'complaint', 'work', 'fine', 'still', 'work', 'perfect', 'tear', 'wear', 'sign', 'refurbish', 'phone', 'complaint', 'work', 'fine', 'still', 'work', 'perfect', 'tear', 'wear', 'sign', 'refurbish', 'phone', 'complaint', 'work', 'fine', 'still', 'work', 'perfect', 'tear', 'wear', 'sign', 'refurbish', 'phone', 'complaint', 'work', 'fine', 'still', 'work', 'perfect', 'tear', 'wear', 'sign', 'refurbish', 'phone', 'complaint', 'work', 'fine', 'still', 'work', 'perfect', 'tear', 'wear', 'sign', 'refurbish', 'phone', 'complaint', 'work', 'fine', 'still', 'work', 'perfect', 'tear', 'wear', 'sign', 'refurbish', 'phone', 'complaint', 'work', 'fine', 'still', 'work', 'perfect', 'tear', 'wear', 'sign', 'refurbish', 'phone', 'complaint', 'work', 'fine', 'still', 'work', 'perfect', 'tear', 'wear', 'sign', 'refurbish', 'phone', 'complaint', 'work', 'fine', 'still', 'work', 'perfect', 'tear', 'wear', 'sign', 'refurbish', 'phone', 'complaint', 'work', 'fine', 'still', 'work', 'perfect', 'tear', 'wear', 'sign', 'refurbish', 'phone', 'complaint', 'work', 'fine', 'still', 'work', 'perfect', 'tear', 'wear', 'sign', 'refurbish', 'phone', 'complaint', 'work', 'fine', 'still', 'work', 'perfect', 'tear', 'wear', 'sign', 'refurbish', 'phone', 'complaint', 'work', 'fine', 'still', 'work', 'perfect', 'tear', 'wear', 'sign', 'refurbish', 'phone', 'complaint', 'work', 'fine', 'still', 'work', 'perfect', 'tear', 'wear', 'sign', 'refurbish', 'phone', 'complaint', 'work', 'fine', 'still', 'work', 'perfect', 'tear', 'wear', 'sign', 'refurbish', 'phone', 'complaint', 'work', 'fine', 'still', 'work', 'perfect', 'tear', 'wear', 'sign', 'refurbish', 'phone', 'complaint', 'work', 'fine', 'still', 'work', 'perfect', 'tear', 'wear', 'sign', 'refurbish', 'phone', 'complaint', 'work', 'fine', 'still', 'work', 'perfect', 'tear', 'wear', 'sign', 'refurbish', 'phone', 'complaint', 'work', 'fine', 'still', 'work', 'perfect', 'tear', 'wear', 'sign', 'refurbish', 'phone', 'complaint', 'work', 'fine', 'still', 'work', 'perfect', 'tear', 'wear', 'sign', 'refurbish', 'phone', 'complaint', 'work', 'fine', 'still', 'work', 'perfect', 'tear', 'wear', 'sign', 'refurbish', 'phone', 'complaint', 'work', 'fine', 'still', 'work', 'perfect', 'tear', 'wear', 'sign', 'refurbish', 'phone', 'complaint', 'work', 'fine', 'still', 'work', 'perfect', 'tear', 'wear', 'sign', 'refurbish', 'phone', 'complaint', 'work', 'fine', 'still', 'work', 'perfect', 'tear', 'wear', 'sign', 'refurbish', 'phone', 'complaint', 'work', 'fine', 'still', 'work', 'perfect', 'tear', 'wear', 'sign', 'refurbish', 'phone', 'complaint', 'work', 'fine', 'still', 'work', 'perfect', 'tear', 'wear', 'sign', 'refurbish', 'phone', 'complaint', 'work', 'fine', 'still', 'work', 'perfect', 'tear', 'wear', 'sign', 'refurbish', 'phone', 'complaint', 'work', 'fine', 'still', 'work', 'perfect', 'tear', 'wear', 'sign', 'refurbish', 'phone', 'complaint', 'work', 'fine', 'still', 'work', 'perfect', 'tear', 'wear', 'sign', 'refurbish', 'phone', 'complaint', 'work', 'fine', 'still', 'work', 'perfect', 'tear', 'wear', 'sign', 'refurbish', 'phone', 'complaint', 'work', 'fine', 'still', 'work', 'perfect', 'tear', 'wear', 'sign', 'refurbish', 'phone', 'complaint', 'work', 'fine', 'still', 'work', 'perfect', 'tear', 'wear', 'sign', 'refurbish', 'phone', 'complaint', 'work', 'fine', 'still', 'work', 'perfect', 'tear', 'wear', 'sign', 'refurbish', 'phone', 'complaint', 'work', 'fine', 'still', 'work', 'perfect', 'tear', 'wear', 'sign', 'refurbish', 'phone', 'complaint', 'work', 'fine', 'still', 'work', 'perfect', 'tear', 'wear', 'sign', 'refurbish', 'phone', 'complaint', 'work', 'fine', 'still', 'work', 'perfect', 'tear', 'wear', 'sign', 'refurbish', 'phone', 'complaint', 'work', 'fine', 'still', 'work', 'perfect', 'tear', 'wear', 'sign', 'refurbish', 'phone', 'complaint', 'work', 'fine', 'still', 'work', 'perfect', 'tear', 'wear', 'sign', 'refurbish', 'phone', 'complaint', 'work', 'fine', 'still', 'work', 'perfect', 'tear', 'wear', 'sign', 'refurbish', 'phone', 'complaint', 'work', 'fine', 'still', 'work', 'perfect', 'tear', 'wear', 'sign', 'refurbish', 'phone', 'complaint', 'work', 'fine', 'still', 'work', 'perfect', 'tear', 'wear', 'sign', 'refurbish', 'phone', 'complaint', 'work', 'fine', 'still', 'work', 'perfect', 'tear', 'wear', 'sign', 'refurbish', 'phone', 'complaint', 'work', 'fine', 'still', 'work', 'perfect', 'tear', 'wear', 'sign', 'refurbish', 'phone', 'complaint', 'work', 'fine', 'still', 'work', 'perfect', 'tear', 'wear', 'sign', 'refurbish', 'phone', 'complaint', 'work', 'fine', 'still', 'work', 'perfect', 'tear', 'wear', 'sign', 'refurbish', 'phone', 'complaint', 'work', 'fine', 'still', 'work', 'perfect', 'tear', 'wear', 'sign', 'refurbish', 'phone', 'complaint', 'work', 'fine', 'still', 'work', 'perfect', 'tear', 'wear', 'sign', 'refurbish', 'phone', 'complaint', 'work', 'fine', 'still', 'work', 'perfect', 'tear', 'wear', 'sign', 'refurbish', 'phone', 'complaint', 'work', 'fine', 'still', 'work', 'perfect', 'tear', 'wear', 'sign', 'refurbish', 'phone', 'complaint', 'work', 'fine', 'still', 'work', 'perfect', 'tear', 'wear', 'sign', 'refurbish', 'phone', 'complaint', 'work', 'fine', 'still', 'work', 'perfect', 'tear', 'wear', 'sign', 'refurbish', 'phone', 'complaint', 'work', 'fine', 'still', 'work', 'perfect', 'tear', 'wear', 'sign', 'refurbish', 'phone', 'complaint', 'work', 'fine', 'still', 'work', 'perfect', 'tear', 'wear', 'sign', 'refurbish', 'phone', 'complaint', 'work', 'fine', 'still', 'work', 'perfect', 'tear', 'wear', 'sign', 'refurbish', 'phone', 'complaint', 'work', 'fine', 'still', 'work', 'perfect', 'tear', 'wear', 'sign', 'refurbish', 'phone', 'complaint', 'work', 'fine', 'still', 'work', 'perfect', 'tear', 'wear', 'sign', 'refurbish', 'phone', 'complaint', 'work', 'fine', 'still', 'work', 'perfect', 'tear', 'wear', 'sign', 'refurbish', 'phone', 'complaint', 'work', 'fine', 'still', 'work', 'perfect', 'tear', 'wear', 'sign', 'refurbish', 'phone', 'complaint', 'work', 'fine', 'still', 'work', 'perfect', 'tear', 'wear', 'sign', 'refurbish', 'phone', 'complaint', 'work', 'fine', 'still', 'work', 'perfect', 'tear', 'wear', 'sign', 'refurbish', 'phone', 'complaint', 'work', 'fine', 'still', 'work', 'perfect', 'tear', 'wear', 'sign', 'refurbish', 'phone', 'complaint', 'work', 'fine', 'still', 'work', 'perfect', 'tear', 'wear', 'sign', 'refurbish', 'phone', 'complaint', 'work', 'fine', 'still', 'work', 'perfect', 'tear', 'wear', 'sign', 'refurbish', 'phone', 'complaint', 'work', 'fine', 'still', 'work', 'perfect', 'tear', 'wear', 'sign', 'refurbish', 'phone', 'complaint', 'work', 'fine', 'still', 'work', 'perfect', 'tear', 'wear', 'sign', 'refurbish', 'phone', 'complaint', 'work', 'fine', 'still', 'work', 'perfect', 'tear', 'wear', 'sign', 'refurbish', 'phone', 'complaint', 'work', 'fine', 'still', 'work', 'perfect', 'tear', 'wear', 'sign', 'refurbish', 'phone', 'complaint', 'work', 'fine', 'still', 'work', 'perfect', 'tear', 'wear', 'sign', 'refurbish', 'phone', 'complaint', 'work', 'fine', 'still', 'work', 'perfect', 'tear', 'wear', 'sign', 'refurbish', 'phone', 'complaint', 'work', 'fine', 'still', 'work', 'perfect', 'tear', 'wear', 'sign', 'refurbish', 'phone', 'complaint', 'work', 'fine', 'still', 'work', 'perfect', 'tear', 'wear', 'sign', 'refurbish', 'phone', 'complaint', 'work', 'fine', 'still', 'work', 'perfect', 'tear', 'wear', 'sign', 'refurbish', 'phone', 'complaint', 'work', 'fine', 'still', 'work', 'perfect', 'tear', 'wear', 'sign', 'refurbish', 'phone', 'complaint', 'work', 'fine', 'still', 'work', 'perfect', 'tear', 'wear', 'sign', 'refurbish', 'phone', 'complaint', 'work', 'fine', 'still', 'work', 'perfect', 'tear', 'wear', 'sign', 'refurbish', 'phone', 'complaint', 'work', 'fine', 'still', 'work', 'perfect', 'tear', 'wear', 'sign', 'refurbish', 'phone', 'complaint', 'work', 'fine', 'still', 'work', 'perfect', 'tear', 'wear', 'sign', 'refurbish', 'phone', 'complaint', 'work', 'fine', 'still', 'work', 'perfect', 'tear', 'wear', 'sign', 'refurbish', 'phone', 'complaint', 'work', 'fine', 'still', 'work', 'perfect', 'tear', 'wear', 'sign', 'refurbish', 'phone', 'complaint', 'work', 'fine', 'still', 'work', 'perfect', 'tear', 'wear', 'sign', 'refurbish', 'phone', 'complaint', 'work', 'fine', 'still', 'work', 'perfect', 'tear', 'wear', 'sign', 'refurbish', 'phone', 'complaint', 'work', 'fine', 'still', 'work', 'perfect', 'tear', 'wear', 'sign', 'refurbish', 'phone', 'complaint', 'work', 'fine', 'still', 'work', 'perfect', 'tear', 'wear', 'sign', 'refurbish', 'phone', 'complaint', 'work', 'fine', 'still', 'work', 'perfect', 'tear', 'wear', 'sign', 'refurbish', 'phone', 'complaint', 'work', 'fine', 'still', 'work', 'perfect', 'tear', 'wear', 'sign', 'refurbish', 'phone', 'complaint', 'work', 'fine', 'still', 'work', 'perfect', 'tear', 'wear', 'sign', 'refurbish', 'phone', 'complaint', 'work', 'fine', 'still', 'work', 'perfect', 'tear', 'wear', 'sign', 'refurbish', 'phone', 'complaint', 'work', 'fine', 'still', 'work', 'perfect', 'tear', 'wear', 'sign', 'refurbish', 'phone', 'complaint', 'work', 'fine', 'still', 'work', 'perfect', 'tear', 'wear', 'sign', 'refurbish', 'phone', 'complaint', 'work', 'fine', 'still', 'work', 'perfect', 'tear', 'wear', 'sign', 'refurbish', 'phone', 'complaint', 'work', 'fine', 'still', 'work', 'perfect', 'tear', 'wear', 'sign', 'refurbish', 'phone', 'complaint', 'work', 'fine', 'still', 'work', 'perfect', 'tear', 'wear', 'sign', 'refurbish', 'phone', 'complaint', 'work', 'fine', 'still', 'work', 'perfect', 'tear', 'wear', 'sign', 'refurbish', 'phone', 'complaint', 'work', 'fine', 'still', 'work', 'perfect', 'tear', 'wear', 'sign', 'refurbish', 'phone', 'complaint', 'work', 'fine', 'still', 'work', 'perfect', 'tear', 'wear', 'sign', 'refurbish', 'phone', 'complaint', 'work', 'fine', 'still', 'work', 'perfect', 'tear', 'wear', 'sign', 'refurbish', 'phone', 'complaint', 'work', 'fine', 'still', 'work', 'perfect', 'tear', 'wear', 'sign', 'refurbish', 'phone', 'complaint', 'work', 'fine', 'still', 'work', 'perfect', 'tear', 'wear', 'sign', 'refurbish', 'phone', 'complaint', 'work', 'fine', 'still', 'work', 'perfect', 'tear', 'wear', 'sign', 'refurbish', 'phone', 'complaint', 'work', 'fine', 'still', 'work', 'perfect', 'tear', 'wear', 'sign', 'refurbish', 'phone', 'complaint', 'work', 'fine', 'still', 'work', 'perfect', 'tear', 'wear', 'sign', 'refurbish', 'phone', 'complaint', 'work', 'fine', 'still', 'work', 'perfect', 'tear', 'wear', 'sign', 'refurbish', 'phone', 'complaint', 'work', 'fine', 'still', 'work', 'perfect', 'tear', 'wear', 'sign', 'refurbish', 'phone', 'complaint', 'work', 'fine', 'still', 'work', 'perfect', 'tear', 'wear', 'sign', 'refurbish', 'phone', 'complaint', 'work', 'fine', 'still', 'work', 'perfect', 'tear', 'wear', 'sign', 'refurbish', 'phone', 'complaint', 'work', 'fine', 'still', 'work', 'perfect', 'tear', 'wear', 'sign', 'refurbish', 'phone', 'complaint', 'work', 'fine', 'still', 'work', 'perfect', 'tear', 'wear', 'sign', 'refurbish', 'phone', 'complaint', 'work', 'fine', 'still', 'work', 'perfect', 'tear', 'wear', 'sign', 'refurbish', 'phone', 'complaint', 'work', 'fine', 'still', 'work', 'perfect', 'tear', 'wear', 'sign', 'refurbish', 'phone', 'complaint', 'work', 'fine', 'still', 'work', 'perfect', 'tear', 'wear', 'sign', 'refurbish', 'phone', 'complaint', 'work', 'fine', 'still', 'work', 'perfect', 'tear', 'wear', 'sign', 'refurbish', 'phone', 'complaint', 'work', 'fine', 'still', 'work', 'perfect', 'tear', 'wear', 'sign', 'refurbish', 'phone', 'complaint', 'work', 'fine', 'still', 'work', 'perfect', 'tear', 'wear', 'sign', 'refurbish', 'phone', 'complaint', 'work', 'fine', 'still', 'work', 'perfect', 'tear', 'wear', 'sign', 'refurbish', 'phone', 'complaint', 'work', 'fine', 'still', 'work', 'perfect', 'tear', 'wear', 'sign', 'refurbish', 'phone', 'complaint', 'work', 'fine', 'still', 'work', 'perfect', 'tear', 'wear', 'sign', 'refurbish', 'phone', 'complaint', 'work', 'fine', 'still', 'work', 'perfect', 'tear', 'wear', 'sign', 'refurbish', 'phone', 'complaint', 'work', 'fine', 'still', 'work', 'perfect', 'tear', 'wear', 'sign', 'refurbish', 'phone', 'complaint', 'work', 'fine', 'still', 'work', 'perfect', 'tear', 'wear', 'sign', 'refurbish', 'phone', 'complaint', 'work', 'fine', 'still', 'work', 'perfect', 'tear', 'wear', 'sign', 'refurbish', 'phone', 'complaint', 'work', 'fine', 'still', 'work', 'perfect', 'tear', 'wear', 'sign', 'refurbish', 'phone', 'complaint', 'work', 'fine', 'still', 'work', 'perfect', 'tear', 'wear', 'sign', 'refurbish', 'phone', 'complaint', 'work', 'fine', 'still', 'work', 'perfect', 'tear', 'wear', 'sign', 'refurbish', 'phone', 'complaint', 'work', 'fine', 'still', 'work', 'perfect', 'tear', 'wear', 'sign', 'refurbish', 'phone', 'complaint', 'work', 'fine', 'still', 'work', 'perfect', 'tear', 'wear', 'sign', 'refurbish', 'phone', 'complaint', 'work', 'fine', 'still', 'work', 'perfect', 'tear', 'wear', 'sign', 'refurbish', 'phone', 'complaint', 'work', 'fine', 'still', 'work', 'perfect', 'tear', 'wear', 'sign', 'refurbish', 'phone', 'complaint', 'work', 'fine', 'still', 'work', 'perfect', 'tear', 'wear', 'sign', 'refurbish', 'phone', 'complaint', 'work', 'fine', 'still', 'work', 'perfect', 'tear', 'wear', 'sign', 'refurbish', 'phone', 'complaint', 'work', 'fine', 'still', 'work', 'perfect', 'tear', 'wear', 'sign', 'refurbish', 'phone', 'complaint', 'work', 'fine', 'still', 'work', 'perfect', 'tear', 'wear', 'sign', 'refurbish', 'phone', 'complaint', 'work', 'fine', 'still', 'work', 'perfect', 'tear', 'wear', 'sign', 'refurbish', 'phone', 'complaint', 'work', 'fine', 'still', 'work', 'perfect', 'tear', 'wear', 'sign', 'refurbish', 'phone', 'complaint', 'work', 'fine', 'still', 'work', 'perfect', 'tear', 'wear', 'sign', 'refurbish', 'phone', 'complaint', 'work', 'fine', 'still', 'work', 'perfect', 'tear', 'wear', 'sign', 'refurbish', 'phone', 'complaint', 'work', 'fine', 'still', 'work', 'perfect', 'tear', 'wear', 'sign', 'refurbish', 'phone', 'complaint', 'work', 'fine', 'still', 'work', 'perfect', 'tear', 'wear', 'sign', 'refurbish', 'phone', 'complaint', 'work', 'fine', 'still', 'work', 'perfect', 'tear', 'wear', 'sign', 'refurbish', 'phone', 'complaint', 'work', 'fine', 'still', 'work', 'perfect', 'tear', 'wear', 'sign', 'refurbish', 'phone', 'complaint', 'work', 'fine', 'still', 'work', 'perfect', 'tear', 'wear', 'sign', 'refurbish', 'phone', 'complaint', 'work', 'fine', 'still', 'work', 'perfect', 'tear', 'wear', 'sign', 'refurbish', 'phone', 'complaint', 'work', 'fine', 'still', 'work', 'perfect', 'tear', 'wear', 'sign', 'refurbish', 'phone', 'complaint', 'work', 'fine', 'still', 'work', 'perfect', 'tear', 'wear', 'sign', 'refurbish', 'phone', 'complaint', 'work', 'fine', 'still', 'work', 'perfect', 'tear', 'wear', 'sign', 'refurbish', 'phone', 'complaint', 'work', 'fine', 'still', 'work', 'perfect', 'tear', 'wear', 'sign', 'refurbish', 'phone', 'complaint', 'work', 'fine', 'still', 'work', 'perfect', 'tear', 'wear', 'sign', 'refurbish', 'phone', 'complaint', 'work', 'fine', 'still', 'work', 'perfect', 'tear', 'wear', 'sign', 'refurbish', 'phone', 'complaint', 'work', 'fine', 'still', 'work', 'perfect', 'tear', 'wear', 'sign', 'refurbish', 'phone', 'complaint', 'work', 'fine', 'still', 'work', 'perfect', 'tear', 'wear', 'sign', 'refurbish', 'phone', 'complaint', 'work', 'fine', 'still', 'work', 'perfect', 'tear', 'wear', 'sign', 'refurbish', 'phone', 'complaint', 'work', 'fine', 'still', 'work', 'perfect', 'tear', 'wear', 'sign', 'refurbish', 'phone', 'complaint', 'work', 'fine', 'still', 'work', 'perfect', 'tear', 'wear', 'sign', 'refurbish', 'phone', 'complaint', 'work', 'fine', 'still', 'work', 'perfect', 'tear', 'wear', 'sign', 'refurbish', 'phone', 'complaint', 'work', 'fine', 'still', 'work', 'perfect', 'tear', 'wear', 'sign', 'refurbish', 'phone', 'complaint', 'work', 'fine', 'still', 'work', 'perfect', 'tear', 'wear', 'sign', 'refurbish', 'phone', 'complaint', 'work', 'fine', 'still', 'work', 'perfect', 'tear', 'wear', 'sign', 'refurbish', 'phone', 'complaint', 'work', 'fine', 'still', 'work', 'perfect', 'tear', 'wear', 'sign', 'refurbish', 'phone', 'complaint', 'work', 'fine', 'still', 'work', 'perfect', 'tear', 'wear', 'sign', 'refurbish', 'phone', 'complaint', 'work', 'fine', 'still', 'work', 'perfect', 'tear', 'wear', 'sign', 'refurbish', 'phone', 'complaint', 'work', 'fine', 'still', 'work', 'perfect', 'tear', 'wear', 'sign', 'refurbish', 'phone', 'complaint', 'work', 'fine', 'still', 'work', 'perfect', 'tear', 'wear', 'sign', 'refurbish', 'phone', 'complaint', 'work', 'fine', 'still', 'work', 'perfect', 'tear', 'wear', 'sign', 'refurbish', 'phone', 'complaint', 'work', 'fine', 'still', 'work', 'perfect', 'tear', 'wear', 'sign', 'refurbish', 'phone', 'complaint', 'work', 'fine', 'still', 'work', 'perfect', 'tear', 'wear', 'sign', 'refurbish', 'phone', 'complaint', 'work', 'fine', 'still', 'work', 'perfect', 'tear', 'wear', 'sign', 'refurbish', 'phone', 'complaint', 'work', 'fine', 'still', 'work', 'perfect', 'tear', 'wear', 'sign', 'refurbish', 'phone', 'complaint', 'work', 'fine', 'still', 'work', 'perfect', 'tear', 'wear', 'sign', 'refurbish', 'phone', 'complaint', 'work', 'fine', 'still', 'work', 'perfect', 'tear', 'wear', 'sign', 'refurbish', 'phone', 'complaint', 'work', 'fine', 'still', 'work', 'perfect', 'tear', 'wear', 'sign', 'refurbish', 'phone', 'complaint', 'work', 'fine', 'still', 'work', 'perfect', 'tear', 'wear', 'sign', 'refurbish', 'phone', 'complaint', 'work', 'fine', 'still', 'work', 'perfect', 'tear', 'wear', 'sign', 'refurbish', 'phone', 'complaint', 'work', 'fine', 'still', 'work', 'perfect', 'tear', 'wear', 'sign', 'refurbish', 'phone', 'complaint', 'work', 'fine', 'still', 'work', 'perfect', 'tear', 'wear', 'sign', 'refurbish', 'phone', 'complaint', 'work', 'fine', 'still', 'work', 'perfect', 'tear', 'wear', 'sign', 'refurbish', 'phone', 'complaint', 'work', 'fine', 'still', 'work', 'perfect', 'tear', 'wear', 'sign', 'refurbish', 'phone', 'complaint', 'work', 'fine', 'still', 'work', 'perfect', 'tear', 'wear', 'sign', 'refurbish', 'phone', 'complaint', 'work', 'fine', 'still', 'work', 'perfect', 'tear', 'wear', 'sign', 'refurbish', 'phone', 'complaint', 'work', 'fine', 'still', 'work', 'perfect', 'tear', 'wear', 'sign', 'refurbish', 'phone', 'complaint', 'work', 'fine', 'still', 'work', 'perfect', 'tear', 'wear', 'sign', 'refurbish', 'phone', 'complaint', 'work', 'fine', 'still', 'work', 'perfect', 'tear', 'wear', 'sign', 'refurbish', 'phone', 'complaint', 'work', 'fine', 'still', 'work', 'perfect', 'tear', 'wear', 'sign', 'refurbish', 'phone', 'complaint', 'work', 'fine', 'still', 'work', 'perfect', 'tear', 'wear', 'sign', 'refurbish', 'phone', 'complaint', 'work', 'fine', 'still', 'work', 'perfect', 'tear', 'wear', 'sign', 'refurbish', 'phone', 'complaint', 'work', 'fine', 'still', 'work', 'perfect', 'tear', 'wear', 'sign', 'refurbish', 'phone', 'complaint', 'work', 'fine', 'still', 'work', 'perfect', 'tear', 'wear', 'sign', 'refurbish', 'phone', 'complaint', 'work', 'fine', 'still', 'work', 'perfect', 'tear', 'wear', 'sign', 'refurbish', 'phone', 'complaint', 'work', 'fine', 'still', 'work', 'perfect', 'tear', 'wear', 'sign', 'refurbish', 'phone', 'complaint', 'work', 'fine', 'still', 'work', 'perfect', 'tear', 'wear', 'sign', 'refurbish', 'phone', 'complaint', 'work', 'fine', 'still', 'work', 'perfect', 'tear', 'wear', 'sign', 'refurbish', 'phone', 'complaint', 'work', 'fine', 'still', 'work', 'perfect', 'tear', 'wear', 'sign', 'refurbish', 'phone', 'complaint', 'work', 'fine', 'still', 'work', 'perfect', 'tear', 'wear', 'sign', 'refurbish', 'phone', 'complaint', 'work', 'fine', 'still', 'work', 'perfect', 'tear', 'wear', 'sign', 'refurbish', 'phone', 'complaint', 'work', 'fine', 'still', 'work', 'perfect', 'tear', 'wear', 'sign', 'refurbish', 'phone', 'complaint', 'work', 'fine', 'still', 'work', 'perfect', 'tear', 'wear', 'sign', 'refurbish', 'phone', 'complaint', 'work', 'fine', 'still', 'work', 'perfect', 'tear', 'wear', 'sign', 'refurbish', 'phone', 'complaint', 'work', 'fine', 'still', 'work', 'perfect', 'tear', 'wear', 'sign', 'refurbish', 'phone', 'complaint', 'work', 'fine', 'still', 'work', 'perfect', 'tear', 'wear', 'sign', 'refurbish', 'phone', 'complaint', 'work', 'fine', 'still', 'work', 'perfect', 'tear', 'wear', 'sign', 'refurbish', 'phone', 'complaint', 'work', 'fine', 'still', 'work', 'perfect', 'tear', 'wear', 'sign', 'refurbish', 'phone', 'complaint', 'work', 'fine', 'still', 'work', 'perfect', 'tear', 'wear', 'sign', 'refurbish', 'phone', 'complaint', 'work', 'fine', 'still', 'work', 'perfect', 'tear', 'wear', 'sign', 'refurbish', 'phone', 'complaint', 'work', 'fine', 'still', 'work', 'perfect', 'tear', 'wear', 'sign', 'refurbish', 'phone', 'complaint', 'work', 'fine', 'still', 'work', 'perfect', 'tear', 'wear', 'sign', 'refurbish', 'phone', 'complaint', 'work', 'fine', 'still', 'work', 'perfect', 'tear', 'wear', 'sign', 'refurbish', 'phone', 'complaint', 'work', 'fine', 'still', 'work', 'perfect', 'tear', 'wear', 'sign', 'refurbish', 'phone', 'complaint', 'work', 'fine', 'still', 'work', 'perfect', 'tear', 'wear', 'sign', 'refurbish', 'phone', 'complaint', 'work', 'fine', 'still', 'work', 'perfect', 'tear', 'wear', 'sign', 'refurbish', 'phone', 'complaint', 'work', 'fine', 'still', 'work', 'perfect', 'tear', 'wear', 'sign', 'refurbish', 'phone', 'complaint', 'work', 'fine', 'still', 'work', 'perfect', 'tear', 'wear', 'sign', 'refurbish', 'phone', 'complaint', 'work', 'fine', 'still', 'work', 'perfect', 'tear', 'wear', 'sign', 'refurbish', 'phone', 'complaint', 'work', 'fine', 'still', 'work', 'perfect', 'tear', 'wear', 'sign', 'refurbish', 'phone', 'complaint', 'work', 'fine', 'still', 'work', 'perfect', 'tear', 'wear', 'sign', 'refurbish', 'phone', 'complaint', 'work', 'fine', 'still', 'work', 'perfect', 'tear', 'wear', 'sign', 'refurbish', 'phone', 'complaint', 'work', 'fine', 'still', 'work', 'perfect', 'tear', 'wear', 'sign', 'refurbish', 'phone', 'complaint', 'work', 'fine', 'still', 'work', 'perfect', 'tear', 'wear', 'sign', 'refurbish', 'phone', 'complaint', 'work', 'fine', 'still', 'work', 'perfect', 'tear', 'wear', 'sign', 'refurbish', 'phone', 'complaint', 'work', 'fine', 'still', 'work', 'perfect', 'tear', 'wear', 'sign', 'refurbish', 'phone', 'complaint', 'work', 'fine', 'still', 'work', 'perfect', 'tear', 'wear', 'sign', 'refurbish', 'phone', 'complaint', 'work', 'fine', 'still', 'work', 'perfect', 'tear', 'wear', 'sign', 'refurbish', 'phone', 'complaint', 'work', 'fine', 'still', 'work', 'perfect', 'tear', 'wear', 'sign', 'refurbish', 'phone', 'complaint', 'work', 'fine', 'still', 'work', 'perfect', 'tear', 'wear', 'sign', 'refurbish', 'phone', 'complaint', 'work', 'fine', 'still', 'work', 'perfect', 'tear', 'wear', 'sign', 'refurbish', 'phone', 'complaint', 'work', 'fine', 'still', 'work', 'perfect', 'tear', 'wear', 'sign', 'refurbish', 'phone', 'complaint', 'work', 'fine', 'still', 'work', 'perfect', 'tear', 'wear', 'sign', 'refurbish', 'phone', 'complaint', 'work', 'fine', 'still', 'work', 'perfect', 'tear', 'wear', 'sign', 'refurbish', 'phone', 'complaint', 'work', 'fine', 'still', 'work', 'perfect', 'tear', 'wear', 'sign', 'refurbish', 'phone', 'complaint', 'work', 'fine', 'still', 'work', 'perfect', 'tear', 'wear', 'sign', 'refurbish', 'phone', 'complaint', 'work', 'fine', 'still', 'work', 'perfect', 'tear', 'wear', 'sign', 'refurbish', 'phone', 'complaint', 'work', 'fine', 'still', 'work', 'perfect', 'tear', 'wear', 'sign', 'refurbish', 'phone', 'complaint', 'work', 'fine', 'still', 'work', 'perfect', 'tear', 'wear', 'sign', 'refurbish', 'phone', 'complaint', 'work', 'fine', 'still', 'work', 'perfect', 'tear', 'wear', 'sign', 'refurbish', 'phone', 'complaint', 'work', 'fine', 'still', 'work', 'perfect', 'tear', 'wear', 'sign', 'refurbish', 'phone', 'complaint', 'work', 'fine', 'still', 'work', 'perfect', 'tear', 'wear', 'sign', 'refurbish', 'phone', 'complaint', 'work', 'fine', 'still', 'work', 'perfect', 'tear', 'wear', 'sign', 'refurbish', 'phone', 'complaint', 'work', 'fine', 'still', 'work', 'perfect', 'tear', 'wear', 'sign', 'refurbish', 'phone', 'complaint', 'work', 'fine', 'still', 'work', 'perfect', 'tear', 'wear', 'sign', 'refurbish', 'phone', 'complaint', 'work', 'fine', 'still', 'work', 'perfect', 'tear', 'wear', 'sign', 'refurbish', 'phone', 'complaint', 'work', 'fine', 'still', 'work', 'perfect', 'tear', 'wear', 'sign', 'refurbish', 'phone', 'complaint', 'work', 'fine', 'still', 'work', 'perfect', 'tear', 'wear', 'sign', 'refurbish', 'phone', 'complaint', 'work', 'fine', 'still', 'work', 'perfect', 'tear', 'wear', 'sign', 'refurbish', 'phone', 'complaint', 'work', 'fine', 'still', 'work', 'perfect', 'tear', 'wear', 'sign', 'refurbish', 'phone', 'complaint', 'work', 'fine', 'still', 'work', 'perfect', 'tear', 'wear', 'sign', 'refurbish', 'phone', 'complaint', 'work', 'fine', 'still', 'work', 'perfect', 'tear', 'wear', 'sign', 'refurbish', 'phone', 'complaint', 'work', 'fine', 'still', 'work', 'perfect', 'tear', 'wear', 'sign', 'refurbish', 'phone', 'complaint', 'work', 'fine', 'still', 'work', 'perfect', 'tear', 'wear', 'sign', 'refurbish', 'phone', 'complaint', 'work', 'fine', 'still', 'work', 'perfect', 'tear', 'wear', 'sign', 'refurbish', 'phone', 'complaint', 'work', 'fine', 'still', 'work', 'perfect', 'tear', 'wear', 'sign', 'refurbish', 'phone', 'complaint', 'work', 'fine', 'still', 'work', 'perfect', 'tear', 'wear', 'sign', 'refurbish', 'phone', 'complaint', 'work', 'fine', 'still', 'work', 'perfect', 'tear', 'wear', 'sign', 'refurbish', 'phone', 'complaint', 'work', 'fine', 'still', 'work', 'perfect', 'tear', 'wear', 'sign', 'refurbish', 'phone', 'complaint', 'work', 'fine', 'still', 'work', 'perfect', 'tear', 'wear', 'sign', 'refurbish', 'phone', 'complaint', 'work', 'fine', 'still', 'work', 'perfect', 'tear', 'wear', 'sign', 'refurbish', 'phone', 'complaint', 'work', 'fine', 'still', 'work', 'perfect', 'tear', 'wear', 'sign', 'refurbish', 'phone', 'complaint', 'work', 'fine', 'still', 'work', 'perfect', 'tear', 'wear', 'sign', 'refurbish', 'phone', 'complaint', 'work', 'fine', 'still', 'work', 'perfect', 'tear', 'wear', 'sign', 'refurbish', 'phone', 'complaint', 'work', 'fine', 'still', 'work', 'perfect', 'tear', 'wear', 'sign', 'refurbish', 'phone', 'complaint', 'work', 'fine', 'still', 'work', 'perfect', 'tear', 'wear', 'sign', 'refurbish', 'phone', 'complaint', 'work', 'fine', 'still', 'work', 'perfect', 'tear', 'wear', 'sign', 'refurbish', 'phone', 'complaint', 'work', 'fine', 'still', 'work', 'perfect', 'tear', 'wear', 'sign', 'refurbish', 'phone', 'complaint', 'work', 'fine', 'still', 'work', 'perfect', 'tear', 'wear', 'sign', 'refurbish', 'phone', 'complaint', 'work', 'fine', 'still', 'work', 'perfect', 'tear', 'wear', 'sign', 'refurbish', 'phone', 'complaint', 'work', 'fine', 'still', 'work', 'perfect', 'tear', 'wear', 'sign', 'refurbish', 'phone', 'complaint', 'work', 'fine', 'still', 'work', 'perfect', 'tear', 'wear', 'sign', 'refurbish', 'phone', 'complaint', 'work', 'fine', 'still', 'work', 'perfect', 'tear', 'wear', 'sign', 'refurbish', 'phone', 'complaint', 'work', 'fine', 'still', 'work', 'perfect', 'tear', 'wear', 'sign', 'refurbish', 'phone', 'complaint', 'work', 'fine', 'still', 'work', 'perfect', 'tear', 'wear', 'sign', 'refurbish', 'phone', 'complaint', 'work', 'fine', 'still', 'work', 'perfect', 'tear', 'wear', 'sign', 'refurbish', 'phone', 'complaint', 'work', 'fine', 'still', 'work', 'perfect', 'tear', 'wear', 'sign', 'refurbish', 'phone', 'complaint', 'work', 'fine', 'still', 'work', 'perfect', 'tear', 'wear', 'sign', 'refurbish', 'phone', 'complaint', 'work', 'fine', 'still', 'work', 'perfect', 'tear', 'wear', 'sign', 'refurbish', 'phone', 'complaint', 'work', 'fine', 'still', 'work', 'perfect', 'tear', 'wear', 'sign', 'refurbish', 'phone', 'complaint', 'work', 'fine', 'still', 'work', 'perfect', 'tear', 'wear', 'sign', 'refurbish', 'phone', 'complaint', 'work', 'fine', 'still', 'work', 'perfect', 'tear', 'wear', 'sign', 'refurbish', 'phone', 'complaint', 'work', 'fine', 'still', 'work', 'perfect', 'tear', 'wear', 'sign', 'refurbish', 'phone', 'complaint', 'work', 'fine', 'still', 'work', 'perfect', 'tear', 'wear', 'sign', 'refurbish', 'phone', 'complaint', 'work', 'fine', 'still', 'work', 'perfect', 'tear', 'wear', 'sign', 'refurbish', 'phone', 'complaint', 'work', 'fine', 'still', 'work', 'perfect', 'tear', 'wear', 'sign', 'refurbish', 'phone', 'complaint', 'work', 'fine', 'still', 'work', 'perfect', 'tear', 'wear', 'sign', 'refurbish', 'phone', 'complaint', 'work', 'fine', 'still', 'work', 'perfect', 'tear', 'wear', 'sign', 'refurbish', 'phone', 'complaint', 'work', 'fine', 'still', 'work', 'perfect', 'tear', 'wear', 'sign', 'refurbish', 'phone', 'complaint', 'work', 'fine', 'still', 'work', 'perfect', 'tear', 'wear', 'sign', 'refurbish', 'phone', 'complaint', 'work', 'fine', 'still', 'work', 'perfect', 'tear', 'wear', 'sign', 'refurbish', 'phone', 'complaint', 'work', 'fine', 'still', 'work', 'perfect', 'tear', 'wear', 'sign', 'refurbish', 'phone', 'complaint', 'work', 'fine', 'still', 'work', 'perfect', 'tear', 'wear', 'sign', 'refurbish', 'phone', 'complaint', 'work', 'fine', 'still', 'work', 'perfect', 'tear', 'wear', 'sign', 'refurbish', 'phone', 'complaint', 'work', 'fine', 'still', 'work', 'perfect', 'tear', 'wear', 'sign', 'refurbish', 'phone', 'complaint', 'work', 'fine', 'still', 'work', 'perfect', 'tear', 'wear', 'sign', 'refurbish', 'phone', 'complaint', 'work', 'fine', 'still', 'work', 'perfect', 'tear', 'wear', 'sign', 'refurbish', 'phone', 'complaint', 'work', 'fine', 'still', 'work', 'perfect', 'tear', 'wear', 'sign', 'refurbish', 'phone', 'complaint', 'work', 'fine', 'still', 'work', 'perfect', 'tear', 'wear', 'sign', 'refurbish', 'phone', 'complaint', 'work', 'fine', 'still', 'work', 'perfect', 'tear', 'wear', 'sign', 'refurbish', 'phone', 'complaint', 'work', 'fine', 'still', 'work', 'perfect', 'tear', 'wear', 'sign', 'refurbish', 'phone', 'complaint', 'work', 'fine', 'still', 'work', 'perfect', 'tear', 'wear', 'sign', 'refurbish', 'phone', 'complaint', 'work', 'fine', 'still', 'work', 'perfect', 'tear', 'wear', 'sign', 'refurbish', 'phone', 'complaint', 'work', 'fine', 'still', 'work', 'perfect', 'tear', 'wear', 'sign', 'refurbish', 'phone', 'complaint', 'work', 'fine', 'still', 'work', 'perfect', 'tear', 'wear', 'sign', 'refurbish', 'phone', 'complaint', 'work', 'fine', 'still', 'work', 'perfect', 'tear', 'wear', 'sign', 'refurbish', 'phone', 'complaint', 'work', 'fine', 'still', 'work', 'perfect', 'tear', 'wear', 'sign', 'refurbish', 'phone', 'complaint', 'work', 'fine', 'still', 'work', 'perfect', 'tear', 'wear', 'sign', 'refurbish', 'phone', 'complaint', 'work', 'fine', 'still', 'work', 'perfect', 'tear', 'wear', 'sign', 'refurbish', 'phone', 'complaint', 'work', 'fine', 'still', 'work', 'perfect', 'tear', 'wear', 'sign', 'refurbish', 'phone', 'complaint', 'work', 'fine', 'still', 'work', 'perfect', 'tear', 'wear', 'sign', 'refurbish', 'phone', 'complaint', 'work', 'fine', 'still', 'work', 'perfect', 'tear', 'wear', 'sign', 'refurbish', 'phone', 'complaint', 'work', 'fine', 'still', 'work', 'perfect', 'tear', 'wear', 'sign', 'refurbish', 'phone', 'complaint', 'work', 'fine', 'still', 'work', 'perfect', 'tear', 'wear', 'sign', 'refurbish', 'phone', 'complaint', 'work', 'fine', 'still', 'work', 'perfect', 'tear', 'wear', 'sign', 'refurbish', 'phone', 'complaint', 'work', 'fine', 'still', 'work', 'perfect', 'tear', 'wear', 'sign', 'refurbish', 'phone', 'complaint', 'work', 'fine', 'still', 'work', 'perfect', 'tear', 'wear', 'sign', 'refurbish', 'phone', 'complaint', 'work', 'fine', 'still', 'work', 'perfect', 'tear', 'wear', 'sign', 'refurbish', 'phone', 'complaint', 'work', 'fine', 'still', 'work', 'perfect', 'tear', 'wear', 'sign', 'refurbish', 'phone', 'complaint', 'work', 'fine', 'still', 'work', 'perfect', 'tear', 'wear', 'sign', 'refurbish', 'phone', 'complaint', 'work', 'fine', 'still', 'work', 'perfect', 'tear', 'wear', 'sign', 'refurbish', 'phone', 'complaint', 'work', 'fine', 'still', 'work', 'perfect', 'tear', 'wear', 'sign', 'refurbish', 'phone', 'complaint', 'work', 'fine', 'still', 'work', 'perfect', 'tear', 'wear', 'sign', 'refurbish', 'phone', 'complaint', 'work', 'fine', 'still', 'work', 'perfect', 'tear', 'wear', 'sign', 'refurbish', 'phone', 'complaint', 'work', 'fine', 'still', 'work', 'perfect', 'tear', 'wear', 'sign', 'refurbish', 'phone', 'complaint', 'work', 'fine', 'still', 'work', 'perfect', 'tear', 'wear', 'sign', 'refurbish', 'phone', 'complaint', 'work', 'fine', 'still', 'work', 'perfect', 'tear', 'wear', 'sign', 'refurbish', 'phone', 'complaint', 'work', 'fine', 'still', 'work', 'perfect', 'tear', 'wear', 'sign', 'refurbish', 'phone', 'complaint', 'work', 'fine', 'still', 'work', 'perfect', 'tear', 'wear', 'sign', 'refurbish', 'phone', 'complaint', 'work', 'fine', 'still', 'work', 'perfect', 'tear', 'wear', 'sign', 'refurbish', 'phone', 'complaint', 'work', 'fine', 'still', 'work', 'perfect', 'tear', 'wear', 'sign', 'refurbish', 'phone', 'complaint', 'work', 'fine', 'still', 'work', 'perfect', 'tear', 'wear', 'sign', 'refurbish', 'phone', 'complaint', 'work', 'fine', 'still', 'work', 'perfect', 'tear', 'wear', 'sign', 'refurbish', 'phone', 'complaint', 'work', 'fine', 'still', 'work', 'perfect', 'tear', 'wear', 'sign', 'refurbish', 'phone', 'complaint', 'work', 'fine', 'still', 'work', 'perfect', 'tear', 'wear', 'sign', 'refurbish', 'phone', 'complaint', 'work', 'fine', 'still', 'work', 'perfect', 'tear', 'wear', 'sign', 'refurbish', 'phone', 'complaint', 'work', 'fine', 'still', 'work', 'perfect', 'tear', 'wear', 'sign', 'refurbish', 'phone', 'complaint', 'work', 'fine', 'still', 'work', 'perfect', 'tear', 'wear', 'sign', 'refurbish', 'phone', 'complaint', 'work', 'fine', 'still', 'work', 'perfect', 'tear', 'wear', 'sign', 'refurbish', 'phone', 'complaint', 'work', 'fine', 'still', 'work', 'perfect', 'tear', 'wear', 'sign', 'refurbish', 'phone', 'complaint', 'work', 'fine', 'still', 'work', 'perfect', 'tear', 'wear', 'sign', 'refurbish', 'phone', 'complaint', 'work', 'fine', 'still', 'work', 'perfect', 'tear', 'wear', 'sign', 'refurbish', 'phone', 'complaint', 'work', 'fine', 'still', 'work', 'perfect', 'tear', 'wear', 'sign', 'refurbish', 'phone', 'complaint', 'work', 'fine', 'still', 'work', 'perfect', 'tear', 'wear', 'sign', 'refurbish', 'phone', 'complaint', 'work', 'fine', 'still', 'work', 'perfect', 'tear', 'wear', 'sign', 'refurbish', 'phone', 'complaint', 'work', 'fine', 'still', 'work', 'perfect', 'tear', 'wear', 'sign', 'refurbish', 'phone', 'complaint', 'work', 'fine', 'still', 'work', 'perfect', 'tear', 'wear', 'sign', 'refurbish', 'phone', 'complaint', 'work', 'fine', 'still', 'work', 'perfect', 'tear', 'wear', 'sign', 'refurbish', 'phone', 'complaint', 'work', 'fine', 'still', 'work', 'perfect', 'tear', 'wear', 'sign', 'refurbish', 'phone', 'complaint', 'work', 'fine', 'still', 'work', 'perfect', 'tear', 'wear', 'sign', 'refurbish', 'phone', 'complaint', 'work', 'fine', 'still', 'work', 'perfect', 'tear', 'wear', 'sign', 'refurbish', 'phone', 'complaint', 'work', 'fine', 'still', 'work', 'perfect', 'tear', 'wear', 'sign', 'refurbish', 'phone', 'complaint', 'work', 'fine', 'still', 'work', 'perfect', 'tear', 'wear', 'sign', 'refurbish', 'phone', 'complaint', 'work', 'fine', 'still', 'work', 'perfect', 'tear', 'wear', 'sign', 'refurbish', 'phone', 'complaint', 'work', 'fine', 'still', 'work', 'perfect', 'tear', 'wear', 'sign', 'refurbish', 'phone', 'complaint', 'work', 'fine', 'still', 'work', 'perfect', 'tear', 'wear', 'sign', 'refurbish', 'phone', 'complaint', 'work', 'fine', 'still', 'work', 'perfect', 'tear', 'wear', 'sign', 'refurbish', 'phone', 'complaint', 'work', 'fine', 'still', 'work', 'perfect', 'tear', 'wear', 'sign', 'refurbish', 'phone', 'complaint', 'work', 'fine', 'still', 'work', 'perfect', 'tear', 'wear', 'sign', 'refurbish', 'phone', 'complaint', 'work', 'fine', 'still', 'work', 'perfect', 'tear', 'wear', 'sign', 'refurbish', 'phone', 'complaint', 'work', 'fine', 'still', 'work', 'perfect', 'tear', 'wear', 'sign', 'refurbish', 'phone', 'complaint', 'work', 'fine', 'still', 'work', 'perfect', 'tear', 'wear', 'sign', 'refurbish', 'phone', 'complaint', 'work', 'fine', 'still', 'work', 'perfect', 'tear', 'wear', 'sign', 'refurbish', 'phone', 'complaint', 'work', 'fine', 'still', 'work', 'perfect', 'tear', 'wear', 'sign', 'refurbish', 'phone', 'complaint', 'work', 'fine', 'still', 'work', 'perfect', 'tear', 'wear', 'sign', 'refurbish', 'phone', 'complaint', 'work', 'fine', 'still', 'work', 'perfect', 'tear', 'wear', 'sign', 'refurbish', 'phone', 'complaint', 'work', 'fine', 'still', 'work', 'perfect', 'tear', 'wear', 'sign', 'refurbish', 'phone', 'complaint', 'work', 'fine', 'still', 'work', 'perfect', 'tear', 'wear', 'sign', 'refurbish', 'phone', 'complaint', 'work', 'fine', 'still', 'work', 'perfect', 'tear', 'wear', 'sign', 'refurbish', 'phone', 'complaint', 'work', 'fine', 'still', 'work', 'perfect', 'tear', 'wear', 'sign', 'refurbish', 'phone', 'complaint', 'work', 'fine', 'still', 'work', 'perfect', 'tear', 'wear', 'sign', 'refurbish', 'phone', 'complaint', 'work', 'fine', 'still', 'work', 'perfect', 'tear', 'wear', 'sign', 'refurbish', 'phone', 'complaint', 'work', 'fine', 'still', 'work', 'perfect', 'tear', 'wear', 'sign', 'refurbish', 'phone', 'complaint', 'work', 'fine', 'still', 'work', 'perfect', 'tear', 'wear', 'sign', 'refurbish', 'phone', 'complaint', 'work', 'fine', 'still', 'work', 'perfect', 'tear', 'wear', 'sign', 'refurbish', 'phone', 'complaint', 'work', 'fine', 'still', 'work', 'perfect', 'tear', 'wear', 'sign', 'refurbish', 'phone', 'complaint', 'work', 'fine', 'still', 'work', 'perfect', 'tear', 'wear', 'sign', 'refurbish', 'phone', 'complaint', 'work', 'fine', 'still', 'work', 'perfect', 'tear', 'wear', 'sign', 'refurbish', 'phone', 'complaint', 'work', 'fine', 'still', 'work', 'perfect', 'tear', 'wear', 'sign', 'refurbish', 'phone', 'complaint', 'work', 'fine', 'still', 'work', 'perfect', 'tear', 'wear', 'sign', 'refurbish', 'phone', 'complaint', 'work', 'fine', 'still', 'work', 'perfect', 'tear', 'wear', 'sign', 'refurbish', 'phone', 'complaint', 'work', 'fine', 'still', 'work', 'perfect', 'tear', 'wear', 'sign', 'refurbish', 'phone', 'complaint', 'work', 'fine', 'still', 'work', 'perfect', 'tear', 'wear', 'sign', 'refurbish', 'phone', 'complaint', 'work', 'fine', 'still', 'work', 'perfect', 'tear', 'wear', 'sign', 'refurbish', 'phone', 'complaint', 'work', 'fine', 'still', 'work', 'perfect', 'tear', 'wear', 'sign', 'refurbish', 'phone', 'complaint', 'work', 'fine', 'still', 'work', 'perfect', 'tear', 'wear', 'sign', 'refurbish', 'phone', 'complaint', 'work', 'fine', 'still', 'work', 'perfect', 'tear', 'wear', 'sign', 'refurbish', 'phone', 'complaint', 'work', 'fine', 'still', 'work', 'perfect', 'tear', 'wear', 'sign', 'refurbish', 'phone', 'complaint', 'work', 'fine', 'still', 'work', 'perfect', 'tear', 'wear', 'sign', 'refurbish', 'phone', 'complaint', 'work', 'fine', 'still', 'work', 'perfect', 'tear', 'wear', 'sign', 'refurbish', 'phone', 'complaint', 'work', 'fine', 'still', 'work', 'perfect', 'tear', 'wear', 'sign', 'refurbish', 'phone', 'complaint', 'work', 'fine', 'still', 'work', 'perfect', 'tear', 'wear', 'sign', 'refurbish', 'phone', 'complaint', 'work', 'fine', 'still', 'work', 'perfect', 'tear', 'wear', 'sign', 'refurbish', 'phone', 'complaint', 'work', 'fine', 'still', 'work', 'perfect', 'tear', 'wear', 'sign', 'refurbish', 'phone', 'complaint', 'work', 'fine', 'still', 'work', 'perfect', 'tear', 'wear', 'sign', 'refurbish', 'phone', 'complaint', 'work', 'fine', 'still', 'work', 'perfect', 'tear', 'wear', 'sign', 'refurbish', 'phone', 'complaint', 'work', 'fine', 'still', 'work', 'perfect', 'tear', 'wear', 'sign', 'refurbish', 'phone', 'complaint', 'work', 'fine', 'still', 'work', 'perfect', 'tear', 'wear', 'sign', 'refurbish', 'phone', 'complaint', 'work', 'fine', 'still', 'work', 'perfect', 'tear', 'wear', 'sign', 'refurbish', 'phone', 'complaint', 'work', 'fine', 'still', 'work', 'perfect', 'tear', 'wear', 'sign', 'refurbish', 'phone', 'complaint', 'work', 'fine', 'still', 'work', 'perfect', 'tear', 'wear', 'sign', 'refurbish', 'phone', 'complaint', 'work', 'fine', 'still', 'work', 'perfect', 'tear', 'wear', 'sign', 'refurbish', 'phone', 'complaint', 'work', 'fine', 'still', 'work', 'perfect', 'tear', 'wear', 'sign', 'refurbish', 'phone', 'complaint', 'work', 'fine', 'still', 'work', 'perfect', 'tear', 'wear', 'sign', 'refurbish', 'phone', 'complaint', 'work', 'fine', 'still', 'work', 'perfect', 'tear', 'wear', 'sign', 'refurbish', 'phone', 'complaint', 'work', 'fine', 'still', 'work', 'perfect', 'tear', 'wear', 'sign', 'refurbish', 'phone', 'complaint', 'work', 'fine', 'still', 'work', 'perfect', 'tear', 'wear', 'sign', 'refurbish', 'phone', 'complaint', 'work', 'fine', 'still', 'work', 'perfect', 'tear', 'wear', 'sign', 'refurbish', 'phone', 'complaint', 'work', 'fine', 'still', 'work', 'perfect', 'tear', 'wear', 'sign', 'refurbish', 'phone', 'complaint', 'work', 'fine', 'still', 'work', 'perfect', 'tear', 'wear', 'sign', 'refurbish', 'phone', 'complaint', 'work', 'fine', 'still', 'work', 'perfect', 'tear', 'wear', 'sign', 'refurbish', 'phone', 'complaint', 'work', 'fine', 'still', 'work', 'perfect', 'tear', 'wear', 'sign', 'refurbish', 'phone', 'complaint', 'work', 'fine', 'still', 'work', 'perfect', 'tear', 'wear', 'sign', 'refurbish', 'phone', 'complaint', 'work', 'fine', 'still', 'work', 'perfect', 'tear', 'wear', 'sign', 'refurbish', 'phone', 'complaint', 'work', 'fine', 'still', 'work', 'perfect', 'tear', 'wear', 'sign', 'refurbish', 'phone', 'complaint', 'work', 'fine', 'still', 'work', 'perfect', 'tear', 'wear', 'sign', 'refurbish', 'phone', 'complaint', 'work', 'fine', 'still', 'work', 'perfect', 'tear', 'wear', 'sign', 'refurbish', 'phone', 'complaint', 'work', 'fine', 'still', 'work', 'perfect', 'tear', 'wear', 'sign', 'refurbish', 'phone', 'complaint', 'work', 'fine', 'still', 'work', 'perfect', 'tear', 'wear', 'sign', 'refurbish', 'phone', 'complaint', 'work', 'fine', 'still', 'work', 'perfect', 'tear', 'wear', 'sign', 'refurbish', 'phone', 'complaint', 'work', 'fine', 'still', 'work', 'perfect', 'tear', 'wear', 'sign', 'refurbish', 'phone', 'complaint', 'work', 'fine', 'still', 'work', 'perfect', 'tear', 'wear', 'sign', 'refurbish', 'phone', 'complaint', 'work', 'fine', 'still', 'work', 'perfect', 'tear', 'wear', 'sign', 'refurbish', 'phone', 'complaint', 'work', 'fine', 'still', 'work', 'perfect', 'tear', 'wear', 'sign', 'refurbish', 'phone', 'complaint', 'work', 'fine', 'still', 'work', 'perfect', 'tear', 'wear', 'sign', 'refurbish', 'phone', 'complaint', 'work', 'fine', 'still', 'work', 'perfect', 'tear', 'wear', 'sign', 'refurbish', 'phone', 'complaint', 'work', 'fine', 'still', 'work', 'perfect', 'tear', 'wear', 'sign', 'refurbish', 'phone', 'complaint', 'work', 'fine', 'still', 'work', 'perfect', 'tear', 'wear', 'sign', 'refurbish', 'phone', 'complaint', 'work', 'fine', 'still', 'work', 'perfect', 'tear', 'wear', 'sign', 'refurbish', 'phone', 'complaint', 'work', 'fine', 'still', 'work', 'perfect', 'tear', 'wear', 'sign', 'refurbish', 'phone', 'complaint', 'work', 'fine', 'still', 'work', 'perfect', 'tear', 'wear', 'sign', 'refurbish', 'phone', 'complaint', 'work', 'fine', 'still', 'work', 'perfect', 'tear', 'wear', 'sign', 'refurbish', 'phone', 'complaint', 'work', 'fine', 'still', 'work', 'perfect', 'tear', 'wear', 'sign', 'refurbish', 'phone', 'complaint', 'work', 'fine', 'still', 'work', 'perfect', 'tear', 'wear', 'sign', 'refurbish', 'phone', 'complaint', 'work', 'fine', 'still', 'work', 'perfect', 'tear', 'wear', 'sign', 'refurbish', 'phone', 'complaint', 'work', 'fine', 'still', 'work', 'perfect', 'tear', 'wear', 'sign', 'refurbish', 'phone', 'complaint', 'work', 'fine', 'still', 'work', 'perfect', 'tear', 'wear', 'sign', 'refurbish', 'phone', 'complaint', 'work', 'fine', 'still', 'work', 'perfect', 'tear', 'wear', 'sign', 'refurbish', 'phone', 'complaint', 'work', 'fine', 'still', 'work', 'perfect', 'tear', 'wear', 'sign', 'refurbish', 'phone', 'complaint', 'work', 'fine', 'still', 'work', 'perfect', 'tear', 'wear', 'sign', 'refurbish', 'phone', 'complaint', 'work', 'fine', 'still', 'work', 'perfect', 'tear', 'wear', 'sign', 'refurbish', 'phone', 'complaint', 'work', 'fine', 'still', 'work', 'perfect', 'tear', 'wear', 'sign', 'refurbish', 'phone', 'complaint', 'work', 'fine', 'still', 'work', 'perfect', 'tear', 'wear', 'sign', 'refurbish', 'phone', 'complaint', 'work', 'fine', 'still', 'work', 'perfect', 'tear', 'wear', 'sign', 'refurbish', 'phone', 'complaint', 'work', 'fine', 'still', 'work', 'perfect', 'tear', 'wear', 'sign', 'refurbish', 'phone', 'complaint', 'work', 'fine', 'still', 'work', 'perfect', 'tear', 'wear', 'sign', 'refurbish', 'phone', 'complaint', 'work', 'fine', 'still', 'work', 'perfect', 'tear', 'wear', 'sign', 'refurbish', 'phone', 'complaint', 'work', 'fine', 'still', 'work', 'perfect', 'tear', 'wear', 'sign', 'refurbish', 'phone', 'complaint', 'work', 'fine', 'still', 'work', 'perfect', 'tear', 'wear', 'sign', 'refurbish', 'phone', 'complaint', 'work', 'fine', 'still', 'work', 'perfect', 'tear', 'wear', 'sign', 'refurbish', 'phone', 'complaint', 'work', 'fine', 'still', 'work', 'perfect', 'tear', 'wear', 'sign', 'refurbish', 'phone', 'complaint', 'work', 'fine', 'still', 'work', 'perfect', 'tear', 'wear', 'sign', 'refurbish', 'phone', 'complaint', 'work', 'fine', 'still', 'work', 'perfect', 'tear', 'wear', 'sign', 'refurbish', 'phone', 'complaint', 'work', 'fine', 'still', 'work', 'perfect', 'tear', 'wear', 'sign', 'refurbish', 'phone', 'complaint', 'work', 'fine', 'still', 'work', 'perfect', 'tear', 'wear', 'sign', 'refurbish', 'phone', 'complaint', 'work', 'fine', 'still', 'work', 'perfect', 'tear', 'wear', 'sign', 'refurbish', 'phone', 'complaint', 'work', 'fine', 'still', 'work', 'perfect', 'tear', 'wear', 'sign', 'refurbish', 'phone', 'complaint', 'work', 'fine', 'still', 'work', 'perfect', 'tear', 'wear', 'sign', 'refurbish', 'phone', 'complaint', 'work', 'fine', 'still', 'work', 'perfect', 'tear', 'wear', 'sign', 'refurbish', 'phone', 'complaint', 'work', 'fine', 'still', 'work', 'perfect', 'tear', 'wear', 'sign', 'refurbish', 'phone', 'complaint', 'work', 'fine', 'still', 'work', 'perfect', 'tear', 'wear', 'sign', 'refurbish', 'phone', 'complaint', 'work', 'fine', 'still', 'work', 'perfect', 'tear', 'wear', 'sign', 'refurbish', 'phone', 'complaint', 'work', 'fine', 'still', 'work', 'perfect', 'tear', 'wear', 'sign', 'refurbish', 'phone', 'complaint', 'work', 'fine', 'still', 'work', 'perfect', 'tear', 'wear', 'sign', 'refurbish', 'phone', 'complaint', 'work', 'fine', 'still', 'work', 'perfect', 'tear', 'wear', 'sign', 'refurbish', 'phone', 'complaint', 'work', 'fine', 'still', 'work', 'perfect', 'tear', 'wear', 'sign', 'refurbish', 'phone', 'complaint', 'work', 'fine', 'still', 'work', 'perfect', 'tear', 'wear', 'sign', 'refurbish', 'phone', 'complaint', 'work', 'fine', 'still', 'work', 'perfect', 'tear', 'wear', 'sign', 'refurbish', 'phone', 'complaint', 'work', 'fine', 'still', 'work', 'perfect', 'tear', 'wear', 'sign', 'refurbish', 'phone', 'complaint', 'work', 'fine', 'still', 'work', 'perfect', 'tear', 'wear', 'sign', 'refurbish', 'phone', 'complaint', 'work', 'fine', 'still', 'work', 'perfect', 'tear', 'wear', 'sign', 'refurbish', 'phone', 'complaint', 'work', 'fine', 'still', 'work', 'perfect', 'tear', 'wear', 'sign', 'refurbish', 'phone', 'complaint', 'work', 'fine', 'still', 'work', 'perfect', 'tear', 'wear', 'sign', 'refurbish', 'phone', 'complaint', 'work', 'fine', 'still', 'work', 'perfect', 'tear', 'wear', 'sign', 'refurbish', 'phone', 'complaint', 'work', 'fine', 'still', 'work', 'perfect', 'tear', 'wear', 'sign', 'refurbish', 'phone', 'complaint', 'work', 'fine', 'still', 'work', 'perfect', 'tear', 'wear', 'sign', 'refurbish', 'phone', 'complaint', 'work', 'fine', 'still', 'work', 'perfect', 'tear', 'wear', 'sign', 'refurbish', 'phone', 'complaint', 'work', 'fine', 'still', 'work', 'perfect', 'tear', 'wear', 'sign', 'refurbish', 'phone', 'complaint', 'work', 'fine', 'still', 'work', 'perfect', 'tear', 'wear', 'sign', 'refurbish', 'phone', 'complaint', 'work', 'fine', 'still', 'work', 'perfect', 'tear', 'wear', 'sign', 'refurbish', 'phone', 'complaint', 'work', 'fine', 'still', 'work', 'perfect', 'tear', 'wear', 'sign', 'refurbish', 'phone', 'complaint', 'work', 'fine', 'still', 'work', 'perfect', 'tear', 'wear', 'sign', 'refurbish', 'phone', 'complaint', 'work', 'fine', 'still', 'work', 'perfect', 'tear', 'wear', 'sign', 'refurbish', 'phone', 'complaint', 'work', 'fine', 'still', 'work', 'perfect', 'tear', 'wear', 'sign', 'refurbish', 'phone', 'complaint', 'work', 'fine', 'still', 'work', 'perfect', 'tear', 'wear', 'sign', 'refurbish', 'phone', 'complaint', 'work', 'fine', 'still', 'work', 'perfect', 'tear', 'wear', 'sign', 'refurbish', 'phone', 'complaint', 'work', 'fine', 'still', 'work', 'perfect', 'tear', 'wear', 'sign', 'refurbish', 'phone', 'complaint', 'work', 'fine', 'still', 'work', 'perfect', 'tear', 'wear', 'sign', 'refurbish', 'phone', 'complaint', 'work', 'fine', 'still', 'work', 'perfect', 'tear', 'wear', 'sign', 'refurbish', 'phone', 'complaint', 'work', 'fine', 'still', 'work', 'perfect', 'tear', 'wear', 'sign', 'refurbish', 'phone', 'complaint', 'work', 'fine', 'still', 'work', 'perfect', 'tear', 'wear', 'sign', 'refurbish', 'phone', 'complaint', 'work', 'fine', 'still', 'work', 'perfect', 'tear', 'wear', 'sign', 'refurbish', 'phone', 'complaint', 'work', 'fine', 'still', 'work', 'perfect', 'tear', 'wear', 'sign', 'refurbish', 'phone', 'complaint', 'work', 'fine', 'still', 'work', 'perfect', 'tear', 'wear', 'sign', 'refurbish', 'phone', 'complaint', 'work', 'fine', 'still', 'work', 'perfect', 'tear', 'wear', 'sign', 'refurbish', 'phone', 'complaint', 'work', 'fine', 'still', 'work', 'perfect', 'tear', 'wear', 'sign', 'refurbish', 'phone', 'complaint', 'work', 'fine', 'still', 'work', 'perfect', 'tear', 'wear', 'sign', 'refurbish', 'phone', 'complaint', 'work', 'fine', 'still', 'work', 'perfect', 'tear', 'wear', 'sign', 'refurbish', 'phone', 'complaint', 'work', 'fine', 'still', 'work', 'perfect', 'tear', 'wear', 'sign', 'refurbish', 'phone', 'complaint', 'work', 'fine', 'still', 'work', 'perfect', 'tear', 'wear', 'sign', 'refurbish', 'phone', 'complaint', 'work', 'fine', 'still', 'work', 'perfect', 'tear', 'wear', 'sign', 'refurbish', 'phone', 'complaint', 'work', 'fine', 'still', 'work', 'perfect', 'tear', 'wear', 'sign', 'refurbish', 'phone', 'complaint', 'work', 'fine', 'still', 'work', 'perfect', 'tear', 'wear', 'sign', 'refurbish', 'phone', 'complaint', 'work', 'fine', 'still', 'work', 'perfect', 'tear', 'wear', 'sign', 'refurbish', 'phone', 'complaint', 'work', 'fine', 'still', 'work', 'perfect', 'tear', 'wear', 'sign', 'refurbish', 'phone', 'complaint', 'work', 'fine', 'still', 'work', 'perfect', 'tear', 'wear', 'sign', 'refurbish', 'phone', 'complaint', 'work', 'fine', 'still', 'work', 'perfect', 'tear', 'wear', 'sign', 'refurbish', 'phone', 'complaint', 'work', 'fine', 'still', 'work', 'perfect', 'tear', 'wear', 'sign', 'refurbish', 'phone', 'complaint', 'work', 'fine', 'still', 'work', 'perfect', 'tear', 'wear', 'sign', 'refurbish', 'phone', 'complaint', 'work', 'fine', 'still', 'work', 'perfect', 'tear', 'wear', 'sign', 'refurbish', 'phone', 'complaint', 'work', 'fine', 'still', 'work', 'perfect', 'tear', 'wear', 'sign', 'refurbish', 'phone', 'complaint', 'work', 'fine', 'still', 'work', 'perfect', 'tear', 'wear', 'sign', 'refurbish', 'phone', 'complaint', 'work', 'fine', 'still', 'work', 'perfect', 'tear', 'wear', 'sign', 'refurbish', 'phone', 'complaint', 'work', 'fine', 'still', 'work', 'perfect', 'tear', 'wear', 'sign', 'refurbish', 'phone', 'complaint', 'work', 'fine', 'still', 'work', 'perfect', 'tear', 'wear', 'sign', 'refurbish', 'phone', 'complaint', 'work', 'fine', 'still', 'work', 'perfect', 'tear', 'wear', 'sign', 'refurbish', 'phone', 'complaint', 'work', 'fine', 'still', 'work', 'perfect', 'tear', 'wear', 'sign', 'refurbish', 'phone', 'complaint', 'work', 'fine', 'still', 'work', 'perfect', 'tear', 'wear', 'sign', 'refurbish', 'phone', 'complaint', 'work', 'fine', 'still', 'work', 'perfect', 'tear', 'wear', 'sign', 'refurbish', 'phone', 'complaint', 'work', 'fine', 'still', 'work', 'perfect', 'tear', 'wear', 'sign', 'refurbish', 'phone', 'complaint', 'work', 'fine', 'still', 'work', 'perfect', 'tear', 'wear', 'sign', 'refurbish', 'phone', 'complaint', 'work', 'fine', 'still', 'work', 'perfect', 'tear', 'wear', 'sign', 'refurbish', 'phone', 'complaint', 'work', 'fine', 'still', 'work', 'perfect', 'tear', 'wear', 'sign', 'refurbish', 'phone', 'complaint', 'work', 'fine', 'still', 'work', 'perfect', 'tear', 'wear', 'sign', 'refurbish', 'phone', 'complaint', 'work', 'fine', 'still', 'work', 'perfect', 'tear', 'wear', 'sign', 'refurbish', 'phone', 'complaint', 'work', 'fine', 'still', 'work', 'perfect', 'tear', 'wear', 'sign', 'refurbish', 'phone', 'complaint', 'work', 'fine', 'still', 'work', 'perfect', 'tear', 'wear', 'sign', 'refurbish', 'phone', 'complaint', 'work', 'fine', 'still', 'work', 'perfect', 'tear', 'wear', 'sign', 'refurbish', 'phone', 'complaint', 'work', 'fine', 'still', 'work', 'perfect', 'tear', 'wear', 'sign', 'refurbish', 'phone', 'complaint', 'work', 'fine', 'still', 'work', 'perfect', 'tear', 'wear', 'sign', 'refurbish', 'phone', 'complaint', 'work', 'fine', 'still', 'work', 'perfect', 'tear', 'wear', 'sign', 'refurbish', 'phone', 'complaint', 'work', 'fine', 'still', 'work', 'perfect', 'tear', 'wear', 'sign', 'refurbish', 'phone', 'complaint', 'work', 'fine', 'still', 'work', 'perfect', 'tear', 'wear', 'sign', 'refurbish', 'phone', 'complaint', 'work', 'fine', 'still', 'work', 'perfect', 'tear', 'wear', 'sign', 'refurbish', 'phone', 'complaint', 'work', 'fine', 'still', 'work', 'perfect', 'tear', 'wear', 'sign', 'refurbish', 'phone', 'complaint', 'work', 'fine', 'still', 'work', 'perfect', 'tear', 'wear', 'sign', 'refurbish', 'phone', 'complaint', 'work', 'fine', 'still', 'work', 'perfect', 'tear', 'wear', 'sign', 'refurbish', 'phone', 'complaint', 'work', 'fine', 'still', 'work', 'perfect', 'tear', 'wear', 'sign', 'refurbish', 'phone', 'complaint', 'work', 'fine', 'still', 'work', 'perfect', 'tear', 'wear', 'sign', 'refurbish', 'phone', 'complaint', 'work', 'fine', 'still', 'work', 'perfect', 'tear', 'wear', 'sign', 'refurbish', 'phone', 'complaint', 'work', 'fine', 'still', 'work', 'perfect', 'tear', 'wear', 'sign', 'refurbish', 'phone', 'complaint', 'work', 'fine', 'still', 'work', 'perfect', 'tear', 'wear', 'sign', 'refurbish', 'phone', 'complaint', 'work', 'fine', 'still', 'work', 'perfect', 'tear', 'wear', 'sign', 'refurbish', 'phone', 'complaint', 'work', 'fine', 'still', 'work', 'perfect', 'tear', 'wear', 'sign', 'refurbish', 'phone', 'complaint', 'work', 'fine', 'still', 'work', 'perfect', 'tear', 'wear', 'sign', 'refurbish', 'phone', 'complaint', 'work', 'fine', 'still', 'work', 'perfect', 'tear', 'wear', 'sign', 'refurbish', 'phone', 'complaint', 'work', 'fine', 'still', 'work', 'perfect', 'tear', 'wear', 'sign', 'refurbish', 'phone', 'complaint', 'work', 'fine', 'still', 'work', 'perfect', 'tear', 'wear', 'sign', 'refurbish', 'phone', 'complaint', 'work', 'fine', 'still', 'work', 'perfect', 'tear', 'wear', 'sign', 'refurbish', 'phone', 'complaint', 'work', 'fine', 'still', 'work', 'perfect', 'tear', 'wear', 'sign', 'refurbish', 'phone', 'complaint', 'work', 'fine', 'still', 'work', 'perfect', 'tear', 'wear', 'sign', 'refurbish', 'phone', 'complaint', 'work', 'fine', 'still', 'work', 'perfect', 'tear', 'wear', 'sign', 'refurbish', 'phone', 'complaint', 'work', 'fine', 'still', 'work', 'perfect', 'tear', 'wear', 'sign', 'refurbish', 'phone', 'complaint', 'work', 'fine', 'still', 'work', 'perfect', 'tear', 'wear', 'sign', 'refurbish', 'phone', 'complaint', 'work', 'fine', 'still', 'work', 'perfect', 'tear', 'wear', 'sign', 'refurbish', 'phone', 'complaint', 'work', 'fine', 'still', 'work', 'perfect', 'tear', 'wear', 'sign', 'refurbish', 'phone', 'complaint', 'work', 'fine', 'still', 'work', 'perfect', 'tear', 'wear', 'sign', 'refurbish', 'phone', 'complaint', 'work', 'fine', 'still', 'work', 'perfect', 'tear', 'wear', 'sign', 'refurbish', 'phone', 'complaint', 'work', 'fine', 'still', 'work', 'perfect', 'tear', 'wear', 'sign', 'refurbish', 'phone', 'complaint', 'work', 'fine', 'still', 'work', 'perfect', 'tear', 'wear', 'sign', 'refurbish', 'phone', 'complaint', 'work', 'fine', 'still', 'work', 'perfect', 'tear', 'wear', 'sign', 'refurbish', 'phone', 'complaint', 'work', 'fine', 'still', 'work', 'perfect', 'tear', 'wear', 'sign', 'refurbish', 'phone', 'complaint', 'work', 'fine', 'still', 'work', 'perfect', 'tear', 'wear', 'sign', 'refurbish', 'phone', 'complaint', 'work', 'fine', 'still', 'work', 'perfect', 'tear', 'wear', 'sign', 'refurbish', 'phone', 'complaint', 'work', 'fine', 'still', 'work', 'perfect', 'tear', 'wear', 'sign', 'refurbish', 'phone', 'complaint', 'work', 'fine', 'still', 'work', 'perfect', 'tear', 'wear', 'sign', 'refurbish', 'phone', 'complaint', 'work', 'fine', 'still', 'work', 'perfect', 'tear', 'wear', 'sign', 'refurbish', 'phone', 'complaint', 'work', 'fine', 'still', 'work', 'perfect', 'tear', 'wear', 'sign', 'refurbish', 'phone', 'complaint', 'work', 'fine', 'still', 'work', 'perfect', 'tear', 'wear', 'sign', 'refurbish', 'phone', 'complaint', 'work', 'fine', 'still', 'work', 'perfect', 'tear', 'wear', 'sign', 'refurbish', 'phone', 'complaint', 'work', 'fine', 'still', 'work', 'perfect', 'tear', 'wear', 'sign', 'refurbish', 'phone', 'complaint', 'work', 'fine', 'still', 'work', 'perfect', 'tear', 'wear', 'sign', 'refurbish', 'phone', 'complaint', 'work', 'fine', 'still', 'work', 'perfect', 'tear', 'wear', 'sign', 'refurbish', 'phone', 'complaint', 'work', 'fine', 'still', 'work', 'perfect', 'tear', 'wear', 'sign', 'refurbish', 'phone', 'complaint', 'work', 'fine', 'still', 'work', 'perfect', 'tear', 'wear', 'sign', 'refurbish', 'phone', 'complaint', 'work', 'fine', 'still', 'work', 'perfect', 'tear', 'wear', 'sign', 'refurbish', 'phone', 'complaint', 'work', 'fine', 'still', 'work', 'perfect', 'tear', 'wear', 'sign', 'refurbish', 'phone', 'complaint', 'work', 'fine', 'still', 'work', 'perfect', 'tear', 'wear', 'sign', 'refurbish', 'phone', 'complaint', 'work', 'fine', 'still', 'work', 'perfect', 'tear', 'wear', 'sign', 'refurbish', 'phone', 'complaint', 'work', 'fine', 'still', 'work', 'perfect', 'tear', 'wear', 'sign', 'refurbish', 'phone', 'complaint', 'work', 'fine', 'still', 'work', 'perfect', 'tear', 'wear', 'sign', 'refurbish', 'phone', 'complaint', 'work', 'fine', 'still', 'work', 'perfect', 'tear', 'wear', 'sign', 'refurbish', 'phone', 'complaint', 'work', 'fine', 'still', 'work', 'perfect', 'tear', 'wear', 'sign', 'refurbish', 'phone', 'complaint', 'work', 'fine', 'still', 'work', 'perfect', 'tear', 'wear', 'sign', 'refurbish', 'phone', 'complaint', 'work', 'fine', 'still', 'work', 'perfect', 'tear', 'wear', 'sign', 'refurbish', 'phone', 'complaint', 'work', 'fine', 'still', 'work', 'perfect', 'tear', 'wear', 'sign', 'refurbish', 'phone', 'complaint', 'work', 'fine', 'still', 'work', 'perfect', 'tear', 'wear', 'sign', 'refurbish', 'phone', 'complaint', 'work', 'fine', 'still', 'work', 'perfect', 'tear', 'wear', 'sign', 'refurbish', 'phone', 'complaint', 'work', 'fine', 'still', 'work', 'perfect', 'tear', 'wear', 'sign', 'refurbish', 'phone', 'complaint', 'work', 'fine', 'still', 'work', 'perfect', 'tear', 'wear', 'sign', 'refurbish', 'phone', 'complaint', 'work', 'fine', 'still', 'work', 'perfect', 'tear', 'wear', 'sign', 'refurbish', 'phone', 'complaint', 'work', 'fine', 'still', 'work', 'perfect', 'tear', 'wear', 'sign', 'refurbish', 'phone', 'complaint', 'work', 'fine', 'still', 'work', 'perfect', 'tear', 'wear', 'sign', 'refurbish', 'phone', 'complaint', 'work', 'fine', 'still', 'work', 'perfect', 'tear', 'wear', 'sign', 'refurbish', 'phone', 'complaint', 'work', 'fine', 'still', 'work', 'perfect', 'tear', 'wear', 'sign', 'refurbish', 'phone', 'complaint', 'work', 'fine', 'still', 'work', 'perfect', 'tear', 'wear', 'sign', 'refurbish', 'phone', 'complaint', 'work', 'fine', 'still', 'work', 'perfect', 'tear', 'wear', 'sign', 'refurbish', 'phone', 'complaint', 'work', 'fine', 'still', 'work', 'perfect', 'tear', 'wear', 'sign', 'refurbish', 'phone', 'complaint', 'work', 'fine', 'still', 'work', 'perfect', 'tear', 'wear', 'sign', 'refurbish', 'phone', 'complaint', 'work', 'fine', 'still', 'work', 'perfect', 'tear', 'wear', 'sign', 'refurbish', 'phone', 'complaint', 'work', 'fine', 'still', 'work', 'perfect', 'tear', 'wear', 'sign', 'refurbish', 'phone', 'complaint', 'work', 'fine', 'still', 'work', 'perfect', 'tear', 'wear', 'sign', 'refurbish', 'phone', 'complaint', 'work', 'fine', 'still', 'work', 'perfect', 'tear', 'wear', 'sign', 'refurbish', 'phone', 'complaint', 'work', 'fine', 'still', 'work', 'perfect', 'tear', 'wear', 'sign', 'refurbish', 'phone', 'complaint', 'work', 'fine', 'still', 'work', 'perfect', 'tear', 'wear', 'sign', 'refurbish', 'phone', 'complaint', 'work', 'fine', 'still', 'work', 'perfect', 'tear', 'wear', 'sign', 'refurbish', 'phone', 'complaint', 'work', 'fine', 'still', 'work', 'perfect', 'tear', 'wear', 'sign', 'refurbish', 'phone', 'complaint', 'work', 'fine', 'still', 'work', 'perfect', 'tear', 'wear', 'sign', 'refurbish', 'phone', 'complaint', 'work', 'fine', 'still', 'work', 'perfect', 'tear', 'wear', 'sign', 'refurbish', 'phone', 'complaint', 'work', 'fine', 'still', 'work', 'perfect', 'tear', 'wear', 'sign', 'refurbish', 'phone', 'complaint', 'work', 'fine', 'still', 'work', 'perfect', 'tear', 'wear', 'sign', 'refurbish', 'phone', 'complaint', 'work', 'fine', 'still', 'work', 'perfect', 'tear', 'wear', 'sign', 'refurbish', 'phone', 'complaint', 'work', 'fine', 'still', 'work', 'perfect', 'tear', 'wear', 'sign', 'refurbish', 'phone', 'complaint', 'work', 'fine', 'still', 'work', 'perfect', 'tear', 'wear', 'sign', 'refurbish', 'phone', 'complaint', 'work', 'fine', 'still', 'work', 'perfect', 'tear', 'wear', 'sign', 'refurbish', 'phone', 'complaint', 'work', 'fine', 'still', 'work', 'perfect', 'tear', 'wear', 'sign', 'refurbish', 'phone', 'complaint', 'work', 'fine', 'still', 'work', 'perfect', 'tear', 'wear', 'sign', 'refurbish', 'phone', 'complaint', 'work', 'fine', 'still', 'work', 'perfect', 'tear', 'wear', 'sign', 'refurbish', 'phone', 'complaint', 'work', 'fine', 'still', 'work', 'perfect', 'tear', 'wear', 'sign', 'refurbish', 'phone', 'complaint', 'work', 'fine', 'still', 'work', 'perfect', 'tear', 'wear', 'sign', 'refurbish', 'phone', 'complaint', 'work', 'fine', 'still', 'work', 'perfect', 'tear', 'wear', 'sign', 'refurbish', 'phone', 'complaint', 'work', 'fine', 'still', 'work', 'perfect', 'tear', 'wear', 'sign', 'refurbish', 'phone', 'complaint', 'work', 'fine', 'still', 'work', 'perfect', 'tear', 'wear', 'sign', 'refurbish', 'phone', 'complaint', 'work', 'fine', 'still', 'work', 'perfect', 'tear', 'wear', 'sign', 'refurbish', 'phone', 'complaint', 'work', 'fine', 'still', 'work', 'perfect', 'tear', 'wear', 'sign', 'refurbish', 'phone', 'complaint', 'work', 'fine', 'still', 'work', 'perfect', 'tear', 'wear', 'sign', 'refurbish', 'phone', 'complaint', 'work', 'fine', 'still', 'work', 'perfect', 'tear', 'wear', 'sign', 'refurbish', 'phone', 'complaint', 'work', 'fine', 'still', 'work', 'perfect', 'tear', 'wear', 'sign', 'refurbish', 'phone', 'complaint', 'work', 'fine', 'still', 'work', 'perfect', 'tear', 'wear', 'sign', 'refurbish', 'phone', 'complaint', 'work', 'fine', 'still', 'work', 'perfect', 'tear', 'wear', 'sign', 'refurbish', 'phone', 'complaint', 'work', 'fine', 'still', 'work', 'perfect', 'tear', 'wear', 'sign', 'refurbish', 'phone', 'complaint', 'work', 'fine', 'still', 'work', 'perfect', 'tear', 'wear', 'sign', 'refurbish', 'phone', 'complaint', 'work', 'fine', 'still', 'work', 'perfect', 'tear', 'wear', 'sign', 'refurbish', 'phone', 'complaint', 'work', 'fine', 'still', 'work', 'perfect', 'tear', 'wear', 'sign', 'refurbish', 'phone', 'complaint', 'work', 'fine', 'still', 'work', 'perfect', 'tear', 'wear', 'sign', 'refurbish', 'phone', 'complaint', 'work', 'fine', 'still', 'work', 'perfect', 'tear', 'wear', 'sign', 'refurbish', 'phone', 'complaint', 'work', 'fine', 'still', 'work', 'perfect', 'tear', 'wear', 'sign', 'refurbish', 'phone', 'complaint', 'work', 'fine', 'still', 'work', 'perfect', 'tear', 'wear', 'sign', 'refurbish', 'phone', 'complaint', 'work', 'fine', 'still', 'work', 'perfect', 'tear', 'wear', 'sign', 'refurbish', 'phone', 'complaint', 'work', 'fine', 'still', 'work', 'perfect', 'tear', 'wear', 'sign', 'refurbish', 'phone', 'complaint', 'work', 'fine', 'still', 'work', 'perfect', 'tear', 'wear', 'sign', 'refurbish', 'phone', 'complaint', 'work', 'fine', 'still', 'work', 'perfect', 'tear', 'wear', 'sign', 'refurbish', 'phone', 'complaint', 'work', 'fine', 'still', 'work', 'perfect', 'tear', 'wear', 'sign', 'refurbish', 'phone', 'complaint', 'work', 'fine', 'still', 'work', 'perfect', 'tear', 'wear', 'sign', 'refurbish', 'phone', 'complaint', 'work', 'fine', 'still', 'work', 'perfect', 'tear', 'wear', 'sign', 'refurbish', 'phone', 'complaint', 'work', 'fine', 'still', 'work', 'perfect', 'tear', 'wear', 'sign', 'refurbish', 'phone', 'complaint', 'work', 'fine', 'still', 'work', 'perfect', 'tear', 'wear', 'sign', 'refurbish', 'phone', 'complaint', 'work', 'fine', 'still', 'work', 'perfect', 'tear', 'wear', 'sign', 'refurbish', 'phone', 'complaint', 'work', 'fine', 'still', 'work', 'perfect', 'tear', 'wear', 'sign', 'refurbish', 'phone', 'complaint', 'work', 'fine', 'still', 'work', 'perfect', 'tear', 'wear', 'sign', 'refurbish', 'phone', 'complaint', 'work', 'fine', 'still', 'work', 'perfect', 'tear', 'wear', 'sign', 'refurbish', 'phone', 'complaint', 'work', 'fine', 'still', 'work', 'perfect', 'tear', 'wear', 'sign', 'refurbish', 'phone', 'complaint', 'work', 'fine', 'still', 'work', 'perfect', 'tear', 'wear', 'sign', 'refurbish', 'phone', 'complaint', 'work', 'fine', 'still', 'work', 'perfect', 'tear', 'wear', 'sign', 'refurbish', 'phone', 'complaint', 'work', 'fine', 'still', 'work', 'perfect', 'tear', 'wear', 'sign', 'refurbish', 'phone', 'complaint', 'work', 'fine', 'still', 'work', 'perfect', 'tear', 'wear', 'sign', 'refurbish', 'phone', 'complaint', 'work', 'fine', 'still', 'work', 'perfect', 'tear', 'wear', 'sign', 'refurbish', 'phone', 'complaint', 'work', 'fine', 'still', 'work', 'perfect', 'tear', 'wear', 'sign', 'refurbish', 'phone', 'complaint', 'work', 'fine', 'still', 'work', 'perfect', 'tear', 'wear', 'sign', 'refurbish', 'phone', 'complaint', 'work', 'fine', 'still', 'work', 'perfect', 'tear', 'wear', 'sign', 'refurbish', 'phone', 'complaint', 'work', 'fine', 'still', 'work', 'perfect', 'tear', 'wear', 'sign', 'refurbish', 'phone', 'complaint', 'work', 'fine', 'still', 'work', 'perfect', 'tear', 'wear', 'sign', 'refurbish', 'phone', 'complaint', 'work', 'fine', 'still', 'work', 'perfect', 'tear', 'wear', 'sign', 'refurbish', 'phone', 'complaint', 'work', 'fine', 'still', 'work', 'perfect', 'tear', 'wear', 'sign', 'refurbish', 'phone', 'complaint', 'work', 'fine', 'still', 'work', 'perfect', 'tear', 'wear', 'sign', 'refurbish', 'phone', 'complaint', 'work', 'fine', 'still', 'work', 'perfect', 'tear', 'wear', 'sign', 'refurbish', 'phone', 'complaint', 'work', 'fine', 'still', 'work', 'perfect', 'tear', 'wear', 'sign', 'refurbish', 'phone', 'complaint', 'work', 'fine', 'still', 'work', 'perfect', 'tear', 'wear', 'sign', 'refurbish', 'phone', 'complaint', 'work', 'fine', 'still', 'work', 'perfect', 'tear', 'wear', 'sign', 'refurbish', 'phone', 'complaint', 'work', 'fine', 'still', 'work', 'perfect', 'tear', 'wear', 'sign', 'refurbish', 'phone', 'complaint', 'work', 'fine', 'still', 'work', 'perfect', 'tear', 'wear', 'sign', 'refurbish', 'phone', 'complaint', 'work', 'fine', 'still', 'work', 'perfect', 'tear', 'wear', 'sign', 'refurbish', 'phone', 'complaint', 'work', 'fine', 'still', 'work', 'perfect', 'tear', 'wear', 'sign', 'refurbish', 'phone', 'complaint', 'work', 'fine', 'still', 'work', 'perfect', 'tear', 'wear', 'sign', 'refurbish', 'phone', 'complaint', 'work', 'fine', 'still', 'work', 'perfect', 'tear', 'wear', 'sign', 'refurbish', 'phone', 'complaint', 'work', 'fine', 'still', 'work', 'perfect', 'tear', 'wear', 'sign', 'refurbish', 'phone', 'complaint', 'work', 'fine', 'still', 'work', 'perfect', 'tear', 'wear', 'sign', 'refurbish', 'phone', 'complaint', 'work', 'fine', 'still', 'work', 'perfect', 'tear', 'wear', 'sign', 'refurbish', 'phone', 'complaint', 'work', 'fine', 'still', 'work', 'perfect', 'tear', 'wear', 'sign', 'refurbish', 'phone', 'complaint', 'work', 'fine', 'still', 'work', 'perfect', 'tear', 'wear', 'sign', 'refurbish', 'phone', 'complaint', 'work', 'fine', 'still', 'work', 'perfect', 'tear', 'wear', 'sign', 'refurbish', 'phone', 'complaint', 'work', 'fine', 'still', 'work', 'perfect', 'tear', 'wear', 'sign', 'refurbish', 'phone', 'complaint', 'work', 'fine', 'still', 'work', 'perfect', 'tear', 'wear', 'sign', 'refurbish', 'phone', 'complaint', 'work', 'fine', 'still', 'work', 'perfect', 'tear', 'wear', 'sign', 'refurbish', 'phone', 'complaint', 'work', 'fine', 'still', 'work', 'perfect', 'tear', 'wear', 'sign', 'refurbish', 'phone', 'complaint', 'work', 'fine', 'still', 'work', 'perfect', 'tear', 'wear', 'sign', 'refurbish', 'phone', 'complaint', 'work', 'fine', 'still', 'work', 'perfect', 'tear', 'wear', 'sign', 'refurbish', 'phone', 'complaint', 'work', 'fine', 'still', 'work', 'perfect', 'tear', 'wear', 'sign', 'refurbish', 'phone', 'complaint', 'work', 'fine', 'still', 'work', 'perfect', 'tear', 'wear', 'sign', 'refurbish', 'phone', 'complaint', 'work', 'fine', 'still', 'work', 'perfect', 'tear', 'wear', 'sign', 'refurbish', 'phone', 'complaint', 'work', 'fine', 'still', 'work', 'perfect', 'tear', 'wear', 'sign', 'refurbish', 'phone', 'complaint', 'work', 'fine', 'still', 'work', 'perfect', 'tear', 'wear', 'sign', 'refurbish', 'phone', 'complaint', 'work', 'fine', 'still', 'work', 'perfect', 'tear', 'wear', 'sign', 'refurbish', 'phone', 'complaint', 'work', 'fine', 'still', 'work', 'perfect', 'tear', 'wear', 'sign', 'refurbish', 'phone', 'complaint', 'work', 'fine', 'still', 'work', 'perfect', 'tear', 'wear', 'sign', 'refurbish', 'phone', 'complaint', 'work', 'fine', 'still', 'work', 'perfect', 'tear', 'wear', 'sign', 'refurbish', 'phone', 'complaint', 'work', 'fine', 'still', 'work', 'perfect', 'tear', 'wear', 'sign', 'refurbish', 'phone', 'complaint', 'work', 'fine', 'still', 'work', 'perfect', 'tear', 'wear', 'sign', 'refurbish', 'phone', 'complaint', 'work', 'fine', 'still', 'work', 'perfect', 'tear', 'wear', 'sign', 'refurbish', 'phone', 'complaint', 'work', 'fine', 'still', 'work', 'perfect', 'tear', 'wear', 'sign', 'refurbish', 'phone', 'complaint', 'work', 'fine', 'still', 'work', 'perfect', 'tear', 'wear', 'sign', 'refurbish', 'phone', 'complaint', 'work', 'fine', 'still', 'work', 'perfect', 'tear', 'wear', 'sign', 'refurbish', 'phone', 'complaint', 'work', 'fine', 'still', 'work', 'perfect', 'tear', 'wear', 'sign', 'refurbish', 'phone', 'complaint', 'work', 'fine', 'still', 'work', 'perfect', 'tear', 'wear', 'sign', 'refurbish', 'phone', 'complaint', 'work', 'fine', 'still', 'work', 'perfect', 'tear', 'wear', 'sign', 'refurbish', 'phone', 'complaint', 'work', 'fine', 'still', 'work', 'perfect', 'tear', 'wear', 'sign', 'refurbish', 'phone', 'complaint', 'work', 'fine', 'still', 'work', 'perfect', 'tear', 'wear', 'sign', 'refurbish', 'phone', 'complaint', 'work', 'fine', 'still', 'work', 'perfect', 'tear', 'wear', 'sign', 'refurbish', 'phone', 'complaint', 'work', 'fine', 'still', 'work', 'perfect', 'tear', 'wear', 'sign', 'refurbish', 'phone', 'complaint', 'work', 'fine', 'still', 'work', 'perfect', 'tear', 'wear', 'sign', 'refurbish', 'phone', 'complaint', 'work', 'fine', 'still', 'work', 'perfect', 'tear', 'wear', 'sign', 'refurbish', 'phone', 'complaint', 'work', 'fine', 'still', 'work', 'perfect', 'tear', 'wear', 'sign', 'refurbish', 'phone', 'complaint', 'work', 'fine', 'still', 'work', 'perfect', 'tear', 'wear', 'sign', 'refurbish', 'phone', 'complaint', 'work', 'fine', 'still', 'work', 'perfect', 'tear', 'wear', 'sign', 'refurbish', 'phone', 'complaint', 'work', 'fine', 'still', 'work', 'perfect', 'tear', 'wear', 'sign', 'refurbish', 'phone', 'complaint', 'work', 'fine', 'still', 'work', 'perfect', 'tear', 'wear', 'sign', 'refurbish', 'phone', 'complaint', 'work', 'fine', 'still', 'work', 'perfect', 'tear', 'wear', 'sign', 'refurbish', 'phone', 'complaint', 'work', 'fine', 'still', 'work', 'perfect', 'tear', 'wear', 'sign', 'refurbish', 'phone', 'complaint', 'work', 'fine', 'still', 'work', 'perfect', 'tear', 'wear', 'sign', 'refurbish', 'phone', 'complaint', 'work', 'fine', 'still', 'work', 'perfect', 'tear', 'wear', 'sign', 'refurbish', 'phone', 'complaint', 'work', 'fine', 'still', 'work', 'perfect', 'tear', 'wear', 'sign', 'refurbish', 'phone', 'complaint', 'work', 'fine', 'still', 'work', 'perfect', 'tear', 'wear', 'sign', 'refurbish', 'phone', 'complaint', 'work', 'fine', 'still', 'work', 'perfect', 'tear', 'wear', 'sign', 'refurbish', 'phone', 'complaint', 'work', 'fine', 'still', 'work', 'perfect', 'tear', 'wear', 'sign', 'refurbish', 'phone', 'complaint', 'work', 'fine', 'still', 'work', 'perfect', 'tear', 'wear', 'sign', 'refurbish', 'phone', 'complaint', 'work', 'fine', 'still', 'work', 'perfect', 'tear', 'wear', 'sign', 'refurbish', 'phone', 'complaint', 'work', 'fine', 'still', 'work', 'perfect', 'tear', 'wear', 'sign', 'refurbish', 'phone', 'complaint', 'work', 'fine', 'still', 'work', 'perfect', 'tear', 'wear', 'sign', 'refurbish', 'phone', 'complaint', 'work', 'fine', 'still', 'work', 'perfect', 'tear', 'wear', 'sign', 'refurbish', 'phone', 'complaint', 'work', 'fine', 'still', 'work', 'perfect', 'tear', 'wear', 'sign', 'refurbish', 'phone', 'complaint', 'work', 'fine', 'still', 'work', 'perfect', 'tear', 'wear', 'sign', 'refurbish', 'phone', 'complaint', 'work', 'fine', 'still', 'work', 'perfect', 'tear', 'wear', 'sign', 'refurbish', 'phone', 'complaint', 'work', 'fine', 'still', 'work', 'perfect', 'tear', 'wear', 'sign', 'refurbish', 'phone', 'complaint', 'work', 'fine', 'still', 'work', 'perfect', 'tear', 'wear', 'sign', 'refurbish', 'phone', 'complaint', 'work', 'fine', 'still', 'work', 'perfect', 'tear', 'wear', 'sign', 'refurbish', 'phone', 'complaint', 'work', 'fine', 'still', 'work', 'perfect', 'tear', 'wear', 'sign', 'refurbish', 'phone', 'complaint', 'work', 'fine', 'still', 'work', 'perfect', 'tear', 'wear', 'sign', 'refurbish', 'phone', 'complaint', 'work', 'fine', 'still', 'work', 'perfect', 'tear', 'wear', 'sign', 'refurbish', 'phone', 'complaint', 'work', 'fine', 'still', 'work', 'perfect', 'tear', 'wear', 'sign', 'refurbish', 'phone', 'complaint', 'work', 'fine', 'still', 'work', 'perfect', 'tear', 'wear', 'sign', 'refurbish', 'phone', 'complaint', 'work', 'fine', 'still', 'work', 'perfect', 'tear', 'wear', 'sign', 'refurbish', 'phone', 'complaint', 'work', 'fine', 'still', 'work', 'perfect', 'tear', 'wear', 'sign', 'refurbish', 'phone', 'complaint', 'work', 'fine', 'still', 'work', 'perfect', 'tear', 'wear', 'sign', 'refurbish', 'phone', 'complaint', 'work', 'fine', 'still', 'work', 'perfect', 'tear', 'wear', 'sign', 'refurbish', 'phone', 'complaint', 'work', 'fine', 'still', 'work', 'perfect', 'tear', 'wear', 'sign', 'refurbish', 'phone', 'complaint', 'work', 'fine', 'still', 'work', 'perfect', 'tear', 'wear', 'sign', 'refurbish', 'phone', 'complaint', 'work', 'fine', 'still', 'work', 'perfect', 'tear', 'wear', 'sign', 'refurbish', 'phone', 'complaint', 'work', 'fine', 'still', 'work', 'perfect', 'tear', 'wear', 'sign', 'refurbish', 'phone', 'complaint', 'work', 'fine', 'still', 'work', 'perfect', 'tear', 'wear', 'sign', 'refurbish', 'phone', 'complaint', 'work', 'fine', 'still', 'work', 'perfect', 'tear', 'wear', 'sign', 'refurbish', 'phone', 'complaint', 'work', 'fine', 'still', 'work', 'perfect', 'tear', 'wear', 'sign', 'refurbish', 'phone', 'complaint', 'work', 'fine', 'still', 'work', 'perfect', 'tear', 'wear', 'sign', 'refurbish', 'phone', 'complaint', 'work', 'fine', 'still', 'work', 'perfect', 'tear', 'wear', 'sign', 'refurbish', 'phone', 'complaint', 'work', 'fine', 'still', 'work', 'perfect', 'tear', 'wear', 'sign', 'refurbish', 'phone', 'complaint', 'work', 'fine', 'still', 'work', 'perfect', 'tear', 'wear', 'sign', 'refurbish', 'phone', 'complaint', 'work', 'fine', 'still', 'work', 'perfect', 'tear', 'wear', 'sign', 'refurbish', 'phone', 'complaint', 'work', 'fine', 'still', 'work', 'perfect', 'tear', 'wear', 'sign', 'refurbish', 'phone', 'complaint', 'work', 'fine', 'still', 'work', 'perfect', 'tear', 'wear', 'sign', 'refurbish', 'phone', 'complaint', 'work', 'fine', 'still', 'work', 'perfect', 'tear', 'wear', 'sign', 'refurbish', 'phone', 'complaint', 'work', 'fine', 'still', 'work', 'perfect', 'tear', 'wear', 'sign', 'refurbish', 'phone', 'complaint', 'work', 'fine', 'still', 'work', 'perfect', 'tear', 'wear', 'sign', 'refurbish', 'phone', 'complaint', 'work', 'fine', 'still', 'work', 'perfect', 'tear', 'wear', 'sign', 'refurbish', 'phone', 'complaint', 'work', 'fine', 'still', 'work', 'perfect', 'tear', 'wear', 'sign', 'refurbish', 'phone', 'complaint', 'work', 'fine', 'still', 'work', 'perfect', 'tear', 'wear', 'sign', 'refurbish', 'phone', 'complaint', 'work', 'fine', 'still', 'work', 'perfect', 'tear', 'wear', 'sign', 'refurbish', 'phone', 'complaint', 'work', 'fine', 'still', 'work', 'perfect', 'tear', 'wear', 'sign', 'refurbish', 'phone', 'complaint', 'work', 'fine', 'still', 'work', 'perfect', 'tear', 'wear', 'sign', 'refurbish', 'phone', 'complaint', 'work', 'fine', 'still', 'work', 'perfect', 'tear', 'wear', 'sign', 'refurbish', 'phone', 'complaint', 'work', 'fine', 'still', 'work', 'perfect', 'tear', 'wear', 'sign', 'refurbish', 'phone', 'complaint', 'work', 'fine', 'still', 'work', 'perfect', 'tear', 'wear', 'sign', 'refurbish', 'phone', 'complaint', 'work', 'fine', 'still', 'work', 'perfect', 'tear', 'wear', 'sign', 'refurbish', 'phone', 'complaint', 'work', 'fine', 'still', 'work', 'perfect', 'tear', 'wear', 'sign', 'refurbish', 'phone', 'complaint', 'work', 'fine', 'still', 'work', 'perfect', 'tear', 'wear', 'sign', 'refurbish', 'phone', 'complaint', 'work', 'fine', 'still', 'work', 'perfect', 'tear', 'wear', 'sign', 'refurbish', 'phone', 'complaint', 'work', 'fine', 'still', 'work', 'perfect', 'tear', 'wear', 'sign', 'refurbish', 'phone', 'complaint', 'work', 'fine', 'still', 'work', 'perfect', 'tear', 'wear', 'sign', 'refurbish', 'phone', 'complaint', 'work', 'fine', 'still', 'work', 'perfect', 'tear', 'wear', 'sign', 'refurbish', 'phone', 'complaint', 'work', 'fine', 'still', 'work', 'perfect', 'tear', 'wear', 'sign', 'refurbish', 'phone', 'complaint', 'work', 'fine', 'still', 'work', 'perfect', 'tear', 'wear', 'sign', 'refurbish', 'phone', 'complaint', 'work', 'fine', 'still', 'work', 'perfect', 'tear', 'wear', 'sign', 'refurbish', 'phone', 'complaint', 'work', 'fine', 'still', 'work', 'perfect', 'tear', 'wear', 'sign', 'refurbish', 'phone', 'complaint', 'work', 'fine', 'still', 'work', 'perfect', 'tear', 'wear', 'sign', 'refurbish', 'phone', 'complaint', 'work', 'fine', 'still', 'work', 'perfect', 'tear', 'wear', 'sign', 'refurbish', 'phone', 'complaint', 'work', 'fine', 'still', 'work', 'perfect', 'tear', 'wear', 'sign', 'refurbish', 'phone', 'complaint', 'work', 'fine', 'still', 'work', 'perfect', 'tear', 'wear', 'sign', 'refurbish', 'phone', 'complaint', 'work', 'fine', 'still', 'work', 'perfect', 'tear', 'wear', 'sign', 'refurbish', 'phone', 'complaint', 'work', 'fine', 'still', 'work', 'perfect', 'tear', 'wear', 'sign', 'refurbish', 'phone', 'complaint', 'work', 'fine', 'still', 'work', 'perfect', 'tear', 'wear', 'sign', 'refurbish', 'phone', 'complaint', 'work', 'fine', 'still', 'work', 'perfect', 'tear', 'wear', 'sign', 'refurbish', 'phone', 'complaint', 'work', 'fine', 'still', 'work', 'perfect', 'tear', 'wear', 'sign', 'refurbish', 'phone', 'complaint', 'work', 'fine', 'still', 'work', 'perfect', 'tear', 'wear', 'sign', 'refurbish', 'phone', 'complaint', 'work', 'fine', 'still', 'work', 'perfect', 'tear', 'wear', 'sign', 'refurbish', 'phone', 'complaint', 'work', 'fine', 'still', 'work', 'perfect', 'tear', 'wear', 'sign', 'refurbish', 'phone', 'complaint', 'work', 'fine', 'still', 'work', 'perfect', 'tear', 'wear', 'sign', 'refurbish', 'phone', 'complaint', 'work', 'fine', 'still', 'work', 'perfect', 'tear', 'wear', 'sign', 'refurbish', 'phone', 'complaint', 'work', 'fine', 'still', 'work', 'perfect', 'tear', 'wear', 'sign', 'refurbish', 'phone', 'complaint', 'work', 'fine', 'still', 'work', 'perfect', 'tear', 'wear', 'sign', 'refurbish', 'phone', 'complaint', 'work', 'fine', 'still', 'work', 'perfect', 'tear', 'wear', 'sign', 'refurbish', 'phone', 'complaint', 'work', 'fine', 'still', 'work', 'perfect', 'tear', 'wear', 'sign', 'refurbish', 'phone', 'complaint', 'work', 'fine', 'still', 'work', 'perfect', 'tear', 'wear', 'sign', 'refurbish', 'phone', 'complaint', 'work', 'fine', 'still', 'work', 'perfect', 'tear', 'wear', 'sign', 'refurbish', 'phone', 'complaint', 'work', 'fine', 'still', 'work', 'perfect', 'tear', 'wear', 'sign', 'refurbish', 'phone', 'complaint', 'work', 'fine', 'still', 'work', 'perfect', 'tear', 'wear', 'sign', 'refurbish', 'phone', 'complaint', 'work', 'fine', 'still', 'work', 'perfect', 'tear', 'wear', 'sign', 'refurbish', 'phone', 'complaint', 'work', 'fine', 'still', 'work', 'perfect', 'tear', 'wear', 'sign', 'refurbish', 'phone', 'complaint', 'work', 'fine', 'still', 'work', 'perfect', 'tear', 'wear', 'sign', 'refurbish', 'phone', 'complaint', 'work', 'fine', 'still', 'work', 'perfect', 'tear', 'wear', 'sign', 'refurbish', 'phone', 'complaint', 'work', 'fine', 'still', 'work', 'perfect', 'tear', 'wear', 'sign', 'refurbish', 'phone', 'complaint', 'work', 'fine', 'still', 'work', 'perfect', 'tear', 'wear', 'sign', 'refurbish', 'phone', 'complaint', 'work', 'fine', 'still', 'work', 'perfect', 'tear', 'wear', 'sign', 'refurbish', 'phone', 'complaint', 'work', 'fine', 'still', 'work', 'perfect', 'tear', 'wear', 'sign', 'refurbish', 'phone', 'complaint', 'work', 'fine', 'still', 'work', 'perfect', 'tear', 'wear', 'sign', 'refurbish', 'phone', 'complaint', 'work', 'fine', 'still', 'work', 'perfect', 'tear', 'wear', 'sign', 'refurbish', 'phone', 'complaint', 'work', 'fine', 'still', 'work', 'perfect', 'tear', 'wear', 'sign', 'refurbish', 'phone', 'complaint', 'work', 'fine', 'still', 'work', 'perfect', 'tear', 'wear', 'sign', 'refurbish', 'phone', 'complaint', 'work', 'fine', 'still', 'work', 'perfect', 'tear', 'wear', 'sign', 'refurbish', 'phone', 'complaint', 'work', 'fine', 'still', 'work', 'perfect', 'tear', 'wear', 'sign', 'refurbish', 'phone', 'complaint', 'work', 'fine', 'still', 'work', 'perfect', 'tear', 'wear', 'sign', 'refurbish', 'phone', 'complaint', 'work', 'fine', 'still', 'work', 'perfect', 'tear', 'wear', 'sign', 'refurbish', 'phone', 'complaint', 'work', 'fine', 'still', 'work', 'perfect', 'tear', 'wear', 'sign', 'refurbish', 'phone', 'complaint', 'work', 'fine', 'still', 'work', 'perfect', 'tear', 'wear', 'sign', 'refurbish', 'phone', 'complaint', 'work', 'fine', 'still', 'work', 'perfect', 'tear', 'wear', 'sign', 'refurbish', 'phone', 'complaint', 'work', 'fine', 'still', 'work', 'perfect', 'tear', 'wear', 'sign', 'refurbish', 'phone', 'complaint', 'work', 'fine', 'still', 'work', 'perfect', 'tear', 'wear', 'sign', 'refurbish', 'phone', 'complaint', 'work', 'fine', 'still', 'work', 'perfect', 'tear', 'wear', 'sign', 'refurbish', 'phone', 'complaint', 'work', 'fine', 'still', 'work', 'perfect', 'tear', 'wear', 'sign', 'refurbish', 'phone', 'complaint', 'work', 'fine', 'still', 'work', 'perfect', 'tear', 'wear', 'sign', 'refurbish', 'phone', 'complaint', 'work', 'fine', 'still', 'work', 'perfect', 'tear', 'wear', 'sign', 'refurbish', 'phone', 'complaint', 'work', 'fine', 'still', 'work', 'perfect', 'tear', 'wear', 'sign', 'refurbish', 'phone', 'complaint', 'work', 'fine', 'still', 'work', 'perfect', 'tear', 'wear', 'sign', 'refurbish', 'phone', 'complaint', 'work', 'fine', 'still', 'work', 'perfect', 'tear', 'wear', 'sign', 'refurbish', 'phone', 'complaint', 'work', 'fine', 'still', 'work', 'perfect', 'tear', 'wear', 'sign', 'refurbish', 'phone', 'complaint', 'work', 'fine', 'still', 'work', 'perfect', 'tear', 'wear', 'sign', 'refurbish', 'phone', 'complaint', 'work', 'fine', 'still', 'work', 'perfect', 'tear', 'wear', 'sign', 'refurbish', 'phone', 'complaint', 'work', 'fine', 'still', 'work', 'perfect', 'tear', 'wear', 'sign', 'refurbish', 'phone', 'complaint', 'work', 'fine', 'still', 'work', 'perfect', 'tear', 'wear', 'sign', 'refurbish', 'phone', 'complaint', 'work', 'fine', 'still', 'work', 'perfect', 'tear', 'wear', 'sign', 'refurbish', 'phone', 'complaint', 'work', 'fine', 'still', 'work', 'perfect', 'tear', 'wear', 'sign', 'refurbish', 'phone', 'complaint', 'work', 'fine', 'still', 'work', 'perfect', 'tear', 'wear', 'sign', 'refurbish', 'phone', 'complaint', 'work', 'fine', 'still', 'work', 'perfect', 'tear', 'wear', 'sign', 'refurbish', 'phone', 'complaint', 'work', 'fine', 'still', 'work', 'perfect', 'tear', 'wear', 'sign', 'refurbish', 'phone', 'complaint', 'work', 'fine', 'still', 'work', 'perfect', 'tear', 'wear', 'sign', 'refurbish', 'phone', 'complaint', 'work', 'fine', 'still', 'work', 'perfect', 'tear', 'wear', 'sign', 'refurbish', 'phone', 'complaint', 'work', 'fine', 'still', 'work', 'perfect', 'tear', 'wear', 'sign', 'refurbish', 'phone', 'complaint', 'work', 'fine', 'still', 'work', 'perfect', 'tear', 'wear', 'sign', 'refurbish', 'phone', 'complaint', 'work', 'fine', 'still', 'work', 'perfect', 'tear', 'wear', 'sign', 'refurbish', 'phone', 'complaint', 'work', 'fine', 'still', 'work', 'perfect', 'tear', 'wear', 'sign', 'refurbish', 'phone', 'complaint', 'work', 'fine', 'still', 'work', 'perfect', 'tear', 'wear', 'sign', 'refurbish', 'phone', 'complaint', 'work', 'fine', 'still', 'work', 'perfect', 'tear', 'wear', 'sign', 'refurbish', 'phone'], ['hello', 'name', 'emildr', 'tower', 'buy', 'phone', 'provid', 'one', 'get', 'bad', 'light', 'due', 'situcion', 'pass', 'countri', 'make', 'refund', 'howev', 'notifi', 'happen', 'greet', 'hello', 'name', 'emildr', 'tower', 'buy', 'phone', 'provid', 'one', 'get', 'bad', 'light', 'due', 'situcion', 'pass', 'countri', 'make', 'refund', 'howev', 'notifi', 'happen', 'greet', 'hello', 'name', 'emildr', 'tower', 'buy', 'phone', 'provid', 'one', 'get', 'bad', 'light', 'due', 'situcion', 'pass', 'countri', 'make', 'refund', 'howev', 'notifi', 'happen', 'greet', 'hello', 'name', 'emildr', 'tower', 'buy', 'phone', 'provid', 'one', 'get', 'bad', 'light', 'due', 'situcion', 'pass', 'countri', 'make', 'refund', 'howev', 'notifi', 'happen', 'greet', 'hello', 'name', 'emildr', 'tower', 'buy', 'phone', 'provid', 'one', 'get', 'bad', 'light', 'due', 'situcion', 'pass', 'countri', 'make', 'refund', 'howev', 'notifi', 'happen', 'greet', 'hello', 'name', 'emildr', 'tower', 'buy', 'phone', 'provid', 'one', 'get', 'bad', 'light', 'due', 'situcion', 'pass', 'countri', 'make', 'refund', 'howev', 'notifi', 'happen', 'greet', 'hello', 'name', 'emildr', 'tower', 'buy', 'phone', 'provid', 'one', 'get', 'bad', 'light', 'due', 'situcion', 'pass', 'countri', 'make', 'refund', 'howev', 'notifi', 'happen', 'greet', 'hello', 'name', 'emildr', 'tower', 'buy', 'phone', 'provid', 'one', 'get', 'bad', 'light', 'due', 'situcion', 'pass', 'countri', 'make', 'refund', 'howev', 'notifi', 'happen', 'greet', 'hello', 'name', 'emildr', 'tower', 'buy', 'phone', 'provid', 'one', 'get', 'bad', 'light', 'due', 'situcion', 'pass', 'countri', 'make', 'refund', 'howev', 'notifi', 'happen', 'greet', 'hello', 'name', 'emildr', 'tower', 'buy', 'phone', 'provid', 'one', 'get', 'bad', 'light', 'due', 'situcion', 'pass', 'countri', 'make', 'refund', 'howev', 'notifi', 'happen', 'greet', 'hello', 'name', 'emildr', 'tower', 'buy', 'phone', 'provid', 'one', 'get', 'bad', 'light', 'due', 'situcion', 'pass', 'countri', 'make', 'refund', 'howev', 'notifi', 'happen', 'greet', 'hello', 'name', 'emildr', 'tower', 'buy', 'phone', 'provid', 'one', 'get', 'bad', 'light', 'due', 'situcion', 'pass', 'countri', 'make', 'refund', 'howev', 'notifi', 'happen', 'greet', 'hello', 'name', 'emildr', 'tower', 'buy', 'phone', 'provid', 'one', 'get', 'bad', 'light', 'due', 'situcion', 'pass', 'countri', 'make', 'refund', 'howev', 'notifi', 'happen', 'greet', 'hello', 'name', 'emildr', 'tower', 'buy', 'phone', 'provid', 'one', 'get', 'bad', 'light', 'due', 'situcion', 'pass', 'countri', 'make', 'refund', 'howev', 'notifi', 'happen', 'greet', 'hello', 'name', 'emildr', 'tower', 'buy', 'phone', 'provid', 'one', 'get', 'bad', 'light', 'due', 'situcion', 'pass', 'countri', 'make', 'refund', 'howev', 'notifi', 'happen', 'greet', 'hello', 'name', 'emildr', 'tower', 'buy', 'phone', 'provid', 'one', 'get', 'bad', 'light', 'due', 'situcion', 'pass', 'countri', 'make', 'refund', 'howev', 'notifi', 'happen', 'greet', 'hello', 'name', 'emildr', 'tower', 'buy', 'phone', 'provid', 'one', 'get', 'bad', 'light', 'due', 'situcion', 'pass', 'countri', 'make', 'refund', 'howev', 'notifi', 'happen', 'greet', 'hello', 'name', 'emildr', 'tower', 'buy', 'phone', 'provid', 'one', 'get', 'bad', 'light', 'due', 'situcion', 'pass', 'countri', 'make', 'refund', 'howev', 'notifi', 'happen', 'greet', 'hello', 'name', 'emildr', 'tower', 'buy', 'phone', 'provid', 'one', 'get', 'bad', 'light', 'due', 'situcion', 'pass', 'countri', 'make', 'refund', 'howev', 'notifi', 'happen', 'greet', 'hello', 'name', 'emildr', 'tower', 'buy', 'phone', 'provid', 'one', 'get', 'bad', 'light', 'due', 'situcion', 'pass', 'countri', 'make', 'refund', 'howev', 'notifi', 'happen', 'greet', 'hello', 'name', 'emildr', 'tower', 'buy', 'phone', 'provid', 'one', 'get', 'bad', 'light', 'due', 'situcion', 'pass', 'countri', 'make', 'refund', 'howev', 'notifi', 'happen', 'greet', 'hello', 'name', 'emildr', 'tower', 'buy', 'phone', 'provid', 'one', 'get', 'bad', 'light', 'due', 'situcion', 'pass', 'countri', 'make', 'refund', 'howev', 'notifi', 'happen', 'greet', 'hello', 'name', 'emildr', 'tower', 'buy', 'phone', 'provid', 'one', 'get', 'bad', 'light', 'due', 'situcion', 'pass', 'countri', 'make', 'refund', 'howev', 'notifi', 'happen', 'greet', 'hello', 'name', 'emildr', 'tower', 'buy', 'phone', 'provid', 'one', 'get', 'bad', 'light', 'due', 'situcion', 'pass', 'countri', 'make', 'refund', 'howev', 'notifi', 'happen', 'greet', 'hello', 'name', 'emildr', 'tower', 'buy', 'phone', 'provid', 'one', 'get', 'bad', 'light', 'due', 'situcion', 'pass', 'countri', 'make', 'refund', 'howev', 'notifi', 'happen', 'greet', 'hello', 'name', 'emildr', 'tower', 'buy', 'phone', 'provid', 'one', 'get', 'bad', 'light', 'due', 'situcion', 'pass', 'countri', 'make', 'refund', 'howev', 'notifi', 'happen', 'greet', 'hello', 'name', 'emildr', 'tower', 'buy', 'phone', 'provid', 'one', 'get', 'bad', 'light', 'due', 'situcion', 'pass', 'countri', 'make', 'refund', 'howev', 'notifi', 'happen', 'greet', 'hello', 'name', 'emildr', 'tower', 'buy', 'phone', 'provid', 'one', 'get', 'bad', 'light', 'due', 'situcion', 'pass', 'countri', 'make', 'refund', 'howev', 'notifi', 'happen', 'greet', 'hello', 'name', 'emildr', 'tower', 'buy', 'phone', 'provid', 'one', 'get', 'bad', 'light', 'due', 'situcion', 'pass', 'countri', 'make', 'refund', 'howev', 'notifi', 'happen', 'greet', 'hello', 'name', 'emildr', 'tower', 'buy', 'phone', 'provid', 'one', 'get', 'bad', 'light', 'due', 'situcion', 'pass', 'countri', 'make', 'refund', 'howev', 'notifi', 'happen', 'greet', 'hello', 'name', 'emildr', 'tower', 'buy', 'phone', 'provid', 'one', 'get', 'bad', 'light', 'due', 'situcion', 'pass', 'countri', 'make', 'refund', 'howev', 'notifi', 'happen', 'greet', 'hello', 'name', 'emildr', 'tower', 'buy', 'phone', 'provid', 'one', 'get', 'bad', 'light', 'due', 'situcion', 'pass', 'countri', 'make', 'refund', 'howev', 'notifi', 'happen', 'greet', 'hello', 'name', 'emildr', 'tower', 'buy', 'phone', 'provid', 'one', 'get', 'bad', 'light', 'due', 'situcion', 'pass', 'countri', 'make', 'refund', 'howev', 'notifi', 'happen', 'greet', 'hello', 'name', 'emildr', 'tower', 'buy', 'phone', 'provid', 'one', 'get', 'bad', 'light', 'due', 'situcion', 'pass', 'countri', 'make', 'refund', 'howev', 'notifi', 'happen', 'greet', 'hello', 'name', 'emildr', 'tower', 'buy', 'phone', 'provid', 'one', 'get', 'bad', 'light', 'due', 'situcion', 'pass', 'countri', 'make', 'refund', 'howev', 'notifi', 'happen', 'greet', 'hello', 'name', 'emildr', 'tower', 'buy', 'phone', 'provid', 'one', 'get', 'bad', 'light', 'due', 'situcion', 'pass', 'countri', 'make', 'refund', 'howev', 'notifi', 'happen', 'greet', 'hello', 'name', 'emildr', 'tower', 'buy', 'phone', 'provid', 'one', 'get', 'bad', 'light', 'due', 'situcion', 'pass', 'countri', 'make', 'refund', 'howev', 'notifi', 'happen', 'greet', 'hello', 'name', 'emildr', 'tower', 'buy', 'phone', 'provid', 'one', 'get', 'bad', 'light', 'due', 'situcion', 'pass', 'countri', 'make', 'refund', 'howev', 'notifi', 'happen', 'greet', 'hello', 'name', 'emildr', 'tower', 'buy', 'phone', 'provid', 'one', 'get', 'bad', 'light', 'due', 'situcion', 'pass', 'countri', 'make', 'refund', 'howev', 'notifi', 'happen', 'greet', 'hello', 'name', 'emildr', 'tower', 'buy', 'phone', 'provid', 'one', 'get', 'bad', 'light', 'due', 'situcion', 'pass', 'countri', 'make', 'refund', 'howev', 'notifi', 'happen', 'greet', 'hello', 'name', 'emildr', 'tower', 'buy', 'phone', 'provid', 'one', 'get', 'bad', 'light', 'due', 'situcion', 'pass', 'countri', 'make', 'refund', 'howev', 'notifi', 'happen', 'greet', 'hello', 'name', 'emildr', 'tower', 'buy', 'phone', 'provid', 'one', 'get', 'bad', 'light', 'due', 'situcion', 'pass', 'countri', 'make', 'refund', 'howev', 'notifi', 'happen', 'greet', 'hello', 'name', 'emildr', 'tower', 'buy', 'phone', 'provid', 'one', 'get', 'bad', 'light', 'due', 'situcion', 'pass', 'countri', 'make', 'refund', 'howev', 'notifi', 'happen', 'greet', 'hello', 'name', 'emildr', 'tower', 'buy', 'phone', 'provid', 'one', 'get', 'bad', 'light', 'due', 'situcion', 'pass', 'countri', 'make', 'refund', 'howev', 'notifi', 'happen', 'greet', 'hello', 'name', 'emildr', 'tower', 'buy', 'phone', 'provid', 'one', 'get', 'bad', 'light', 'due', 'situcion', 'pass', 'countri', 'make', 'refund', 'howev', 'notifi', 'happen', 'greet', 'hello', 'name', 'emildr', 'tower', 'buy', 'phone', 'provid', 'one', 'get', 'bad', 'light', 'due', 'situcion', 'pass', 'countri', 'make', 'refund', 'howev', 'notifi', 'happen', 'greet', 'hello', 'name', 'emildr', 'tower', 'buy', 'phone', 'provid', 'one', 'get', 'bad', 'light', 'due', 'situcion', 'pass', 'countri', 'make', 'refund', 'howev', 'notifi', 'happen', 'greet', 'hello', 'name', 'emildr', 'tower', 'buy', 'phone', 'provid', 'one', 'get', 'bad', 'light', 'due', 'situcion', 'pass', 'countri', 'make', 'refund', 'howev', 'notifi', 'happen', 'greet', 'hello', 'name', 'emildr', 'tower', 'buy', 'phone', 'provid', 'one', 'get', 'bad', 'light', 'due', 'situcion', 'pass', 'countri', 'make', 'refund', 'howev', 'notifi', 'happen', 'greet', 'hello', 'name', 'emildr', 'tower', 'buy', 'phone', 'provid', 'one', 'get', 'bad', 'light', 'due', 'situcion', 'pass', 'countri', 'make', 'refund', 'howev', 'notifi', 'happen', 'greet', 'hello', 'name', 'emildr', 'tower', 'buy', 'phone', 'provid', 'one', 'get', 'bad', 'light', 'due', 'situcion', 'pass', 'countri', 'make', 'refund', 'howev', 'notifi', 'happen', 'greet', 'hello', 'name', 'emildr', 'tower', 'buy', 'phone', 'provid', 'one', 'get', 'bad', 'light', 'due', 'situcion', 'pass', 'countri', 'make', 'refund', 'howev', 'notifi', 'happen', 'greet', 'hello', 'name', 'emildr', 'tower', 'buy', 'phone', 'provid', 'one', 'get', 'bad', 'light', 'due', 'situcion', 'pass', 'countri', 'make', 'refund', 'howev', 'notifi', 'happen', 'greet', 'hello', 'name', 'emildr', 'tower', 'buy', 'phone', 'provid', 'one', 'get', 'bad', 'light', 'due', 'situcion', 'pass', 'countri', 'make', 'refund', 'howev', 'notifi', 'happen', 'greet', 'hello', 'name', 'emildr', 'tower', 'buy', 'phone', 'provid', 'one', 'get', 'bad', 'light', 'due', 'situcion', 'pass', 'countri', 'make', 'refund', 'howev', 'notifi', 'happen', 'greet', 'hello', 'name', 'emildr', 'tower', 'buy', 'phone', 'provid', 'one', 'get', 'bad', 'light', 'due', 'situcion', 'pass', 'countri', 'make', 'refund', 'howev', 'notifi', 'happen', 'greet', 'hello', 'name', 'emildr', 'tower', 'buy', 'phone', 'provid', 'one', 'get', 'bad', 'light', 'due', 'situcion', 'pass', 'countri', 'make', 'refund', 'howev', 'notifi', 'happen', 'greet', 'hello', 'name', 'emildr', 'tower', 'buy', 'phone', 'provid', 'one', 'get', 'bad', 'light', 'due', 'situcion', 'pass', 'countri', 'make', 'refund', 'howev', 'notifi', 'happen', 'greet', 'hello', 'name', 'emildr', 'tower', 'buy', 'phone', 'provid', 'one', 'get', 'bad', 'light', 'due', 'situcion', 'pass', 'countri', 'make', 'refund', 'howev', 'notifi', 'happen', 'greet', 'hello', 'name', 'emildr', 'tower', 'buy', 'phone', 'provid', 'one', 'get', 'bad', 'light', 'due', 'situcion', 'pass', 'countri', 'make', 'refund', 'howev', 'notifi', 'happen', 'greet', 'hello', 'name', 'emildr', 'tower', 'buy', 'phone', 'provid', 'one', 'get', 'bad', 'light', 'due', 'situcion', 'pass', 'countri', 'make', 'refund', 'howev', 'notifi', 'happen', 'greet', 'hello', 'name', 'emildr', 'tower', 'buy', 'phone', 'provid', 'one', 'get', 'bad', 'light', 'due', 'situcion', 'pass', 'countri', 'make', 'refund', 'howev', 'notifi', 'happen', 'greet', 'hello', 'name', 'emildr', 'tower', 'buy', 'phone', 'provid', 'one', 'get', 'bad', 'light', 'due', 'situcion', 'pass', 'countri', 'make', 'refund', 'howev', 'notifi', 'happen', 'greet', 'hello', 'name', 'emildr', 'tower', 'buy', 'phone', 'provid', 'one', 'get', 'bad', 'light', 'due', 'situcion', 'pass', 'countri', 'make', 'refund', 'howev', 'notifi', 'happen', 'greet', 'hello', 'name', 'emildr', 'tower', 'buy', 'phone', 'provid', 'one', 'get', 'bad', 'light', 'due', 'situcion', 'pass', 'countri', 'make', 'refund', 'howev', 'notifi', 'happen', 'greet', 'hello', 'name', 'emildr', 'tower', 'buy', 'phone', 'provid', 'one', 'get', 'bad', 'light', 'due', 'situcion', 'pass', 'countri', 'make', 'refund', 'howev', 'notifi', 'happen', 'greet', 'hello', 'name', 'emildr', 'tower', 'buy', 'phone', 'provid', 'one', 'get', 'bad', 'light', 'due', 'situcion', 'pass', 'countri', 'make', 'refund', 'howev', 'notifi', 'happen', 'greet', 'hello', 'name', 'emildr', 'tower', 'buy', 'phone', 'provid', 'one', 'get', 'bad', 'light', 'due', 'situcion', 'pass', 'countri', 'make', 'refund', 'howev', 'notifi', 'happen', 'greet', 'hello', 'name', 'emildr', 'tower', 'buy', 'phone', 'provid', 'one', 'get', 'bad', 'light', 'due', 'situcion', 'pass', 'countri', 'make', 'refund', 'howev', 'notifi', 'happen', 'greet', 'hello', 'name', 'emildr', 'tower', 'buy', 'phone', 'provid', 'one', 'get', 'bad', 'light', 'due', 'situcion', 'pass', 'countri', 'make', 'refund', 'howev', 'notifi', 'happen', 'greet', 'hello', 'name', 'emildr', 'tower', 'buy', 'phone', 'provid', 'one', 'get', 'bad', 'light', 'due', 'situcion', 'pass', 'countri', 'make', 'refund', 'howev', 'notifi', 'happen', 'greet', 'hello', 'name', 'emildr', 'tower', 'buy', 'phone', 'provid', 'one', 'get', 'bad', 'light', 'due', 'situcion', 'pass', 'countri', 'make', 'refund', 'howev', 'notifi', 'happen', 'greet', 'hello', 'name', 'emildr', 'tower', 'buy', 'phone', 'provid', 'one', 'get', 'bad', 'light', 'due', 'situcion', 'pass', 'countri', 'make', 'refund', 'howev', 'notifi', 'happen', 'greet', 'hello', 'name', 'emildr', 'tower', 'buy', 'phone', 'provid', 'one', 'get', 'bad', 'light', 'due', 'situcion', 'pass', 'countri', 'make', 'refund', 'howev', 'notifi', 'happen', 'greet', 'hello', 'name', 'emildr', 'tower', 'buy', 'phone', 'provid', 'one', 'get', 'bad', 'light', 'due', 'situcion', 'pass', 'countri', 'make', 'refund', 'howev', 'notifi', 'happen', 'greet', 'hello', 'name', 'emildr', 'tower', 'buy', 'phone', 'provid', 'one', 'get', 'bad', 'light', 'due', 'situcion', 'pass', 'countri', 'make', 'refund', 'howev', 'notifi', 'happen', 'greet', 'hello', 'name', 'emildr', 'tower', 'buy', 'phone', 'provid', 'one', 'get', 'bad', 'light', 'due', 'situcion', 'pass', 'countri', 'make', 'refund', 'howev', 'notifi', 'happen', 'greet', 'hello', 'name', 'emildr', 'tower', 'buy', 'phone', 'provid', 'one', 'get', 'bad', 'light', 'due', 'situcion', 'pass', 'countri', 'make', 'refund', 'howev', 'notifi', 'happen', 'greet', 'hello', 'name', 'emildr', 'tower', 'buy', 'phone', 'provid', 'one', 'get', 'bad', 'light', 'due', 'situcion', 'pass', 'countri', 'make', 'refund', 'howev', 'notifi', 'happen', 'greet', 'hello', 'name', 'emildr', 'tower', 'buy', 'phone', 'provid', 'one', 'get', 'bad', 'light', 'due', 'situcion', 'pass', 'countri', 'make', 'refund', 'howev', 'notifi', 'happen', 'greet', 'hello', 'name', 'emildr', 'tower', 'buy', 'phone', 'provid', 'one', 'get', 'bad', 'light', 'due', 'situcion', 'pass', 'countri', 'make', 'refund', 'howev', 'notifi', 'happen', 'greet', 'hello', 'name', 'emildr', 'tower', 'buy', 'phone', 'provid', 'one', 'get', 'bad', 'light', 'due', 'situcion', 'pass', 'countri', 'make', 'refund', 'howev', 'notifi', 'happen', 'greet', 'hello', 'name', 'emildr', 'tower', 'buy', 'phone', 'provid', 'one', 'get', 'bad', 'light', 'due', 'situcion', 'pass', 'countri', 'make', 'refund', 'howev', 'notifi', 'happen', 'greet', 'hello', 'name', 'emildr', 'tower', 'buy', 'phone', 'provid', 'one', 'get', 'bad', 'light', 'due', 'situcion', 'pass', 'countri', 'make', 'refund', 'howev', 'notifi', 'happen', 'greet', 'hello', 'name', 'emildr', 'tower', 'buy', 'phone', 'provid', 'one', 'get', 'bad', 'light', 'due', 'situcion', 'pass', 'countri', 'make', 'refund', 'howev', 'notifi', 'happen', 'greet', 'hello', 'name', 'emildr', 'tower', 'buy', 'phone', 'provid', 'one', 'get', 'bad', 'light', 'due', 'situcion', 'pass', 'countri', 'make', 'refund', 'howev', 'notifi', 'happen', 'greet', 'hello', 'name', 'emildr', 'tower', 'buy', 'phone', 'provid', 'one', 'get', 'bad', 'light', 'due', 'situcion', 'pass', 'countri', 'make', 'refund', 'howev', 'notifi', 'happen', 'greet', 'hello', 'name', 'emildr', 'tower', 'buy', 'phone', 'provid', 'one', 'get', 'bad', 'light', 'due', 'situcion', 'pass', 'countri', 'make', 'refund', 'howev', 'notifi', 'happen', 'greet', 'hello', 'name', 'emildr', 'tower', 'buy', 'phone', 'provid', 'one', 'get', 'bad', 'light', 'due', 'situcion', 'pass', 'countri', 'make', 'refund', 'howev', 'notifi', 'happen', 'greet', 'hello', 'name', 'emildr', 'tower', 'buy', 'phone', 'provid', 'one', 'get', 'bad', 'light', 'due', 'situcion', 'pass', 'countri', 'make', 'refund', 'howev', 'notifi', 'happen', 'greet', 'hello', 'name', 'emildr', 'tower', 'buy', 'phone', 'provid', 'one', 'get', 'bad', 'light', 'due', 'situcion', 'pass', 'countri', 'make', 'refund', 'howev', 'notifi', 'happen', 'greet', 'hello', 'name', 'emildr', 'tower', 'buy', 'phone', 'provid', 'one', 'get', 'bad', 'light', 'due', 'situcion', 'pass', 'countri', 'make', 'refund', 'howev', 'notifi', 'happen', 'greet', 'hello', 'name', 'emildr', 'tower', 'buy', 'phone', 'provid', 'one', 'get', 'bad', 'light', 'due', 'situcion', 'pass', 'countri', 'make', 'refund', 'howev', 'notifi', 'happen', 'greet', 'hello', 'name', 'emildr', 'tower', 'buy', 'phone', 'provid', 'one', 'get', 'bad', 'light', 'due', 'situcion', 'pass', 'countri', 'make', 'refund', 'howev', 'notifi', 'happen', 'greet', 'hello', 'name', 'emildr', 'tower', 'buy', 'phone', 'provid', 'one', 'get', 'bad', 'light', 'due', 'situcion', 'pass', 'countri', 'make', 'refund', 'howev', 'notifi', 'happen', 'greet', 'hello', 'name', 'emildr', 'tower', 'buy', 'phone', 'provid', 'one', 'get', 'bad', 'light', 'due', 'situcion', 'pass', 'countri', 'make', 'refund', 'howev', 'notifi', 'happen', 'greet', 'hello', 'name', 'emildr', 'tower', 'buy', 'phone', 'provid', 'one', 'get', 'bad', 'light', 'due', 'situcion', 'pass', 'countri', 'make', 'refund', 'howev', 'notifi', 'happen', 'greet', 'hello', 'name', 'emildr', 'tower', 'buy', 'phone', 'provid', 'one', 'get', 'bad', 'light', 'due', 'situcion', 'pass', 'countri', 'make', 'refund', 'howev', 'notifi', 'happen', 'greet', 'hello', 'name', 'emildr', 'tower', 'buy', 'phone', 'provid', 'one', 'get', 'bad', 'light', 'due', 'situcion', 'pass', 'countri', 'make', 'refund', 'howev', 'notifi', 'happen', 'greet', 'hello', 'name', 'emildr', 'tower', 'buy', 'phone', 'provid', 'one', 'get', 'bad', 'light', 'due', 'situcion', 'pass', 'countri', 'make', 'refund', 'howev', 'notifi', 'happen', 'greet', 'hello', 'name', 'emildr', 'tower', 'buy', 'phone', 'provid', 'one', 'get', 'bad', 'light', 'due', 'situcion', 'pass', 'countri', 'make', 'refund', 'howev', 'notifi', 'happen', 'greet', 'hello', 'name', 'emildr', 'tower', 'buy', 'phone', 'provid', 'one', 'get', 'bad', 'light', 'due', 'situcion', 'pass', 'countri', 'make', 'refund', 'howev', 'notifi', 'happen', 'greet', 'hello', 'name', 'emildr', 'tower', 'buy', 'phone', 'provid', 'one', 'get', 'bad', 'light', 'due', 'situcion', 'pass', 'countri', 'make', 'refund', 'howev', 'notifi', 'happen', 'greet', 'hello', 'name', 'emildr', 'tower', 'buy', 'phone', 'provid', 'one', 'get', 'bad', 'light', 'due', 'situcion', 'pass', 'countri', 'make', 'refund', 'howev', 'notifi', 'happen', 'greet', 'hello', 'name', 'emildr', 'tower', 'buy', 'phone', 'provid', 'one', 'get', 'bad', 'light', 'due', 'situcion', 'pass', 'countri', 'make', 'refund', 'howev', 'notifi', 'happen', 'greet', 'hello', 'name', 'emildr', 'tower', 'buy', 'phone', 'provid', 'one', 'get', 'bad', 'light', 'due', 'situcion', 'pass', 'countri', 'make', 'refund', 'howev', 'notifi', 'happen', 'greet', 'hello', 'name', 'emildr', 'tower', 'buy', 'phone', 'provid', 'one', 'get', 'bad', 'light', 'due', 'situcion', 'pass', 'countri', 'make', 'refund', 'howev', 'notifi', 'happen', 'greet', 'hello', 'name', 'emildr', 'tower', 'buy', 'phone', 'provid', 'one', 'get', 'bad', 'light', 'due', 'situcion', 'pass', 'countri', 'make', 'refund', 'howev', 'notifi', 'happen', 'greet', 'hello', 'name', 'emildr', 'tower', 'buy', 'phone', 'provid', 'one', 'get', 'bad', 'light', 'due', 'situcion', 'pass', 'countri', 'make', 'refund', 'howev', 'notifi', 'happen', 'greet', 'hello', 'name', 'emildr', 'tower', 'buy', 'phone', 'provid', 'one', 'get', 'bad', 'light', 'due', 'situcion', 'pass', 'countri', 'make', 'refund', 'howev', 'notifi', 'happen', 'greet', 'hello', 'name', 'emildr', 'tower', 'buy', 'phone', 'provid', 'one', 'get', 'bad', 'light', 'due', 'situcion', 'pass', 'countri', 'make', 'refund', 'howev', 'notifi', 'happen', 'greet', 'hello', 'name', 'emildr', 'tower', 'buy', 'phone', 'provid', 'one', 'get', 'bad', 'light', 'due', 'situcion', 'pass', 'countri', 'make', 'refund', 'howev', 'notifi', 'happen', 'greet', 'hello', 'name', 'emildr', 'tower', 'buy', 'phone', 'provid', 'one', 'get', 'bad', 'light', 'due', 'situcion', 'pass', 'countri', 'make', 'refund', 'howev', 'notifi', 'happen', 'greet', 'hello', 'name', 'emildr', 'tower', 'buy', 'phone', 'provid', 'one', 'get', 'bad', 'light', 'due', 'situcion', 'pass', 'countri', 'make', 'refund', 'howev', 'notifi', 'happen', 'greet', 'hello', 'name', 'emildr', 'tower', 'buy', 'phone', 'provid', 'one', 'get', 'bad', 'light', 'due', 'situcion', 'pass', 'countri', 'make', 'refund', 'howev', 'notifi', 'happen', 'greet', 'hello', 'name', 'emildr', 'tower', 'buy', 'phone', 'provid', 'one', 'get', 'bad', 'light', 'due', 'situcion', 'pass', 'countri', 'make', 'refund', 'howev', 'notifi', 'happen', 'greet', 'hello', 'name', 'emildr', 'tower', 'buy', 'phone', 'provid', 'one', 'get', 'bad', 'light', 'due', 'situcion', 'pass', 'countri', 'make', 'refund', 'howev', 'notifi', 'happen', 'greet', 'hello', 'name', 'emildr', 'tower', 'buy', 'phone', 'provid', 'one', 'get', 'bad', 'light', 'due', 'situcion', 'pass', 'countri', 'make', 'refund', 'howev', 'notifi', 'happen', 'greet', 'hello', 'name', 'emildr', 'tower', 'buy', 'phone', 'provid', 'one', 'get', 'bad', 'light', 'due', 'situcion', 'pass', 'countri', 'make', 'refund', 'howev', 'notifi', 'happen', 'greet', 'hello', 'name', 'emildr', 'tower', 'buy', 'phone', 'provid', 'one', 'get', 'bad', 'light', 'due', 'situcion', 'pass', 'countri', 'make', 'refund', 'howev', 'notifi', 'happen', 'greet', 'hello', 'name', 'emildr', 'tower', 'buy', 'phone', 'provid', 'one', 'get', 'bad', 'light', 'due', 'situcion', 'pass', 'countri', 'make', 'refund', 'howev', 'notifi', 'happen', 'greet', 'hello', 'name', 'emildr', 'tower', 'buy', 'phone', 'provid', 'one', 'get', 'bad', 'light', 'due', 'situcion', 'pass', 'countri', 'make', 'refund', 'howev', 'notifi', 'happen', 'greet', 'hello', 'name', 'emildr', 'tower', 'buy', 'phone', 'provid', 'one', 'get', 'bad', 'light', 'due', 'situcion', 'pass', 'countri', 'make', 'refund', 'howev', 'notifi', 'happen', 'greet', 'hello', 'name', 'emildr', 'tower', 'buy', 'phone', 'provid', 'one', 'get', 'bad', 'light', 'due', 'situcion', 'pass', 'countri', 'make', 'refund', 'howev', 'notifi', 'happen', 'greet', 'hello', 'name', 'emildr', 'tower', 'buy', 'phone', 'provid', 'one', 'get', 'bad', 'light', 'due', 'situcion', 'pass', 'countri', 'make', 'refund', 'howev', 'notifi', 'happen', 'greet', 'hello', 'name', 'emildr', 'tower', 'buy', 'phone', 'provid', 'one', 'get', 'bad', 'light', 'due', 'situcion', 'pass', 'countri', 'make', 'refund', 'howev', 'notifi', 'happen', 'greet', 'hello', 'name', 'emildr', 'tower', 'buy', 'phone', 'provid', 'one', 'get', 'bad', 'light', 'due', 'situcion', 'pass', 'countri', 'make', 'refund', 'howev', 'notifi', 'happen', 'greet', 'hello', 'name', 'emildr', 'tower', 'buy', 'phone', 'provid', 'one', 'get', 'bad', 'light', 'due', 'situcion', 'pass', 'countri', 'make', 'refund', 'howev', 'notifi', 'happen', 'greet', 'hello', 'name', 'emildr', 'tower', 'buy', 'phone', 'provid', 'one', 'get', 'bad', 'light', 'due', 'situcion', 'pass', 'countri', 'make', 'refund', 'howev', 'notifi', 'happen', 'greet', 'hello', 'name', 'emildr', 'tower', 'buy', 'phone', 'provid', 'one', 'get', 'bad', 'light', 'due', 'situcion', 'pass', 'countri', 'make', 'refund', 'howev', 'notifi', 'happen', 'greet', 'hello', 'name', 'emildr', 'tower', 'buy', 'phone', 'provid', 'one', 'get', 'bad', 'light', 'due', 'situcion', 'pass', 'countri', 'make', 'refund', 'howev', 'notifi', 'happen', 'greet', 'hello', 'name', 'emildr', 'tower', 'buy', 'phone', 'provid', 'one', 'get', 'bad', 'light', 'due', 'situcion', 'pass', 'countri', 'make', 'refund', 'howev', 'notifi', 'happen', 'greet', 'hello', 'name', 'emildr', 'tower', 'buy', 'phone', 'provid', 'one', 'get', 'bad', 'light', 'due', 'situcion', 'pass', 'countri', 'make', 'refund', 'howev', 'notifi', 'happen', 'greet', 'hello', 'name', 'emildr', 'tower', 'buy', 'phone', 'provid', 'one', 'get', 'bad', 'light', 'due', 'situcion', 'pass', 'countri', 'make', 'refund', 'howev', 'notifi', 'happen', 'greet', 'hello', 'name', 'emildr', 'tower', 'buy', 'phone', 'provid', 'one', 'get', 'bad', 'light', 'due', 'situcion', 'pass', 'countri', 'make', 'refund', 'howev', 'notifi', 'happen', 'greet', 'hello', 'name', 'emildr', 'tower', 'buy', 'phone', 'provid', 'one', 'get', 'bad', 'light', 'due', 'situcion', 'pass', 'countri', 'make', 'refund', 'howev', 'notifi', 'happen', 'greet', 'hello', 'name', 'emildr', 'tower', 'buy', 'phone', 'provid', 'one', 'get', 'bad', 'light', 'due', 'situcion', 'pass', 'countri', 'make', 'refund', 'howev', 'notifi', 'happen', 'greet', 'hello', 'name', 'emildr', 'tower', 'buy', 'phone', 'provid', 'one', 'get', 'bad', 'light', 'due', 'situcion', 'pass', 'countri', 'make', 'refund', 'howev', 'notifi', 'happen', 'greet', 'hello', 'name', 'emildr', 'tower', 'buy', 'phone', 'provid', 'one', 'get', 'bad', 'light', 'due', 'situcion', 'pass', 'countri', 'make', 'refund', 'howev', 'notifi', 'happen', 'greet', 'hello', 'name', 'emildr', 'tower', 'buy', 'phone', 'provid', 'one', 'get', 'bad', 'light', 'due', 'situcion', 'pass', 'countri', 'make', 'refund', 'howev', 'notifi', 'happen', 'greet', 'hello', 'name', 'emildr', 'tower', 'buy', 'phone', 'provid', 'one', 'get', 'bad', 'light', 'due', 'situcion', 'pass', 'countri', 'make', 'refund', 'howev', 'notifi', 'happen', 'greet', 'hello', 'name', 'emildr', 'tower', 'buy', 'phone', 'provid', 'one', 'get', 'bad', 'light', 'due', 'situcion', 'pass', 'countri', 'make', 'refund', 'howev', 'notifi', 'happen', 'greet', 'hello', 'name', 'emildr', 'tower', 'buy', 'phone', 'provid', 'one', 'get', 'bad', 'light', 'due', 'situcion', 'pass', 'countri', 'make', 'refund', 'howev', 'notifi', 'happen', 'greet', 'hello', 'name', 'emildr', 'tower', 'buy', 'phone', 'provid', 'one', 'get', 'bad', 'light', 'due', 'situcion', 'pass', 'countri', 'make', 'refund', 'howev', 'notifi', 'happen', 'greet', 'hello', 'name', 'emildr', 'tower', 'buy', 'phone', 'provid', 'one', 'get', 'bad', 'light', 'due', 'situcion', 'pass', 'countri', 'make', 'refund', 'howev', 'notifi', 'happen', 'greet', 'hello', 'name', 'emildr', 'tower', 'buy', 'phone', 'provid', 'one', 'get', 'bad', 'light', 'due', 'situcion', 'pass', 'countri', 'make', 'refund', 'howev', 'notifi', 'happen', 'greet', 'hello', 'name', 'emildr', 'tower', 'buy', 'phone', 'provid', 'one', 'get', 'bad', 'light', 'due', 'situcion', 'pass', 'countri', 'make', 'refund', 'howev', 'notifi', 'happen', 'greet', 'hello', 'name', 'emildr', 'tower', 'buy', 'phone', 'provid', 'one', 'get', 'bad', 'light', 'due', 'situcion', 'pass', 'countri', 'make', 'refund', 'howev', 'notifi', 'happen', 'greet', 'hello', 'name', 'emildr', 'tower', 'buy', 'phone', 'provid', 'one', 'get', 'bad', 'light', 'due', 'situcion', 'pass', 'countri', 'make', 'refund', 'howev', 'notifi', 'happen', 'greet', 'hello', 'name', 'emildr', 'tower', 'buy', 'phone', 'provid', 'one', 'get', 'bad', 'light', 'due', 'situcion', 'pass', 'countri', 'make', 'refund', 'howev', 'notifi', 'happen', 'greet', 'hello', 'name', 'emildr', 'tower', 'buy', 'phone', 'provid', 'one', 'get', 'bad', 'light', 'due', 'situcion', 'pass', 'countri', 'make', 'refund', 'howev', 'notifi', 'happen', 'greet', 'hello', 'name', 'emildr', 'tower', 'buy', 'phone', 'provid', 'one', 'get', 'bad', 'light', 'due', 'situcion', 'pass', 'countri', 'make', 'refund', 'howev', 'notifi', 'happen', 'greet', 'hello', 'name', 'emildr', 'tower', 'buy', 'phone', 'provid', 'one', 'get', 'bad', 'light', 'due', 'situcion', 'pass', 'countri', 'make', 'refund', 'howev', 'notifi', 'happen', 'greet', 'hello', 'name', 'emildr', 'tower', 'buy', 'phone', 'provid', 'one', 'get', 'bad', 'light', 'due', 'situcion', 'pass', 'countri', 'make', 'refund', 'howev', 'notifi', 'happen', 'greet', 'hello', 'name', 'emildr', 'tower', 'buy', 'phone', 'provid', 'one', 'get', 'bad', 'light', 'due', 'situcion', 'pass', 'countri', 'make', 'refund', 'howev', 'notifi', 'happen', 'greet', 'hello', 'name', 'emildr', 'tower', 'buy', 'phone', 'provid', 'one', 'get', 'bad', 'light', 'due', 'situcion', 'pass', 'countri', 'make', 'refund', 'howev', 'notifi', 'happen', 'greet', 'hello', 'name', 'emildr', 'tower', 'buy', 'phone', 'provid', 'one', 'get', 'bad', 'light', 'due', 'situcion', 'pass', 'countri', 'make', 'refund', 'howev', 'notifi', 'happen', 'greet', 'hello', 'name', 'emildr', 'tower', 'buy', 'phone', 'provid', 'one', 'get', 'bad', 'light', 'due', 'situcion', 'pass', 'countri', 'make', 'refund', 'howev', 'notifi', 'happen', 'greet', 'hello', 'name', 'emildr', 'tower', 'buy', 'phone', 'provid', 'one', 'get', 'bad', 'light', 'due', 'situcion', 'pass', 'countri', 'make', 'refund', 'howev', 'notifi', 'happen', 'greet', 'hello', 'name', 'emildr', 'tower', 'buy', 'phone', 'provid', 'one', 'get', 'bad', 'light', 'due', 'situcion', 'pass', 'countri', 'make', 'refund', 'howev', 'notifi', 'happen', 'greet', 'hello', 'name', 'emildr', 'tower', 'buy', 'phone', 'provid', 'one', 'get', 'bad', 'light', 'due', 'situcion', 'pass', 'countri', 'make', 'refund', 'howev', 'notifi', 'happen', 'greet', 'hello', 'name', 'emildr', 'tower', 'buy', 'phone', 'provid', 'one', 'get', 'bad', 'light', 'due', 'situcion', 'pass', 'countri', 'make', 'refund', 'howev', 'notifi', 'happen', 'greet', 'hello', 'name', 'emildr', 'tower', 'buy', 'phone', 'provid', 'one', 'get', 'bad', 'light', 'due', 'situcion', 'pass', 'countri', 'make', 'refund', 'howev', 'notifi', 'happen', 'greet', 'hello', 'name', 'emildr', 'tower', 'buy', 'phone', 'provid', 'one', 'get', 'bad', 'light', 'due', 'situcion', 'pass', 'countri', 'make', 'refund', 'howev', 'notifi', 'happen', 'greet', 'hello', 'name', 'emildr', 'tower', 'buy', 'phone', 'provid', 'one', 'get', 'bad', 'light', 'due', 'situcion', 'pass', 'countri', 'make', 'refund', 'howev', 'notifi', 'happen', 'greet', 'hello', 'name', 'emildr', 'tower', 'buy', 'phone', 'provid', 'one', 'get', 'bad', 'light', 'due', 'situcion', 'pass', 'countri', 'make', 'refund', 'howev', 'notifi', 'happen', 'greet', 'hello', 'name', 'emildr', 'tower', 'buy', 'phone', 'provid', 'one', 'get', 'bad', 'light', 'due', 'situcion', 'pass', 'countri', 'make', 'refund', 'howev', 'notifi', 'happen', 'greet', 'hello', 'name', 'emildr', 'tower', 'buy', 'phone', 'provid', 'one', 'get', 'bad', 'light', 'due', 'situcion', 'pass', 'countri', 'make', 'refund', 'howev', 'notifi', 'happen', 'greet', 'hello', 'name', 'emildr', 'tower', 'buy', 'phone', 'provid', 'one', 'get', 'bad', 'light', 'due', 'situcion', 'pass', 'countri', 'make', 'refund', 'howev', 'notifi', 'happen', 'greet', 'hello', 'name', 'emildr', 'tower', 'buy', 'phone', 'provid', 'one', 'get', 'bad', 'light', 'due', 'situcion', 'pass', 'countri', 'make', 'refund', 'howev', 'notifi', 'happen', 'greet', 'hello', 'name', 'emildr', 'tower', 'buy', 'phone', 'provid', 'one', 'get', 'bad', 'light', 'due', 'situcion', 'pass', 'countri', 'make', 'refund', 'howev', 'notifi', 'happen', 'greet', 'hello', 'name', 'emildr', 'tower', 'buy', 'phone', 'provid', 'one', 'get', 'bad', 'light', 'due', 'situcion', 'pass', 'countri', 'make', 'refund', 'howev', 'notifi', 'happen', 'greet', 'hello', 'name', 'emildr', 'tower', 'buy', 'phone', 'provid', 'one', 'get', 'bad', 'light', 'due', 'situcion', 'pass', 'countri', 'make', 'refund', 'howev', 'notifi', 'happen', 'greet', 'hello', 'name', 'emildr', 'tower', 'buy', 'phone', 'provid', 'one', 'get', 'bad', 'light', 'due', 'situcion', 'pass', 'countri', 'make', 'refund', 'howev', 'notifi', 'happen', 'greet', 'hello', 'name', 'emildr', 'tower', 'buy', 'phone', 'provid', 'one', 'get', 'bad', 'light', 'due', 'situcion', 'pass', 'countri', 'make', 'refund', 'howev', 'notifi', 'happen', 'greet', 'hello', 'name', 'emildr', 'tower', 'buy', 'phone', 'provid', 'one', 'get', 'bad', 'light', 'due', 'situcion', 'pass', 'countri', 'make', 'refund', 'howev', 'notifi', 'happen', 'greet', 'hello', 'name', 'emildr', 'tower', 'buy', 'phone', 'provid', 'one', 'get', 'bad', 'light', 'due', 'situcion', 'pass', 'countri', 'make', 'refund', 'howev', 'notifi', 'happen', 'greet', 'hello', 'name', 'emildr', 'tower', 'buy', 'phone', 'provid', 'one', 'get', 'bad', 'light', 'due', 'situcion', 'pass', 'countri', 'make', 'refund', 'howev', 'notifi', 'happen', 'greet', 'hello', 'name', 'emildr', 'tower', 'buy', 'phone', 'provid', 'one', 'get', 'bad', 'light', 'due', 'situcion', 'pass', 'countri', 'make', 'refund', 'howev', 'notifi', 'happen', 'greet', 'hello', 'name', 'emildr', 'tower', 'buy', 'phone', 'provid', 'one', 'get', 'bad', 'light', 'due', 'situcion', 'pass', 'countri', 'make', 'refund', 'howev', 'notifi', 'happen', 'greet', 'hello', 'name', 'emildr', 'tower', 'buy', 'phone', 'provid', 'one', 'get', 'bad', 'light', 'due', 'situcion', 'pass', 'countri', 'make', 'refund', 'howev', 'notifi', 'happen', 'greet', 'hello', 'name', 'emildr', 'tower', 'buy', 'phone', 'provid', 'one', 'get', 'bad', 'light', 'due', 'situcion', 'pass', 'countri', 'make', 'refund', 'howev', 'notifi', 'happen', 'greet', 'hello', 'name', 'emildr', 'tower', 'buy', 'phone', 'provid', 'one', 'get', 'bad', 'light', 'due', 'situcion', 'pass', 'countri', 'make', 'refund', 'howev', 'notifi', 'happen', 'greet', 'hello', 'name', 'emildr', 'tower', 'buy', 'phone', 'provid', 'one', 'get', 'bad', 'light', 'due', 'situcion', 'pass', 'countri', 'make', 'refund', 'howev', 'notifi', 'happen', 'greet', 'hello', 'name', 'emildr', 'tower', 'buy', 'phone', 'provid', 'one', 'get', 'bad', 'light', 'due', 'situcion', 'pass', 'countri', 'make', 'refund', 'howev', 'notifi', 'happen', 'greet', 'hello', 'name', 'emildr', 'tower', 'buy', 'phone', 'provid', 'one', 'get', 'bad', 'light', 'due', 'situcion', 'pass', 'countri', 'make', 'refund', 'howev', 'notifi', 'happen', 'greet', 'hello', 'name', 'emildr', 'tower', 'buy', 'phone', 'provid', 'one', 'get', 'bad', 'light', 'due', 'situcion', 'pass', 'countri', 'make', 'refund', 'howev', 'notifi', 'happen', 'greet', 'hello', 'name', 'emildr', 'tower', 'buy', 'phone', 'provid', 'one', 'get', 'bad', 'light', 'due', 'situcion', 'pass', 'countri', 'make', 'refund', 'howev', 'notifi', 'happen', 'greet', 'hello', 'name', 'emildr', 'tower', 'buy', 'phone', 'provid', 'one', 'get', 'bad', 'light', 'due', 'situcion', 'pass', 'countri', 'make', 'refund', 'howev', 'notifi', 'happen', 'greet', 'hello', 'name', 'emildr', 'tower', 'buy', 'phone', 'provid', 'one', 'get', 'bad', 'light', 'due', 'situcion', 'pass', 'countri', 'make', 'refund', 'howev', 'notifi', 'happen', 'greet', 'hello', 'name', 'emildr', 'tower', 'buy', 'phone', 'provid', 'one', 'get', 'bad', 'light', 'due', 'situcion', 'pass', 'countri', 'make', 'refund', 'howev', 'notifi', 'happen', 'greet', 'hello', 'name', 'emildr', 'tower', 'buy', 'phone', 'provid', 'one', 'get', 'bad', 'light', 'due', 'situcion', 'pass', 'countri', 'make', 'refund', 'howev', 'notifi', 'happen', 'greet', 'hello', 'name', 'emildr', 'tower', 'buy', 'phone', 'provid', 'one', 'get', 'bad', 'light', 'due', 'situcion', 'pass', 'countri', 'make', 'refund', 'howev', 'notifi', 'happen', 'greet', 'hello', 'name', 'emildr', 'tower', 'buy', 'phone', 'provid', 'one', 'get', 'bad', 'light', 'due', 'situcion', 'pass', 'countri', 'make', 'refund', 'howev', 'notifi', 'happen', 'greet', 'hello', 'name', 'emildr', 'tower', 'buy', 'phone', 'provid', 'one', 'get', 'bad', 'light', 'due', 'situcion', 'pass', 'countri', 'make', 'refund', 'howev', 'notifi', 'happen', 'greet', 'hello', 'name', 'emildr', 'tower', 'buy', 'phone', 'provid', 'one', 'get', 'bad', 'light', 'due', 'situcion', 'pass', 'countri', 'make', 'refund', 'howev', 'notifi', 'happen', 'greet', 'hello', 'name', 'emildr', 'tower', 'buy', 'phone', 'provid', 'one', 'get', 'bad', 'light', 'due', 'situcion', 'pass', 'countri', 'make', 'refund', 'howev', 'notifi', 'happen', 'greet', 'hello', 'name', 'emildr', 'tower', 'buy', 'phone', 'provid', 'one', 'get', 'bad', 'light', 'due', 'situcion', 'pass', 'countri', 'make', 'refund', 'howev', 'notifi', 'happen', 'greet', 'hello', 'name', 'emildr', 'tower', 'buy', 'phone', 'provid', 'one', 'get', 'bad', 'light', 'due', 'situcion', 'pass', 'countri', 'make', 'refund', 'howev', 'notifi', 'happen', 'greet', 'hello', 'name', 'emildr', 'tower', 'buy', 'phone', 'provid', 'one', 'get', 'bad', 'light', 'due', 'situcion', 'pass', 'countri', 'make', 'refund', 'howev', 'notifi', 'happen', 'greet', 'hello', 'name', 'emildr', 'tower', 'buy', 'phone', 'provid', 'one', 'get', 'bad', 'light', 'due', 'situcion', 'pass', 'countri', 'make', 'refund', 'howev', 'notifi', 'happen', 'greet', 'hello', 'name', 'emildr', 'tower', 'buy', 'phone', 'provid', 'one', 'get', 'bad', 'light', 'due', 'situcion', 'pass', 'countri', 'make', 'refund', 'howev', 'notifi', 'happen', 'greet', 'hello', 'name', 'emildr', 'tower', 'buy', 'phone', 'provid', 'one', 'get', 'bad', 'light', 'due', 'situcion', 'pass', 'countri', 'make', 'refund', 'howev', 'notifi', 'happen', 'greet', 'hello', 'name', 'emildr', 'tower', 'buy', 'phone', 'provid', 'one', 'get', 'bad', 'light', 'due', 'situcion', 'pass', 'countri', 'make', 'refund', 'howev', 'notifi', 'happen', 'greet', 'hello', 'name', 'emildr', 'tower', 'buy', 'phone', 'provid', 'one', 'get', 'bad', 'light', 'due', 'situcion', 'pass', 'countri', 'make', 'refund', 'howev', 'notifi', 'happen', 'greet', 'hello', 'name', 'emildr', 'tower', 'buy', 'phone', 'provid', 'one', 'get', 'bad', 'light', 'due', 'situcion', 'pass', 'countri', 'make', 'refund', 'howev', 'notifi', 'happen', 'greet', 'hello', 'name', 'emildr', 'tower', 'buy', 'phone', 'provid', 'one', 'get', 'bad', 'light', 'due', 'situcion', 'pass', 'countri', 'make', 'refund', 'howev', 'notifi', 'happen', 'greet', 'hello', 'name', 'emildr', 'tower', 'buy', 'phone', 'provid', 'one', 'get', 'bad', 'light', 'due', 'situcion', 'pass', 'countri', 'make', 'refund', 'howev', 'notifi', 'happen', 'greet', 'hello', 'name', 'emildr', 'tower', 'buy', 'phone', 'provid', 'one', 'get', 'bad', 'light', 'due', 'situcion', 'pass', 'countri', 'make', 'refund', 'howev', 'notifi', 'happen', 'greet', 'hello', 'name', 'emildr', 'tower', 'buy', 'phone', 'provid', 'one', 'get', 'bad', 'light', 'due', 'situcion', 'pass', 'countri', 'make', 'refund', 'howev', 'notifi', 'happen', 'greet', 'hello', 'name', 'emildr', 'tower', 'buy', 'phone', 'provid', 'one', 'get', 'bad', 'light', 'due', 'situcion', 'pass', 'countri', 'make', 'refund', 'howev', 'notifi', 'happen', 'greet', 'hello', 'name', 'emildr', 'tower', 'buy', 'phone', 'provid', 'one', 'get', 'bad', 'light', 'due', 'situcion', 'pass', 'countri', 'make', 'refund', 'howev', 'notifi', 'happen', 'greet', 'hello', 'name', 'emildr', 'tower', 'buy', 'phone', 'provid', 'one', 'get', 'bad', 'light', 'due', 'situcion', 'pass', 'countri', 'make', 'refund', 'howev', 'notifi', 'happen', 'greet', 'hello', 'name', 'emildr', 'tower', 'buy', 'phone', 'provid', 'one', 'get', 'bad', 'light', 'due', 'situcion', 'pass', 'countri', 'make', 'refund', 'howev', 'notifi', 'happen', 'greet', 'hello', 'name', 'emildr', 'tower', 'buy', 'phone', 'provid', 'one', 'get', 'bad', 'light', 'due', 'situcion', 'pass', 'countri', 'make', 'refund', 'howev', 'notifi', 'happen', 'greet', 'hello', 'name', 'emildr', 'tower', 'buy', 'phone', 'provid', 'one', 'get', 'bad', 'light', 'due', 'situcion', 'pass', 'countri', 'make', 'refund', 'howev', 'notifi', 'happen', 'greet', 'hello', 'name', 'emildr', 'tower', 'buy', 'phone', 'provid', 'one', 'get', 'bad', 'light', 'due', 'situcion', 'pass', 'countri', 'make', 'refund', 'howev', 'notifi', 'happen', 'greet', 'hello', 'name', 'emildr', 'tower', 'buy', 'phone', 'provid', 'one', 'get', 'bad', 'light', 'due', 'situcion', 'pass', 'countri', 'make', 'refund', 'howev', 'notifi', 'happen', 'greet', 'hello', 'name', 'emildr', 'tower', 'buy', 'phone', 'provid', 'one', 'get', 'bad', 'light', 'due', 'situcion', 'pass', 'countri', 'make', 'refund', 'howev', 'notifi', 'happen', 'greet', 'hello', 'name', 'emildr', 'tower', 'buy', 'phone', 'provid', 'one', 'get', 'bad', 'light', 'due', 'situcion', 'pass', 'countri', 'make', 'refund', 'howev', 'notifi', 'happen', 'greet', 'hello', 'name', 'emildr', 'tower', 'buy', 'phone', 'provid', 'one', 'get', 'bad', 'light', 'due', 'situcion', 'pass', 'countri', 'make', 'refund', 'howev', 'notifi', 'happen', 'greet', 'hello', 'name', 'emildr', 'tower', 'buy', 'phone', 'provid', 'one', 'get', 'bad', 'light', 'due', 'situcion', 'pass', 'countri', 'make', 'refund', 'howev', 'notifi', 'happen', 'greet', 'hello', 'name', 'emildr', 'tower', 'buy', 'phone', 'provid', 'one', 'get', 'bad', 'light', 'due', 'situcion', 'pass', 'countri', 'make', 'refund', 'howev', 'notifi', 'happen', 'greet', 'hello', 'name', 'emildr', 'tower', 'buy', 'phone', 'provid', 'one', 'get', 'bad', 'light', 'due', 'situcion', 'pass', 'countri', 'make', 'refund', 'howev', 'notifi', 'happen', 'greet', 'hello', 'name', 'emildr', 'tower', 'buy', 'phone', 'provid', 'one', 'get', 'bad', 'light', 'due', 'situcion', 'pass', 'countri', 'make', 'refund', 'howev', 'notifi', 'happen', 'greet', 'hello', 'name', 'emildr', 'tower', 'buy', 'phone', 'provid', 'one', 'get', 'bad', 'light', 'due', 'situcion', 'pass', 'countri', 'make', 'refund', 'howev', 'notifi', 'happen', 'greet', 'hello', 'name', 'emildr', 'tower', 'buy', 'phone', 'provid', 'one', 'get', 'bad', 'light', 'due', 'situcion', 'pass', 'countri', 'make', 'refund', 'howev', 'notifi', 'happen', 'greet', 'hello', 'name', 'emildr', 'tower', 'buy', 'phone', 'provid', 'one', 'get', 'bad', 'light', 'due', 'situcion', 'pass', 'countri', 'make', 'refund', 'howev', 'notifi', 'happen', 'greet', 'hello', 'name', 'emildr', 'tower', 'buy', 'phone', 'provid', 'one', 'get', 'bad', 'light', 'due', 'situcion', 'pass', 'countri', 'make', 'refund', 'howev', 'notifi', 'happen', 'greet', 'hello', 'name', 'emildr', 'tower', 'buy', 'phone', 'provid', 'one', 'get', 'bad', 'light', 'due', 'situcion', 'pass', 'countri', 'make', 'refund', 'howev', 'notifi', 'happen', 'greet', 'hello', 'name', 'emildr', 'tower', 'buy', 'phone', 'provid', 'one', 'get', 'bad', 'light', 'due', 'situcion', 'pass', 'countri', 'make', 'refund', 'howev', 'notifi', 'happen', 'greet', 'hello', 'name', 'emildr', 'tower', 'buy', 'phone', 'provid', 'one', 'get', 'bad', 'light', 'due', 'situcion', 'pass', 'countri', 'make', 'refund', 'howev', 'notifi', 'happen', 'greet', 'hello', 'name', 'emildr', 'tower', 'buy', 'phone', 'provid', 'one', 'get', 'bad', 'light', 'due', 'situcion', 'pass', 'countri', 'make', 'refund', 'howev', 'notifi', 'happen', 'greet', 'hello', 'name', 'emildr', 'tower', 'buy', 'phone', 'provid', 'one', 'get', 'bad', 'light', 'due', 'situcion', 'pass', 'countri', 'make', 'refund', 'howev', 'notifi', 'happen', 'greet', 'hello', 'name', 'emildr', 'tower', 'buy', 'phone', 'provid', 'one', 'get', 'bad', 'light', 'due', 'situcion', 'pass', 'countri', 'make', 'refund', 'howev', 'notifi', 'happen', 'greet', 'hello', 'name', 'emildr', 'tower', 'buy', 'phone', 'provid', 'one', 'get', 'bad', 'light', 'due', 'situcion', 'pass', 'countri', 'make', 'refund', 'howev', 'notifi', 'happen', 'greet', 'hello', 'name', 'emildr', 'tower', 'buy', 'phone', 'provid', 'one', 'get', 'bad', 'light', 'due', 'situcion', 'pass', 'countri', 'make', 'refund', 'howev', 'notifi', 'happen', 'greet', 'hello', 'name', 'emildr', 'tower', 'buy', 'phone', 'provid', 'one', 'get', 'bad', 'light', 'due', 'situcion', 'pass', 'countri', 'make', 'refund', 'howev', 'notifi', 'happen', 'greet', 'hello', 'name', 'emildr', 'tower', 'buy', 'phone', 'provid', 'one', 'get', 'bad', 'light', 'due', 'situcion', 'pass', 'countri', 'make', 'refund', 'howev', 'notifi', 'happen', 'greet', 'hello', 'name', 'emildr', 'tower', 'buy', 'phone', 'provid', 'one', 'get', 'bad', 'light', 'due', 'situcion', 'pass', 'countri', 'make', 'refund', 'howev', 'notifi', 'happen', 'greet', 'hello', 'name', 'emildr', 'tower', 'buy', 'phone', 'provid', 'one', 'get', 'bad', 'light', 'due', 'situcion', 'pass', 'countri', 'make', 'refund', 'howev', 'notifi', 'happen', 'greet', 'hello', 'name', 'emildr', 'tower', 'buy', 'phone', 'provid', 'one', 'get', 'bad', 'light', 'due', 'situcion', 'pass', 'countri', 'make', 'refund', 'howev', 'notifi', 'happen', 'greet', 'hello', 'name', 'emildr', 'tower', 'buy', 'phone', 'provid', 'one', 'get', 'bad', 'light', 'due', 'situcion', 'pass', 'countri', 'make', 'refund', 'howev', 'notifi', 'happen', 'greet', 'hello', 'name', 'emildr', 'tower', 'buy', 'phone', 'provid', 'one', 'get', 'bad', 'light', 'due', 'situcion', 'pass', 'countri', 'make', 'refund', 'howev', 'notifi', 'happen', 'greet', 'hello', 'name', 'emildr', 'tower', 'buy', 'phone', 'provid', 'one', 'get', 'bad', 'light', 'due', 'situcion', 'pass', 'countri', 'make', 'refund', 'howev', 'notifi', 'happen', 'greet', 'hello', 'name', 'emildr', 'tower', 'buy', 'phone', 'provid', 'one', 'get', 'bad', 'light', 'due', 'situcion', 'pass', 'countri', 'make', 'refund', 'howev', 'notifi', 'happen', 'greet', 'hello', 'name', 'emildr', 'tower', 'buy', 'phone', 'provid', 'one', 'get', 'bad', 'light', 'due', 'situcion', 'pass', 'countri', 'make', 'refund', 'howev', 'notifi', 'happen', 'greet', 'hello', 'name', 'emildr', 'tower', 'buy', 'phone', 'provid', 'one', 'get', 'bad', 'light', 'due', 'situcion', 'pass', 'countri', 'make', 'refund', 'howev', 'notifi', 'happen', 'greet', 'hello', 'name', 'emildr', 'tower', 'buy', 'phone', 'provid', 'one', 'get', 'bad', 'light', 'due', 'situcion', 'pass', 'countri', 'make', 'refund', 'howev', 'notifi', 'happen', 'greet', 'hello', 'name', 'emildr', 'tower', 'buy', 'phone', 'provid', 'one', 'get', 'bad', 'light', 'due', 'situcion', 'pass', 'countri', 'make', 'refund', 'howev', 'notifi', 'happen', 'greet', 'hello', 'name', 'emildr', 'tower', 'buy', 'phone', 'provid', 'one', 'get', 'bad', 'light', 'due', 'situcion', 'pass', 'countri', 'make', 'refund', 'howev', 'notifi', 'happen', 'greet', 'hello', 'name', 'emildr', 'tower', 'buy', 'phone', 'provid', 'one', 'get', 'bad', 'light', 'due', 'situcion', 'pass', 'countri', 'make', 'refund', 'howev', 'notifi', 'happen', 'greet', 'hello', 'name', 'emildr', 'tower', 'buy', 'phone', 'provid', 'one', 'get', 'bad', 'light', 'due', 'situcion', 'pass', 'countri', 'make', 'refund', 'howev', 'notifi', 'happen', 'greet', 'hello', 'name', 'emildr', 'tower', 'buy', 'phone', 'provid', 'one', 'get', 'bad', 'light', 'due', 'situcion', 'pass', 'countri', 'make', 'refund', 'howev', 'notifi', 'happen', 'greet', 'hello', 'name', 'emildr', 'tower', 'buy', 'phone', 'provid', 'one', 'get', 'bad', 'light', 'due', 'situcion', 'pass', 'countri', 'make', 'refund', 'howev', 'notifi', 'happen', 'greet', 'hello', 'name', 'emildr', 'tower', 'buy', 'phone', 'provid', 'one', 'get', 'bad', 'light', 'due', 'situcion', 'pass', 'countri', 'make', 'refund', 'howev', 'notifi', 'happen', 'greet', 'hello', 'name', 'emildr', 'tower', 'buy', 'phone', 'provid', 'one', 'get', 'bad', 'light', 'due', 'situcion', 'pass', 'countri', 'make', 'refund', 'howev', 'notifi', 'happen', 'greet', 'hello', 'name', 'emildr', 'tower', 'buy', 'phone', 'provid', 'one', 'get', 'bad', 'light', 'due', 'situcion', 'pass', 'countri', 'make', 'refund', 'howev', 'notifi', 'happen', 'greet', 'hello', 'name', 'emildr', 'tower', 'buy', 'phone', 'provid', 'one', 'get', 'bad', 'light', 'due', 'situcion', 'pass', 'countri', 'make', 'refund', 'howev', 'notifi', 'happen', 'greet', 'hello', 'name', 'emildr', 'tower', 'buy', 'phone', 'provid', 'one', 'get', 'bad', 'light', 'due', 'situcion', 'pass', 'countri', 'make', 'refund', 'howev', 'notifi', 'happen', 'greet', 'hello', 'name', 'emildr', 'tower', 'buy', 'phone', 'provid', 'one', 'get', 'bad', 'light', 'due', 'situcion', 'pass', 'countri', 'make', 'refund', 'howev', 'notifi', 'happen', 'greet', 'hello', 'name', 'emildr', 'tower', 'buy', 'phone', 'provid', 'one', 'get', 'bad', 'light', 'due', 'situcion', 'pass', 'countri', 'make', 'refund', 'howev', 'notifi', 'happen', 'greet', 'hello', 'name', 'emildr', 'tower', 'buy', 'phone', 'provid', 'one', 'get', 'bad', 'light', 'due', 'situcion', 'pass', 'countri', 'make', 'refund', 'howev', 'notifi', 'happen', 'greet', 'hello', 'name', 'emildr', 'tower', 'buy', 'phone', 'provid', 'one', 'get', 'bad', 'light', 'due', 'situcion', 'pass', 'countri', 'make', 'refund', 'howev', 'notifi', 'happen', 'greet', 'hello', 'name', 'emildr', 'tower', 'buy', 'phone', 'provid', 'one', 'get', 'bad', 'light', 'due', 'situcion', 'pass', 'countri', 'make', 'refund', 'howev', 'notifi', 'happen', 'greet', 'hello', 'name', 'emildr', 'tower', 'buy', 'phone', 'provid', 'one', 'get', 'bad', 'light', 'due', 'situcion', 'pass', 'countri', 'make', 'refund', 'howev', 'notifi', 'happen', 'greet', 'hello', 'name', 'emildr', 'tower', 'buy', 'phone', 'provid', 'one', 'get', 'bad', 'light', 'due', 'situcion', 'pass', 'countri', 'make', 'refund', 'howev', 'notifi', 'happen', 'greet', 'hello', 'name', 'emildr', 'tower', 'buy', 'phone', 'provid', 'one', 'get', 'bad', 'light', 'due', 'situcion', 'pass', 'countri', 'make', 'refund', 'howev', 'notifi', 'happen', 'greet', 'hello', 'name', 'emildr', 'tower', 'buy', 'phone', 'provid', 'one', 'get', 'bad', 'light', 'due', 'situcion', 'pass', 'countri', 'make', 'refund', 'howev', 'notifi', 'happen', 'greet', 'hello', 'name', 'emildr', 'tower', 'buy', 'phone', 'provid', 'one', 'get', 'bad', 'light', 'due', 'situcion', 'pass', 'countri', 'make', 'refund', 'howev', 'notifi', 'happen', 'greet', 'hello', 'name', 'emildr', 'tower', 'buy', 'phone', 'provid', 'one', 'get', 'bad', 'light', 'due', 'situcion', 'pass', 'countri', 'make', 'refund', 'howev', 'notifi', 'happen', 'greet', 'hello', 'name', 'emildr', 'tower', 'buy', 'phone', 'provid', 'one', 'get', 'bad', 'light', 'due', 'situcion', 'pass', 'countri', 'make', 'refund', 'howev', 'notifi', 'happen', 'greet', 'hello', 'name', 'emildr', 'tower', 'buy', 'phone', 'provid', 'one', 'get', 'bad', 'light', 'due', 'situcion', 'pass', 'countri', 'make', 'refund', 'howev', 'notifi', 'happen', 'greet', 'hello', 'name', 'emildr', 'tower', 'buy', 'phone', 'provid', 'one', 'get', 'bad', 'light', 'due', 'situcion', 'pass', 'countri', 'make', 'refund', 'howev', 'notifi', 'happen', 'greet', 'hello', 'name', 'emildr', 'tower', 'buy', 'phone', 'provid', 'one', 'get', 'bad', 'light', 'due', 'situcion', 'pass', 'countri', 'make', 'refund', 'howev', 'notifi', 'happen', 'greet', 'hello', 'name', 'emildr', 'tower', 'buy', 'phone', 'provid', 'one', 'get', 'bad', 'light', 'due', 'situcion', 'pass', 'countri', 'make', 'refund', 'howev', 'notifi', 'happen', 'greet', 'hello', 'name', 'emildr', 'tower', 'buy', 'phone', 'provid', 'one', 'get', 'bad', 'light', 'due', 'situcion', 'pass', 'countri', 'make', 'refund', 'howev', 'notifi', 'happen', 'greet', 'hello', 'name', 'emildr', 'tower', 'buy', 'phone', 'provid', 'one', 'get', 'bad', 'light', 'due', 'situcion', 'pass', 'countri', 'make', 'refund', 'howev', 'notifi', 'happen', 'greet', 'hello', 'name', 'emildr', 'tower', 'buy', 'phone', 'provid', 'one', 'get', 'bad', 'light', 'due', 'situcion', 'pass', 'countri', 'make', 'refund', 'howev', 'notifi', 'happen', 'greet', 'hello', 'name', 'emildr', 'tower', 'buy', 'phone', 'provid', 'one', 'get', 'bad', 'light', 'due', 'situcion', 'pass', 'countri', 'make', 'refund', 'howev', 'notifi', 'happen', 'greet', 'hello', 'name', 'emildr', 'tower', 'buy', 'phone', 'provid', 'one', 'get', 'bad', 'light', 'due', 'situcion', 'pass', 'countri', 'make', 'refund', 'howev', 'notifi', 'happen', 'greet', 'hello', 'name', 'emildr', 'tower', 'buy', 'phone', 'provid', 'one', 'get', 'bad', 'light', 'due', 'situcion', 'pass', 'countri', 'make', 'refund', 'howev', 'notifi', 'happen', 'greet', 'hello', 'name', 'emildr', 'tower', 'buy', 'phone', 'provid', 'one', 'get', 'bad', 'light', 'due', 'situcion', 'pass', 'countri', 'make', 'refund', 'howev', 'notifi', 'happen', 'greet', 'hello', 'name', 'emildr', 'tower', 'buy', 'phone', 'provid', 'one', 'get', 'bad', 'light', 'due', 'situcion', 'pass', 'countri', 'make', 'refund', 'howev', 'notifi', 'happen', 'greet', 'hello', 'name', 'emildr', 'tower', 'buy', 'phone', 'provid', 'one', 'get', 'bad', 'light', 'due', 'situcion', 'pass', 'countri', 'make', 'refund', 'howev', 'notifi', 'happen', 'greet', 'hello', 'name', 'emildr', 'tower', 'buy', 'phone', 'provid', 'one', 'get', 'bad', 'light', 'due', 'situcion', 'pass', 'countri', 'make', 'refund', 'howev', 'notifi', 'happen', 'greet', 'hello', 'name', 'emildr', 'tower', 'buy', 'phone', 'provid', 'one', 'get', 'bad', 'light', 'due', 'situcion', 'pass', 'countri', 'make', 'refund', 'howev', 'notifi', 'happen', 'greet', 'hello', 'name', 'emildr', 'tower', 'buy', 'phone', 'provid', 'one', 'get', 'bad', 'light', 'due', 'situcion', 'pass', 'countri', 'make', 'refund', 'howev', 'notifi', 'happen', 'greet', 'hello', 'name', 'emildr', 'tower', 'buy', 'phone', 'provid', 'one', 'get', 'bad', 'light', 'due', 'situcion', 'pass', 'countri', 'make', 'refund', 'howev', 'notifi', 'happen', 'greet', 'hello', 'name', 'emildr', 'tower', 'buy', 'phone', 'provid', 'one', 'get', 'bad', 'light', 'due', 'situcion', 'pass', 'countri', 'make', 'refund', 'howev', 'notifi', 'happen', 'greet', 'hello', 'name', 'emildr', 'tower', 'buy', 'phone', 'provid', 'one', 'get', 'bad', 'light', 'due', 'situcion', 'pass', 'countri', 'make', 'refund', 'howev', 'notifi', 'happen', 'greet', 'hello', 'name', 'emildr', 'tower', 'buy', 'phone', 'provid', 'one', 'get', 'bad', 'light', 'due', 'situcion', 'pass', 'countri', 'make', 'refund', 'howev', 'notifi', 'happen', 'greet', 'hello', 'name', 'emildr', 'tower', 'buy', 'phone', 'provid', 'one', 'get', 'bad', 'light', 'due', 'situcion', 'pass', 'countri', 'make', 'refund', 'howev', 'notifi', 'happen', 'greet', 'hello', 'name', 'emildr', 'tower', 'buy', 'phone', 'provid', 'one', 'get', 'bad', 'light', 'due', 'situcion', 'pass', 'countri', 'make', 'refund', 'howev', 'notifi', 'happen', 'greet', 'hello', 'name', 'emildr', 'tower', 'buy', 'phone', 'provid', 'one', 'get', 'bad', 'light', 'due', 'situcion', 'pass', 'countri', 'make', 'refund', 'howev', 'notifi', 'happen', 'greet', 'hello', 'name', 'emildr', 'tower', 'buy', 'phone', 'provid', 'one', 'get', 'bad', 'light', 'due', 'situcion', 'pass', 'countri', 'make', 'refund', 'howev', 'notifi', 'happen', 'greet', 'hello', 'name', 'emildr', 'tower', 'buy', 'phone', 'provid', 'one', 'get', 'bad', 'light', 'due', 'situcion', 'pass', 'countri', 'make', 'refund', 'howev', 'notifi', 'happen', 'greet', 'hello', 'name', 'emildr', 'tower', 'buy', 'phone', 'provid', 'one', 'get', 'bad', 'light', 'due', 'situcion', 'pass', 'countri', 'make', 'refund', 'howev', 'notifi', 'happen', 'greet', 'hello', 'name', 'emildr', 'tower', 'buy', 'phone', 'provid', 'one', 'get', 'bad', 'light', 'due', 'situcion', 'pass', 'countri', 'make', 'refund', 'howev', 'notifi', 'happen', 'greet', 'hello', 'name', 'emildr', 'tower', 'buy', 'phone', 'provid', 'one', 'get', 'bad', 'light', 'due', 'situcion', 'pass', 'countri', 'make', 'refund', 'howev', 'notifi', 'happen', 'greet', 'hello', 'name', 'emildr', 'tower', 'buy', 'phone', 'provid', 'one', 'get', 'bad', 'light', 'due', 'situcion', 'pass', 'countri', 'make', 'refund', 'howev', 'notifi', 'happen', 'greet', 'hello', 'name', 'emildr', 'tower', 'buy', 'phone', 'provid', 'one', 'get', 'bad', 'light', 'due', 'situcion', 'pass', 'countri', 'make', 'refund', 'howev', 'notifi', 'happen', 'greet', 'hello', 'name', 'emildr', 'tower', 'buy', 'phone', 'provid', 'one', 'get', 'bad', 'light', 'due', 'situcion', 'pass', 'countri', 'make', 'refund', 'howev', 'notifi', 'happen', 'greet', 'hello', 'name', 'emildr', 'tower', 'buy', 'phone', 'provid', 'one', 'get', 'bad', 'light', 'due', 'situcion', 'pass', 'countri', 'make', 'refund', 'howev', 'notifi', 'happen', 'greet', 'hello', 'name', 'emildr', 'tower', 'buy', 'phone', 'provid', 'one', 'get', 'bad', 'light', 'due', 'situcion', 'pass', 'countri', 'make', 'refund', 'howev', 'notifi', 'happen', 'greet', 'hello', 'name', 'emildr', 'tower', 'buy', 'phone', 'provid', 'one', 'get', 'bad', 'light', 'due', 'situcion', 'pass', 'countri', 'make', 'refund', 'howev', 'notifi', 'happen', 'greet', 'hello', 'name', 'emildr', 'tower', 'buy', 'phone', 'provid', 'one', 'get', 'bad', 'light', 'due', 'situcion', 'pass', 'countri', 'make', 'refund', 'howev', 'notifi', 'happen', 'greet', 'hello', 'name', 'emildr', 'tower', 'buy', 'phone', 'provid', 'one', 'get', 'bad', 'light', 'due', 'situcion', 'pass', 'countri', 'make', 'refund', 'howev', 'notifi', 'happen', 'greet', 'hello', 'name', 'emildr', 'tower', 'buy', 'phone', 'provid', 'one', 'get', 'bad', 'light', 'due', 'situcion', 'pass', 'countri', 'make', 'refund', 'howev', 'notifi', 'happen', 'greet', 'hello', 'name', 'emildr', 'tower', 'buy', 'phone', 'provid', 'one', 'get', 'bad', 'light', 'due', 'situcion', 'pass', 'countri', 'make', 'refund', 'howev', 'notifi', 'happen', 'greet', 'hello', 'name', 'emildr', 'tower', 'buy', 'phone', 'provid', 'one', 'get', 'bad', 'light', 'due', 'situcion', 'pass', 'countri', 'make', 'refund', 'howev', 'notifi', 'happen', 'greet', 'hello', 'name', 'emildr', 'tower', 'buy', 'phone', 'provid', 'one', 'get', 'bad', 'light', 'due', 'situcion', 'pass', 'countri', 'make', 'refund', 'howev', 'notifi', 'happen', 'greet', 'hello', 'name', 'emildr', 'tower', 'buy', 'phone', 'provid', 'one', 'get', 'bad', 'light', 'due', 'situcion', 'pass', 'countri', 'make', 'refund', 'howev', 'notifi', 'happen', 'greet', 'hello', 'name', 'emildr', 'tower', 'buy', 'phone', 'provid', 'one', 'get', 'bad', 'light', 'due', 'situcion', 'pass', 'countri', 'make', 'refund', 'howev', 'notifi', 'happen', 'greet', 'hello', 'name', 'emildr', 'tower', 'buy', 'phone', 'provid', 'one', 'get', 'bad', 'light', 'due', 'situcion', 'pass', 'countri', 'make', 'refund', 'howev', 'notifi', 'happen', 'greet', 'hello', 'name', 'emildr', 'tower', 'buy', 'phone', 'provid', 'one', 'get', 'bad', 'light', 'due', 'situcion', 'pass', 'countri', 'make', 'refund', 'howev', 'notifi', 'happen', 'greet', 'hello', 'name', 'emildr', 'tower', 'buy', 'phone', 'provid', 'one', 'get', 'bad', 'light', 'due', 'situcion', 'pass', 'countri', 'make', 'refund', 'howev', 'notifi', 'happen', 'greet', 'hello', 'name', 'emildr', 'tower', 'buy', 'phone', 'provid', 'one', 'get', 'bad', 'light', 'due', 'situcion', 'pass', 'countri', 'make', 'refund', 'howev', 'notifi', 'happen', 'greet', 'hello', 'name', 'emildr', 'tower', 'buy', 'phone', 'provid', 'one', 'get', 'bad', 'light', 'due', 'situcion', 'pass', 'countri', 'make', 'refund', 'howev', 'notifi', 'happen', 'greet', 'hello', 'name', 'emildr', 'tower', 'buy', 'phone', 'provid', 'one', 'get', 'bad', 'light', 'due', 'situcion', 'pass', 'countri', 'make', 'refund', 'howev', 'notifi', 'happen', 'greet', 'hello', 'name', 'emildr', 'tower', 'buy', 'phone', 'provid', 'one', 'get', 'bad', 'light', 'due', 'situcion', 'pass', 'countri', 'make', 'refund', 'howev', 'notifi', 'happen', 'greet', 'hello', 'name', 'emildr', 'tower', 'buy', 'phone', 'provid', 'one', 'get', 'bad', 'light', 'due', 'situcion', 'pass', 'countri', 'make', 'refund', 'howev', 'notifi', 'happen', 'greet', 'hello', 'name', 'emildr', 'tower', 'buy', 'phone', 'provid', 'one', 'get', 'bad', 'light', 'due', 'situcion', 'pass', 'countri', 'make', 'refund', 'howev', 'notifi', 'happen', 'greet', 'hello', 'name', 'emildr', 'tower', 'buy', 'phone', 'provid', 'one', 'get', 'bad', 'light', 'due', 'situcion', 'pass', 'countri', 'make', 'refund', 'howev', 'notifi', 'happen', 'greet', 'hello', 'name', 'emildr', 'tower', 'buy', 'phone', 'provid', 'one', 'get', 'bad', 'light', 'due', 'situcion', 'pass', 'countri', 'make', 'refund', 'howev', 'notifi', 'happen', 'greet', 'hello', 'name', 'emildr', 'tower', 'buy', 'phone', 'provid', 'one', 'get', 'bad', 'light', 'due', 'situcion', 'pass', 'countri', 'make', 'refund', 'howev', 'notifi', 'happen', 'greet', 'hello', 'name', 'emildr', 'tower', 'buy', 'phone', 'provid', 'one', 'get', 'bad', 'light', 'due', 'situcion', 'pass', 'countri', 'make', 'refund', 'howev', 'notifi', 'happen', 'greet', 'hello', 'name', 'emildr', 'tower', 'buy', 'phone', 'provid', 'one', 'get', 'bad', 'light', 'due', 'situcion', 'pass', 'countri', 'make', 'refund', 'howev', 'notifi', 'happen', 'greet', 'hello', 'name', 'emildr', 'tower', 'buy', 'phone', 'provid', 'one', 'get', 'bad', 'light', 'due', 'situcion', 'pass', 'countri', 'make', 'refund', 'howev', 'notifi', 'happen', 'greet', 'hello', 'name', 'emildr', 'tower', 'buy', 'phone', 'provid', 'one', 'get', 'bad', 'light', 'due', 'situcion', 'pass', 'countri', 'make', 'refund', 'howev', 'notifi', 'happen', 'greet', 'hello', 'name', 'emildr', 'tower', 'buy', 'phone', 'provid', 'one', 'get', 'bad', 'light', 'due', 'situcion', 'pass', 'countri', 'make', 'refund', 'howev', 'notifi', 'happen', 'greet', 'hello', 'name', 'emildr', 'tower', 'buy', 'phone', 'provid', 'one', 'get', 'bad', 'light', 'due', 'situcion', 'pass', 'countri', 'make', 'refund', 'howev', 'notifi', 'happen', 'greet', 'hello', 'name', 'emildr', 'tower', 'buy', 'phone', 'provid', 'one', 'get', 'bad', 'light', 'due', 'situcion', 'pass', 'countri', 'make', 'refund', 'howev', 'notifi', 'happen', 'greet', 'hello', 'name', 'emildr', 'tower', 'buy', 'phone', 'provid', 'one', 'get', 'bad', 'light', 'due', 'situcion', 'pass', 'countri', 'make', 'refund', 'howev', 'notifi', 'happen', 'greet', 'hello', 'name', 'emildr', 'tower', 'buy', 'phone', 'provid', 'one', 'get', 'bad', 'light', 'due', 'situcion', 'pass', 'countri', 'make', 'refund', 'howev', 'notifi', 'happen', 'greet', 'hello', 'name', 'emildr', 'tower', 'buy', 'phone', 'provid', 'one', 'get', 'bad', 'light', 'due', 'situcion', 'pass', 'countri', 'make', 'refund', 'howev', 'notifi', 'happen', 'greet', 'hello', 'name', 'emildr', 'tower', 'buy', 'phone', 'provid', 'one', 'get', 'bad', 'light', 'due', 'situcion', 'pass', 'countri', 'make', 'refund', 'howev', 'notifi', 'happen', 'greet', 'hello', 'name', 'emildr', 'tower', 'buy', 'phone', 'provid', 'one', 'get', 'bad', 'light', 'due', 'situcion', 'pass', 'countri', 'make', 'refund', 'howev', 'notifi', 'happen', 'greet', 'hello', 'name', 'emildr', 'tower', 'buy', 'phone', 'provid', 'one', 'get', 'bad', 'light', 'due', 'situcion', 'pass', 'countri', 'make', 'refund', 'howev', 'notifi', 'happen', 'greet', 'hello', 'name', 'emildr', 'tower', 'buy', 'phone', 'provid', 'one', 'get', 'bad', 'light', 'due', 'situcion', 'pass', 'countri', 'make', 'refund', 'howev', 'notifi', 'happen', 'greet', 'hello', 'name', 'emildr', 'tower', 'buy', 'phone', 'provid', 'one', 'get', 'bad', 'light', 'due', 'situcion', 'pass', 'countri', 'make', 'refund', 'howev', 'notifi', 'happen', 'greet', 'hello', 'name', 'emildr', 'tower', 'buy', 'phone', 'provid', 'one', 'get', 'bad', 'light', 'due', 'situcion', 'pass', 'countri', 'make', 'refund', 'howev', 'notifi', 'happen', 'greet', 'hello', 'name', 'emildr', 'tower', 'buy', 'phone', 'provid', 'one', 'get', 'bad', 'light', 'due', 'situcion', 'pass', 'countri', 'make', 'refund', 'howev', 'notifi', 'happen', 'greet', 'hello', 'name', 'emildr', 'tower', 'buy', 'phone', 'provid', 'one', 'get', 'bad', 'light', 'due', 'situcion', 'pass', 'countri', 'make', 'refund', 'howev', 'notifi', 'happen', 'greet', 'hello', 'name', 'emildr', 'tower', 'buy', 'phone', 'provid', 'one', 'get', 'bad', 'light', 'due', 'situcion', 'pass', 'countri', 'make', 'refund', 'howev', 'notifi', 'happen', 'greet', 'hello', 'name', 'emildr', 'tower', 'buy', 'phone', 'provid', 'one', 'get', 'bad', 'light', 'due', 'situcion', 'pass', 'countri', 'make', 'refund', 'howev', 'notifi', 'happen', 'greet', 'hello', 'name', 'emildr', 'tower', 'buy', 'phone', 'provid', 'one', 'get', 'bad', 'light', 'due', 'situcion', 'pass', 'countri', 'make', 'refund', 'howev', 'notifi', 'happen', 'greet', 'hello', 'name', 'emildr', 'tower', 'buy', 'phone', 'provid', 'one', 'get', 'bad', 'light', 'due', 'situcion', 'pass', 'countri', 'make', 'refund', 'howev', 'notifi', 'happen', 'greet', 'hello', 'name', 'emildr', 'tower', 'buy', 'phone', 'provid', 'one', 'get', 'bad', 'light', 'due', 'situcion', 'pass', 'countri', 'make', 'refund', 'howev', 'notifi', 'happen', 'greet', 'hello', 'name', 'emildr', 'tower', 'buy', 'phone', 'provid', 'one', 'get', 'bad', 'light', 'due', 'situcion', 'pass', 'countri', 'make', 'refund', 'howev', 'notifi', 'happen', 'greet', 'hello', 'name', 'emildr', 'tower', 'buy', 'phone', 'provid', 'one', 'get', 'bad', 'light', 'due', 'situcion', 'pass', 'countri', 'make', 'refund', 'howev', 'notifi', 'happen', 'greet', 'hello', 'name', 'emildr', 'tower', 'buy', 'phone', 'provid', 'one', 'get', 'bad', 'light', 'due', 'situcion', 'pass', 'countri', 'make', 'refund', 'howev', 'notifi', 'happen', 'greet', 'hello', 'name', 'emildr', 'tower', 'buy', 'phone', 'provid', 'one', 'get', 'bad', 'light', 'due', 'situcion', 'pass', 'countri', 'make', 'refund', 'howev', 'notifi', 'happen', 'greet', 'hello', 'name', 'emildr', 'tower', 'buy', 'phone', 'provid', 'one', 'get', 'bad', 'light', 'due', 'situcion', 'pass', 'countri', 'make', 'refund', 'howev', 'notifi', 'happen', 'greet', 'hello', 'name', 'emildr', 'tower', 'buy', 'phone', 'provid', 'one', 'get', 'bad', 'light', 'due', 'situcion', 'pass', 'countri', 'make', 'refund', 'howev', 'notifi', 'happen', 'greet', 'hello', 'name', 'emildr', 'tower', 'buy', 'phone', 'provid', 'one', 'get', 'bad', 'light', 'due', 'situcion', 'pass', 'countri', 'make', 'refund', 'howev', 'notifi', 'happen', 'greet', 'hello', 'name', 'emildr', 'tower', 'buy', 'phone', 'provid', 'one', 'get', 'bad', 'light', 'due', 'situcion', 'pass', 'countri', 'make', 'refund', 'howev', 'notifi', 'happen', 'greet', 'hello', 'name', 'emildr', 'tower', 'buy', 'phone', 'provid', 'one', 'get', 'bad', 'light', 'due', 'situcion', 'pass', 'countri', 'make', 'refund', 'howev', 'notifi', 'happen', 'greet', 'hello', 'name', 'emildr', 'tower', 'buy', 'phone', 'provid', 'one', 'get', 'bad', 'light', 'due', 'situcion', 'pass', 'countri', 'make', 'refund', 'howev', 'notifi', 'happen', 'greet', 'hello', 'name', 'emildr', 'tower', 'buy', 'phone', 'provid', 'one', 'get', 'bad', 'light', 'due', 'situcion', 'pass', 'countri', 'make', 'refund', 'howev', 'notifi', 'happen', 'greet', 'hello', 'name', 'emildr', 'tower', 'buy', 'phone', 'provid', 'one', 'get', 'bad', 'light', 'due', 'situcion', 'pass', 'countri', 'make', 'refund', 'howev', 'notifi', 'happen', 'greet', 'hello', 'name', 'emildr', 'tower', 'buy', 'phone', 'provid', 'one', 'get', 'bad', 'light', 'due', 'situcion', 'pass', 'countri', 'make', 'refund', 'howev', 'notifi', 'happen', 'greet', 'hello', 'name', 'emildr', 'tower', 'buy', 'phone', 'provid', 'one', 'get', 'bad', 'light', 'due', 'situcion', 'pass', 'countri', 'make', 'refund', 'howev', 'notifi', 'happen', 'greet', 'hello', 'name', 'emildr', 'tower', 'buy', 'phone', 'provid', 'one', 'get', 'bad', 'light', 'due', 'situcion', 'pass', 'countri', 'make', 'refund', 'howev', 'notifi', 'happen', 'greet', 'hello', 'name', 'emildr', 'tower', 'buy', 'phone', 'provid', 'one', 'get', 'bad', 'light', 'due', 'situcion', 'pass', 'countri', 'make', 'refund', 'howev', 'notifi', 'happen', 'greet', 'hello', 'name', 'emildr', 'tower', 'buy', 'phone', 'provid', 'one', 'get', 'bad', 'light', 'due', 'situcion', 'pass', 'countri', 'make', 'refund', 'howev', 'notifi', 'happen', 'greet', 'hello', 'name', 'emildr', 'tower', 'buy', 'phone', 'provid', 'one', 'get', 'bad', 'light', 'due', 'situcion', 'pass', 'countri', 'make', 'refund', 'howev', 'notifi', 'happen', 'greet', 'hello', 'name', 'emildr', 'tower', 'buy', 'phone', 'provid', 'one', 'get', 'bad', 'light', 'due', 'situcion', 'pass', 'countri', 'make', 'refund', 'howev', 'notifi', 'happen', 'greet', 'hello', 'name', 'emildr', 'tower', 'buy', 'phone', 'provid', 'one', 'get', 'bad', 'light', 'due', 'situcion', 'pass', 'countri', 'make', 'refund', 'howev', 'notifi', 'happen', 'greet', 'hello', 'name', 'emildr', 'tower', 'buy', 'phone', 'provid', 'one', 'get', 'bad', 'light', 'due', 'situcion', 'pass', 'countri', 'make', 'refund', 'howev', 'notifi', 'happen', 'greet', 'hello', 'name', 'emildr', 'tower', 'buy', 'phone', 'provid', 'one', 'get', 'bad', 'light', 'due', 'situcion', 'pass', 'countri', 'make', 'refund', 'howev', 'notifi', 'happen', 'greet', 'hello', 'name', 'emildr', 'tower', 'buy', 'phone', 'provid', 'one', 'get', 'bad', 'light', 'due', 'situcion', 'pass', 'countri', 'make', 'refund', 'howev', 'notifi', 'happen', 'greet', 'hello', 'name', 'emildr', 'tower', 'buy', 'phone', 'provid', 'one', 'get', 'bad', 'light', 'due', 'situcion', 'pass', 'countri', 'make', 'refund', 'howev', 'notifi', 'happen', 'greet', 'hello', 'name', 'emildr', 'tower', 'buy', 'phone', 'provid', 'one', 'get', 'bad', 'light', 'due', 'situcion', 'pass', 'countri', 'make', 'refund', 'howev', 'notifi', 'happen', 'greet', 'hello', 'name', 'emildr', 'tower', 'buy', 'phone', 'provid', 'one', 'get', 'bad', 'light', 'due', 'situcion', 'pass', 'countri', 'make', 'refund', 'howev', 'notifi', 'happen', 'greet', 'hello', 'name', 'emildr', 'tower', 'buy', 'phone', 'provid', 'one', 'get', 'bad', 'light', 'due', 'situcion', 'pass', 'countri', 'make', 'refund', 'howev', 'notifi', 'happen', 'greet', 'hello', 'name', 'emildr', 'tower', 'buy', 'phone', 'provid', 'one', 'get', 'bad', 'light', 'due', 'situcion', 'pass', 'countri', 'make', 'refund', 'howev', 'notifi', 'happen', 'greet', 'hello', 'name', 'emildr', 'tower', 'buy', 'phone', 'provid', 'one', 'get', 'bad', 'light', 'due', 'situcion', 'pass', 'countri', 'make', 'refund', 'howev', 'notifi', 'happen', 'greet', 'hello', 'name', 'emildr', 'tower', 'buy', 'phone', 'provid', 'one', 'get', 'bad', 'light', 'due', 'situcion', 'pass', 'countri', 'make', 'refund', 'howev', 'notifi', 'happen', 'greet', 'hello', 'name', 'emildr', 'tower', 'buy', 'phone', 'provid', 'one', 'get', 'bad', 'light', 'due', 'situcion', 'pass', 'countri', 'make', 'refund', 'howev', 'notifi', 'happen', 'greet', 'hello', 'name', 'emildr', 'tower', 'buy', 'phone', 'provid', 'one', 'get', 'bad', 'light', 'due', 'situcion', 'pass', 'countri', 'make', 'refund', 'howev', 'notifi', 'happen', 'greet', 'hello', 'name', 'emildr', 'tower', 'buy', 'phone', 'provid', 'one', 'get', 'bad', 'light', 'due', 'situcion', 'pass', 'countri', 'make', 'refund', 'howev', 'notifi', 'happen', 'greet', 'hello', 'name', 'emildr', 'tower', 'buy', 'phone', 'provid', 'one', 'get', 'bad', 'light', 'due', 'situcion', 'pass', 'countri', 'make', 'refund', 'howev', 'notifi', 'happen', 'greet', 'hello', 'name', 'emildr', 'tower', 'buy', 'phone', 'provid', 'one', 'get', 'bad', 'light', 'due', 'situcion', 'pass', 'countri', 'make', 'refund', 'howev', 'notifi', 'happen', 'greet', 'hello', 'name', 'emildr', 'tower', 'buy', 'phone', 'provid', 'one', 'get', 'bad', 'light', 'due', 'situcion', 'pass', 'countri', 'make', 'refund', 'howev', 'notifi', 'happen', 'greet', 'hello', 'name', 'emildr', 'tower', 'buy', 'phone', 'provid', 'one', 'get', 'bad', 'light', 'due', 'situcion', 'pass', 'countri', 'make', 'refund', 'howev', 'notifi', 'happen', 'greet', 'hello', 'name', 'emildr', 'tower', 'buy', 'phone', 'provid', 'one', 'get', 'bad', 'light', 'due', 'situcion', 'pass', 'countri', 'make', 'refund', 'howev', 'notifi', 'happen', 'greet', 'hello', 'name', 'emildr', 'tower', 'buy', 'phone', 'provid', 'one', 'get', 'bad', 'light', 'due', 'situcion', 'pass', 'countri', 'make', 'refund', 'howev', 'notifi', 'happen', 'greet', 'hello', 'name', 'emildr', 'tower', 'buy', 'phone', 'provid', 'one', 'get', 'bad', 'light', 'due', 'situcion', 'pass', 'countri', 'make', 'refund', 'howev', 'notifi', 'happen', 'greet', 'hello', 'name', 'emildr', 'tower', 'buy', 'phone', 'provid', 'one', 'get', 'bad', 'light', 'due', 'situcion', 'pass', 'countri', 'make', 'refund', 'howev', 'notifi', 'happen', 'greet', 'hello', 'name', 'emildr', 'tower', 'buy', 'phone', 'provid', 'one', 'get', 'bad', 'light', 'due', 'situcion', 'pass', 'countri', 'make', 'refund', 'howev', 'notifi', 'happen', 'greet', 'hello', 'name', 'emildr', 'tower', 'buy', 'phone', 'provid', 'one', 'get', 'bad', 'light', 'due', 'situcion', 'pass', 'countri', 'make', 'refund', 'howev', 'notifi', 'happen', 'greet', 'hello', 'name', 'emildr', 'tower', 'buy', 'phone', 'provid', 'one', 'get', 'bad', 'light', 'due', 'situcion', 'pass', 'countri', 'make', 'refund', 'howev', 'notifi', 'happen', 'greet', 'hello', 'name', 'emildr', 'tower', 'buy', 'phone', 'provid', 'one', 'get', 'bad', 'light', 'due', 'situcion', 'pass', 'countri', 'make', 'refund', 'howev', 'notifi', 'happen', 'greet', 'hello', 'name', 'emildr', 'tower', 'buy', 'phone', 'provid', 'one', 'get', 'bad', 'light', 'due', 'situcion', 'pass', 'countri', 'make', 'refund', 'howev', 'notifi', 'happen', 'greet', 'hello', 'name', 'emildr', 'tower', 'buy', 'phone', 'provid', 'one', 'get', 'bad', 'light', 'due', 'situcion', 'pass', 'countri', 'make', 'refund', 'howev', 'notifi', 'happen', 'greet', 'hello', 'name', 'emildr', 'tower', 'buy', 'phone', 'provid', 'one', 'get', 'bad', 'light', 'due', 'situcion', 'pass', 'countri', 'make', 'refund', 'howev', 'notifi', 'happen', 'greet', 'hello', 'name', 'emildr', 'tower', 'buy', 'phone', 'provid', 'one', 'get', 'bad', 'light', 'due', 'situcion', 'pass', 'countri', 'make', 'refund', 'howev', 'notifi', 'happen', 'greet', 'hello', 'name', 'emildr', 'tower', 'buy', 'phone', 'provid', 'one', 'get', 'bad', 'light', 'due', 'situcion', 'pass', 'countri', 'make', 'refund', 'howev', 'notifi', 'happen', 'greet', 'hello', 'name', 'emildr', 'tower', 'buy', 'phone', 'provid', 'one', 'get', 'bad', 'light', 'due', 'situcion', 'pass', 'countri', 'make', 'refund', 'howev', 'notifi', 'happen', 'greet', 'hello', 'name', 'emildr', 'tower', 'buy', 'phone', 'provid', 'one', 'get', 'bad', 'light', 'due', 'situcion', 'pass', 'countri', 'make', 'refund', 'howev', 'notifi', 'happen', 'greet', 'hello', 'name', 'emildr', 'tower', 'buy', 'phone', 'provid', 'one', 'get', 'bad', 'light', 'due', 'situcion', 'pass', 'countri', 'make', 'refund', 'howev', 'notifi', 'happen', 'greet', 'hello', 'name', 'emildr', 'tower', 'buy', 'phone', 'provid', 'one', 'get', 'bad', 'light', 'due', 'situcion', 'pass', 'countri', 'make', 'refund', 'howev', 'notifi', 'happen', 'greet', 'hello', 'name', 'emildr', 'tower', 'buy', 'phone', 'provid', 'one', 'get', 'bad', 'light', 'due', 'situcion', 'pass', 'countri', 'make', 'refund', 'howev', 'notifi', 'happen', 'greet', 'hello', 'name', 'emildr', 'tower', 'buy', 'phone', 'provid', 'one', 'get', 'bad', 'light', 'due', 'situcion', 'pass', 'countri', 'make', 'refund', 'howev', 'notifi', 'happen', 'greet', 'hello', 'name', 'emildr', 'tower', 'buy', 'phone', 'provid', 'one', 'get', 'bad', 'light', 'due', 'situcion', 'pass', 'countri', 'make', 'refund', 'howev', 'notifi', 'happen', 'greet', 'hello', 'name', 'emildr', 'tower', 'buy', 'phone', 'provid', 'one', 'get', 'bad', 'light', 'due', 'situcion', 'pass', 'countri', 'make', 'refund', 'howev', 'notifi', 'happen', 'greet', 'hello', 'name', 'emildr', 'tower', 'buy', 'phone', 'provid', 'one', 'get', 'bad', 'light', 'due', 'situcion', 'pass', 'countri', 'make', 'refund', 'howev', 'notifi', 'happen', 'greet', 'hello', 'name', 'emildr', 'tower', 'buy', 'phone', 'provid', 'one', 'get', 'bad', 'light', 'due', 'situcion', 'pass', 'countri', 'make', 'refund', 'howev', 'notifi', 'happen', 'greet', 'hello', 'name', 'emildr', 'tower', 'buy', 'phone', 'provid', 'one', 'get', 'bad', 'light', 'due', 'situcion', 'pass', 'countri', 'make', 'refund', 'howev', 'notifi', 'happen', 'greet', 'hello', 'name', 'emildr', 'tower', 'buy', 'phone', 'provid', 'one', 'get', 'bad', 'light', 'due', 'situcion', 'pass', 'countri', 'make', 'refund', 'howev', 'notifi', 'happen', 'greet', 'hello', 'name', 'emildr', 'tower', 'buy', 'phone', 'provid', 'one', 'get', 'bad', 'light', 'due', 'situcion', 'pass', 'countri', 'make', 'refund', 'howev', 'notifi', 'happen', 'greet', 'hello', 'name', 'emildr', 'tower', 'buy', 'phone', 'provid', 'one', 'get', 'bad', 'light', 'due', 'situcion', 'pass', 'countri', 'make', 'refund', 'howev', 'notifi', 'happen', 'greet', 'hello', 'name', 'emildr', 'tower', 'buy', 'phone', 'provid', 'one', 'get', 'bad', 'light', 'due', 'situcion', 'pass', 'countri', 'make', 'refund', 'howev', 'notifi', 'happen', 'greet', 'hello', 'name', 'emildr', 'tower', 'buy', 'phone', 'provid', 'one', 'get', 'bad', 'light', 'due', 'situcion', 'pass', 'countri', 'make', 'refund', 'howev', 'notifi', 'happen', 'greet', 'hello', 'name', 'emildr', 'tower', 'buy', 'phone', 'provid', 'one', 'get', 'bad', 'light', 'due', 'situcion', 'pass', 'countri', 'make', 'refund', 'howev', 'notifi', 'happen', 'greet', 'hello', 'name', 'emildr', 'tower', 'buy', 'phone', 'provid', 'one', 'get', 'bad', 'light', 'due', 'situcion', 'pass', 'countri', 'make', 'refund', 'howev', 'notifi', 'happen', 'greet', 'hello', 'name', 'emildr', 'tower', 'buy', 'phone', 'provid', 'one', 'get', 'bad', 'light', 'due', 'situcion', 'pass', 'countri', 'make', 'refund', 'howev', 'notifi', 'happen', 'greet', 'hello', 'name', 'emildr', 'tower', 'buy', 'phone', 'provid', 'one', 'get', 'bad', 'light', 'due', 'situcion', 'pass', 'countri', 'make', 'refund', 'howev', 'notifi', 'happen', 'greet', 'hello', 'name', 'emildr', 'tower', 'buy', 'phone', 'provid', 'one', 'get', 'bad', 'light', 'due', 'situcion', 'pass', 'countri', 'make', 'refund', 'howev', 'notifi', 'happen', 'greet', 'hello', 'name', 'emildr', 'tower', 'buy', 'phone', 'provid', 'one', 'get', 'bad', 'light', 'due', 'situcion', 'pass', 'countri', 'make', 'refund', 'howev', 'notifi', 'happen', 'greet', 'hello', 'name', 'emildr', 'tower', 'buy', 'phone', 'provid', 'one', 'get', 'bad', 'light', 'due', 'situcion', 'pass', 'countri', 'make', 'refund', 'howev', 'notifi', 'happen', 'greet', 'hello', 'name', 'emildr', 'tower', 'buy', 'phone', 'provid', 'one', 'get', 'bad', 'light', 'due', 'situcion', 'pass', 'countri', 'make', 'refund', 'howev', 'notifi', 'happen', 'greet', 'hello', 'name', 'emildr', 'tower', 'buy', 'phone', 'provid', 'one', 'get', 'bad', 'light', 'due', 'situcion', 'pass', 'countri', 'make', 'refund', 'howev', 'notifi', 'happen', 'greet', 'hello', 'name', 'emildr', 'tower', 'buy', 'phone', 'provid', 'one', 'get', 'bad', 'light', 'due', 'situcion', 'pass', 'countri', 'make', 'refund', 'howev', 'notifi', 'happen', 'greet', 'hello', 'name', 'emildr', 'tower', 'buy', 'phone', 'provid', 'one', 'get', 'bad', 'light', 'due', 'situcion', 'pass', 'countri', 'make', 'refund', 'howev', 'notifi', 'happen', 'greet', 'hello', 'name', 'emildr', 'tower', 'buy', 'phone', 'provid', 'one', 'get', 'bad', 'light', 'due', 'situcion', 'pass', 'countri', 'make', 'refund', 'howev', 'notifi', 'happen', 'greet', 'hello', 'name', 'emildr', 'tower', 'buy', 'phone', 'provid', 'one', 'get', 'bad', 'light', 'due', 'situcion', 'pass', 'countri', 'make', 'refund', 'howev', 'notifi', 'happen', 'greet', 'hello', 'name', 'emildr', 'tower', 'buy', 'phone', 'provid', 'one', 'get', 'bad', 'light', 'due', 'situcion', 'pass', 'countri', 'make', 'refund', 'howev', 'notifi', 'happen', 'greet', 'hello', 'name', 'emildr', 'tower', 'buy', 'phone', 'provid', 'one', 'get', 'bad', 'light', 'due', 'situcion', 'pass', 'countri', 'make', 'refund', 'howev', 'notifi', 'happen', 'greet', 'hello', 'name', 'emildr', 'tower', 'buy', 'phone', 'provid', 'one', 'get', 'bad', 'light', 'due', 'situcion', 'pass', 'countri', 'make', 'refund', 'howev', 'notifi', 'happen', 'greet', 'hello', 'name', 'emildr', 'tower', 'buy', 'phone', 'provid', 'one', 'get', 'bad', 'light', 'due', 'situcion', 'pass', 'countri', 'make', 'refund', 'howev', 'notifi', 'happen', 'greet', 'hello', 'name', 'emildr', 'tower', 'buy', 'phone', 'provid', 'one', 'get', 'bad', 'light', 'due', 'situcion', 'pass', 'countri', 'make', 'refund', 'howev', 'notifi', 'happen', 'greet', 'hello', 'name', 'emildr', 'tower', 'buy', 'phone', 'provid', 'one', 'get', 'bad', 'light', 'due', 'situcion', 'pass', 'countri', 'make', 'refund', 'howev', 'notifi', 'happen', 'greet', 'hello', 'name', 'emildr', 'tower', 'buy', 'phone', 'provid', 'one', 'get', 'bad', 'light', 'due', 'situcion', 'pass', 'countri', 'make', 'refund', 'howev', 'notifi', 'happen', 'greet', 'hello', 'name', 'emildr', 'tower', 'buy', 'phone', 'provid', 'one', 'get', 'bad', 'light', 'due', 'situcion', 'pass', 'countri', 'make', 'refund', 'howev', 'notifi', 'happen', 'greet', 'hello', 'name', 'emildr', 'tower', 'buy', 'phone', 'provid', 'one', 'get', 'bad', 'light', 'due', 'situcion', 'pass', 'countri', 'make', 'refund', 'howev', 'notifi', 'happen', 'greet', 'hello', 'name', 'emildr', 'tower', 'buy', 'phone', 'provid', 'one', 'get', 'bad', 'light', 'due', 'situcion', 'pass', 'countri', 'make', 'refund', 'howev', 'notifi', 'happen', 'greet', 'hello', 'name', 'emildr', 'tower', 'buy', 'phone', 'provid', 'one', 'get', 'bad', 'light', 'due', 'situcion', 'pass', 'countri', 'make', 'refund', 'howev', 'notifi', 'happen', 'greet', 'hello', 'name', 'emildr', 'tower', 'buy', 'phone', 'provid', 'one', 'get', 'bad', 'light', 'due', 'situcion', 'pass', 'countri', 'make', 'refund', 'howev', 'notifi', 'happen', 'greet', 'hello', 'name', 'emildr', 'tower', 'buy', 'phone', 'provid', 'one', 'get', 'bad', 'light', 'due', 'situcion', 'pass', 'countri', 'make', 'refund', 'howev', 'notifi', 'happen', 'greet', 'hello', 'name', 'emildr', 'tower', 'buy', 'phone', 'provid', 'one', 'get', 'bad', 'light', 'due', 'situcion', 'pass', 'countri', 'make', 'refund', 'howev', 'notifi', 'happen', 'greet', 'hello', 'name', 'emildr', 'tower', 'buy', 'phone', 'provid', 'one', 'get', 'bad', 'light', 'due', 'situcion', 'pass', 'countri', 'make', 'refund', 'howev', 'notifi', 'happen', 'greet', 'hello', 'name', 'emildr', 'tower', 'buy', 'phone', 'provid', 'one', 'get', 'bad', 'light', 'due', 'situcion', 'pass', 'countri', 'make', 'refund', 'howev', 'notifi', 'happen', 'greet', 'hello', 'name', 'emildr', 'tower', 'buy', 'phone', 'provid', 'one', 'get', 'bad', 'light', 'due', 'situcion', 'pass', 'countri', 'make', 'refund', 'howev', 'notifi', 'happen', 'greet', 'hello', 'name', 'emildr', 'tower', 'buy', 'phone', 'provid', 'one', 'get', 'bad', 'light', 'due', 'situcion', 'pass', 'countri', 'make', 'refund', 'howev', 'notifi', 'happen', 'greet', 'hello', 'name', 'emildr', 'tower', 'buy', 'phone', 'provid', 'one', 'get', 'bad', 'light', 'due', 'situcion', 'pass', 'countri', 'make', 'refund', 'howev', 'notifi', 'happen', 'greet', 'hello', 'name', 'emildr', 'tower', 'buy', 'phone', 'provid', 'one', 'get', 'bad', 'light', 'due', 'situcion', 'pass', 'countri', 'make', 'refund', 'howev', 'notifi', 'happen', 'greet', 'hello', 'name', 'emildr', 'tower', 'buy', 'phone', 'provid', 'one', 'get', 'bad', 'light', 'due', 'situcion', 'pass', 'countri', 'make', 'refund', 'howev', 'notifi', 'happen', 'greet', 'hello', 'name', 'emildr', 'tower', 'buy', 'phone', 'provid', 'one', 'get', 'bad', 'light', 'due', 'situcion', 'pass', 'countri', 'make', 'refund', 'howev', 'notifi', 'happen', 'greet', 'hello', 'name', 'emildr', 'tower', 'buy', 'phone', 'provid', 'one', 'get', 'bad', 'light', 'due', 'situcion', 'pass', 'countri', 'make', 'refund', 'howev', 'notifi', 'happen', 'greet', 'hello', 'name', 'emildr', 'tower', 'buy', 'phone', 'provid', 'one', 'get', 'bad', 'light', 'due', 'situcion', 'pass', 'countri', 'make', 'refund', 'howev', 'notifi', 'happen', 'greet', 'hello', 'name', 'emildr', 'tower', 'buy', 'phone', 'provid', 'one', 'get', 'bad', 'light', 'due', 'situcion', 'pass', 'countri', 'make', 'refund', 'howev', 'notifi', 'happen', 'greet', 'hello', 'name', 'emildr', 'tower', 'buy', 'phone', 'provid', 'one', 'get', 'bad', 'light', 'due', 'situcion', 'pass', 'countri', 'make', 'refund', 'howev', 'notifi', 'happen', 'greet', 'hello', 'name', 'emildr', 'tower', 'buy', 'phone', 'provid', 'one', 'get', 'bad', 'light', 'due', 'situcion', 'pass', 'countri', 'make', 'refund', 'howev', 'notifi', 'happen', 'greet', 'hello', 'name', 'emildr', 'tower', 'buy', 'phone', 'provid', 'one', 'get', 'bad', 'light', 'due', 'situcion', 'pass', 'countri', 'make', 'refund', 'howev', 'notifi', 'happen', 'greet', 'hello', 'name', 'emildr', 'tower', 'buy', 'phone', 'provid', 'one', 'get', 'bad', 'light', 'due', 'situcion', 'pass', 'countri', 'make', 'refund', 'howev', 'notifi', 'happen', 'greet', 'hello', 'name', 'emildr', 'tower', 'buy', 'phone', 'provid', 'one', 'get', 'bad', 'light', 'due', 'situcion', 'pass', 'countri', 'make', 'refund', 'howev', 'notifi', 'happen', 'greet', 'hello', 'name', 'emildr', 'tower', 'buy', 'phone', 'provid', 'one', 'get', 'bad', 'light', 'due', 'situcion', 'pass', 'countri', 'make', 'refund', 'howev', 'notifi', 'happen', 'greet', 'hello', 'name', 'emildr', 'tower', 'buy', 'phone', 'provid', 'one', 'get', 'bad', 'light', 'due', 'situcion', 'pass', 'countri', 'make', 'refund', 'howev', 'notifi', 'happen', 'greet', 'hello', 'name', 'emildr', 'tower', 'buy', 'phone', 'provid', 'one', 'get', 'bad', 'light', 'due', 'situcion', 'pass', 'countri', 'make', 'refund', 'howev', 'notifi', 'happen', 'greet', 'hello', 'name', 'emildr', 'tower', 'buy', 'phone', 'provid', 'one', 'get', 'bad', 'light', 'due', 'situcion', 'pass', 'countri', 'make', 'refund', 'howev', 'notifi', 'happen', 'greet', 'hello', 'name', 'emildr', 'tower', 'buy', 'phone', 'provid', 'one', 'get', 'bad', 'light', 'due', 'situcion', 'pass', 'countri', 'make', 'refund', 'howev', 'notifi', 'happen', 'greet', 'hello', 'name', 'emildr', 'tower', 'buy', 'phone', 'provid', 'one', 'get', 'bad', 'light', 'due', 'situcion', 'pass', 'countri', 'make', 'refund', 'howev', 'notifi', 'happen', 'greet', 'hello', 'name', 'emildr', 'tower', 'buy', 'phone', 'provid', 'one', 'get', 'bad', 'light', 'due', 'situcion', 'pass', 'countri', 'make', 'refund', 'howev', 'notifi', 'happen', 'greet', 'hello', 'name', 'emildr', 'tower', 'buy', 'phone', 'provid', 'one', 'get', 'bad', 'light', 'due', 'situcion', 'pass', 'countri', 'make', 'refund', 'howev', 'notifi', 'happen', 'greet', 'hello', 'name', 'emildr', 'tower', 'buy', 'phone', 'provid', 'one', 'get', 'bad', 'light', 'due', 'situcion', 'pass', 'countri', 'make', 'refund', 'howev', 'notifi', 'happen', 'greet', 'hello', 'name', 'emildr', 'tower', 'buy', 'phone', 'provid', 'one', 'get', 'bad', 'light', 'due', 'situcion', 'pass', 'countri', 'make', 'refund', 'howev', 'notifi', 'happen', 'greet', 'hello', 'name', 'emildr', 'tower', 'buy', 'phone', 'provid', 'one', 'get', 'bad', 'light', 'due', 'situcion', 'pass', 'countri', 'make', 'refund', 'howev', 'notifi', 'happen', 'greet', 'hello', 'name', 'emildr', 'tower', 'buy', 'phone', 'provid', 'one', 'get', 'bad', 'light', 'due', 'situcion', 'pass', 'countri', 'make', 'refund', 'howev', 'notifi', 'happen', 'greet', 'hello', 'name', 'emildr', 'tower', 'buy', 'phone', 'provid', 'one', 'get', 'bad', 'light', 'due', 'situcion', 'pass', 'countri', 'make', 'refund', 'howev', 'notifi', 'happen', 'greet', 'hello', 'name', 'emildr', 'tower', 'buy', 'phone', 'provid', 'one', 'get', 'bad', 'light', 'due', 'situcion', 'pass', 'countri', 'make', 'refund', 'howev', 'notifi', 'happen', 'greet', 'hello', 'name', 'emildr', 'tower', 'buy', 'phone', 'provid', 'one', 'get', 'bad', 'light', 'due', 'situcion', 'pass', 'countri', 'make', 'refund', 'howev', 'notifi', 'happen', 'greet', 'hello', 'name', 'emildr', 'tower', 'buy', 'phone', 'provid', 'one', 'get', 'bad', 'light', 'due', 'situcion', 'pass', 'countri', 'make', 'refund', 'howev', 'notifi', 'happen', 'greet', 'hello', 'name', 'emildr', 'tower', 'buy', 'phone', 'provid', 'one', 'get', 'bad', 'light', 'due', 'situcion', 'pass', 'countri', 'make', 'refund', 'howev', 'notifi', 'happen', 'greet', 'hello', 'name', 'emildr', 'tower', 'buy', 'phone', 'provid', 'one', 'get', 'bad', 'light', 'due', 'situcion', 'pass', 'countri', 'make', 'refund', 'howev', 'notifi', 'happen', 'greet', 'hello', 'name', 'emildr', 'tower', 'buy', 'phone', 'provid', 'one', 'get', 'bad', 'light', 'due', 'situcion', 'pass', 'countri', 'make', 'refund', 'howev', 'notifi', 'happen', 'greet', 'hello', 'name', 'emildr', 'tower', 'buy', 'phone', 'provid', 'one', 'get', 'bad', 'light', 'due', 'situcion', 'pass', 'countri', 'make', 'refund', 'howev', 'notifi', 'happen', 'greet', 'hello', 'name', 'emildr', 'tower', 'buy', 'phone', 'provid', 'one', 'get', 'bad', 'light', 'due', 'situcion', 'pass', 'countri', 'make', 'refund', 'howev', 'notifi', 'happen', 'greet', 'hello', 'name', 'emildr', 'tower', 'buy', 'phone', 'provid', 'one', 'get', 'bad', 'light', 'due', 'situcion', 'pass', 'countri', 'make', 'refund', 'howev', 'notifi', 'happen', 'greet', 'hello', 'name', 'emildr', 'tower', 'buy', 'phone', 'provid', 'one', 'get', 'bad', 'light', 'due', 'situcion', 'pass', 'countri', 'make', 'refund', 'howev', 'notifi', 'happen', 'greet'], ['disappoint', 'bought', 'phone', 'mom', 'one', 'hard', 'hear', 'phone', 'ring', 'extrem', 'faint', 'ring', 'volum', 'cannot', 'increas', 'guess', 'get', 'pay', 'disappoint', 'bought', 'phone', 'mom', 'one', 'hard', 'hear', 'phone', 'ring', 'extrem', 'faint', 'ring', 'volum', 'cannot', 'increas', 'guess', 'get', 'pay', 'disappoint', 'bought', 'phone', 'mom', 'one', 'hard', 'hear', 'phone', 'ring', 'extrem', 'faint', 'ring', 'volum', 'cannot', 'increas', 'guess', 'get', 'pay', 'disappoint', 'bought', 'phone', 'mom', 'one', 'hard', 'hear', 'phone', 'ring', 'extrem', 'faint', 'ring', 'volum', 'cannot', 'increas', 'guess', 'get', 'pay', 'disappoint', 'bought', 'phone', 'mom', 'one', 'hard', 'hear', 'phone', 'ring', 'extrem', 'faint', 'ring', 'volum', 'cannot', 'increas', 'guess', 'get', 'pay', 'disappoint', 'bought', 'phone', 'mom', 'one', 'hard', 'hear', 'phone', 'ring', 'extrem', 'faint', 'ring', 'volum', 'cannot', 'increas', 'guess', 'get', 'pay', 'disappoint', 'bought', 'phone', 'mom', 'one', 'hard', 'hear', 'phone', 'ring', 'extrem', 'faint', 'ring', 'volum', 'cannot', 'increas', 'guess', 'get', 'pay', 'disappoint', 'bought', 'phone', 'mom', 'one', 'hard', 'hear', 'phone', 'ring', 'extrem', 'faint', 'ring', 'volum', 'cannot', 'increas', 'guess', 'get', 'pay', 'disappoint', 'bought', 'phone', 'mom', 'one', 'hard', 'hear', 'phone', 'ring', 'extrem', 'faint', 'ring', 'volum', 'cannot', 'increas', 'guess', 'get', 'pay', 'disappoint', 'bought', 'phone', 'mom', 'one', 'hard', 'hear', 'phone', 'ring', 'extrem', 'faint', 'ring', 'volum', 'cannot', 'increas', 'guess', 'get', 'pay', 'disappoint', 'bought', 'phone', 'mom', 'one', 'hard', 'hear', 'phone', 'ring', 'extrem', 'faint', 'ring', 'volum', 'cannot', 'increas', 'guess', 'get', 'pay', 'disappoint', 'bought', 'phone', 'mom', 'one', 'hard', 'hear', 'phone', 'ring', 'extrem', 'faint', 'ring', 'volum', 'cannot', 'increas', 'guess', 'get', 'pay', 'disappoint', 'bought', 'phone', 'mom', 'one', 'hard', 'hear', 'phone', 'ring', 'extrem', 'faint', 'ring', 'volum', 'cannot', 'increas', 'guess', 'get', 'pay', 'disappoint', 'bought', 'phone', 'mom', 'one', 'hard', 'hear', 'phone', 'ring', 'extrem', 'faint', 'ring', 'volum', 'cannot', 'increas', 'guess', 'get', 'pay', 'disappoint', 'bought', 'phone', 'mom', 'one', 'hard', 'hear', 'phone', 'ring', 'extrem', 'faint', 'ring', 'volum', 'cannot', 'increas', 'guess', 'get', 'pay', 'disappoint', 'bought', 'phone', 'mom', 'one', 'hard', 'hear', 'phone', 'ring', 'extrem', 'faint', 'ring', 'volum', 'cannot', 'increas', 'guess', 'get', 'pay', 'disappoint', 'bought', 'phone', 'mom', 'one', 'hard', 'hear', 'phone', 'ring', 'extrem', 'faint', 'ring', 'volum', 'cannot', 'increas', 'guess', 'get', 'pay', 'disappoint', 'bought', 'phone', 'mom', 'one', 'hard', 'hear', 'phone', 'ring', 'extrem', 'faint', 'ring', 'volum', 'cannot', 'increas', 'guess', 'get', 'pay', 'disappoint', 'bought', 'phone', 'mom', 'one', 'hard', 'hear', 'phone', 'ring', 'extrem', 'faint', 'ring', 'volum', 'cannot', 'increas', 'guess', 'get', 'pay', 'disappoint', 'bought', 'phone', 'mom', 'one', 'hard', 'hear', 'phone', 'ring', 'extrem', 'faint', 'ring', 'volum', 'cannot', 'increas', 'guess', 'get', 'pay', 'disappoint', 'bought', 'phone', 'mom', 'one', 'hard', 'hear', 'phone', 'ring', 'extrem', 'faint', 'ring', 'volum', 'cannot', 'increas', 'guess', 'get', 'pay', 'disappoint', 'bought', 'phone', 'mom', 'one', 'hard', 'hear', 'phone', 'ring', 'extrem', 'faint', 'ring', 'volum', 'cannot', 'increas', 'guess', 'get', 'pay', 'disappoint', 'bought', 'phone', 'mom', 'one', 'hard', 'hear', 'phone', 'ring', 'extrem', 'faint', 'ring', 'volum', 'cannot', 'increas', 'guess', 'get', 'pay', 'disappoint', 'bought', 'phone', 'mom', 'one', 'hard', 'hear', 'phone', 'ring', 'extrem', 'faint', 'ring', 'volum', 'cannot', 'increas', 'guess', 'get', 'pay', 'disappoint', 'bought', 'phone', 'mom', 'one', 'hard', 'hear', 'phone', 'ring', 'extrem', 'faint', 'ring', 'volum', 'cannot', 'increas', 'guess', 'get', 'pay', 'disappoint', 'bought', 'phone', 'mom', 'one', 'hard', 'hear', 'phone', 'ring', 'extrem', 'faint', 'ring', 'volum', 'cannot', 'increas', 'guess', 'get', 'pay', 'disappoint', 'bought', 'phone', 'mom', 'one', 'hard', 'hear', 'phone', 'ring', 'extrem', 'faint', 'ring', 'volum', 'cannot', 'increas', 'guess', 'get', 'pay', 'disappoint', 'bought', 'phone', 'mom', 'one', 'hard', 'hear', 'phone', 'ring', 'extrem', 'faint', 'ring', 'volum', 'cannot', 'increas', 'guess', 'get', 'pay', 'disappoint', 'bought', 'phone', 'mom', 'one', 'hard', 'hear', 'phone', 'ring', 'extrem', 'faint', 'ring', 'volum', 'cannot', 'increas', 'guess', 'get', 'pay', 'disappoint', 'bought', 'phone', 'mom', 'one', 'hard', 'hear', 'phone', 'ring', 'extrem', 'faint', 'ring', 'volum', 'cannot', 'increas', 'guess', 'get', 'pay', 'disappoint', 'bought', 'phone', 'mom', 'one', 'hard', 'hear', 'phone', 'ring', 'extrem', 'faint', 'ring', 'volum', 'cannot', 'increas', 'guess', 'get', 'pay', 'disappoint', 'bought', 'phone', 'mom', 'one', 'hard', 'hear', 'phone', 'ring', 'extrem', 'faint', 'ring', 'volum', 'cannot', 'increas', 'guess', 'get', 'pay', 'disappoint', 'bought', 'phone', 'mom', 'one', 'hard', 'hear', 'phone', 'ring', 'extrem', 'faint', 'ring', 'volum', 'cannot', 'increas', 'guess', 'get', 'pay', 'disappoint', 'bought', 'phone', 'mom', 'one', 'hard', 'hear', 'phone', 'ring', 'extrem', 'faint', 'ring', 'volum', 'cannot', 'increas', 'guess', 'get', 'pay', 'disappoint', 'bought', 'phone', 'mom', 'one', 'hard', 'hear', 'phone', 'ring', 'extrem', 'faint', 'ring', 'volum', 'cannot', 'increas', 'guess', 'get', 'pay', 'disappoint', 'bought', 'phone', 'mom', 'one', 'hard', 'hear', 'phone', 'ring', 'extrem', 'faint', 'ring', 'volum', 'cannot', 'increas', 'guess', 'get', 'pay', 'disappoint', 'bought', 'phone', 'mom', 'one', 'hard', 'hear', 'phone', 'ring', 'extrem', 'faint', 'ring', 'volum', 'cannot', 'increas', 'guess', 'get', 'pay', 'disappoint', 'bought', 'phone', 'mom', 'one', 'hard', 'hear', 'phone', 'ring', 'extrem', 'faint', 'ring', 'volum', 'cannot', 'increas', 'guess', 'get', 'pay', 'disappoint', 'bought', 'phone', 'mom', 'one', 'hard', 'hear', 'phone', 'ring', 'extrem', 'faint', 'ring', 'volum', 'cannot', 'increas', 'guess', 'get', 'pay', 'disappoint', 'bought', 'phone', 'mom', 'one', 'hard', 'hear', 'phone', 'ring', 'extrem', 'faint', 'ring', 'volum', 'cannot', 'increas', 'guess', 'get', 'pay', 'disappoint', 'bought', 'phone', 'mom', 'one', 'hard', 'hear', 'phone', 'ring', 'extrem', 'faint', 'ring', 'volum', 'cannot', 'increas', 'guess', 'get', 'pay', 'disappoint', 'bought', 'phone', 'mom', 'one', 'hard', 'hear', 'phone', 'ring', 'extrem', 'faint', 'ring', 'volum', 'cannot', 'increas', 'guess', 'get', 'pay', 'disappoint', 'bought', 'phone', 'mom', 'one', 'hard', 'hear', 'phone', 'ring', 'extrem', 'faint', 'ring', 'volum', 'cannot', 'increas', 'guess', 'get', 'pay', 'disappoint', 'bought', 'phone', 'mom', 'one', 'hard', 'hear', 'phone', 'ring', 'extrem', 'faint', 'ring', 'volum', 'cannot', 'increas', 'guess', 'get', 'pay', 'disappoint', 'bought', 'phone', 'mom', 'one', 'hard', 'hear', 'phone', 'ring', 'extrem', 'faint', 'ring', 'volum', 'cannot', 'increas', 'guess', 'get', 'pay', 'disappoint', 'bought', 'phone', 'mom', 'one', 'hard', 'hear', 'phone', 'ring', 'extrem', 'faint', 'ring', 'volum', 'cannot', 'increas', 'guess', 'get', 'pay', 'disappoint', 'bought', 'phone', 'mom', 'one', 'hard', 'hear', 'phone', 'ring', 'extrem', 'faint', 'ring', 'volum', 'cannot', 'increas', 'guess', 'get', 'pay', 'disappoint', 'bought', 'phone', 'mom', 'one', 'hard', 'hear', 'phone', 'ring', 'extrem', 'faint', 'ring', 'volum', 'cannot', 'increas', 'guess', 'get', 'pay', 'disappoint', 'bought', 'phone', 'mom', 'one', 'hard', 'hear', 'phone', 'ring', 'extrem', 'faint', 'ring', 'volum', 'cannot', 'increas', 'guess', 'get', 'pay', 'disappoint', 'bought', 'phone', 'mom', 'one', 'hard', 'hear', 'phone', 'ring', 'extrem', 'faint', 'ring', 'volum', 'cannot', 'increas', 'guess', 'get', 'pay', 'disappoint', 'bought', 'phone', 'mom', 'one', 'hard', 'hear', 'phone', 'ring', 'extrem', 'faint', 'ring', 'volum', 'cannot', 'increas', 'guess', 'get', 'pay', 'disappoint', 'bought', 'phone', 'mom', 'one', 'hard', 'hear', 'phone', 'ring', 'extrem', 'faint', 'ring', 'volum', 'cannot', 'increas', 'guess', 'get', 'pay', 'disappoint', 'bought', 'phone', 'mom', 'one', 'hard', 'hear', 'phone', 'ring', 'extrem', 'faint', 'ring', 'volum', 'cannot', 'increas', 'guess', 'get', 'pay', 'disappoint', 'bought', 'phone', 'mom', 'one', 'hard', 'hear', 'phone', 'ring', 'extrem', 'faint', 'ring', 'volum', 'cannot', 'increas', 'guess', 'get', 'pay', 'disappoint', 'bought', 'phone', 'mom', 'one', 'hard', 'hear', 'phone', 'ring', 'extrem', 'faint', 'ring', 'volum', 'cannot', 'increas', 'guess', 'get', 'pay', 'disappoint', 'bought', 'phone', 'mom', 'one', 'hard', 'hear', 'phone', 'ring', 'extrem', 'faint', 'ring', 'volum', 'cannot', 'increas', 'guess', 'get', 'pay', 'disappoint', 'bought', 'phone', 'mom', 'one', 'hard', 'hear', 'phone', 'ring', 'extrem', 'faint', 'ring', 'volum', 'cannot', 'increas', 'guess', 'get', 'pay', 'disappoint', 'bought', 'phone', 'mom', 'one', 'hard', 'hear', 'phone', 'ring', 'extrem', 'faint', 'ring', 'volum', 'cannot', 'increas', 'guess', 'get', 'pay', 'disappoint', 'bought', 'phone', 'mom', 'one', 'hard', 'hear', 'phone', 'ring', 'extrem', 'faint', 'ring', 'volum', 'cannot', 'increas', 'guess', 'get', 'pay', 'disappoint', 'bought', 'phone', 'mom', 'one', 'hard', 'hear', 'phone', 'ring', 'extrem', 'faint', 'ring', 'volum', 'cannot', 'increas', 'guess', 'get', 'pay', 'disappoint', 'bought', 'phone', 'mom', 'one', 'hard', 'hear', 'phone', 'ring', 'extrem', 'faint', 'ring', 'volum', 'cannot', 'increas', 'guess', 'get', 'pay', 'disappoint', 'bought', 'phone', 'mom', 'one', 'hard', 'hear', 'phone', 'ring', 'extrem', 'faint', 'ring', 'volum', 'cannot', 'increas', 'guess', 'get', 'pay', 'disappoint', 'bought', 'phone', 'mom', 'one', 'hard', 'hear', 'phone', 'ring', 'extrem', 'faint', 'ring', 'volum', 'cannot', 'increas', 'guess', 'get', 'pay', 'disappoint', 'bought', 'phone', 'mom', 'one', 'hard', 'hear', 'phone', 'ring', 'extrem', 'faint', 'ring', 'volum', 'cannot', 'increas', 'guess', 'get', 'pay', 'disappoint', 'bought', 'phone', 'mom', 'one', 'hard', 'hear', 'phone', 'ring', 'extrem', 'faint', 'ring', 'volum', 'cannot', 'increas', 'guess', 'get', 'pay', 'disappoint', 'bought', 'phone', 'mom', 'one', 'hard', 'hear', 'phone', 'ring', 'extrem', 'faint', 'ring', 'volum', 'cannot', 'increas', 'guess', 'get', 'pay', 'disappoint', 'bought', 'phone', 'mom', 'one', 'hard', 'hear', 'phone', 'ring', 'extrem', 'faint', 'ring', 'volum', 'cannot', 'increas', 'guess', 'get', 'pay', 'disappoint', 'bought', 'phone', 'mom', 'one', 'hard', 'hear', 'phone', 'ring', 'extrem', 'faint', 'ring', 'volum', 'cannot', 'increas', 'guess', 'get', 'pay', 'disappoint', 'bought', 'phone', 'mom', 'one', 'hard', 'hear', 'phone', 'ring', 'extrem', 'faint', 'ring', 'volum', 'cannot', 'increas', 'guess', 'get', 'pay', 'disappoint', 'bought', 'phone', 'mom', 'one', 'hard', 'hear', 'phone', 'ring', 'extrem', 'faint', 'ring', 'volum', 'cannot', 'increas', 'guess', 'get', 'pay', 'disappoint', 'bought', 'phone', 'mom', 'one', 'hard', 'hear', 'phone', 'ring', 'extrem', 'faint', 'ring', 'volum', 'cannot', 'increas', 'guess', 'get', 'pay', 'disappoint', 'bought', 'phone', 'mom', 'one', 'hard', 'hear', 'phone', 'ring', 'extrem', 'faint', 'ring', 'volum', 'cannot', 'increas', 'guess', 'get', 'pay', 'disappoint', 'bought', 'phone', 'mom', 'one', 'hard', 'hear', 'phone', 'ring', 'extrem', 'faint', 'ring', 'volum', 'cannot', 'increas', 'guess', 'get', 'pay', 'disappoint', 'bought', 'phone', 'mom', 'one', 'hard', 'hear', 'phone', 'ring', 'extrem', 'faint', 'ring', 'volum', 'cannot', 'increas', 'guess', 'get', 'pay', 'disappoint', 'bought', 'phone', 'mom', 'one', 'hard', 'hear', 'phone', 'ring', 'extrem', 'faint', 'ring', 'volum', 'cannot', 'increas', 'guess', 'get', 'pay', 'disappoint', 'bought', 'phone', 'mom', 'one', 'hard', 'hear', 'phone', 'ring', 'extrem', 'faint', 'ring', 'volum', 'cannot', 'increas', 'guess', 'get', 'pay', 'disappoint', 'bought', 'phone', 'mom', 'one', 'hard', 'hear', 'phone', 'ring', 'extrem', 'faint', 'ring', 'volum', 'cannot', 'increas', 'guess', 'get', 'pay', 'disappoint', 'bought', 'phone', 'mom', 'one', 'hard', 'hear', 'phone', 'ring', 'extrem', 'faint', 'ring', 'volum', 'cannot', 'increas', 'guess', 'get', 'pay', 'disappoint', 'bought', 'phone', 'mom', 'one', 'hard', 'hear', 'phone', 'ring', 'extrem', 'faint', 'ring', 'volum', 'cannot', 'increas', 'guess', 'get', 'pay', 'disappoint', 'bought', 'phone', 'mom', 'one', 'hard', 'hear', 'phone', 'ring', 'extrem', 'faint', 'ring', 'volum', 'cannot', 'increas', 'guess', 'get', 'pay', 'disappoint', 'bought', 'phone', 'mom', 'one', 'hard', 'hear', 'phone', 'ring', 'extrem', 'faint', 'ring', 'volum', 'cannot', 'increas', 'guess', 'get', 'pay', 'disappoint', 'bought', 'phone', 'mom', 'one', 'hard', 'hear', 'phone', 'ring', 'extrem', 'faint', 'ring', 'volum', 'cannot', 'increas', 'guess', 'get', 'pay', 'disappoint', 'bought', 'phone', 'mom', 'one', 'hard', 'hear', 'phone', 'ring', 'extrem', 'faint', 'ring', 'volum', 'cannot', 'increas', 'guess', 'get', 'pay', 'disappoint', 'bought', 'phone', 'mom', 'one', 'hard', 'hear', 'phone', 'ring', 'extrem', 'faint', 'ring', 'volum', 'cannot', 'increas', 'guess', 'get', 'pay', 'disappoint', 'bought', 'phone', 'mom', 'one', 'hard', 'hear', 'phone', 'ring', 'extrem', 'faint', 'ring', 'volum', 'cannot', 'increas', 'guess', 'get', 'pay', 'disappoint', 'bought', 'phone', 'mom', 'one', 'hard', 'hear', 'phone', 'ring', 'extrem', 'faint', 'ring', 'volum', 'cannot', 'increas', 'guess', 'get', 'pay', 'disappoint', 'bought', 'phone', 'mom', 'one', 'hard', 'hear', 'phone', 'ring', 'extrem', 'faint', 'ring', 'volum', 'cannot', 'increas', 'guess', 'get', 'pay', 'disappoint', 'bought', 'phone', 'mom', 'one', 'hard', 'hear', 'phone', 'ring', 'extrem', 'faint', 'ring', 'volum', 'cannot', 'increas', 'guess', 'get', 'pay', 'disappoint', 'bought', 'phone', 'mom', 'one', 'hard', 'hear', 'phone', 'ring', 'extrem', 'faint', 'ring', 'volum', 'cannot', 'increas', 'guess', 'get', 'pay', 'disappoint', 'bought', 'phone', 'mom', 'one', 'hard', 'hear', 'phone', 'ring', 'extrem', 'faint', 'ring', 'volum', 'cannot', 'increas', 'guess', 'get', 'pay', 'disappoint', 'bought', 'phone', 'mom', 'one', 'hard', 'hear', 'phone', 'ring', 'extrem', 'faint', 'ring', 'volum', 'cannot', 'increas', 'guess', 'get', 'pay', 'disappoint', 'bought', 'phone', 'mom', 'one', 'hard', 'hear', 'phone', 'ring', 'extrem', 'faint', 'ring', 'volum', 'cannot', 'increas', 'guess', 'get', 'pay', 'disappoint', 'bought', 'phone', 'mom', 'one', 'hard', 'hear', 'phone', 'ring', 'extrem', 'faint', 'ring', 'volum', 'cannot', 'increas', 'guess', 'get', 'pay', 'disappoint', 'bought', 'phone', 'mom', 'one', 'hard', 'hear', 'phone', 'ring', 'extrem', 'faint', 'ring', 'volum', 'cannot', 'increas', 'guess', 'get', 'pay', 'disappoint', 'bought', 'phone', 'mom', 'one', 'hard', 'hear', 'phone', 'ring', 'extrem', 'faint', 'ring', 'volum', 'cannot', 'increas', 'guess', 'get', 'pay', 'disappoint', 'bought', 'phone', 'mom', 'one', 'hard', 'hear', 'phone', 'ring', 'extrem', 'faint', 'ring', 'volum', 'cannot', 'increas', 'guess', 'get', 'pay', 'disappoint', 'bought', 'phone', 'mom', 'one', 'hard', 'hear', 'phone', 'ring', 'extrem', 'faint', 'ring', 'volum', 'cannot', 'increas', 'guess', 'get', 'pay', 'disappoint', 'bought', 'phone', 'mom', 'one', 'hard', 'hear', 'phone', 'ring', 'extrem', 'faint', 'ring', 'volum', 'cannot', 'increas', 'guess', 'get', 'pay', 'disappoint', 'bought', 'phone', 'mom', 'one', 'hard', 'hear', 'phone', 'ring', 'extrem', 'faint', 'ring', 'volum', 'cannot', 'increas', 'guess', 'get', 'pay', 'disappoint', 'bought', 'phone', 'mom', 'one', 'hard', 'hear', 'phone', 'ring', 'extrem', 'faint', 'ring', 'volum', 'cannot', 'increas', 'guess', 'get', 'pay', 'disappoint', 'bought', 'phone', 'mom', 'one', 'hard', 'hear', 'phone', 'ring', 'extrem', 'faint', 'ring', 'volum', 'cannot', 'increas', 'guess', 'get', 'pay', 'disappoint', 'bought', 'phone', 'mom', 'one', 'hard', 'hear', 'phone', 'ring', 'extrem', 'faint', 'ring', 'volum', 'cannot', 'increas', 'guess', 'get', 'pay', 'disappoint', 'bought', 'phone', 'mom', 'one', 'hard', 'hear', 'phone', 'ring', 'extrem', 'faint', 'ring', 'volum', 'cannot', 'increas', 'guess', 'get', 'pay', 'disappoint', 'bought', 'phone', 'mom', 'one', 'hard', 'hear', 'phone', 'ring', 'extrem', 'faint', 'ring', 'volum', 'cannot', 'increas', 'guess', 'get', 'pay', 'disappoint', 'bought', 'phone', 'mom', 'one', 'hard', 'hear', 'phone', 'ring', 'extrem', 'faint', 'ring', 'volum', 'cannot', 'increas', 'guess', 'get', 'pay', 'disappoint', 'bought', 'phone', 'mom', 'one', 'hard', 'hear', 'phone', 'ring', 'extrem', 'faint', 'ring', 'volum', 'cannot', 'increas', 'guess', 'get', 'pay', 'disappoint', 'bought', 'phone', 'mom', 'one', 'hard', 'hear', 'phone', 'ring', 'extrem', 'faint', 'ring', 'volum', 'cannot', 'increas', 'guess', 'get', 'pay', 'disappoint', 'bought', 'phone', 'mom', 'one', 'hard', 'hear', 'phone', 'ring', 'extrem', 'faint', 'ring', 'volum', 'cannot', 'increas', 'guess', 'get', 'pay', 'disappoint', 'bought', 'phone', 'mom', 'one', 'hard', 'hear', 'phone', 'ring', 'extrem', 'faint', 'ring', 'volum', 'cannot', 'increas', 'guess', 'get', 'pay', 'disappoint', 'bought', 'phone', 'mom', 'one', 'hard', 'hear', 'phone', 'ring', 'extrem', 'faint', 'ring', 'volum', 'cannot', 'increas', 'guess', 'get', 'pay', 'disappoint', 'bought', 'phone', 'mom', 'one', 'hard', 'hear', 'phone', 'ring', 'extrem', 'faint', 'ring', 'volum', 'cannot', 'increas', 'guess', 'get', 'pay', 'disappoint', 'bought', 'phone', 'mom', 'one', 'hard', 'hear', 'phone', 'ring', 'extrem', 'faint', 'ring', 'volum', 'cannot', 'increas', 'guess', 'get', 'pay', 'disappoint', 'bought', 'phone', 'mom', 'one', 'hard', 'hear', 'phone', 'ring', 'extrem', 'faint', 'ring', 'volum', 'cannot', 'increas', 'guess', 'get', 'pay', 'disappoint', 'bought', 'phone', 'mom', 'one', 'hard', 'hear', 'phone', 'ring', 'extrem', 'faint', 'ring', 'volum', 'cannot', 'increas', 'guess', 'get', 'pay', 'disappoint', 'bought', 'phone', 'mom', 'one', 'hard', 'hear', 'phone', 'ring', 'extrem', 'faint', 'ring', 'volum', 'cannot', 'increas', 'guess', 'get', 'pay', 'disappoint', 'bought', 'phone', 'mom', 'one', 'hard', 'hear', 'phone', 'ring', 'extrem', 'faint', 'ring', 'volum', 'cannot', 'increas', 'guess', 'get', 'pay', 'disappoint', 'bought', 'phone', 'mom', 'one', 'hard', 'hear', 'phone', 'ring', 'extrem', 'faint', 'ring', 'volum', 'cannot', 'increas', 'guess', 'get', 'pay', 'disappoint', 'bought', 'phone', 'mom', 'one', 'hard', 'hear', 'phone', 'ring', 'extrem', 'faint', 'ring', 'volum', 'cannot', 'increas', 'guess', 'get', 'pay', 'disappoint', 'bought', 'phone', 'mom', 'one', 'hard', 'hear', 'phone', 'ring', 'extrem', 'faint', 'ring', 'volum', 'cannot', 'increas', 'guess', 'get', 'pay', 'disappoint', 'bought', 'phone', 'mom', 'one', 'hard', 'hear', 'phone', 'ring', 'extrem', 'faint', 'ring', 'volum', 'cannot', 'increas', 'guess', 'get', 'pay', 'disappoint', 'bought', 'phone', 'mom', 'one', 'hard', 'hear', 'phone', 'ring', 'extrem', 'faint', 'ring', 'volum', 'cannot', 'increas', 'guess', 'get', 'pay', 'disappoint', 'bought', 'phone', 'mom', 'one', 'hard', 'hear', 'phone', 'ring', 'extrem', 'faint', 'ring', 'volum', 'cannot', 'increas', 'guess', 'get', 'pay', 'disappoint', 'bought', 'phone', 'mom', 'one', 'hard', 'hear', 'phone', 'ring', 'extrem', 'faint', 'ring', 'volum', 'cannot', 'increas', 'guess', 'get', 'pay', 'disappoint', 'bought', 'phone', 'mom', 'one', 'hard', 'hear', 'phone', 'ring', 'extrem', 'faint', 'ring', 'volum', 'cannot', 'increas', 'guess', 'get', 'pay', 'disappoint', 'bought', 'phone', 'mom', 'one', 'hard', 'hear', 'phone', 'ring', 'extrem', 'faint', 'ring', 'volum', 'cannot', 'increas', 'guess', 'get', 'pay', 'disappoint', 'bought', 'phone', 'mom', 'one', 'hard', 'hear', 'phone', 'ring', 'extrem', 'faint', 'ring', 'volum', 'cannot', 'increas', 'guess', 'get', 'pay', 'disappoint', 'bought', 'phone', 'mom', 'one', 'hard', 'hear', 'phone', 'ring', 'extrem', 'faint', 'ring', 'volum', 'cannot', 'increas', 'guess', 'get', 'pay', 'disappoint', 'bought', 'phone', 'mom', 'one', 'hard', 'hear', 'phone', 'ring', 'extrem', 'faint', 'ring', 'volum', 'cannot', 'increas', 'guess', 'get', 'pay', 'disappoint', 'bought', 'phone', 'mom', 'one', 'hard', 'hear', 'phone', 'ring', 'extrem', 'faint', 'ring', 'volum', 'cannot', 'increas', 'guess', 'get', 'pay', 'disappoint', 'bought', 'phone', 'mom', 'one', 'hard', 'hear', 'phone', 'ring', 'extrem', 'faint', 'ring', 'volum', 'cannot', 'increas', 'guess', 'get', 'pay', 'disappoint', 'bought', 'phone', 'mom', 'one', 'hard', 'hear', 'phone', 'ring', 'extrem', 'faint', 'ring', 'volum', 'cannot', 'increas', 'guess', 'get', 'pay', 'disappoint', 'bought', 'phone', 'mom', 'one', 'hard', 'hear', 'phone', 'ring', 'extrem', 'faint', 'ring', 'volum', 'cannot', 'increas', 'guess', 'get', 'pay', 'disappoint', 'bought', 'phone', 'mom', 'one', 'hard', 'hear', 'phone', 'ring', 'extrem', 'faint', 'ring', 'volum', 'cannot', 'increas', 'guess', 'get', 'pay', 'disappoint', 'bought', 'phone', 'mom', 'one', 'hard', 'hear', 'phone', 'ring', 'extrem', 'faint', 'ring', 'volum', 'cannot', 'increas', 'guess', 'get', 'pay', 'disappoint', 'bought', 'phone', 'mom', 'one', 'hard', 'hear', 'phone', 'ring', 'extrem', 'faint', 'ring', 'volum', 'cannot', 'increas', 'guess', 'get', 'pay', 'disappoint', 'bought', 'phone', 'mom', 'one', 'hard', 'hear', 'phone', 'ring', 'extrem', 'faint', 'ring', 'volum', 'cannot', 'increas', 'guess', 'get', 'pay', 'disappoint', 'bought', 'phone', 'mom', 'one', 'hard', 'hear', 'phone', 'ring', 'extrem', 'faint', 'ring', 'volum', 'cannot', 'increas', 'guess', 'get', 'pay', 'disappoint', 'bought', 'phone', 'mom', 'one', 'hard', 'hear', 'phone', 'ring', 'extrem', 'faint', 'ring', 'volum', 'cannot', 'increas', 'guess', 'get', 'pay', 'disappoint', 'bought', 'phone', 'mom', 'one', 'hard', 'hear', 'phone', 'ring', 'extrem', 'faint', 'ring', 'volum', 'cannot', 'increas', 'guess', 'get', 'pay', 'disappoint', 'bought', 'phone', 'mom', 'one', 'hard', 'hear', 'phone', 'ring', 'extrem', 'faint', 'ring', 'volum', 'cannot', 'increas', 'guess', 'get', 'pay', 'disappoint', 'bought', 'phone', 'mom', 'one', 'hard', 'hear', 'phone', 'ring', 'extrem', 'faint', 'ring', 'volum', 'cannot', 'increas', 'guess', 'get', 'pay', 'disappoint', 'bought', 'phone', 'mom', 'one', 'hard', 'hear', 'phone', 'ring', 'extrem', 'faint', 'ring', 'volum', 'cannot', 'increas', 'guess', 'get', 'pay', 'disappoint', 'bought', 'phone', 'mom', 'one', 'hard', 'hear', 'phone', 'ring', 'extrem', 'faint', 'ring', 'volum', 'cannot', 'increas', 'guess', 'get', 'pay', 'disappoint', 'bought', 'phone', 'mom', 'one', 'hard', 'hear', 'phone', 'ring', 'extrem', 'faint', 'ring', 'volum', 'cannot', 'increas', 'guess', 'get', 'pay', 'disappoint', 'bought', 'phone', 'mom', 'one', 'hard', 'hear', 'phone', 'ring', 'extrem', 'faint', 'ring', 'volum', 'cannot', 'increas', 'guess', 'get', 'pay', 'disappoint', 'bought', 'phone', 'mom', 'one', 'hard', 'hear', 'phone', 'ring', 'extrem', 'faint', 'ring', 'volum', 'cannot', 'increas', 'guess', 'get', 'pay', 'disappoint', 'bought', 'phone', 'mom', 'one', 'hard', 'hear', 'phone', 'ring', 'extrem', 'faint', 'ring', 'volum', 'cannot', 'increas', 'guess', 'get', 'pay', 'disappoint', 'bought', 'phone', 'mom', 'one', 'hard', 'hear', 'phone', 'ring', 'extrem', 'faint', 'ring', 'volum', 'cannot', 'increas', 'guess', 'get', 'pay', 'disappoint', 'bought', 'phone', 'mom', 'one', 'hard', 'hear', 'phone', 'ring', 'extrem', 'faint', 'ring', 'volum', 'cannot', 'increas', 'guess', 'get', 'pay', 'disappoint', 'bought', 'phone', 'mom', 'one', 'hard', 'hear', 'phone', 'ring', 'extrem', 'faint', 'ring', 'volum', 'cannot', 'increas', 'guess', 'get', 'pay', 'disappoint', 'bought', 'phone', 'mom', 'one', 'hard', 'hear', 'phone', 'ring', 'extrem', 'faint', 'ring', 'volum', 'cannot', 'increas', 'guess', 'get', 'pay', 'disappoint', 'bought', 'phone', 'mom', 'one', 'hard', 'hear', 'phone', 'ring', 'extrem', 'faint', 'ring', 'volum', 'cannot', 'increas', 'guess', 'get', 'pay', 'disappoint', 'bought', 'phone', 'mom', 'one', 'hard', 'hear', 'phone', 'ring', 'extrem', 'faint', 'ring', 'volum', 'cannot', 'increas', 'guess', 'get', 'pay', 'disappoint', 'bought', 'phone', 'mom', 'one', 'hard', 'hear', 'phone', 'ring', 'extrem', 'faint', 'ring', 'volum', 'cannot', 'increas', 'guess', 'get', 'pay', 'disappoint', 'bought', 'phone', 'mom', 'one', 'hard', 'hear', 'phone', 'ring', 'extrem', 'faint', 'ring', 'volum', 'cannot', 'increas', 'guess', 'get', 'pay', 'disappoint', 'bought', 'phone', 'mom', 'one', 'hard', 'hear', 'phone', 'ring', 'extrem', 'faint', 'ring', 'volum', 'cannot', 'increas', 'guess', 'get', 'pay', 'disappoint', 'bought', 'phone', 'mom', 'one', 'hard', 'hear', 'phone', 'ring', 'extrem', 'faint', 'ring', 'volum', 'cannot', 'increas', 'guess', 'get', 'pay', 'disappoint', 'bought', 'phone', 'mom', 'one', 'hard', 'hear', 'phone', 'ring', 'extrem', 'faint', 'ring', 'volum', 'cannot', 'increas', 'guess', 'get', 'pay', 'disappoint', 'bought', 'phone', 'mom', 'one', 'hard', 'hear', 'phone', 'ring', 'extrem', 'faint', 'ring', 'volum', 'cannot', 'increas', 'guess', 'get', 'pay', 'disappoint', 'bought', 'phone', 'mom', 'one', 'hard', 'hear', 'phone', 'ring', 'extrem', 'faint', 'ring', 'volum', 'cannot', 'increas', 'guess', 'get', 'pay', 'disappoint', 'bought', 'phone', 'mom', 'one', 'hard', 'hear', 'phone', 'ring', 'extrem', 'faint', 'ring', 'volum', 'cannot', 'increas', 'guess', 'get', 'pay', 'disappoint', 'bought', 'phone', 'mom', 'one', 'hard', 'hear', 'phone', 'ring', 'extrem', 'faint', 'ring', 'volum', 'cannot', 'increas', 'guess', 'get', 'pay', 'disappoint', 'bought', 'phone', 'mom', 'one', 'hard', 'hear', 'phone', 'ring', 'extrem', 'faint', 'ring', 'volum', 'cannot', 'increas', 'guess', 'get', 'pay', 'disappoint', 'bought', 'phone', 'mom', 'one', 'hard', 'hear', 'phone', 'ring', 'extrem', 'faint', 'ring', 'volum', 'cannot', 'increas', 'guess', 'get', 'pay', 'disappoint', 'bought', 'phone', 'mom', 'one', 'hard', 'hear', 'phone', 'ring', 'extrem', 'faint', 'ring', 'volum', 'cannot', 'increas', 'guess', 'get', 'pay', 'disappoint', 'bought', 'phone', 'mom', 'one', 'hard', 'hear', 'phone', 'ring', 'extrem', 'faint', 'ring', 'volum', 'cannot', 'increas', 'guess', 'get', 'pay', 'disappoint', 'bought', 'phone', 'mom', 'one', 'hard', 'hear', 'phone', 'ring', 'extrem', 'faint', 'ring', 'volum', 'cannot', 'increas', 'guess', 'get', 'pay', 'disappoint', 'bought', 'phone', 'mom', 'one', 'hard', 'hear', 'phone', 'ring', 'extrem', 'faint', 'ring', 'volum', 'cannot', 'increas', 'guess', 'get', 'pay', 'disappoint', 'bought', 'phone', 'mom', 'one', 'hard', 'hear', 'phone', 'ring', 'extrem', 'faint', 'ring', 'volum', 'cannot', 'increas', 'guess', 'get', 'pay', 'disappoint', 'bought', 'phone', 'mom', 'one', 'hard', 'hear', 'phone', 'ring', 'extrem', 'faint', 'ring', 'volum', 'cannot', 'increas', 'guess', 'get', 'pay', 'disappoint', 'bought', 'phone', 'mom', 'one', 'hard', 'hear', 'phone', 'ring', 'extrem', 'faint', 'ring', 'volum', 'cannot', 'increas', 'guess', 'get', 'pay', 'disappoint', 'bought', 'phone', 'mom', 'one', 'hard', 'hear', 'phone', 'ring', 'extrem', 'faint', 'ring', 'volum', 'cannot', 'increas', 'guess', 'get', 'pay', 'disappoint', 'bought', 'phone', 'mom', 'one', 'hard', 'hear', 'phone', 'ring', 'extrem', 'faint', 'ring', 'volum', 'cannot', 'increas', 'guess', 'get', 'pay', 'disappoint', 'bought', 'phone', 'mom', 'one', 'hard', 'hear', 'phone', 'ring', 'extrem', 'faint', 'ring', 'volum', 'cannot', 'increas', 'guess', 'get', 'pay', 'disappoint', 'bought', 'phone', 'mom', 'one', 'hard', 'hear', 'phone', 'ring', 'extrem', 'faint', 'ring', 'volum', 'cannot', 'increas', 'guess', 'get', 'pay', 'disappoint', 'bought', 'phone', 'mom', 'one', 'hard', 'hear', 'phone', 'ring', 'extrem', 'faint', 'ring', 'volum', 'cannot', 'increas', 'guess', 'get', 'pay', 'disappoint', 'bought', 'phone', 'mom', 'one', 'hard', 'hear', 'phone', 'ring', 'extrem', 'faint', 'ring', 'volum', 'cannot', 'increas', 'guess', 'get', 'pay', 'disappoint', 'bought', 'phone', 'mom', 'one', 'hard', 'hear', 'phone', 'ring', 'extrem', 'faint', 'ring', 'volum', 'cannot', 'increas', 'guess', 'get', 'pay', 'disappoint', 'bought', 'phone', 'mom', 'one', 'hard', 'hear', 'phone', 'ring', 'extrem', 'faint', 'ring', 'volum', 'cannot', 'increas', 'guess', 'get', 'pay', 'disappoint', 'bought', 'phone', 'mom', 'one', 'hard', 'hear', 'phone', 'ring', 'extrem', 'faint', 'ring', 'volum', 'cannot', 'increas', 'guess', 'get', 'pay', 'disappoint', 'bought', 'phone', 'mom', 'one', 'hard', 'hear', 'phone', 'ring', 'extrem', 'faint', 'ring', 'volum', 'cannot', 'increas', 'guess', 'get', 'pay', 'disappoint', 'bought', 'phone', 'mom', 'one', 'hard', 'hear', 'phone', 'ring', 'extrem', 'faint', 'ring', 'volum', 'cannot', 'increas', 'guess', 'get', 'pay', 'disappoint', 'bought', 'phone', 'mom', 'one', 'hard', 'hear', 'phone', 'ring', 'extrem', 'faint', 'ring', 'volum', 'cannot', 'increas', 'guess', 'get', 'pay', 'disappoint', 'bought', 'phone', 'mom', 'one', 'hard', 'hear', 'phone', 'ring', 'extrem', 'faint', 'ring', 'volum', 'cannot', 'increas', 'guess', 'get', 'pay', 'disappoint', 'bought', 'phone', 'mom', 'one', 'hard', 'hear', 'phone', 'ring', 'extrem', 'faint', 'ring', 'volum', 'cannot', 'increas', 'guess', 'get', 'pay', 'disappoint', 'bought', 'phone', 'mom', 'one', 'hard', 'hear', 'phone', 'ring', 'extrem', 'faint', 'ring', 'volum', 'cannot', 'increas', 'guess', 'get', 'pay', 'disappoint', 'bought', 'phone', 'mom', 'one', 'hard', 'hear', 'phone', 'ring', 'extrem', 'faint', 'ring', 'volum', 'cannot', 'increas', 'guess', 'get', 'pay', 'disappoint', 'bought', 'phone', 'mom', 'one', 'hard', 'hear', 'phone', 'ring', 'extrem', 'faint', 'ring', 'volum', 'cannot', 'increas', 'guess', 'get', 'pay', 'disappoint', 'bought', 'phone', 'mom', 'one', 'hard', 'hear', 'phone', 'ring', 'extrem', 'faint', 'ring', 'volum', 'cannot', 'increas', 'guess', 'get', 'pay', 'disappoint', 'bought', 'phone', 'mom', 'one', 'hard', 'hear', 'phone', 'ring', 'extrem', 'faint', 'ring', 'volum', 'cannot', 'increas', 'guess', 'get', 'pay', 'disappoint', 'bought', 'phone', 'mom', 'one', 'hard', 'hear', 'phone', 'ring', 'extrem', 'faint', 'ring', 'volum', 'cannot', 'increas', 'guess', 'get', 'pay', 'disappoint', 'bought', 'phone', 'mom', 'one', 'hard', 'hear', 'phone', 'ring', 'extrem', 'faint', 'ring', 'volum', 'cannot', 'increas', 'guess', 'get', 'pay', 'disappoint', 'bought', 'phone', 'mom', 'one', 'hard', 'hear', 'phone', 'ring', 'extrem', 'faint', 'ring', 'volum', 'cannot', 'increas', 'guess', 'get', 'pay', 'disappoint', 'bought', 'phone', 'mom', 'one', 'hard', 'hear', 'phone', 'ring', 'extrem', 'faint', 'ring', 'volum', 'cannot', 'increas', 'guess', 'get', 'pay', 'disappoint', 'bought', 'phone', 'mom', 'one', 'hard', 'hear', 'phone', 'ring', 'extrem', 'faint', 'ring', 'volum', 'cannot', 'increas', 'guess', 'get', 'pay', 'disappoint', 'bought', 'phone', 'mom', 'one', 'hard', 'hear', 'phone', 'ring', 'extrem', 'faint', 'ring', 'volum', 'cannot', 'increas', 'guess', 'get', 'pay', 'disappoint', 'bought', 'phone', 'mom', 'one', 'hard', 'hear', 'phone', 'ring', 'extrem', 'faint', 'ring', 'volum', 'cannot', 'increas', 'guess', 'get', 'pay', 'disappoint', 'bought', 'phone', 'mom', 'one', 'hard', 'hear', 'phone', 'ring', 'extrem', 'faint', 'ring', 'volum', 'cannot', 'increas', 'guess', 'get', 'pay', 'disappoint', 'bought', 'phone', 'mom', 'one', 'hard', 'hear', 'phone', 'ring', 'extrem', 'faint', 'ring', 'volum', 'cannot', 'increas', 'guess', 'get', 'pay', 'disappoint', 'bought', 'phone', 'mom', 'one', 'hard', 'hear', 'phone', 'ring', 'extrem', 'faint', 'ring', 'volum', 'cannot', 'increas', 'guess', 'get', 'pay', 'disappoint', 'bought', 'phone', 'mom', 'one', 'hard', 'hear', 'phone', 'ring', 'extrem', 'faint', 'ring', 'volum', 'cannot', 'increas', 'guess', 'get', 'pay', 'disappoint', 'bought', 'phone', 'mom', 'one', 'hard', 'hear', 'phone', 'ring', 'extrem', 'faint', 'ring', 'volum', 'cannot', 'increas', 'guess', 'get', 'pay', 'disappoint', 'bought', 'phone', 'mom', 'one', 'hard', 'hear', 'phone', 'ring', 'extrem', 'faint', 'ring', 'volum', 'cannot', 'increas', 'guess', 'get', 'pay', 'disappoint', 'bought', 'phone', 'mom', 'one', 'hard', 'hear', 'phone', 'ring', 'extrem', 'faint', 'ring', 'volum', 'cannot', 'increas', 'guess', 'get', 'pay', 'disappoint', 'bought', 'phone', 'mom', 'one', 'hard', 'hear', 'phone', 'ring', 'extrem', 'faint', 'ring', 'volum', 'cannot', 'increas', 'guess', 'get', 'pay', 'disappoint', 'bought', 'phone', 'mom', 'one', 'hard', 'hear', 'phone', 'ring', 'extrem', 'faint', 'ring', 'volum', 'cannot', 'increas', 'guess', 'get', 'pay', 'disappoint', 'bought', 'phone', 'mom', 'one', 'hard', 'hear', 'phone', 'ring', 'extrem', 'faint', 'ring', 'volum', 'cannot', 'increas', 'guess', 'get', 'pay', 'disappoint', 'bought', 'phone', 'mom', 'one', 'hard', 'hear', 'phone', 'ring', 'extrem', 'faint', 'ring', 'volum', 'cannot', 'increas', 'guess', 'get', 'pay', 'disappoint', 'bought', 'phone', 'mom', 'one', 'hard', 'hear', 'phone', 'ring', 'extrem', 'faint', 'ring', 'volum', 'cannot', 'increas', 'guess', 'get', 'pay', 'disappoint', 'bought', 'phone', 'mom', 'one', 'hard', 'hear', 'phone', 'ring', 'extrem', 'faint', 'ring', 'volum', 'cannot', 'increas', 'guess', 'get', 'pay', 'disappoint', 'bought', 'phone', 'mom', 'one', 'hard', 'hear', 'phone', 'ring', 'extrem', 'faint', 'ring', 'volum', 'cannot', 'increas', 'guess', 'get', 'pay', 'disappoint', 'bought', 'phone', 'mom', 'one', 'hard', 'hear', 'phone', 'ring', 'extrem', 'faint', 'ring', 'volum', 'cannot', 'increas', 'guess', 'get', 'pay', 'disappoint', 'bought', 'phone', 'mom', 'one', 'hard', 'hear', 'phone', 'ring', 'extrem', 'faint', 'ring', 'volum', 'cannot', 'increas', 'guess', 'get', 'pay', 'disappoint', 'bought', 'phone', 'mom', 'one', 'hard', 'hear', 'phone', 'ring', 'extrem', 'faint', 'ring', 'volum', 'cannot', 'increas', 'guess', 'get', 'pay', 'disappoint', 'bought', 'phone', 'mom', 'one', 'hard', 'hear', 'phone', 'ring', 'extrem', 'faint', 'ring', 'volum', 'cannot', 'increas', 'guess', 'get', 'pay', 'disappoint', 'bought', 'phone', 'mom', 'one', 'hard', 'hear', 'phone', 'ring', 'extrem', 'faint', 'ring', 'volum', 'cannot', 'increas', 'guess', 'get', 'pay', 'disappoint', 'bought', 'phone', 'mom', 'one', 'hard', 'hear', 'phone', 'ring', 'extrem', 'faint', 'ring', 'volum', 'cannot', 'increas', 'guess', 'get', 'pay', 'disappoint', 'bought', 'phone', 'mom', 'one', 'hard', 'hear', 'phone', 'ring', 'extrem', 'faint', 'ring', 'volum', 'cannot', 'increas', 'guess', 'get', 'pay', 'disappoint', 'bought', 'phone', 'mom', 'one', 'hard', 'hear', 'phone', 'ring', 'extrem', 'faint', 'ring', 'volum', 'cannot', 'increas', 'guess', 'get', 'pay', 'disappoint', 'bought', 'phone', 'mom', 'one', 'hard', 'hear', 'phone', 'ring', 'extrem', 'faint', 'ring', 'volum', 'cannot', 'increas', 'guess', 'get', 'pay', 'disappoint', 'bought', 'phone', 'mom', 'one', 'hard', 'hear', 'phone', 'ring', 'extrem', 'faint', 'ring', 'volum', 'cannot', 'increas', 'guess', 'get', 'pay', 'disappoint', 'bought', 'phone', 'mom', 'one', 'hard', 'hear', 'phone', 'ring', 'extrem', 'faint', 'ring', 'volum', 'cannot', 'increas', 'guess', 'get', 'pay', 'disappoint', 'bought', 'phone', 'mom', 'one', 'hard', 'hear', 'phone', 'ring', 'extrem', 'faint', 'ring', 'volum', 'cannot', 'increas', 'guess', 'get', 'pay', 'disappoint', 'bought', 'phone', 'mom', 'one', 'hard', 'hear', 'phone', 'ring', 'extrem', 'faint', 'ring', 'volum', 'cannot', 'increas', 'guess', 'get', 'pay', 'disappoint', 'bought', 'phone', 'mom', 'one', 'hard', 'hear', 'phone', 'ring', 'extrem', 'faint', 'ring', 'volum', 'cannot', 'increas', 'guess', 'get', 'pay', 'disappoint', 'bought', 'phone', 'mom', 'one', 'hard', 'hear', 'phone', 'ring', 'extrem', 'faint', 'ring', 'volum', 'cannot', 'increas', 'guess', 'get', 'pay', 'disappoint', 'bought', 'phone', 'mom', 'one', 'hard', 'hear', 'phone', 'ring', 'extrem', 'faint', 'ring', 'volum', 'cannot', 'increas', 'guess', 'get', 'pay', 'disappoint', 'bought', 'phone', 'mom', 'one', 'hard', 'hear', 'phone', 'ring', 'extrem', 'faint', 'ring', 'volum', 'cannot', 'increas', 'guess', 'get', 'pay', 'disappoint', 'bought', 'phone', 'mom', 'one', 'hard', 'hear', 'phone', 'ring', 'extrem', 'faint', 'ring', 'volum', 'cannot', 'increas', 'guess', 'get', 'pay', 'disappoint', 'bought', 'phone', 'mom', 'one', 'hard', 'hear', 'phone', 'ring', 'extrem', 'faint', 'ring', 'volum', 'cannot', 'increas', 'guess', 'get', 'pay', 'disappoint', 'bought', 'phone', 'mom', 'one', 'hard', 'hear', 'phone', 'ring', 'extrem', 'faint', 'ring', 'volum', 'cannot', 'increas', 'guess', 'get', 'pay', 'disappoint', 'bought', 'phone', 'mom', 'one', 'hard', 'hear', 'phone', 'ring', 'extrem', 'faint', 'ring', 'volum', 'cannot', 'increas', 'guess', 'get', 'pay', 'disappoint', 'bought', 'phone', 'mom', 'one', 'hard', 'hear', 'phone', 'ring', 'extrem', 'faint', 'ring', 'volum', 'cannot', 'increas', 'guess', 'get', 'pay', 'disappoint', 'bought', 'phone', 'mom', 'one', 'hard', 'hear', 'phone', 'ring', 'extrem', 'faint', 'ring', 'volum', 'cannot', 'increas', 'guess', 'get', 'pay', 'disappoint', 'bought', 'phone', 'mom', 'one', 'hard', 'hear', 'phone', 'ring', 'extrem', 'faint', 'ring', 'volum', 'cannot', 'increas', 'guess', 'get', 'pay', 'disappoint', 'bought', 'phone', 'mom', 'one', 'hard', 'hear', 'phone', 'ring', 'extrem', 'faint', 'ring', 'volum', 'cannot', 'increas', 'guess', 'get', 'pay', 'disappoint', 'bought', 'phone', 'mom', 'one', 'hard', 'hear', 'phone', 'ring', 'extrem', 'faint', 'ring', 'volum', 'cannot', 'increas', 'guess', 'get', 'pay', 'disappoint', 'bought', 'phone', 'mom', 'one', 'hard', 'hear', 'phone', 'ring', 'extrem', 'faint', 'ring', 'volum', 'cannot', 'increas', 'guess', 'get', 'pay', 'disappoint', 'bought', 'phone', 'mom', 'one', 'hard', 'hear', 'phone', 'ring', 'extrem', 'faint', 'ring', 'volum', 'cannot', 'increas', 'guess', 'get', 'pay', 'disappoint', 'bought', 'phone', 'mom', 'one', 'hard', 'hear', 'phone', 'ring', 'extrem', 'faint', 'ring', 'volum', 'cannot', 'increas', 'guess', 'get', 'pay', 'disappoint', 'bought', 'phone', 'mom', 'one', 'hard', 'hear', 'phone', 'ring', 'extrem', 'faint', 'ring', 'volum', 'cannot', 'increas', 'guess', 'get', 'pay', 'disappoint', 'bought', 'phone', 'mom', 'one', 'hard', 'hear', 'phone', 'ring', 'extrem', 'faint', 'ring', 'volum', 'cannot', 'increas', 'guess', 'get', 'pay', 'disappoint', 'bought', 'phone', 'mom', 'one', 'hard', 'hear', 'phone', 'ring', 'extrem', 'faint', 'ring', 'volum', 'cannot', 'increas', 'guess', 'get', 'pay', 'disappoint', 'bought', 'phone', 'mom', 'one', 'hard', 'hear', 'phone', 'ring', 'extrem', 'faint', 'ring', 'volum', 'cannot', 'increas', 'guess', 'get', 'pay', 'disappoint', 'bought', 'phone', 'mom', 'one', 'hard', 'hear', 'phone', 'ring', 'extrem', 'faint', 'ring', 'volum', 'cannot', 'increas', 'guess', 'get', 'pay', 'disappoint', 'bought', 'phone', 'mom', 'one', 'hard', 'hear', 'phone', 'ring', 'extrem', 'faint', 'ring', 'volum', 'cannot', 'increas', 'guess', 'get', 'pay', 'disappoint', 'bought', 'phone', 'mom', 'one', 'hard', 'hear', 'phone', 'ring', 'extrem', 'faint', 'ring', 'volum', 'cannot', 'increas', 'guess', 'get', 'pay', 'disappoint', 'bought', 'phone', 'mom', 'one', 'hard', 'hear', 'phone', 'ring', 'extrem', 'faint', 'ring', 'volum', 'cannot', 'increas', 'guess', 'get', 'pay', 'disappoint', 'bought', 'phone', 'mom', 'one', 'hard', 'hear', 'phone', 'ring', 'extrem', 'faint', 'ring', 'volum', 'cannot', 'increas', 'guess', 'get', 'pay', 'disappoint', 'bought', 'phone', 'mom', 'one', 'hard', 'hear', 'phone', 'ring', 'extrem', 'faint', 'ring', 'volum', 'cannot', 'increas', 'guess', 'get', 'pay', 'disappoint', 'bought', 'phone', 'mom', 'one', 'hard', 'hear', 'phone', 'ring', 'extrem', 'faint', 'ring', 'volum', 'cannot', 'increas', 'guess', 'get', 'pay', 'disappoint', 'bought', 'phone', 'mom', 'one', 'hard', 'hear', 'phone', 'ring', 'extrem', 'faint', 'ring', 'volum', 'cannot', 'increas', 'guess', 'get', 'pay', 'disappoint', 'bought', 'phone', 'mom', 'one', 'hard', 'hear', 'phone', 'ring', 'extrem', 'faint', 'ring', 'volum', 'cannot', 'increas', 'guess', 'get', 'pay', 'disappoint', 'bought', 'phone', 'mom', 'one', 'hard', 'hear', 'phone', 'ring', 'extrem', 'faint', 'ring', 'volum', 'cannot', 'increas', 'guess', 'get', 'pay', 'disappoint', 'bought', 'phone', 'mom', 'one', 'hard', 'hear', 'phone', 'ring', 'extrem', 'faint', 'ring', 'volum', 'cannot', 'increas', 'guess', 'get', 'pay', 'disappoint', 'bought', 'phone', 'mom', 'one', 'hard', 'hear', 'phone', 'ring', 'extrem', 'faint', 'ring', 'volum', 'cannot', 'increas', 'guess', 'get', 'pay', 'disappoint', 'bought', 'phone', 'mom', 'one', 'hard', 'hear', 'phone', 'ring', 'extrem', 'faint', 'ring', 'volum', 'cannot', 'increas', 'guess', 'get', 'pay', 'disappoint', 'bought', 'phone', 'mom', 'one', 'hard', 'hear', 'phone', 'ring', 'extrem', 'faint', 'ring', 'volum', 'cannot', 'increas', 'guess', 'get', 'pay', 'disappoint', 'bought', 'phone', 'mom', 'one', 'hard', 'hear', 'phone', 'ring', 'extrem', 'faint', 'ring', 'volum', 'cannot', 'increas', 'guess', 'get', 'pay', 'disappoint', 'bought', 'phone', 'mom', 'one', 'hard', 'hear', 'phone', 'ring', 'extrem', 'faint', 'ring', 'volum', 'cannot', 'increas', 'guess', 'get', 'pay', 'disappoint', 'bought', 'phone', 'mom', 'one', 'hard', 'hear', 'phone', 'ring', 'extrem', 'faint', 'ring', 'volum', 'cannot', 'increas', 'guess', 'get', 'pay', 'disappoint', 'bought', 'phone', 'mom', 'one', 'hard', 'hear', 'phone', 'ring', 'extrem', 'faint', 'ring', 'volum', 'cannot', 'increas', 'guess', 'get', 'pay', 'disappoint', 'bought', 'phone', 'mom', 'one', 'hard', 'hear', 'phone', 'ring', 'extrem', 'faint', 'ring', 'volum', 'cannot', 'increas', 'guess', 'get', 'pay', 'disappoint', 'bought', 'phone', 'mom', 'one', 'hard', 'hear', 'phone', 'ring', 'extrem', 'faint', 'ring', 'volum', 'cannot', 'increas', 'guess', 'get', 'pay', 'disappoint', 'bought', 'phone', 'mom', 'one', 'hard', 'hear', 'phone', 'ring', 'extrem', 'faint', 'ring', 'volum', 'cannot', 'increas', 'guess', 'get', 'pay', 'disappoint', 'bought', 'phone', 'mom', 'one', 'hard', 'hear', 'phone', 'ring', 'extrem', 'faint', 'ring', 'volum', 'cannot', 'increas', 'guess', 'get', 'pay', 'disappoint', 'bought', 'phone', 'mom', 'one', 'hard', 'hear', 'phone', 'ring', 'extrem', 'faint', 'ring', 'volum', 'cannot', 'increas', 'guess', 'get', 'pay', 'disappoint', 'bought', 'phone', 'mom', 'one', 'hard', 'hear', 'phone', 'ring', 'extrem', 'faint', 'ring', 'volum', 'cannot', 'increas', 'guess', 'get', 'pay', 'disappoint', 'bought', 'phone', 'mom', 'one', 'hard', 'hear', 'phone', 'ring', 'extrem', 'faint', 'ring', 'volum', 'cannot', 'increas', 'guess', 'get', 'pay', 'disappoint', 'bought', 'phone', 'mom', 'one', 'hard', 'hear', 'phone', 'ring', 'extrem', 'faint', 'ring', 'volum', 'cannot', 'increas', 'guess', 'get', 'pay', 'disappoint', 'bought', 'phone', 'mom', 'one', 'hard', 'hear', 'phone', 'ring', 'extrem', 'faint', 'ring', 'volum', 'cannot', 'increas', 'guess', 'get', 'pay', 'disappoint', 'bought', 'phone', 'mom', 'one', 'hard', 'hear', 'phone', 'ring', 'extrem', 'faint', 'ring', 'volum', 'cannot', 'increas', 'guess', 'get', 'pay', 'disappoint', 'bought', 'phone', 'mom', 'one', 'hard', 'hear', 'phone', 'ring', 'extrem', 'faint', 'ring', 'volum', 'cannot', 'increas', 'guess', 'get', 'pay', 'disappoint', 'bought', 'phone', 'mom', 'one', 'hard', 'hear', 'phone', 'ring', 'extrem', 'faint', 'ring', 'volum', 'cannot', 'increas', 'guess', 'get', 'pay', 'disappoint', 'bought', 'phone', 'mom', 'one', 'hard', 'hear', 'phone', 'ring', 'extrem', 'faint', 'ring', 'volum', 'cannot', 'increas', 'guess', 'get', 'pay', 'disappoint', 'bought', 'phone', 'mom', 'one', 'hard', 'hear', 'phone', 'ring', 'extrem', 'faint', 'ring', 'volum', 'cannot', 'increas', 'guess', 'get', 'pay', 'disappoint', 'bought', 'phone', 'mom', 'one', 'hard', 'hear', 'phone', 'ring', 'extrem', 'faint', 'ring', 'volum', 'cannot', 'increas', 'guess', 'get', 'pay', 'disappoint', 'bought', 'phone', 'mom', 'one', 'hard', 'hear', 'phone', 'ring', 'extrem', 'faint', 'ring', 'volum', 'cannot', 'increas', 'guess', 'get', 'pay', 'disappoint', 'bought', 'phone', 'mom', 'one', 'hard', 'hear', 'phone', 'ring', 'extrem', 'faint', 'ring', 'volum', 'cannot', 'increas', 'guess', 'get', 'pay', 'disappoint', 'bought', 'phone', 'mom', 'one', 'hard', 'hear', 'phone', 'ring', 'extrem', 'faint', 'ring', 'volum', 'cannot', 'increas', 'guess', 'get', 'pay', 'disappoint', 'bought', 'phone', 'mom', 'one', 'hard', 'hear', 'phone', 'ring', 'extrem', 'faint', 'ring', 'volum', 'cannot', 'increas', 'guess', 'get', 'pay', 'disappoint', 'bought', 'phone', 'mom', 'one', 'hard', 'hear', 'phone', 'ring', 'extrem', 'faint', 'ring', 'volum', 'cannot', 'increas', 'guess', 'get', 'pay', 'disappoint', 'bought', 'phone', 'mom', 'one', 'hard', 'hear', 'phone', 'ring', 'extrem', 'faint', 'ring', 'volum', 'cannot', 'increas', 'guess', 'get', 'pay', 'disappoint', 'bought', 'phone', 'mom', 'one', 'hard', 'hear', 'phone', 'ring', 'extrem', 'faint', 'ring', 'volum', 'cannot', 'increas', 'guess', 'get', 'pay', 'disappoint', 'bought', 'phone', 'mom', 'one', 'hard', 'hear', 'phone', 'ring', 'extrem', 'faint', 'ring', 'volum', 'cannot', 'increas', 'guess', 'get', 'pay', 'disappoint', 'bought', 'phone', 'mom', 'one', 'hard', 'hear', 'phone', 'ring', 'extrem', 'faint', 'ring', 'volum', 'cannot', 'increas', 'guess', 'get', 'pay', 'disappoint', 'bought', 'phone', 'mom', 'one', 'hard', 'hear', 'phone', 'ring', 'extrem', 'faint', 'ring', 'volum', 'cannot', 'increas', 'guess', 'get', 'pay', 'disappoint', 'bought', 'phone', 'mom', 'one', 'hard', 'hear', 'phone', 'ring', 'extrem', 'faint', 'ring', 'volum', 'cannot', 'increas', 'guess', 'get', 'pay', 'disappoint', 'bought', 'phone', 'mom', 'one', 'hard', 'hear', 'phone', 'ring', 'extrem', 'faint', 'ring', 'volum', 'cannot', 'increas', 'guess', 'get', 'pay', 'disappoint', 'bought', 'phone', 'mom', 'one', 'hard', 'hear', 'phone', 'ring', 'extrem', 'faint', 'ring', 'volum', 'cannot', 'increas', 'guess', 'get', 'pay', 'disappoint', 'bought', 'phone', 'mom', 'one', 'hard', 'hear', 'phone', 'ring', 'extrem', 'faint', 'ring', 'volum', 'cannot', 'increas', 'guess', 'get', 'pay', 'disappoint', 'bought', 'phone', 'mom', 'one', 'hard', 'hear', 'phone', 'ring', 'extrem', 'faint', 'ring', 'volum', 'cannot', 'increas', 'guess', 'get', 'pay', 'disappoint', 'bought', 'phone', 'mom', 'one', 'hard', 'hear', 'phone', 'ring', 'extrem', 'faint', 'ring', 'volum', 'cannot', 'increas', 'guess', 'get', 'pay', 'disappoint', 'bought', 'phone', 'mom', 'one', 'hard', 'hear', 'phone', 'ring', 'extrem', 'faint', 'ring', 'volum', 'cannot', 'increas', 'guess', 'get', 'pay', 'disappoint', 'bought', 'phone', 'mom', 'one', 'hard', 'hear', 'phone', 'ring', 'extrem', 'faint', 'ring', 'volum', 'cannot', 'increas', 'guess', 'get', 'pay', 'disappoint', 'bought', 'phone', 'mom', 'one', 'hard', 'hear', 'phone', 'ring', 'extrem', 'faint', 'ring', 'volum', 'cannot', 'increas', 'guess', 'get', 'pay', 'disappoint', 'bought', 'phone', 'mom', 'one', 'hard', 'hear', 'phone', 'ring', 'extrem', 'faint', 'ring', 'volum', 'cannot', 'increas', 'guess', 'get', 'pay', 'disappoint', 'bought', 'phone', 'mom', 'one', 'hard', 'hear', 'phone', 'ring', 'extrem', 'faint', 'ring', 'volum', 'cannot', 'increas', 'guess', 'get', 'pay', 'disappoint', 'bought', 'phone', 'mom', 'one', 'hard', 'hear', 'phone', 'ring', 'extrem', 'faint', 'ring', 'volum', 'cannot', 'increas', 'guess', 'get', 'pay', 'disappoint', 'bought', 'phone', 'mom', 'one', 'hard', 'hear', 'phone', 'ring', 'extrem', 'faint', 'ring', 'volum', 'cannot', 'increas', 'guess', 'get', 'pay', 'disappoint', 'bought', 'phone', 'mom', 'one', 'hard', 'hear', 'phone', 'ring', 'extrem', 'faint', 'ring', 'volum', 'cannot', 'increas', 'guess', 'get', 'pay', 'disappoint', 'bought', 'phone', 'mom', 'one', 'hard', 'hear', 'phone', 'ring', 'extrem', 'faint', 'ring', 'volum', 'cannot', 'increas', 'guess', 'get', 'pay', 'disappoint', 'bought', 'phone', 'mom', 'one', 'hard', 'hear', 'phone', 'ring', 'extrem', 'faint', 'ring', 'volum', 'cannot', 'increas', 'guess', 'get', 'pay', 'disappoint', 'bought', 'phone', 'mom', 'one', 'hard', 'hear', 'phone', 'ring', 'extrem', 'faint', 'ring', 'volum', 'cannot', 'increas', 'guess', 'get', 'pay', 'disappoint', 'bought', 'phone', 'mom', 'one', 'hard', 'hear', 'phone', 'ring', 'extrem', 'faint', 'ring', 'volum', 'cannot', 'increas', 'guess', 'get', 'pay', 'disappoint', 'bought', 'phone', 'mom', 'one', 'hard', 'hear', 'phone', 'ring', 'extrem', 'faint', 'ring', 'volum', 'cannot', 'increas', 'guess', 'get', 'pay', 'disappoint', 'bought', 'phone', 'mom', 'one', 'hard', 'hear', 'phone', 'ring', 'extrem', 'faint', 'ring', 'volum', 'cannot', 'increas', 'guess', 'get', 'pay', 'disappoint', 'bought', 'phone', 'mom', 'one', 'hard', 'hear', 'phone', 'ring', 'extrem', 'faint', 'ring', 'volum', 'cannot', 'increas', 'guess', 'get', 'pay', 'disappoint', 'bought', 'phone', 'mom', 'one', 'hard', 'hear', 'phone', 'ring', 'extrem', 'faint', 'ring', 'volum', 'cannot', 'increas', 'guess', 'get', 'pay', 'disappoint', 'bought', 'phone', 'mom', 'one', 'hard', 'hear', 'phone', 'ring', 'extrem', 'faint', 'ring', 'volum', 'cannot', 'increas', 'guess', 'get', 'pay', 'disappoint', 'bought', 'phone', 'mom', 'one', 'hard', 'hear', 'phone', 'ring', 'extrem', 'faint', 'ring', 'volum', 'cannot', 'increas', 'guess', 'get', 'pay', 'disappoint', 'bought', 'phone', 'mom', 'one', 'hard', 'hear', 'phone', 'ring', 'extrem', 'faint', 'ring', 'volum', 'cannot', 'increas', 'guess', 'get', 'pay', 'disappoint', 'bought', 'phone', 'mom', 'one', 'hard', 'hear', 'phone', 'ring', 'extrem', 'faint', 'ring', 'volum', 'cannot', 'increas', 'guess', 'get', 'pay', 'disappoint', 'bought', 'phone', 'mom', 'one', 'hard', 'hear', 'phone', 'ring', 'extrem', 'faint', 'ring', 'volum', 'cannot', 'increas', 'guess', 'get', 'pay', 'disappoint', 'bought', 'phone', 'mom', 'one', 'hard', 'hear', 'phone', 'ring', 'extrem', 'faint', 'ring', 'volum', 'cannot', 'increas', 'guess', 'get', 'pay', 'disappoint', 'bought', 'phone', 'mom', 'one', 'hard', 'hear', 'phone', 'ring', 'extrem', 'faint', 'ring', 'volum', 'cannot', 'increas', 'guess', 'get', 'pay', 'disappoint', 'bought', 'phone', 'mom', 'one', 'hard', 'hear', 'phone', 'ring', 'extrem', 'faint', 'ring', 'volum', 'cannot', 'increas', 'guess', 'get', 'pay', 'disappoint', 'bought', 'phone', 'mom', 'one', 'hard', 'hear', 'phone', 'ring', 'extrem', 'faint', 'ring', 'volum', 'cannot', 'increas', 'guess', 'get', 'pay', 'disappoint', 'bought', 'phone', 'mom', 'one', 'hard', 'hear', 'phone', 'ring', 'extrem', 'faint', 'ring', 'volum', 'cannot', 'increas', 'guess', 'get', 'pay', 'disappoint', 'bought', 'phone', 'mom', 'one', 'hard', 'hear', 'phone', 'ring', 'extrem', 'faint', 'ring', 'volum', 'cannot', 'increas', 'guess', 'get', 'pay', 'disappoint', 'bought', 'phone', 'mom', 'one', 'hard', 'hear', 'phone', 'ring', 'extrem', 'faint', 'ring', 'volum', 'cannot', 'increas', 'guess', 'get', 'pay', 'disappoint', 'bought', 'phone', 'mom', 'one', 'hard', 'hear', 'phone', 'ring', 'extrem', 'faint', 'ring', 'volum', 'cannot', 'increas', 'guess', 'get', 'pay', 'disappoint', 'bought', 'phone', 'mom', 'one', 'hard', 'hear', 'phone', 'ring', 'extrem', 'faint', 'ring', 'volum', 'cannot', 'increas', 'guess', 'get', 'pay', 'disappoint', 'bought', 'phone', 'mom', 'one', 'hard', 'hear', 'phone', 'ring', 'extrem', 'faint', 'ring', 'volum', 'cannot', 'increas', 'guess', 'get', 'pay', 'disappoint', 'bought', 'phone', 'mom', 'one', 'hard', 'hear', 'phone', 'ring', 'extrem', 'faint', 'ring', 'volum', 'cannot', 'increas', 'guess', 'get', 'pay', 'disappoint', 'bought', 'phone', 'mom', 'one', 'hard', 'hear', 'phone', 'ring', 'extrem', 'faint', 'ring', 'volum', 'cannot', 'increas', 'guess', 'get', 'pay', 'disappoint', 'bought', 'phone', 'mom', 'one', 'hard', 'hear', 'phone', 'ring', 'extrem', 'faint', 'ring', 'volum', 'cannot', 'increas', 'guess', 'get', 'pay', 'disappoint', 'bought', 'phone', 'mom', 'one', 'hard', 'hear', 'phone', 'ring', 'extrem', 'faint', 'ring', 'volum', 'cannot', 'increas', 'guess', 'get', 'pay', 'disappoint', 'bought', 'phone', 'mom', 'one', 'hard', 'hear', 'phone', 'ring', 'extrem', 'faint', 'ring', 'volum', 'cannot', 'increas', 'guess', 'get', 'pay', 'disappoint', 'bought', 'phone', 'mom', 'one', 'hard', 'hear', 'phone', 'ring', 'extrem', 'faint', 'ring', 'volum', 'cannot', 'increas', 'guess', 'get', 'pay', 'disappoint', 'bought', 'phone', 'mom', 'one', 'hard', 'hear', 'phone', 'ring', 'extrem', 'faint', 'ring', 'volum', 'cannot', 'increas', 'guess', 'get', 'pay', 'disappoint', 'bought', 'phone', 'mom', 'one', 'hard', 'hear', 'phone', 'ring', 'extrem', 'faint', 'ring', 'volum', 'cannot', 'increas', 'guess', 'get', 'pay', 'disappoint', 'bought', 'phone', 'mom', 'one', 'hard', 'hear', 'phone', 'ring', 'extrem', 'faint', 'ring', 'volum', 'cannot', 'increas', 'guess', 'get', 'pay', 'disappoint', 'bought', 'phone', 'mom', 'one', 'hard', 'hear', 'phone', 'ring', 'extrem', 'faint', 'ring', 'volum', 'cannot', 'increas', 'guess', 'get', 'pay', 'disappoint', 'bought', 'phone', 'mom', 'one', 'hard', 'hear', 'phone', 'ring', 'extrem', 'faint', 'ring', 'volum', 'cannot', 'increas', 'guess', 'get', 'pay', 'disappoint', 'bought', 'phone', 'mom', 'one', 'hard', 'hear', 'phone', 'ring', 'extrem', 'faint', 'ring', 'volum', 'cannot', 'increas', 'guess', 'get', 'pay', 'disappoint', 'bought', 'phone', 'mom', 'one', 'hard', 'hear', 'phone', 'ring', 'extrem', 'faint', 'ring', 'volum', 'cannot', 'increas', 'guess', 'get', 'pay', 'disappoint', 'bought', 'phone', 'mom', 'one', 'hard', 'hear', 'phone', 'ring', 'extrem', 'faint', 'ring', 'volum', 'cannot', 'increas', 'guess', 'get', 'pay', 'disappoint', 'bought', 'phone', 'mom', 'one', 'hard', 'hear', 'phone', 'ring', 'extrem', 'faint', 'ring', 'volum', 'cannot', 'increas', 'guess', 'get', 'pay', 'disappoint', 'bought', 'phone', 'mom', 'one', 'hard', 'hear', 'phone', 'ring', 'extrem', 'faint', 'ring', 'volum', 'cannot', 'increas', 'guess', 'get', 'pay', 'disappoint', 'bought', 'phone', 'mom', 'one', 'hard', 'hear', 'phone', 'ring', 'extrem', 'faint', 'ring', 'volum', 'cannot', 'increas', 'guess', 'get', 'pay', 'disappoint', 'bought', 'phone', 'mom', 'one', 'hard', 'hear', 'phone', 'ring', 'extrem', 'faint', 'ring', 'volum', 'cannot', 'increas', 'guess', 'get', 'pay', 'disappoint', 'bought', 'phone', 'mom', 'one', 'hard', 'hear', 'phone', 'ring', 'extrem', 'faint', 'ring', 'volum', 'cannot', 'increas', 'guess', 'get', 'pay', 'disappoint', 'bought', 'phone', 'mom', 'one', 'hard', 'hear', 'phone', 'ring', 'extrem', 'faint', 'ring', 'volum', 'cannot', 'increas', 'guess', 'get', 'pay', 'disappoint', 'bought', 'phone', 'mom', 'one', 'hard', 'hear', 'phone', 'ring', 'extrem', 'faint', 'ring', 'volum', 'cannot', 'increas', 'guess', 'get', 'pay', 'disappoint', 'bought', 'phone', 'mom', 'one', 'hard', 'hear', 'phone', 'ring', 'extrem', 'faint', 'ring', 'volum', 'cannot', 'increas', 'guess', 'get', 'pay', 'disappoint', 'bought', 'phone', 'mom', 'one', 'hard', 'hear', 'phone', 'ring', 'extrem', 'faint', 'ring', 'volum', 'cannot', 'increas', 'guess', 'get', 'pay', 'disappoint', 'bought', 'phone', 'mom', 'one', 'hard', 'hear', 'phone', 'ring', 'extrem', 'faint', 'ring', 'volum', 'cannot', 'increas', 'guess', 'get', 'pay', 'disappoint', 'bought', 'phone', 'mom', 'one', 'hard', 'hear', 'phone', 'ring', 'extrem', 'faint', 'ring', 'volum', 'cannot', 'increas', 'guess', 'get', 'pay', 'disappoint', 'bought', 'phone', 'mom', 'one', 'hard', 'hear', 'phone', 'ring', 'extrem', 'faint', 'ring', 'volum', 'cannot', 'increas', 'guess', 'get', 'pay', 'disappoint', 'bought', 'phone', 'mom', 'one', 'hard', 'hear', 'phone', 'ring', 'extrem', 'faint', 'ring', 'volum', 'cannot', 'increas', 'guess', 'get', 'pay', 'disappoint', 'bought', 'phone', 'mom', 'one', 'hard', 'hear', 'phone', 'ring', 'extrem', 'faint', 'ring', 'volum', 'cannot', 'increas', 'guess', 'get', 'pay', 'disappoint', 'bought', 'phone', 'mom', 'one', 'hard', 'hear', 'phone', 'ring', 'extrem', 'faint', 'ring', 'volum', 'cannot', 'increas', 'guess', 'get', 'pay', 'disappoint', 'bought', 'phone', 'mom', 'one', 'hard', 'hear', 'phone', 'ring', 'extrem', 'faint', 'ring', 'volum', 'cannot', 'increas', 'guess', 'get', 'pay', 'disappoint', 'bought', 'phone', 'mom', 'one', 'hard', 'hear', 'phone', 'ring', 'extrem', 'faint', 'ring', 'volum', 'cannot', 'increas', 'guess', 'get', 'pay', 'disappoint', 'bought', 'phone', 'mom', 'one', 'hard', 'hear', 'phone', 'ring', 'extrem', 'faint', 'ring', 'volum', 'cannot', 'increas', 'guess', 'get', 'pay', 'disappoint', 'bought', 'phone', 'mom', 'one', 'hard', 'hear', 'phone', 'ring', 'extrem', 'faint', 'ring', 'volum', 'cannot', 'increas', 'guess', 'get', 'pay', 'disappoint', 'bought', 'phone', 'mom', 'one', 'hard', 'hear', 'phone', 'ring', 'extrem', 'faint', 'ring', 'volum', 'cannot', 'increas', 'guess', 'get', 'pay', 'disappoint', 'bought', 'phone', 'mom', 'one', 'hard', 'hear', 'phone', 'ring', 'extrem', 'faint', 'ring', 'volum', 'cannot', 'increas', 'guess', 'get', 'pay', 'disappoint', 'bought', 'phone', 'mom', 'one', 'hard', 'hear', 'phone', 'ring', 'extrem', 'faint', 'ring', 'volum', 'cannot', 'increas', 'guess', 'get', 'pay', 'disappoint', 'bought', 'phone', 'mom', 'one', 'hard', 'hear', 'phone', 'ring', 'extrem', 'faint', 'ring', 'volum', 'cannot', 'increas', 'guess', 'get', 'pay', 'disappoint', 'bought', 'phone', 'mom', 'one', 'hard', 'hear', 'phone', 'ring', 'extrem', 'faint', 'ring', 'volum', 'cannot', 'increas', 'guess', 'get', 'pay', 'disappoint', 'bought', 'phone', 'mom', 'one', 'hard', 'hear', 'phone', 'ring', 'extrem', 'faint', 'ring', 'volum', 'cannot', 'increas', 'guess', 'get', 'pay', 'disappoint', 'bought', 'phone', 'mom', 'one', 'hard', 'hear', 'phone', 'ring', 'extrem', 'faint', 'ring', 'volum', 'cannot', 'increas', 'guess', 'get', 'pay', 'disappoint', 'bought', 'phone', 'mom', 'one', 'hard', 'hear', 'phone', 'ring', 'extrem', 'faint', 'ring', 'volum', 'cannot', 'increas', 'guess', 'get', 'pay', 'disappoint', 'bought', 'phone', 'mom', 'one', 'hard', 'hear', 'phone', 'ring', 'extrem', 'faint', 'ring', 'volum', 'cannot', 'increas', 'guess', 'get', 'pay', 'disappoint', 'bought', 'phone', 'mom', 'one', 'hard', 'hear', 'phone', 'ring', 'extrem', 'faint', 'ring', 'volum', 'cannot', 'increas', 'guess', 'get', 'pay', 'disappoint', 'bought', 'phone', 'mom', 'one', 'hard', 'hear', 'phone', 'ring', 'extrem', 'faint', 'ring', 'volum', 'cannot', 'increas', 'guess', 'get', 'pay', 'disappoint', 'bought', 'phone', 'mom', 'one', 'hard', 'hear', 'phone', 'ring', 'extrem', 'faint', 'ring', 'volum', 'cannot', 'increas', 'guess', 'get', 'pay', 'disappoint', 'bought', 'phone', 'mom', 'one', 'hard', 'hear', 'phone', 'ring', 'extrem', 'faint', 'ring', 'volum', 'cannot', 'increas', 'guess', 'get', 'pay', 'disappoint', 'bought', 'phone', 'mom', 'one', 'hard', 'hear', 'phone', 'ring', 'extrem', 'faint', 'ring', 'volum', 'cannot', 'increas', 'guess', 'get', 'pay', 'disappoint', 'bought', 'phone', 'mom', 'one', 'hard', 'hear', 'phone', 'ring', 'extrem', 'faint', 'ring', 'volum', 'cannot', 'increas', 'guess', 'get', 'pay', 'disappoint', 'bought', 'phone', 'mom', 'one', 'hard', 'hear', 'phone', 'ring', 'extrem', 'faint', 'ring', 'volum', 'cannot', 'increas', 'guess', 'get', 'pay', 'disappoint', 'bought', 'phone', 'mom', 'one', 'hard', 'hear', 'phone', 'ring', 'extrem', 'faint', 'ring', 'volum', 'cannot', 'increas', 'guess', 'get', 'pay', 'disappoint', 'bought', 'phone', 'mom', 'one', 'hard', 'hear', 'phone', 'ring', 'extrem', 'faint', 'ring', 'volum', 'cannot', 'increas', 'guess', 'get', 'pay', 'disappoint', 'bought', 'phone', 'mom', 'one', 'hard', 'hear', 'phone', 'ring', 'extrem', 'faint', 'ring', 'volum', 'cannot', 'increas', 'guess', 'get', 'pay', 'disappoint', 'bought', 'phone', 'mom', 'one', 'hard', 'hear', 'phone', 'ring', 'extrem', 'faint', 'ring', 'volum', 'cannot', 'increas', 'guess', 'get', 'pay', 'disappoint', 'bought', 'phone', 'mom', 'one', 'hard', 'hear', 'phone', 'ring', 'extrem', 'faint', 'ring', 'volum', 'cannot', 'increas', 'guess', 'get', 'pay', 'disappoint', 'bought', 'phone', 'mom', 'one', 'hard', 'hear', 'phone', 'ring', 'extrem', 'faint', 'ring', 'volum', 'cannot', 'increas', 'guess', 'get', 'pay', 'disappoint', 'bought', 'phone', 'mom', 'one', 'hard', 'hear', 'phone', 'ring', 'extrem', 'faint', 'ring', 'volum', 'cannot', 'increas', 'guess', 'get', 'pay', 'disappoint', 'bought', 'phone', 'mom', 'one', 'hard', 'hear', 'phone', 'ring', 'extrem', 'faint', 'ring', 'volum', 'cannot', 'increas', 'guess', 'get', 'pay', 'disappoint', 'bought', 'phone', 'mom', 'one', 'hard', 'hear', 'phone', 'ring', 'extrem', 'faint', 'ring', 'volum', 'cannot', 'increas', 'guess', 'get', 'pay', 'disappoint', 'bought', 'phone', 'mom', 'one', 'hard', 'hear', 'phone', 'ring', 'extrem', 'faint', 'ring', 'volum', 'cannot', 'increas', 'guess', 'get', 'pay', 'disappoint', 'bought', 'phone', 'mom', 'one', 'hard', 'hear', 'phone', 'ring', 'extrem', 'faint', 'ring', 'volum', 'cannot', 'increas', 'guess', 'get', 'pay', 'disappoint', 'bought', 'phone', 'mom', 'one', 'hard', 'hear', 'phone', 'ring', 'extrem', 'faint', 'ring', 'volum', 'cannot', 'increas', 'guess', 'get', 'pay', 'disappoint', 'bought', 'phone', 'mom', 'one', 'hard', 'hear', 'phone', 'ring', 'extrem', 'faint', 'ring', 'volum', 'cannot', 'increas', 'guess', 'get', 'pay', 'disappoint', 'bought', 'phone', 'mom', 'one', 'hard', 'hear', 'phone', 'ring', 'extrem', 'faint', 'ring', 'volum', 'cannot', 'increas', 'guess', 'get', 'pay', 'disappoint', 'bought', 'phone', 'mom', 'one', 'hard', 'hear', 'phone', 'ring', 'extrem', 'faint', 'ring', 'volum', 'cannot', 'increas', 'guess', 'get', 'pay', 'disappoint', 'bought', 'phone', 'mom', 'one', 'hard', 'hear', 'phone', 'ring', 'extrem', 'faint', 'ring', 'volum', 'cannot', 'increas', 'guess', 'get', 'pay', 'disappoint', 'bought', 'phone', 'mom', 'one', 'hard', 'hear', 'phone', 'ring', 'extrem', 'faint', 'ring', 'volum', 'cannot', 'increas', 'guess', 'get', 'pay', 'disappoint', 'bought', 'phone', 'mom', 'one', 'hard', 'hear', 'phone', 'ring', 'extrem', 'faint', 'ring', 'volum', 'cannot', 'increas', 'guess', 'get', 'pay', 'disappoint', 'bought', 'phone', 'mom', 'one', 'hard', 'hear', 'phone', 'ring', 'extrem', 'faint', 'ring', 'volum', 'cannot', 'increas', 'guess', 'get', 'pay', 'disappoint', 'bought', 'phone', 'mom', 'one', 'hard', 'hear', 'phone', 'ring', 'extrem', 'faint', 'ring', 'volum', 'cannot', 'increas', 'guess', 'get', 'pay', 'disappoint', 'bought', 'phone', 'mom', 'one', 'hard', 'hear', 'phone', 'ring', 'extrem', 'faint', 'ring', 'volum', 'cannot', 'increas', 'guess', 'get', 'pay', 'disappoint', 'bought', 'phone', 'mom', 'one', 'hard', 'hear', 'phone', 'ring', 'extrem', 'faint', 'ring', 'volum', 'cannot', 'increas', 'guess', 'get', 'pay', 'disappoint', 'bought', 'phone', 'mom', 'one', 'hard', 'hear', 'phone', 'ring', 'extrem', 'faint', 'ring', 'volum', 'cannot', 'increas', 'guess', 'get', 'pay', 'disappoint', 'bought', 'phone', 'mom', 'one', 'hard', 'hear', 'phone', 'ring', 'extrem', 'faint', 'ring', 'volum', 'cannot', 'increas', 'guess', 'get', 'pay', 'disappoint', 'bought', 'phone', 'mom', 'one', 'hard', 'hear', 'phone', 'ring', 'extrem', 'faint', 'ring', 'volum', 'cannot', 'increas', 'guess', 'get', 'pay', 'disappoint', 'bought', 'phone', 'mom', 'one', 'hard', 'hear', 'phone', 'ring', 'extrem', 'faint', 'ring', 'volum', 'cannot', 'increas', 'guess', 'get', 'pay', 'disappoint', 'bought', 'phone', 'mom', 'one', 'hard', 'hear', 'phone', 'ring', 'extrem', 'faint', 'ring', 'volum', 'cannot', 'increas', 'guess', 'get', 'pay', 'disappoint', 'bought', 'phone', 'mom', 'one', 'hard', 'hear', 'phone', 'ring', 'extrem', 'faint', 'ring', 'volum', 'cannot', 'increas', 'guess', 'get', 'pay', 'disappoint', 'bought', 'phone', 'mom', 'one', 'hard', 'hear', 'phone', 'ring', 'extrem', 'faint', 'ring', 'volum', 'cannot', 'increas', 'guess', 'get', 'pay', 'disappoint', 'bought', 'phone', 'mom', 'one', 'hard', 'hear', 'phone', 'ring', 'extrem', 'faint', 'ring', 'volum', 'cannot', 'increas', 'guess', 'get', 'pay', 'disappoint', 'bought', 'phone', 'mom', 'one', 'hard', 'hear', 'phone', 'ring', 'extrem', 'faint', 'ring', 'volum', 'cannot', 'increas', 'guess', 'get', 'pay', 'disappoint', 'bought', 'phone', 'mom', 'one', 'hard', 'hear', 'phone', 'ring', 'extrem', 'faint', 'ring', 'volum', 'cannot', 'increas', 'guess', 'get', 'pay', 'disappoint', 'bought', 'phone', 'mom', 'one', 'hard', 'hear', 'phone', 'ring', 'extrem', 'faint', 'ring', 'volum', 'cannot', 'increas', 'guess', 'get', 'pay', 'disappoint', 'bought', 'phone', 'mom', 'one', 'hard', 'hear', 'phone', 'ring', 'extrem', 'faint', 'ring', 'volum', 'cannot', 'increas', 'guess', 'get', 'pay', 'disappoint', 'bought', 'phone', 'mom', 'one', 'hard', 'hear', 'phone', 'ring', 'extrem', 'faint', 'ring', 'volum', 'cannot', 'increas', 'guess', 'get', 'pay', 'disappoint', 'bought', 'phone', 'mom', 'one', 'hard', 'hear', 'phone', 'ring', 'extrem', 'faint', 'ring', 'volum', 'cannot', 'increas', 'guess', 'get', 'pay', 'disappoint', 'bought', 'phone', 'mom', 'one', 'hard', 'hear', 'phone', 'ring', 'extrem', 'faint', 'ring', 'volum', 'cannot', 'increas', 'guess', 'get', 'pay', 'disappoint', 'bought', 'phone', 'mom', 'one', 'hard', 'hear', 'phone', 'ring', 'extrem', 'faint', 'ring', 'volum', 'cannot', 'increas', 'guess', 'get', 'pay', 'disappoint', 'bought', 'phone', 'mom', 'one', 'hard', 'hear', 'phone', 'ring', 'extrem', 'faint', 'ring', 'volum', 'cannot', 'increas', 'guess', 'get', 'pay', 'disappoint', 'bought', 'phone', 'mom', 'one', 'hard', 'hear', 'phone', 'ring', 'extrem', 'faint', 'ring', 'volum', 'cannot', 'increas', 'guess', 'get', 'pay', 'disappoint', 'bought', 'phone', 'mom', 'one', 'hard', 'hear', 'phone', 'ring', 'extrem', 'faint', 'ring', 'volum', 'cannot', 'increas', 'guess', 'get', 'pay', 'disappoint', 'bought', 'phone', 'mom', 'one', 'hard', 'hear', 'phone', 'ring', 'extrem', 'faint', 'ring', 'volum', 'cannot', 'increas', 'guess', 'get', 'pay', 'disappoint', 'bought', 'phone', 'mom', 'one', 'hard', 'hear', 'phone', 'ring', 'extrem', 'faint', 'ring', 'volum', 'cannot', 'increas', 'guess', 'get', 'pay', 'disappoint', 'bought', 'phone', 'mom', 'one', 'hard', 'hear', 'phone', 'ring', 'extrem', 'faint', 'ring', 'volum', 'cannot', 'increas', 'guess', 'get', 'pay', 'disappoint', 'bought', 'phone', 'mom', 'one', 'hard', 'hear', 'phone', 'ring', 'extrem', 'faint', 'ring', 'volum', 'cannot', 'increas', 'guess', 'get', 'pay', 'disappoint', 'bought', 'phone', 'mom', 'one', 'hard', 'hear', 'phone', 'ring', 'extrem', 'faint', 'ring', 'volum', 'cannot', 'increas', 'guess', 'get', 'pay', 'disappoint', 'bought', 'phone', 'mom', 'one', 'hard', 'hear', 'phone', 'ring', 'extrem', 'faint', 'ring', 'volum', 'cannot', 'increas', 'guess', 'get', 'pay', 'disappoint', 'bought', 'phone', 'mom', 'one', 'hard', 'hear', 'phone', 'ring', 'extrem', 'faint', 'ring', 'volum', 'cannot', 'increas', 'guess', 'get', 'pay', 'disappoint', 'bought', 'phone', 'mom', 'one', 'hard', 'hear', 'phone', 'ring', 'extrem', 'faint', 'ring', 'volum', 'cannot', 'increas', 'guess', 'get', 'pay', 'disappoint', 'bought', 'phone', 'mom', 'one', 'hard', 'hear', 'phone', 'ring', 'extrem', 'faint', 'ring', 'volum', 'cannot', 'increas', 'guess', 'get', 'pay', 'disappoint', 'bought', 'phone', 'mom', 'one', 'hard', 'hear', 'phone', 'ring', 'extrem', 'faint', 'ring', 'volum', 'cannot', 'increas', 'guess', 'get', 'pay', 'disappoint', 'bought', 'phone', 'mom', 'one', 'hard', 'hear', 'phone', 'ring', 'extrem', 'faint', 'ring', 'volum', 'cannot', 'increas', 'guess', 'get', 'pay', 'disappoint', 'bought', 'phone', 'mom', 'one', 'hard', 'hear', 'phone', 'ring', 'extrem', 'faint', 'ring', 'volum', 'cannot', 'increas', 'guess', 'get', 'pay', 'disappoint', 'bought', 'phone', 'mom', 'one', 'hard', 'hear', 'phone', 'ring', 'extrem', 'faint', 'ring', 'volum', 'cannot', 'increas', 'guess', 'get', 'pay', 'disappoint', 'bought', 'phone', 'mom', 'one', 'hard', 'hear', 'phone', 'ring', 'extrem', 'faint', 'ring', 'volum', 'cannot', 'increas', 'guess', 'get', 'pay', 'disappoint', 'bought', 'phone', 'mom', 'one', 'hard', 'hear', 'phone', 'ring', 'extrem', 'faint', 'ring', 'volum', 'cannot', 'increas', 'guess', 'get', 'pay', 'disappoint', 'bought', 'phone', 'mom', 'one', 'hard', 'hear', 'phone', 'ring', 'extrem', 'faint', 'ring', 'volum', 'cannot', 'increas', 'guess', 'get', 'pay', 'disappoint', 'bought', 'phone', 'mom', 'one', 'hard', 'hear', 'phone', 'ring', 'extrem', 'faint', 'ring', 'volum', 'cannot', 'increas', 'guess', 'get', 'pay', 'disappoint', 'bought', 'phone', 'mom', 'one', 'hard', 'hear', 'phone', 'ring', 'extrem', 'faint', 'ring', 'volum', 'cannot', 'increas', 'guess', 'get', 'pay', 'disappoint', 'bought', 'phone', 'mom', 'one', 'hard', 'hear', 'phone', 'ring', 'extrem', 'faint', 'ring', 'volum', 'cannot', 'increas', 'guess', 'get', 'pay', 'disappoint', 'bought', 'phone', 'mom', 'one', 'hard', 'hear', 'phone', 'ring', 'extrem', 'faint', 'ring', 'volum', 'cannot', 'increas', 'guess', 'get', 'pay', 'disappoint', 'bought', 'phone', 'mom', 'one', 'hard', 'hear', 'phone', 'ring', 'extrem', 'faint', 'ring', 'volum', 'cannot', 'increas', 'guess', 'get', 'pay', 'disappoint', 'bought', 'phone', 'mom', 'one', 'hard', 'hear', 'phone', 'ring', 'extrem', 'faint', 'ring', 'volum', 'cannot', 'increas', 'guess', 'get', 'pay', 'disappoint', 'bought', 'phone', 'mom', 'one', 'hard', 'hear', 'phone', 'ring', 'extrem', 'faint', 'ring', 'volum', 'cannot', 'increas', 'guess', 'get', 'pay', 'disappoint', 'bought', 'phone', 'mom', 'one', 'hard', 'hear', 'phone', 'ring', 'extrem', 'faint', 'ring', 'volum', 'cannot', 'increas', 'guess', 'get', 'pay', 'disappoint', 'bought', 'phone', 'mom', 'one', 'hard', 'hear', 'phone', 'ring', 'extrem', 'faint', 'ring', 'volum', 'cannot', 'increas', 'guess', 'get', 'pay', 'disappoint', 'bought', 'phone', 'mom', 'one', 'hard', 'hear', 'phone', 'ring', 'extrem', 'faint', 'ring', 'volum', 'cannot', 'increas', 'guess', 'get', 'pay', 'disappoint', 'bought', 'phone', 'mom', 'one', 'hard', 'hear', 'phone', 'ring', 'extrem', 'faint', 'ring', 'volum', 'cannot', 'increas', 'guess', 'get', 'pay', 'disappoint', 'bought', 'phone', 'mom', 'one', 'hard', 'hear', 'phone', 'ring', 'extrem', 'faint', 'ring', 'volum', 'cannot', 'increas', 'guess', 'get', 'pay', 'disappoint', 'bought', 'phone', 'mom', 'one', 'hard', 'hear', 'phone', 'ring', 'extrem', 'faint', 'ring', 'volum', 'cannot', 'increas', 'guess', 'get', 'pay', 'disappoint', 'bought', 'phone', 'mom', 'one', 'hard', 'hear', 'phone', 'ring', 'extrem', 'faint', 'ring', 'volum', 'cannot', 'increas', 'guess', 'get', 'pay', 'disappoint', 'bought', 'phone', 'mom', 'one', 'hard', 'hear', 'phone', 'ring', 'extrem', 'faint', 'ring', 'volum', 'cannot', 'increas', 'guess', 'get', 'pay', 'disappoint', 'bought', 'phone', 'mom', 'one', 'hard', 'hear', 'phone', 'ring', 'extrem', 'faint', 'ring', 'volum', 'cannot', 'increas', 'guess', 'get', 'pay', 'disappoint', 'bought', 'phone', 'mom', 'one', 'hard', 'hear', 'phone', 'ring', 'extrem', 'faint', 'ring', 'volum', 'cannot', 'increas', 'guess', 'get', 'pay', 'disappoint', 'bought', 'phone', 'mom', 'one', 'hard', 'hear', 'phone', 'ring', 'extrem', 'faint', 'ring', 'volum', 'cannot', 'increas', 'guess', 'get', 'pay', 'disappoint', 'bought', 'phone', 'mom', 'one', 'hard', 'hear', 'phone', 'ring', 'extrem', 'faint', 'ring', 'volum', 'cannot', 'increas', 'guess', 'get', 'pay', 'disappoint', 'bought', 'phone', 'mom', 'one', 'hard', 'hear', 'phone', 'ring', 'extrem', 'faint', 'ring', 'volum', 'cannot', 'increas', 'guess', 'get', 'pay', 'disappoint', 'bought', 'phone', 'mom', 'one', 'hard', 'hear', 'phone', 'ring', 'extrem', 'faint', 'ring', 'volum', 'cannot', 'increas', 'guess', 'get', 'pay', 'disappoint', 'bought', 'phone', 'mom', 'one', 'hard', 'hear', 'phone', 'ring', 'extrem', 'faint', 'ring', 'volum', 'cannot', 'increas', 'guess', 'get', 'pay', 'disappoint', 'bought', 'phone', 'mom', 'one', 'hard', 'hear', 'phone', 'ring', 'extrem', 'faint', 'ring', 'volum', 'cannot', 'increas', 'guess', 'get', 'pay', 'disappoint', 'bought', 'phone', 'mom', 'one', 'hard', 'hear', 'phone', 'ring', 'extrem', 'faint', 'ring', 'volum', 'cannot', 'increas', 'guess', 'get', 'pay', 'disappoint', 'bought', 'phone', 'mom', 'one', 'hard', 'hear', 'phone', 'ring', 'extrem', 'faint', 'ring', 'volum', 'cannot', 'increas', 'guess', 'get', 'pay', 'disappoint', 'bought', 'phone', 'mom', 'one', 'hard', 'hear', 'phone', 'ring', 'extrem', 'faint', 'ring', 'volum', 'cannot', 'increas', 'guess', 'get', 'pay', 'disappoint', 'bought', 'phone', 'mom', 'one', 'hard', 'hear', 'phone', 'ring', 'extrem', 'faint', 'ring', 'volum', 'cannot', 'increas', 'guess', 'get', 'pay', 'disappoint', 'bought', 'phone', 'mom', 'one', 'hard', 'hear', 'phone', 'ring', 'extrem', 'faint', 'ring', 'volum', 'cannot', 'increas', 'guess', 'get', 'pay', 'disappoint', 'bought', 'phone', 'mom', 'one', 'hard', 'hear', 'phone', 'ring', 'extrem', 'faint', 'ring', 'volum', 'cannot', 'increas', 'guess', 'get', 'pay', 'disappoint', 'bought', 'phone', 'mom', 'one', 'hard', 'hear', 'phone', 'ring', 'extrem', 'faint', 'ring', 'volum', 'cannot', 'increas', 'guess', 'get', 'pay', 'disappoint', 'bought', 'phone', 'mom', 'one', 'hard', 'hear', 'phone', 'ring', 'extrem', 'faint', 'ring', 'volum', 'cannot', 'increas', 'guess', 'get', 'pay', 'disappoint', 'bought', 'phone', 'mom', 'one', 'hard', 'hear', 'phone', 'ring', 'extrem', 'faint', 'ring', 'volum', 'cannot', 'increas', 'guess', 'get', 'pay', 'disappoint', 'bought', 'phone', 'mom', 'one', 'hard', 'hear', 'phone', 'ring', 'extrem', 'faint', 'ring', 'volum', 'cannot', 'increas', 'guess', 'get', 'pay', 'disappoint', 'bought', 'phone', 'mom', 'one', 'hard', 'hear', 'phone', 'ring', 'extrem', 'faint', 'ring', 'volum', 'cannot', 'increas', 'guess', 'get', 'pay', 'disappoint', 'bought', 'phone', 'mom', 'one', 'hard', 'hear', 'phone', 'ring', 'extrem', 'faint', 'ring', 'volum', 'cannot', 'increas', 'guess', 'get', 'pay', 'disappoint', 'bought', 'phone', 'mom', 'one', 'hard', 'hear', 'phone', 'ring', 'extrem', 'faint', 'ring', 'volum', 'cannot', 'increas', 'guess', 'get', 'pay', 'disappoint', 'bought', 'phone', 'mom', 'one', 'hard', 'hear', 'phone', 'ring', 'extrem', 'faint', 'ring', 'volum', 'cannot', 'increas', 'guess', 'get', 'pay', 'disappoint', 'bought', 'phone', 'mom', 'one', 'hard', 'hear', 'phone', 'ring', 'extrem', 'faint', 'ring', 'volum', 'cannot', 'increas', 'guess', 'get', 'pay', 'disappoint', 'bought', 'phone', 'mom', 'one', 'hard', 'hear', 'phone', 'ring', 'extrem', 'faint', 'ring', 'volum', 'cannot', 'increas', 'guess', 'get', 'pay', 'disappoint', 'bought', 'phone', 'mom', 'one', 'hard', 'hear', 'phone', 'ring', 'extrem', 'faint', 'ring', 'volum', 'cannot', 'increas', 'guess', 'get', 'pay', 'disappoint', 'bought', 'phone', 'mom', 'one', 'hard', 'hear', 'phone', 'ring', 'extrem', 'faint', 'ring', 'volum', 'cannot', 'increas', 'guess', 'get', 'pay', 'disappoint', 'bought', 'phone', 'mom', 'one', 'hard', 'hear', 'phone', 'ring', 'extrem', 'faint', 'ring', 'volum', 'cannot', 'increas', 'guess', 'get', 'pay', 'disappoint', 'bought', 'phone', 'mom', 'one', 'hard', 'hear', 'phone', 'ring', 'extrem', 'faint', 'ring', 'volum', 'cannot', 'increas', 'guess', 'get', 'pay', 'disappoint', 'bought', 'phone', 'mom', 'one', 'hard', 'hear', 'phone', 'ring', 'extrem', 'faint', 'ring', 'volum', 'cannot', 'increas', 'guess', 'get', 'pay', 'disappoint', 'bought', 'phone', 'mom', 'one', 'hard', 'hear', 'phone', 'ring', 'extrem', 'faint', 'ring', 'volum', 'cannot', 'increas', 'guess', 'get', 'pay', 'disappoint', 'bought', 'phone', 'mom', 'one', 'hard', 'hear', 'phone', 'ring', 'extrem', 'faint', 'ring', 'volum', 'cannot', 'increas', 'guess', 'get', 'pay', 'disappoint', 'bought', 'phone', 'mom', 'one', 'hard', 'hear', 'phone', 'ring', 'extrem', 'faint', 'ring', 'volum', 'cannot', 'increas', 'guess', 'get', 'pay', 'disappoint', 'bought', 'phone', 'mom', 'one', 'hard', 'hear', 'phone', 'ring', 'extrem', 'faint', 'ring', 'volum', 'cannot', 'increas', 'guess', 'get', 'pay', 'disappoint', 'bought', 'phone', 'mom', 'one', 'hard', 'hear', 'phone', 'ring', 'extrem', 'faint', 'ring', 'volum', 'cannot', 'increas', 'guess', 'get', 'pay', 'disappoint', 'bought', 'phone', 'mom', 'one', 'hard', 'hear', 'phone', 'ring', 'extrem', 'faint', 'ring', 'volum', 'cannot', 'increas', 'guess', 'get', 'pay', 'disappoint', 'bought', 'phone', 'mom', 'one', 'hard', 'hear', 'phone', 'ring', 'extrem', 'faint', 'ring', 'volum', 'cannot', 'increas', 'guess', 'get', 'pay', 'disappoint', 'bought', 'phone', 'mom', 'one', 'hard', 'hear', 'phone', 'ring', 'extrem', 'faint', 'ring', 'volum', 'cannot', 'increas', 'guess', 'get', 'pay', 'disappoint', 'bought', 'phone', 'mom', 'one', 'hard', 'hear', 'phone', 'ring', 'extrem', 'faint', 'ring', 'volum', 'cannot', 'increas', 'guess', 'get', 'pay', 'disappoint', 'bought', 'phone', 'mom', 'one', 'hard', 'hear', 'phone', 'ring', 'extrem', 'faint', 'ring', 'volum', 'cannot', 'increas', 'guess', 'get', 'pay', 'disappoint', 'bought', 'phone', 'mom', 'one', 'hard', 'hear', 'phone', 'ring', 'extrem', 'faint', 'ring', 'volum', 'cannot', 'increas', 'guess', 'get', 'pay', 'disappoint', 'bought', 'phone', 'mom', 'one', 'hard', 'hear', 'phone', 'ring', 'extrem', 'faint', 'ring', 'volum', 'cannot', 'increas', 'guess', 'get', 'pay', 'disappoint', 'bought', 'phone', 'mom', 'one', 'hard', 'hear', 'phone', 'ring', 'extrem', 'faint', 'ring', 'volum', 'cannot', 'increas', 'guess', 'get', 'pay', 'disappoint', 'bought', 'phone', 'mom', 'one', 'hard', 'hear', 'phone', 'ring', 'extrem', 'faint', 'ring', 'volum', 'cannot', 'increas', 'guess', 'get', 'pay', 'disappoint', 'bought', 'phone', 'mom', 'one', 'hard', 'hear', 'phone', 'ring', 'extrem', 'faint', 'ring', 'volum', 'cannot', 'increas', 'guess', 'get', 'pay', 'disappoint', 'bought', 'phone', 'mom', 'one', 'hard', 'hear', 'phone', 'ring', 'extrem', 'faint', 'ring', 'volum', 'cannot', 'increas', 'guess', 'get', 'pay', 'disappoint', 'bought', 'phone', 'mom', 'one', 'hard', 'hear', 'phone', 'ring', 'extrem', 'faint', 'ring', 'volum', 'cannot', 'increas', 'guess', 'get', 'pay', 'disappoint', 'bought', 'phone', 'mom', 'one', 'hard', 'hear', 'phone', 'ring', 'extrem', 'faint', 'ring', 'volum', 'cannot', 'increas', 'guess', 'get', 'pay', 'disappoint', 'bought', 'phone', 'mom', 'one', 'hard', 'hear', 'phone', 'ring', 'extrem', 'faint', 'ring', 'volum', 'cannot', 'increas', 'guess', 'get', 'pay', 'disappoint', 'bought', 'phone', 'mom', 'one', 'hard', 'hear', 'phone', 'ring', 'extrem', 'faint', 'ring', 'volum', 'cannot', 'increas', 'guess', 'get', 'pay', 'disappoint', 'bought', 'phone', 'mom', 'one', 'hard', 'hear', 'phone', 'ring', 'extrem', 'faint', 'ring', 'volum', 'cannot', 'increas', 'guess', 'get', 'pay', 'disappoint', 'bought', 'phone', 'mom', 'one', 'hard', 'hear', 'phone', 'ring', 'extrem', 'faint', 'ring', 'volum', 'cannot', 'increas', 'guess', 'get', 'pay', 'disappoint', 'bought', 'phone', 'mom', 'one', 'hard', 'hear', 'phone', 'ring', 'extrem', 'faint', 'ring', 'volum', 'cannot', 'increas', 'guess', 'get', 'pay', 'disappoint', 'bought', 'phone', 'mom', 'one', 'hard', 'hear', 'phone', 'ring', 'extrem', 'faint', 'ring', 'volum', 'cannot', 'increas', 'guess', 'get', 'pay', 'disappoint', 'bought', 'phone', 'mom', 'one', 'hard', 'hear', 'phone', 'ring', 'extrem', 'faint', 'ring', 'volum', 'cannot', 'increas', 'guess', 'get', 'pay', 'disappoint', 'bought', 'phone', 'mom', 'one', 'hard', 'hear', 'phone', 'ring', 'extrem', 'faint', 'ring', 'volum', 'cannot', 'increas', 'guess', 'get', 'pay', 'disappoint', 'bought', 'phone', 'mom', 'one', 'hard', 'hear', 'phone', 'ring', 'extrem', 'faint', 'ring', 'volum', 'cannot', 'increas', 'guess', 'get', 'pay', 'disappoint', 'bought', 'phone', 'mom', 'one', 'hard', 'hear', 'phone', 'ring', 'extrem', 'faint', 'ring', 'volum', 'cannot', 'increas', 'guess', 'get', 'pay', 'disappoint', 'bought', 'phone', 'mom', 'one', 'hard', 'hear', 'phone', 'ring', 'extrem', 'faint', 'ring', 'volum', 'cannot', 'increas', 'guess', 'get', 'pay', 'disappoint', 'bought', 'phone', 'mom', 'one', 'hard', 'hear', 'phone', 'ring', 'extrem', 'faint', 'ring', 'volum', 'cannot', 'increas', 'guess', 'get', 'pay', 'disappoint', 'bought', 'phone', 'mom', 'one', 'hard', 'hear', 'phone', 'ring', 'extrem', 'faint', 'ring', 'volum', 'cannot', 'increas', 'guess', 'get', 'pay', 'disappoint', 'bought', 'phone', 'mom', 'one', 'hard', 'hear', 'phone', 'ring', 'extrem', 'faint', 'ring', 'volum', 'cannot', 'increas', 'guess', 'get', 'pay', 'disappoint', 'bought', 'phone', 'mom', 'one', 'hard', 'hear', 'phone', 'ring', 'extrem', 'faint', 'ring', 'volum', 'cannot', 'increas', 'guess', 'get', 'pay', 'disappoint', 'bought', 'phone', 'mom', 'one', 'hard', 'hear', 'phone', 'ring', 'extrem', 'faint', 'ring', 'volum', 'cannot', 'increas', 'guess', 'get', 'pay', 'disappoint', 'bought', 'phone', 'mom', 'one', 'hard', 'hear', 'phone', 'ring', 'extrem', 'faint', 'ring', 'volum', 'cannot', 'increas', 'guess', 'get', 'pay', 'disappoint', 'bought', 'phone', 'mom', 'one', 'hard', 'hear', 'phone', 'ring', 'extrem', 'faint', 'ring', 'volum', 'cannot', 'increas', 'guess', 'get', 'pay', 'disappoint', 'bought', 'phone', 'mom', 'one', 'hard', 'hear', 'phone', 'ring', 'extrem', 'faint', 'ring', 'volum', 'cannot', 'increas', 'guess', 'get', 'pay', 'disappoint', 'bought', 'phone', 'mom', 'one', 'hard', 'hear', 'phone', 'ring', 'extrem', 'faint', 'ring', 'volum', 'cannot', 'increas', 'guess', 'get', 'pay', 'disappoint', 'bought', 'phone', 'mom', 'one', 'hard', 'hear', 'phone', 'ring', 'extrem', 'faint', 'ring', 'volum', 'cannot', 'increas', 'guess', 'get', 'pay', 'disappoint', 'bought', 'phone', 'mom', 'one', 'hard', 'hear', 'phone', 'ring', 'extrem', 'faint', 'ring', 'volum', 'cannot', 'increas', 'guess', 'get', 'pay', 'disappoint', 'bought', 'phone', 'mom', 'one', 'hard', 'hear', 'phone', 'ring', 'extrem', 'faint', 'ring', 'volum', 'cannot', 'increas', 'guess', 'get', 'pay', 'disappoint', 'bought', 'phone', 'mom', 'one', 'hard', 'hear', 'phone', 'ring', 'extrem', 'faint', 'ring', 'volum', 'cannot', 'increas', 'guess', 'get', 'pay', 'disappoint', 'bought', 'phone', 'mom', 'one', 'hard', 'hear', 'phone', 'ring', 'extrem', 'faint', 'ring', 'volum', 'cannot', 'increas', 'guess', 'get', 'pay', 'disappoint', 'bought', 'phone', 'mom', 'one', 'hard', 'hear', 'phone', 'ring', 'extrem', 'faint', 'ring', 'volum', 'cannot', 'increas', 'guess', 'get', 'pay', 'disappoint', 'bought', 'phone', 'mom', 'one', 'hard', 'hear', 'phone', 'ring', 'extrem', 'faint', 'ring', 'volum', 'cannot', 'increas', 'guess', 'get', 'pay', 'disappoint', 'bought', 'phone', 'mom', 'one', 'hard', 'hear', 'phone', 'ring', 'extrem', 'faint', 'ring', 'volum', 'cannot', 'increas', 'guess', 'get', 'pay', 'disappoint', 'bought', 'phone', 'mom', 'one', 'hard', 'hear', 'phone', 'ring', 'extrem', 'faint', 'ring', 'volum', 'cannot', 'increas', 'guess', 'get', 'pay', 'disappoint', 'bought', 'phone', 'mom', 'one', 'hard', 'hear', 'phone', 'ring', 'extrem', 'faint', 'ring', 'volum', 'cannot', 'increas', 'guess', 'get', 'pay', 'disappoint', 'bought', 'phone', 'mom', 'one', 'hard', 'hear', 'phone', 'ring', 'extrem', 'faint', 'ring', 'volum', 'cannot', 'increas', 'guess', 'get', 'pay', 'disappoint', 'bought', 'phone', 'mom', 'one', 'hard', 'hear', 'phone', 'ring', 'extrem', 'faint', 'ring', 'volum', 'cannot', 'increas', 'guess', 'get', 'pay', 'disappoint', 'bought', 'phone', 'mom', 'one', 'hard', 'hear', 'phone', 'ring', 'extrem', 'faint', 'ring', 'volum', 'cannot', 'increas', 'guess', 'get', 'pay', 'disappoint', 'bought', 'phone', 'mom', 'one', 'hard', 'hear', 'phone', 'ring', 'extrem', 'faint', 'ring', 'volum', 'cannot', 'increas', 'guess', 'get', 'pay', 'disappoint', 'bought', 'phone', 'mom', 'one', 'hard', 'hear', 'phone', 'ring', 'extrem', 'faint', 'ring', 'volum', 'cannot', 'increas', 'guess', 'get', 'pay', 'disappoint', 'bought', 'phone', 'mom', 'one', 'hard', 'hear', 'phone', 'ring', 'extrem', 'faint', 'ring', 'volum', 'cannot', 'increas', 'guess', 'get', 'pay', 'disappoint', 'bought', 'phone', 'mom', 'one', 'hard', 'hear', 'phone', 'ring', 'extrem', 'faint', 'ring', 'volum', 'cannot', 'increas', 'guess', 'get', 'pay', 'disappoint', 'bought', 'phone', 'mom', 'one', 'hard', 'hear', 'phone', 'ring', 'extrem', 'faint', 'ring', 'volum', 'cannot', 'increas', 'guess', 'get', 'pay', 'disappoint', 'bought', 'phone', 'mom', 'one', 'hard', 'hear', 'phone', 'ring', 'extrem', 'faint', 'ring', 'volum', 'cannot', 'increas', 'guess', 'get', 'pay', 'disappoint', 'bought', 'phone', 'mom', 'one', 'hard', 'hear', 'phone', 'ring', 'extrem', 'faint', 'ring', 'volum', 'cannot', 'increas', 'guess', 'get', 'pay', 'disappoint', 'bought', 'phone', 'mom', 'one', 'hard', 'hear', 'phone', 'ring', 'extrem', 'faint', 'ring', 'volum', 'cannot', 'increas', 'guess', 'get', 'pay', 'disappoint', 'bought', 'phone', 'mom', 'one', 'hard', 'hear', 'phone', 'ring', 'extrem', 'faint', 'ring', 'volum', 'cannot', 'increas', 'guess', 'get', 'pay', 'disappoint', 'bought', 'phone', 'mom', 'one', 'hard', 'hear', 'phone', 'ring', 'extrem', 'faint', 'ring', 'volum', 'cannot', 'increas', 'guess', 'get', 'pay', 'disappoint', 'bought', 'phone', 'mom', 'one', 'hard', 'hear', 'phone', 'ring', 'extrem', 'faint', 'ring', 'volum', 'cannot', 'increas', 'guess', 'get', 'pay', 'disappoint', 'bought', 'phone', 'mom', 'one', 'hard', 'hear', 'phone', 'ring', 'extrem', 'faint', 'ring', 'volum', 'cannot', 'increas', 'guess', 'get', 'pay', 'disappoint', 'bought', 'phone', 'mom', 'one', 'hard', 'hear', 'phone', 'ring', 'extrem', 'faint', 'ring', 'volum', 'cannot', 'increas', 'guess', 'get', 'pay', 'disappoint', 'bought', 'phone', 'mom', 'one', 'hard', 'hear', 'phone', 'ring', 'extrem', 'faint', 'ring', 'volum', 'cannot', 'increas', 'guess', 'get', 'pay', 'disappoint', 'bought', 'phone', 'mom', 'one', 'hard', 'hear', 'phone', 'ring', 'extrem', 'faint', 'ring', 'volum', 'cannot', 'increas', 'guess', 'get', 'pay', 'disappoint', 'bought', 'phone', 'mom', 'one', 'hard', 'hear', 'phone', 'ring', 'extrem', 'faint', 'ring', 'volum', 'cannot', 'increas', 'guess', 'get', 'pay', 'disappoint', 'bought', 'phone', 'mom', 'one', 'hard', 'hear', 'phone', 'ring', 'extrem', 'faint', 'ring', 'volum', 'cannot', 'increas', 'guess', 'get', 'pay', 'disappoint', 'bought', 'phone', 'mom', 'one', 'hard', 'hear', 'phone', 'ring', 'extrem', 'faint', 'ring', 'volum', 'cannot', 'increas', 'guess', 'get', 'pay', 'disappoint', 'bought', 'phone', 'mom', 'one', 'hard', 'hear', 'phone', 'ring', 'extrem', 'faint', 'ring', 'volum', 'cannot', 'increas', 'guess', 'get', 'pay', 'disappoint', 'bought', 'phone', 'mom', 'one', 'hard', 'hear', 'phone', 'ring', 'extrem', 'faint', 'ring', 'volum', 'cannot', 'increas', 'guess', 'get', 'pay', 'disappoint', 'bought', 'phone', 'mom', 'one', 'hard', 'hear', 'phone', 'ring', 'extrem', 'faint', 'ring', 'volum', 'cannot', 'increas', 'guess', 'get', 'pay', 'disappoint', 'bought', 'phone', 'mom', 'one', 'hard', 'hear', 'phone', 'ring', 'extrem', 'faint', 'ring', 'volum', 'cannot', 'increas', 'guess', 'get', 'pay', 'disappoint', 'bought', 'phone', 'mom', 'one', 'hard', 'hear', 'phone', 'ring', 'extrem', 'faint', 'ring', 'volum', 'cannot', 'increas', 'guess', 'get', 'pay', 'disappoint', 'bought', 'phone', 'mom', 'one', 'hard', 'hear', 'phone', 'ring', 'extrem', 'faint', 'ring', 'volum', 'cannot', 'increas', 'guess', 'get', 'pay', 'disappoint', 'bought', 'phone', 'mom', 'one', 'hard', 'hear', 'phone', 'ring', 'extrem', 'faint', 'ring', 'volum', 'cannot', 'increas', 'guess', 'get', 'pay', 'disappoint', 'bought', 'phone', 'mom', 'one', 'hard', 'hear', 'phone', 'ring', 'extrem', 'faint', 'ring', 'volum', 'cannot', 'increas', 'guess', 'get', 'pay', 'disappoint', 'bought', 'phone', 'mom', 'one', 'hard', 'hear', 'phone', 'ring', 'extrem', 'faint', 'ring', 'volum', 'cannot', 'increas', 'guess', 'get', 'pay', 'disappoint', 'bought', 'phone', 'mom', 'one', 'hard', 'hear', 'phone', 'ring', 'extrem', 'faint', 'ring', 'volum', 'cannot', 'increas', 'guess', 'get', 'pay', 'disappoint', 'bought', 'phone', 'mom', 'one', 'hard', 'hear', 'phone', 'ring', 'extrem', 'faint', 'ring', 'volum', 'cannot', 'increas', 'guess', 'get', 'pay', 'disappoint', 'bought', 'phone', 'mom', 'one', 'hard', 'hear', 'phone', 'ring', 'extrem', 'faint', 'ring', 'volum', 'cannot', 'increas', 'guess', 'get', 'pay', 'disappoint', 'bought', 'phone', 'mom', 'one', 'hard', 'hear', 'phone', 'ring', 'extrem', 'faint', 'ring', 'volum', 'cannot', 'increas', 'guess', 'get', 'pay', 'disappoint', 'bought', 'phone', 'mom', 'one', 'hard', 'hear', 'phone', 'ring', 'extrem', 'faint', 'ring', 'volum', 'cannot', 'increas', 'guess', 'get', 'pay', 'disappoint', 'bought', 'phone', 'mom', 'one', 'hard', 'hear', 'phone', 'ring', 'extrem', 'faint', 'ring', 'volum', 'cannot', 'increas', 'guess', 'get', 'pay'], ['perfect'], ['punto', 'excelent', 'punto', 'excelent', 'punto', 'excelent', 'punto', 'excelent', 'punto', 'excelent', 'punto', 'excelent', 'punto', 'excelent', 'punto', 'excelent', 'punto', 'excelent', 'punto', 'excelent', 'punto', 'excelent', 'punto', 'excelent', 'punto', 'excelent', 'punto', 'excelent', 'punto', 'excelent', 'punto', 'excelent', 'punto', 'excelent', 'punto', 'excelent'], ['good']]\n"
          ]
        }
      ]
    },
    {
      "cell_type": "code",
      "source": [
        "import gensim\n",
        "w2v_model=gensim.models.Word2Vec(list_of_sent_train,size=100, workers=4)"
      ],
      "metadata": {
        "id": "lk-ph5Jfx58b"
      },
      "execution_count": null,
      "outputs": []
    },
    {
      "cell_type": "code",
      "source": [
        "import numpy as np\n",
        "sent_vectors = []; # the avg-w2v for each sentence/review is stored in this train\n",
        "for sent in list_of_sent_train: # for each review/sentence\n",
        "    sent_vec = np.zeros(100) # as word vectors are of zero length\n",
        "    cnt_words =0; # num of words with a valid vector in the sentence/review\n",
        "    for word in sent: # for each word in a review/sentence\n",
        "        try:\n",
        "            vec = w2v_model.wv[word]\n",
        "            sent_vec += vec\n",
        "            cnt_words += 1\n",
        "        except:\n",
        "            pass\n",
        "    sent_vec /= cnt_words\n",
        "    sent_vectors.append(sent_vec)\n",
        "sent_vectors = np.array(sent_vectors)\n",
        "sent_vectors = np.nan_to_num(sent_vectors)\n",
        "sent_vectors.shape"
      ],
      "metadata": {
        "colab": {
          "base_uri": "https://localhost:8080/"
        },
        "id": "3tXiOGLpx53B",
        "outputId": "13142384-db62-4712-cecc-91d34dc721d9"
      },
      "execution_count": null,
      "outputs": [
        {
          "output_type": "stream",
          "name": "stderr",
          "text": [
            "/usr/local/lib/python3.7/dist-packages/ipykernel_launcher.py:13: RuntimeWarning: invalid value encountered in true_divide\n",
            "  del sys.path[0]\n"
          ]
        },
        {
          "output_type": "execute_result",
          "data": {
            "text/plain": [
              "(1000, 100)"
            ]
          },
          "metadata": {},
          "execution_count": 32
        }
      ]
    },
    {
      "cell_type": "code",
      "source": [
        "#K-Means Clustering\n",
        "num_clus = [x for x in range(3,11)]\n",
        "num_clus"
      ],
      "metadata": {
        "colab": {
          "base_uri": "https://localhost:8080/"
        },
        "id": "loWzhfwRx_kF",
        "outputId": "0e5352b3-6f58-4f5e-9933-3c5b5e986c64"
      },
      "execution_count": null,
      "outputs": [
        {
          "output_type": "execute_result",
          "data": {
            "text/plain": [
              "[3, 4, 5, 6, 7, 8, 9, 10]"
            ]
          },
          "metadata": {},
          "execution_count": 33
        }
      ]
    },
    {
      "cell_type": "code",
      "source": [
        "# Choosing the best cluster using Elbow Method.\n",
        "# source credit,few parts of min squred loss info is taken from different parts of the stakoverflow answers.\n",
        "# this is used to understand to find the optimal clusters in differen way rather than used in BOW, TFIDF\n",
        "squared_errors = []\n",
        "for cluster in num_clus:\n",
        "  # Train Cluster\n",
        "    kmeans = KMeans(n_clusters = cluster).fit(sent_vectors) \n",
        "    # Appending the squared loss obtained in the list\n",
        "    squared_errors.append(kmeans.inertia_) \n",
        "# As argmin return the index of minimum loss.    \n",
        "optimal_clusters = np.argmin(squared_errors) + 2  \n",
        "plt.plot(num_clus, squared_errors)\n",
        "plt.title(\"Elbow Curve to find the no. of clusters.\")\n",
        "plt.xlabel(\"Number of clusters.\")\n",
        "plt.ylabel(\"Squared Loss.\")\n",
        "xy = (optimal_clusters, min(squared_errors))\n",
        "plt.annotate('(%s, %s)' % xy, xy = xy, textcoords='data')\n",
        "plt.show()\n",
        "\n",
        "print (\"The optimal number of clusters obtained is - \", optimal_clusters)\n",
        "print (\"The loss for optimal cluster is - \", min(squared_errors))"
      ],
      "metadata": {
        "colab": {
          "base_uri": "https://localhost:8080/",
          "height": 330
        },
        "id": "ePHZTg4dx_aK",
        "outputId": "0c63f992-6c5a-42b0-c9e8-a91509938a8c"
      },
      "execution_count": null,
      "outputs": [
        {
          "output_type": "display_data",
          "data": {
            "text/plain": [
              "<Figure size 432x288 with 1 Axes>"
            ],
            "image/png": "[encoded data removed]"
          },
          "metadata": {
            "needs_background": "light"
          }
        },
        {
          "output_type": "stream",
          "name": "stdout",
          "text": [
            "The optimal number of clusters obtained is -  9\n",
            "The loss for optimal cluster is -  106115.7309671363\n"
          ]
        }
      ]
    },
    {
      "cell_type": "code",
      "source": [
        "from sklearn.cluster import KMeans\n",
        "model2 = KMeans(n_clusters = optimal_clusters)\n",
        "model2.fit(sent_vectors)"
      ],
      "metadata": {
        "colab": {
          "base_uri": "https://localhost:8080/"
        },
        "id": "q7ehHltryEIW",
        "outputId": "51845901-661e-4a88-ea51-1dc3927ea42b"
      },
      "execution_count": null,
      "outputs": [
        {
          "output_type": "execute_result",
          "data": {
            "text/plain": [
              "KMeans(n_clusters=9)"
            ]
          },
          "metadata": {},
          "execution_count": 35
        }
      ]
    },
    {
      "cell_type": "code",
      "source": [
        "word_cluster_pred=model2.predict(sent_vectors)\n",
        "word_cluster_pred_2=model2.labels_\n",
        "word_cluster_center=model2.cluster_centers_\n",
        "word_cluster_center[1:2]"
      ],
      "metadata": {
        "colab": {
          "base_uri": "https://localhost:8080/"
        },
        "id": "BSGGI3OeyGfo",
        "outputId": "1fd34f1e-44f6-419a-be68-ff05939264ca"
      },
      "execution_count": null,
      "outputs": [
        {
          "output_type": "execute_result",
          "data": {
            "text/plain": [
              "array([[ 0.30357614,  1.82900333,  1.23955059, -1.44461462, -0.56507376,\n",
              "         1.13861316,  1.40150897, -1.35486171, -0.26174252, -1.11513508,\n",
              "         0.68943356,  0.64273156, -2.06551239, -1.12957473,  1.97681704,\n",
              "         1.01041434,  0.65584153,  2.55286905,  0.7846064 ,  0.78054825,\n",
              "         0.31449109, -1.56069426, -0.79308735, -0.29128573, -1.82416701,\n",
              "         0.93037753, -0.85139094, -0.42624296,  2.03496772,  1.91805489,\n",
              "         0.31795218, -1.64635707,  0.25851153,  0.4273592 , -1.18361854,\n",
              "        -1.02932928,  0.38765604,  0.99342386, -0.17905443,  0.75965253,\n",
              "         0.77545455,  0.67283596,  1.13382008,  1.48909331,  0.42076652,\n",
              "         1.86063334,  0.44136718, -1.26110175,  1.07176033, -0.24461725,\n",
              "        -1.80320259,  0.26088508,  1.87941641,  1.24544323,  0.79887729,\n",
              "         1.6624589 , -0.7984725 , -2.07343574,  0.43163569, -1.23202921,\n",
              "        -1.49613183,  1.42294117, -0.93755127,  1.79267783, -2.20150592,\n",
              "         0.43975023, -1.19353262,  0.58663252,  0.83226231,  0.15702151,\n",
              "        -1.60475796,  1.04240186, -0.24473938,  0.00742405,  1.442791  ,\n",
              "        -0.00547661, -0.60206724,  0.46365075,  0.98649445,  0.20352308,\n",
              "         0.58189372, -0.91321261,  1.31112088, -0.96060032, -0.75943739,\n",
              "        -1.53239098,  1.25865211,  0.1891026 , -0.48120484,  0.01426717,\n",
              "        -0.36522922, -1.56067553,  0.64459412, -0.33377661,  0.54938977,\n",
              "         0.04644422, -1.37852055, -0.04806651,  0.05388979, -0.51133826]])"
            ]
          },
          "metadata": {},
          "execution_count": 36
        }
      ]
    },
    {
      "cell_type": "code",
      "source": [
        "dafrmea = dafrme1\n",
        "dafrmea['AVG-W2V Clus Label'] = model2.labels_\n",
        "dafrmea.head(2)"
      ],
      "metadata": {
        "colab": {
          "base_uri": "https://localhost:8080/",
          "height": 225
        },
        "id": "q-nrIMaAyIyq",
        "outputId": "7e4b4d2d-cfd1-4e70-eb64-9ffdcc85cc32"
      },
      "execution_count": null,
      "outputs": [
        {
          "output_type": "execute_result",
          "data": {
            "text/plain": [
              "                                             Product Name   Brand Name  \\\n",
              "103270  BLU Advance 4.0L Unlocked Smartphone -Global G...          BLU   \n",
              "297857  POSH MOBILE MICRO X, The Smallest Smartphone i...  Posh Mobile   \n",
              "\n",
              "         Price  Rating                                            Reviews  \\\n",
              "103270  149.99       4  Had it for 1 year, can't really complain. Gave...   \n",
              "297857   49.99       5                                    Perfect, thanks   \n",
              "\n",
              "       Review Votes RatingTransformed  \\\n",
              "103270          0.0          positive   \n",
              "297857          1.0          positive   \n",
              "\n",
              "                                              CleanedText  Bow Clus Label  \\\n",
              "103270  year cant realli complain gave teenag replac w...               2   \n",
              "297857                        perfect thank perfect thank               2   \n",
              "\n",
              "        Tfidf Clus Label  AVG-W2V Clus Label  \n",
              "103270                 7                   3  \n",
              "297857                 3                   7  "
            ],
            "text/html": [
              "\n",
              "  <div id=\"df-7d35b116-73b1-4755-a890-ce8b9803c823\">\n",
              "    <div class=\"colab-df-container\">\n",
              "      <div>\n",
              "<style scoped>\n",
              "    .dataframe tbody tr th:only-of-type {\n",
              "        vertical-align: middle;\n",
              "    }\n",
              "\n",
              "    .dataframe tbody tr th {\n",
              "        vertical-align: top;\n",
              "    }\n",
              "\n",
              "    .dataframe thead th {\n",
              "        text-align: right;\n",
              "    }\n",
              "</style>\n",
              "<table border=\"1\" class=\"dataframe\">\n",
              "  <thead>\n",
              "    <tr style=\"text-align: right;\">\n",
              "      <th></th>\n",
              "      <th>Product Name</th>\n",
              "      <th>Brand Name</th>\n",
              "      <th>Price</th>\n",
              "      <th>Rating</th>\n",
              "      <th>Reviews</th>\n",
              "      <th>Review Votes</th>\n",
              "      <th>RatingTransformed</th>\n",
              "      <th>CleanedText</th>\n",
              "      <th>Bow Clus Label</th>\n",
              "      <th>Tfidf Clus Label</th>\n",
              "      <th>AVG-W2V Clus Label</th>\n",
              "    </tr>\n",
              "  </thead>\n",
              "  <tbody>\n",
              "    <tr>\n",
              "      <th>103270</th>\n",
              "      <td>BLU Advance 4.0L Unlocked Smartphone -Global G...</td>\n",
              "      <td>BLU</td>\n",
              "      <td>149.99</td>\n",
              "      <td>4</td>\n",
              "      <td>Had it for 1 year, can't really complain. Gave...</td>\n",
              "      <td>0.0</td>\n",
              "      <td>positive</td>\n",
              "      <td>year cant realli complain gave teenag replac w...</td>\n",
              "      <td>2</td>\n",
              "      <td>7</td>\n",
              "      <td>3</td>\n",
              "    </tr>\n",
              "    <tr>\n",
              "      <th>297857</th>\n",
              "      <td>POSH MOBILE MICRO X, The Smallest Smartphone i...</td>\n",
              "      <td>Posh Mobile</td>\n",
              "      <td>49.99</td>\n",
              "      <td>5</td>\n",
              "      <td>Perfect, thanks</td>\n",
              "      <td>1.0</td>\n",
              "      <td>positive</td>\n",
              "      <td>perfect thank perfect thank</td>\n",
              "      <td>2</td>\n",
              "      <td>3</td>\n",
              "      <td>7</td>\n",
              "    </tr>\n",
              "  </tbody>\n",
              "</table>\n",
              "</div>\n",
              "      <button class=\"colab-df-convert\" onclick=\"convertToInteractive('df-7d35b116-73b1-4755-a890-ce8b9803c823')\"\n",
              "              title=\"Convert this dataframe to an interactive table.\"\n",
              "              style=\"display:none;\">\n",
              "        \n",
              "  <svg xmlns=\"http://www.w3.org/2000/svg\" height=\"24px\"viewBox=\"0 0 24 24\"\n",
              "       width=\"24px\">\n",
              "    <path d=\"M0 0h24v24H0V0z\" fill=\"none\"/>\n",
              "    <path d=\"M18.56 5.44l.94 2.06.94-2.06 2.06-.94-2.06-.94-.94-2.06-.94 2.06-2.06.94zm-11 1L8.5 8.5l.94-2.06 2.06-.94-2.06-.94L8.5 2.5l-.94 2.06-2.06.94zm10 10l.94 2.06.94-2.06 2.06-.94-2.06-.94-.94-2.06-.94 2.06-2.06.94z\"/><path d=\"M17.41 7.96l-1.37-1.37c-.4-.4-.92-.59-1.43-.59-.52 0-1.04.2-1.43.59L10.3 9.45l-7.72 7.72c-.78.78-.78 2.05 0 2.83L4 21.41c.39.39.9.59 1.41.59.51 0 1.02-.2 1.41-.59l7.78-7.78 2.81-2.81c.8-.78.8-2.07 0-2.86zM5.41 20L4 18.59l7.72-7.72 1.47 1.35L5.41 20z\"/>\n",
              "  </svg>\n",
              "      </button>\n",
              "      \n",
              "  <style>\n",
              "    .colab-df-container {\n",
              "      display:flex;\n",
              "      flex-wrap:wrap;\n",
              "      gap: 12px;\n",
              "    }\n",
              "\n",
              "    .colab-df-convert {\n",
              "      background-color: #E8F0FE;\n",
              "      border: none;\n",
              "      border-radius: 50%;\n",
              "      cursor: pointer;\n",
              "      display: none;\n",
              "      fill: #1967D2;\n",
              "      height: 32px;\n",
              "      padding: 0 0 0 0;\n",
              "      width: 32px;\n",
              "    }\n",
              "\n",
              "    .colab-df-convert:hover {\n",
              "      background-color: #E2EBFA;\n",
              "      box-shadow: 0px 1px 2px rgba(60, 64, 67, 0.3), 0px 1px 3px 1px rgba(60, 64, 67, 0.15);\n",
              "      fill: #174EA6;\n",
              "    }\n",
              "\n",
              "    [theme=dark] .colab-df-convert {\n",
              "      background-color: #3B4455;\n",
              "      fill: #D2E3FC;\n",
              "    }\n",
              "\n",
              "    [theme=dark] .colab-df-convert:hover {\n",
              "      background-color: #434B5C;\n",
              "      box-shadow: 0px 1px 3px 1px rgba(0, 0, 0, 0.15);\n",
              "      filter: drop-shadow(0px 1px 2px rgba(0, 0, 0, 0.3));\n",
              "      fill: #FFFFFF;\n",
              "    }\n",
              "  </style>\n",
              "\n",
              "      <script>\n",
              "        const buttonEl =\n",
              "          document.querySelector('#df-7d35b116-73b1-4755-a890-ce8b9803c823 button.colab-df-convert');\n",
              "        buttonEl.style.display =\n",
              "          google.colab.kernel.accessAllowed ? 'block' : 'none';\n",
              "\n",
              "        async function convertToInteractive(key) {\n",
              "          const element = document.querySelector('#df-7d35b116-73b1-4755-a890-ce8b9803c823');\n",
              "          const dataTable =\n",
              "            await google.colab.kernel.invokeFunction('convertToInteractive',\n",
              "                                                     [key], {});\n",
              "          if (!dataTable) return;\n",
              "\n",
              "          const docLinkHtml = 'Like what you see? Visit the ' +\n",
              "            '<a target=\"_blank\" href=https://colab.research.google.com/notebooks/data_table.ipynb>data table notebook</a>'\n",
              "            + ' to learn more about interactive tables.';\n",
              "          element.innerHTML = '';\n",
              "          dataTable['output_type'] = 'display_data';\n",
              "          await google.colab.output.renderOutput(dataTable, element);\n",
              "          const docLink = document.createElement('div');\n",
              "          docLink.innerHTML = docLinkHtml;\n",
              "          element.appendChild(docLink);\n",
              "        }\n",
              "      </script>\n",
              "    </div>\n",
              "  </div>\n",
              "  "
            ]
          },
          "metadata": {},
          "execution_count": 37
        }
      ]
    },
    {
      "cell_type": "code",
      "source": [
        "dafrmea.groupby(['AVG-W2V Clus Label'])['Reviews'].count()\n"
      ],
      "metadata": {
        "colab": {
          "base_uri": "https://localhost:8080/"
        },
        "id": "BaVTqZZfyLG_",
        "outputId": "4551596b-6fea-4970-aeda-008a121f0b45"
      },
      "execution_count": null,
      "outputs": [
        {
          "output_type": "execute_result",
          "data": {
            "text/plain": [
              "AVG-W2V Clus Label\n",
              "0     11\n",
              "1    148\n",
              "2    304\n",
              "3    397\n",
              "4     74\n",
              "5     33\n",
              "6      5\n",
              "7      5\n",
              "8     23\n",
              "Name: Reviews, dtype: int64"
            ]
          },
          "metadata": {},
          "execution_count": 38
        }
      ]
    },
    {
      "cell_type": "code",
      "source": [
        "#DBSCAN \n",
        "from sklearn.cluster import DBSCAN\n",
        "\n",
        "\n",
        "# Computing 200th Nearest neighbour distance\n",
        "min_Pts = 2 * 100\n",
        "# The function returns the no in the array which is  greater than or equal to itself.\n",
        "def lower_bound(nums, target): \n",
        "    l, r = 0, len(nums) - 1\n",
        "    # Binary searching.\n",
        "    while l <= r: \n",
        "        mid_term = int(l + (r - l) / 2)\n",
        "        if nums[mid_term] >= target:\n",
        "            r = mid_term - 1\n",
        "        else:\n",
        "            l = mid_term + 1\n",
        "    return l\n",
        " # Returns the dist of 200th nearest neighbour.\n",
        "def compute200thnearestneighbour(x, data):\n",
        "    dists = []\n",
        "    for val in data:\n",
        "      # computing distances.\n",
        "        dist = np.sum((x - val) **2 ) \n",
        "        # If dist is more than current largest distance found.\n",
        "        if(len(dists) == 200 and dists[199] > dist): \n",
        "          # Using the lower bound function to get the right position.\n",
        "            l = int(lower_bound(dists, dist)) \n",
        "            if l < 200 and l >= 0 and dists[l] > dist:\n",
        "                dists[l] = dist\n",
        "        else:\n",
        "            dists.append(dist)\n",
        "            dists.sort()\n",
        "    \n",
        "    return dists[199]\n"
      ],
      "metadata": {
        "id": "QY0bYM-wyN11"
      },
      "execution_count": null,
      "outputs": []
    },
    {
      "cell_type": "code",
      "source": [
        "twohundrethneigh = []\n",
        "for val in sent_vectors[:1500]:\n",
        "    twohundrethneigh.append( compute200thnearestneighbour(val, sent_vectors[:1500]) )\n",
        "twohundrethneigh.sort()"
      ],
      "metadata": {
        "id": "CG7tG9L6yQYD"
      },
      "execution_count": null,
      "outputs": []
    },
    {
      "cell_type": "code",
      "source": [
        "plt.figure(figsize=(14,4))\n",
        "plt.title(\"Elbow Method for Finding the right Eps hyperparameter\")\n",
        "plt.plot([x for x in range(len(twohundrethneigh))], twohundrethneigh)\n",
        "plt.xlabel(\"Number of points\")\n",
        "plt.ylabel(\"Distance of 200th Nearest Neighbour\")\n",
        "plt.show()"
      ],
      "metadata": {
        "colab": {
          "base_uri": "https://localhost:8080/",
          "height": 295
        },
        "id": "kJFNIz83ySAy",
        "outputId": "f808f8ad-9af8-4545-e316-2a00b44ef23f"
      },
      "execution_count": null,
      "outputs": [
        {
          "output_type": "display_data",
          "data": {
            "text/plain": [
              "<Figure size 1008x288 with 1 Axes>"
            ],
            "image/png": "[encoded data removed]"
          },
          "metadata": {
            "needs_background": "light"
          }
        }
      ]
    },
    {
      "cell_type": "code",
      "source": [
        "# Training DBSCAN :\n",
        "minPts = 2 * 100\n",
        "model = DBSCAN(eps = 5, min_samples = minPts, n_jobs=-1)\n",
        "model.fit(sent_vectors)"
      ],
      "metadata": {
        "colab": {
          "base_uri": "https://localhost:8080/"
        },
        "id": "Y5w3tCXUyUmW",
        "outputId": "dc7deefb-d770-4d8f-c916-18d1ce979ad6"
      },
      "execution_count": null,
      "outputs": [
        {
          "output_type": "execute_result",
          "data": {
            "text/plain": [
              "DBSCAN(eps=5, min_samples=200, n_jobs=-1)"
            ]
          },
          "metadata": {},
          "execution_count": 42
        }
      ]
    },
    {
      "cell_type": "code",
      "source": [
        "dfdb = dafrmea\n",
        "dfdb['AVG-W2V Clus Label'] = model.labels_\n",
        "dfdb.head(2)"
      ],
      "metadata": {
        "colab": {
          "base_uri": "https://localhost:8080/",
          "height": 225
        },
        "id": "JP-X3a7yyUen",
        "outputId": "84ab3763-eb14-4611-df0a-bf9955aacf76"
      },
      "execution_count": null,
      "outputs": [
        {
          "output_type": "execute_result",
          "data": {
            "text/plain": [
              "                                             Product Name   Brand Name  \\\n",
              "103270  BLU Advance 4.0L Unlocked Smartphone -Global G...          BLU   \n",
              "297857  POSH MOBILE MICRO X, The Smallest Smartphone i...  Posh Mobile   \n",
              "\n",
              "         Price  Rating                                            Reviews  \\\n",
              "103270  149.99       4  Had it for 1 year, can't really complain. Gave...   \n",
              "297857   49.99       5                                    Perfect, thanks   \n",
              "\n",
              "       Review Votes RatingTransformed  \\\n",
              "103270          0.0          positive   \n",
              "297857          1.0          positive   \n",
              "\n",
              "                                              CleanedText  Bow Clus Label  \\\n",
              "103270  year cant realli complain gave teenag replac w...               2   \n",
              "297857                        perfect thank perfect thank               2   \n",
              "\n",
              "        Tfidf Clus Label  AVG-W2V Clus Label  \n",
              "103270                 7                  -1  \n",
              "297857                 3                  -1  "
            ],
            "text/html": [
              "\n",
              "  <div id=\"df-295ad644-a9b6-43e1-bc74-f815b0e515ae\">\n",
              "    <div class=\"colab-df-container\">\n",
              "      <div>\n",
              "<style scoped>\n",
              "    .dataframe tbody tr th:only-of-type {\n",
              "        vertical-align: middle;\n",
              "    }\n",
              "\n",
              "    .dataframe tbody tr th {\n",
              "        vertical-align: top;\n",
              "    }\n",
              "\n",
              "    .dataframe thead th {\n",
              "        text-align: right;\n",
              "    }\n",
              "</style>\n",
              "<table border=\"1\" class=\"dataframe\">\n",
              "  <thead>\n",
              "    <tr style=\"text-align: right;\">\n",
              "      <th></th>\n",
              "      <th>Product Name</th>\n",
              "      <th>Brand Name</th>\n",
              "      <th>Price</th>\n",
              "      <th>Rating</th>\n",
              "      <th>Reviews</th>\n",
              "      <th>Review Votes</th>\n",
              "      <th>RatingTransformed</th>\n",
              "      <th>CleanedText</th>\n",
              "      <th>Bow Clus Label</th>\n",
              "      <th>Tfidf Clus Label</th>\n",
              "      <th>AVG-W2V Clus Label</th>\n",
              "    </tr>\n",
              "  </thead>\n",
              "  <tbody>\n",
              "    <tr>\n",
              "      <th>103270</th>\n",
              "      <td>BLU Advance 4.0L Unlocked Smartphone -Global G...</td>\n",
              "      <td>BLU</td>\n",
              "      <td>149.99</td>\n",
              "      <td>4</td>\n",
              "      <td>Had it for 1 year, can't really complain. Gave...</td>\n",
              "      <td>0.0</td>\n",
              "      <td>positive</td>\n",
              "      <td>year cant realli complain gave teenag replac w...</td>\n",
              "      <td>2</td>\n",
              "      <td>7</td>\n",
              "      <td>-1</td>\n",
              "    </tr>\n",
              "    <tr>\n",
              "      <th>297857</th>\n",
              "      <td>POSH MOBILE MICRO X, The Smallest Smartphone i...</td>\n",
              "      <td>Posh Mobile</td>\n",
              "      <td>49.99</td>\n",
              "      <td>5</td>\n",
              "      <td>Perfect, thanks</td>\n",
              "      <td>1.0</td>\n",
              "      <td>positive</td>\n",
              "      <td>perfect thank perfect thank</td>\n",
              "      <td>2</td>\n",
              "      <td>3</td>\n",
              "      <td>-1</td>\n",
              "    </tr>\n",
              "  </tbody>\n",
              "</table>\n",
              "</div>\n",
              "      <button class=\"colab-df-convert\" onclick=\"convertToInteractive('df-295ad644-a9b6-43e1-bc74-f815b0e515ae')\"\n",
              "              title=\"Convert this dataframe to an interactive table.\"\n",
              "              style=\"display:none;\">\n",
              "        \n",
              "  <svg xmlns=\"http://www.w3.org/2000/svg\" height=\"24px\"viewBox=\"0 0 24 24\"\n",
              "       width=\"24px\">\n",
              "    <path d=\"M0 0h24v24H0V0z\" fill=\"none\"/>\n",
              "    <path d=\"M18.56 5.44l.94 2.06.94-2.06 2.06-.94-2.06-.94-.94-2.06-.94 2.06-2.06.94zm-11 1L8.5 8.5l.94-2.06 2.06-.94-2.06-.94L8.5 2.5l-.94 2.06-2.06.94zm10 10l.94 2.06.94-2.06 2.06-.94-2.06-.94-.94-2.06-.94 2.06-2.06.94z\"/><path d=\"M17.41 7.96l-1.37-1.37c-.4-.4-.92-.59-1.43-.59-.52 0-1.04.2-1.43.59L10.3 9.45l-7.72 7.72c-.78.78-.78 2.05 0 2.83L4 21.41c.39.39.9.59 1.41.59.51 0 1.02-.2 1.41-.59l7.78-7.78 2.81-2.81c.8-.78.8-2.07 0-2.86zM5.41 20L4 18.59l7.72-7.72 1.47 1.35L5.41 20z\"/>\n",
              "  </svg>\n",
              "      </button>\n",
              "      \n",
              "  <style>\n",
              "    .colab-df-container {\n",
              "      display:flex;\n",
              "      flex-wrap:wrap;\n",
              "      gap: 12px;\n",
              "    }\n",
              "\n",
              "    .colab-df-convert {\n",
              "      background-color: #E8F0FE;\n",
              "      border: none;\n",
              "      border-radius: 50%;\n",
              "      cursor: pointer;\n",
              "      display: none;\n",
              "      fill: #1967D2;\n",
              "      height: 32px;\n",
              "      padding: 0 0 0 0;\n",
              "      width: 32px;\n",
              "    }\n",
              "\n",
              "    .colab-df-convert:hover {\n",
              "      background-color: #E2EBFA;\n",
              "      box-shadow: 0px 1px 2px rgba(60, 64, 67, 0.3), 0px 1px 3px 1px rgba(60, 64, 67, 0.15);\n",
              "      fill: #174EA6;\n",
              "    }\n",
              "\n",
              "    [theme=dark] .colab-df-convert {\n",
              "      background-color: #3B4455;\n",
              "      fill: #D2E3FC;\n",
              "    }\n",
              "\n",
              "    [theme=dark] .colab-df-convert:hover {\n",
              "      background-color: #434B5C;\n",
              "      box-shadow: 0px 1px 3px 1px rgba(0, 0, 0, 0.15);\n",
              "      filter: drop-shadow(0px 1px 2px rgba(0, 0, 0, 0.3));\n",
              "      fill: #FFFFFF;\n",
              "    }\n",
              "  </style>\n",
              "\n",
              "      <script>\n",
              "        const buttonEl =\n",
              "          document.querySelector('#df-295ad644-a9b6-43e1-bc74-f815b0e515ae button.colab-df-convert');\n",
              "        buttonEl.style.display =\n",
              "          google.colab.kernel.accessAllowed ? 'block' : 'none';\n",
              "\n",
              "        async function convertToInteractive(key) {\n",
              "          const element = document.querySelector('#df-295ad644-a9b6-43e1-bc74-f815b0e515ae');\n",
              "          const dataTable =\n",
              "            await google.colab.kernel.invokeFunction('convertToInteractive',\n",
              "                                                     [key], {});\n",
              "          if (!dataTable) return;\n",
              "\n",
              "          const docLinkHtml = 'Like what you see? Visit the ' +\n",
              "            '<a target=\"_blank\" href=https://colab.research.google.com/notebooks/data_table.ipynb>data table notebook</a>'\n",
              "            + ' to learn more about interactive tables.';\n",
              "          element.innerHTML = '';\n",
              "          dataTable['output_type'] = 'display_data';\n",
              "          await google.colab.output.renderOutput(dataTable, element);\n",
              "          const docLink = document.createElement('div');\n",
              "          docLink.innerHTML = docLinkHtml;\n",
              "          element.appendChild(docLink);\n",
              "        }\n",
              "      </script>\n",
              "    </div>\n",
              "  </div>\n",
              "  "
            ]
          },
          "metadata": {},
          "execution_count": 43
        }
      ]
    },
    {
      "cell_type": "code",
      "source": [
        "dfdb.groupby(['AVG-W2V Clus Label'])['Reviews'].count()\n"
      ],
      "metadata": {
        "colab": {
          "base_uri": "https://localhost:8080/"
        },
        "id": "DTc3L7AbyUb3",
        "outputId": "a9b697b1-aed2-41f7-b350-24b407f0294f"
      },
      "execution_count": null,
      "outputs": [
        {
          "output_type": "execute_result",
          "data": {
            "text/plain": [
              "AVG-W2V Clus Label\n",
              "-1    1000\n",
              "Name: Reviews, dtype: int64"
            ]
          },
          "metadata": {},
          "execution_count": 44
        }
      ]
    },
    {
      "cell_type": "code",
      "source": [
        "import scipy\n",
        "from scipy.cluster import hierarchy\n",
        "dendro=hierarchy.dendrogram(hierarchy.linkage(sent_vectors,method='ward'))\n",
        "plt.axhline(y=35)"
      ],
      "metadata": {
        "colab": {
          "base_uri": "https://localhost:8080/",
          "height": 283
        },
        "id": "ul9GIMnHyYpM",
        "outputId": "43dea556-17ef-4d61-8229-fe26f031be68"
      },
      "execution_count": null,
      "outputs": [
        {
          "output_type": "execute_result",
          "data": {
            "text/plain": [
              "<matplotlib.lines.Line2D at 0x7f692f019b90>"
            ]
          },
          "metadata": {},
          "execution_count": 45
        },
        {
          "output_type": "display_data",
          "data": {
            "text/plain": [
              "<Figure size 432x288 with 1 Axes>"
            ],
            "image/png": "[encoded data removed]"
          },
          "metadata": {
            "needs_background": "light"
          }
        }
      ]
    },
    {
      "cell_type": "code",
      "source": [
        "from sklearn.cluster import AgglomerativeClustering\n",
        "\n",
        "cluster = AgglomerativeClustering(n_clusters=5, affinity='euclidean', linkage='ward')  #took n=5 from dendrogram curve \n",
        "Agg=cluster.fit_predict(sent_vectors)"
      ],
      "metadata": {
        "id": "P68rV-TbyYmo"
      },
      "execution_count": null,
      "outputs": []
    },
    {
      "cell_type": "code",
      "source": [
        "aggdfa = dfdb\n",
        "aggdfa['AVG-W2V Clus Label'] = cluster.labels_\n",
        "aggdfa.head(2)"
      ],
      "metadata": {
        "colab": {
          "base_uri": "https://localhost:8080/",
          "height": 225
        },
        "id": "yCt3CkP-yYjx",
        "outputId": "a12a5f18-6cc2-488d-894e-3b8a13477c1f"
      },
      "execution_count": null,
      "outputs": [
        {
          "output_type": "execute_result",
          "data": {
            "text/plain": [
              "                                             Product Name   Brand Name  \\\n",
              "103270  BLU Advance 4.0L Unlocked Smartphone -Global G...          BLU   \n",
              "297857  POSH MOBILE MICRO X, The Smallest Smartphone i...  Posh Mobile   \n",
              "\n",
              "         Price  Rating                                            Reviews  \\\n",
              "103270  149.99       4  Had it for 1 year, can't really complain. Gave...   \n",
              "297857   49.99       5                                    Perfect, thanks   \n",
              "\n",
              "       Review Votes RatingTransformed  \\\n",
              "103270          0.0          positive   \n",
              "297857          1.0          positive   \n",
              "\n",
              "                                              CleanedText  Bow Clus Label  \\\n",
              "103270  year cant realli complain gave teenag replac w...               2   \n",
              "297857                        perfect thank perfect thank               2   \n",
              "\n",
              "        Tfidf Clus Label  AVG-W2V Clus Label  \n",
              "103270                 7                   0  \n",
              "297857                 3                   4  "
            ],
            "text/html": [
              "\n",
              "  <div id=\"df-05278c4f-abc2-4d1f-ba5b-d0ca5cad6ee9\">\n",
              "    <div class=\"colab-df-container\">\n",
              "      <div>\n",
              "<style scoped>\n",
              "    .dataframe tbody tr th:only-of-type {\n",
              "        vertical-align: middle;\n",
              "    }\n",
              "\n",
              "    .dataframe tbody tr th {\n",
              "        vertical-align: top;\n",
              "    }\n",
              "\n",
              "    .dataframe thead th {\n",
              "        text-align: right;\n",
              "    }\n",
              "</style>\n",
              "<table border=\"1\" class=\"dataframe\">\n",
              "  <thead>\n",
              "    <tr style=\"text-align: right;\">\n",
              "      <th></th>\n",
              "      <th>Product Name</th>\n",
              "      <th>Brand Name</th>\n",
              "      <th>Price</th>\n",
              "      <th>Rating</th>\n",
              "      <th>Reviews</th>\n",
              "      <th>Review Votes</th>\n",
              "      <th>RatingTransformed</th>\n",
              "      <th>CleanedText</th>\n",
              "      <th>Bow Clus Label</th>\n",
              "      <th>Tfidf Clus Label</th>\n",
              "      <th>AVG-W2V Clus Label</th>\n",
              "    </tr>\n",
              "  </thead>\n",
              "  <tbody>\n",
              "    <tr>\n",
              "      <th>103270</th>\n",
              "      <td>BLU Advance 4.0L Unlocked Smartphone -Global G...</td>\n",
              "      <td>BLU</td>\n",
              "      <td>149.99</td>\n",
              "      <td>4</td>\n",
              "      <td>Had it for 1 year, can't really complain. Gave...</td>\n",
              "      <td>0.0</td>\n",
              "      <td>positive</td>\n",
              "      <td>year cant realli complain gave teenag replac w...</td>\n",
              "      <td>2</td>\n",
              "      <td>7</td>\n",
              "      <td>0</td>\n",
              "    </tr>\n",
              "    <tr>\n",
              "      <th>297857</th>\n",
              "      <td>POSH MOBILE MICRO X, The Smallest Smartphone i...</td>\n",
              "      <td>Posh Mobile</td>\n",
              "      <td>49.99</td>\n",
              "      <td>5</td>\n",
              "      <td>Perfect, thanks</td>\n",
              "      <td>1.0</td>\n",
              "      <td>positive</td>\n",
              "      <td>perfect thank perfect thank</td>\n",
              "      <td>2</td>\n",
              "      <td>3</td>\n",
              "      <td>4</td>\n",
              "    </tr>\n",
              "  </tbody>\n",
              "</table>\n",
              "</div>\n",
              "      <button class=\"colab-df-convert\" onclick=\"convertToInteractive('df-05278c4f-abc2-4d1f-ba5b-d0ca5cad6ee9')\"\n",
              "              title=\"Convert this dataframe to an interactive table.\"\n",
              "              style=\"display:none;\">\n",
              "        \n",
              "  <svg xmlns=\"http://www.w3.org/2000/svg\" height=\"24px\"viewBox=\"0 0 24 24\"\n",
              "       width=\"24px\">\n",
              "    <path d=\"M0 0h24v24H0V0z\" fill=\"none\"/>\n",
              "    <path d=\"M18.56 5.44l.94 2.06.94-2.06 2.06-.94-2.06-.94-.94-2.06-.94 2.06-2.06.94zm-11 1L8.5 8.5l.94-2.06 2.06-.94-2.06-.94L8.5 2.5l-.94 2.06-2.06.94zm10 10l.94 2.06.94-2.06 2.06-.94-2.06-.94-.94-2.06-.94 2.06-2.06.94z\"/><path d=\"M17.41 7.96l-1.37-1.37c-.4-.4-.92-.59-1.43-.59-.52 0-1.04.2-1.43.59L10.3 9.45l-7.72 7.72c-.78.78-.78 2.05 0 2.83L4 21.41c.39.39.9.59 1.41.59.51 0 1.02-.2 1.41-.59l7.78-7.78 2.81-2.81c.8-.78.8-2.07 0-2.86zM5.41 20L4 18.59l7.72-7.72 1.47 1.35L5.41 20z\"/>\n",
              "  </svg>\n",
              "      </button>\n",
              "      \n",
              "  <style>\n",
              "    .colab-df-container {\n",
              "      display:flex;\n",
              "      flex-wrap:wrap;\n",
              "      gap: 12px;\n",
              "    }\n",
              "\n",
              "    .colab-df-convert {\n",
              "      background-color: #E8F0FE;\n",
              "      border: none;\n",
              "      border-radius: 50%;\n",
              "      cursor: pointer;\n",
              "      display: none;\n",
              "      fill: #1967D2;\n",
              "      height: 32px;\n",
              "      padding: 0 0 0 0;\n",
              "      width: 32px;\n",
              "    }\n",
              "\n",
              "    .colab-df-convert:hover {\n",
              "      background-color: #E2EBFA;\n",
              "      box-shadow: 0px 1px 2px rgba(60, 64, 67, 0.3), 0px 1px 3px 1px rgba(60, 64, 67, 0.15);\n",
              "      fill: #174EA6;\n",
              "    }\n",
              "\n",
              "    [theme=dark] .colab-df-convert {\n",
              "      background-color: #3B4455;\n",
              "      fill: #D2E3FC;\n",
              "    }\n",
              "\n",
              "    [theme=dark] .colab-df-convert:hover {\n",
              "      background-color: #434B5C;\n",
              "      box-shadow: 0px 1px 3px 1px rgba(0, 0, 0, 0.15);\n",
              "      filter: drop-shadow(0px 1px 2px rgba(0, 0, 0, 0.3));\n",
              "      fill: #FFFFFF;\n",
              "    }\n",
              "  </style>\n",
              "\n",
              "      <script>\n",
              "        const buttonEl =\n",
              "          document.querySelector('#df-05278c4f-abc2-4d1f-ba5b-d0ca5cad6ee9 button.colab-df-convert');\n",
              "        buttonEl.style.display =\n",
              "          google.colab.kernel.accessAllowed ? 'block' : 'none';\n",
              "\n",
              "        async function convertToInteractive(key) {\n",
              "          const element = document.querySelector('#df-05278c4f-abc2-4d1f-ba5b-d0ca5cad6ee9');\n",
              "          const dataTable =\n",
              "            await google.colab.kernel.invokeFunction('convertToInteractive',\n",
              "                                                     [key], {});\n",
              "          if (!dataTable) return;\n",
              "\n",
              "          const docLinkHtml = 'Like what you see? Visit the ' +\n",
              "            '<a target=\"_blank\" href=https://colab.research.google.com/notebooks/data_table.ipynb>data table notebook</a>'\n",
              "            + ' to learn more about interactive tables.';\n",
              "          element.innerHTML = '';\n",
              "          dataTable['output_type'] = 'display_data';\n",
              "          await google.colab.output.renderOutput(dataTable, element);\n",
              "          const docLink = document.createElement('div');\n",
              "          docLink.innerHTML = docLinkHtml;\n",
              "          element.appendChild(docLink);\n",
              "        }\n",
              "      </script>\n",
              "    </div>\n",
              "  </div>\n",
              "  "
            ]
          },
          "metadata": {},
          "execution_count": 47
        }
      ]
    },
    {
      "cell_type": "code",
      "source": [
        "aggdfa.groupby(['AVG-W2V Clus Label'])['Reviews'].count()\n"
      ],
      "metadata": {
        "colab": {
          "base_uri": "https://localhost:8080/"
        },
        "id": "rNUPBaWIyYg5",
        "outputId": "4bd191c5-91db-4bb7-ff88-e111cb449fca"
      },
      "execution_count": null,
      "outputs": [
        {
          "output_type": "execute_result",
          "data": {
            "text/plain": [
              "AVG-W2V Clus Label\n",
              "0    615\n",
              "1    318\n",
              "2     22\n",
              "3     22\n",
              "4     23\n",
              "Name: Reviews, dtype: int64"
            ]
          },
          "metadata": {},
          "execution_count": 48
        }
      ]
    },
    {
      "cell_type": "markdown",
      "metadata": {
        "id": "YOOTRT0jBKGK"
      },
      "source": [
        "In one paragraph, please compare K means, DBSCAN and Hierarchical clustering."
      ]
    },
    {
      "cell_type": "code",
      "source": [
        "#You can write you answer here. (No code needed)\n",
        "\n",
        "In machine learning, clustering techniques like as K-means and DBScan are widely used. In K-means clusters must have the same feature size when compared \n",
        "to DBScan it may not have the same feature size. K-means clusters are sensitive to the specified number of clusters. In DBScan no need to specify the \n",
        "number of clusters.K-means clustering is efficient for large data sets but DBScan can not handle high dimensional datasets.K-means has one parameter \n",
        "which is the number of clusters and DBScan has two parameters which are radius and minimum points\n"
      ],
      "metadata": {
        "id": "PAMKOCM3Hw64"
      },
      "execution_count": null,
      "outputs": []
    }
  ],
  "metadata": {
    "kernelspec": {
      "display_name": "Python 3",
      "language": "python",
      "name": "python3"
    },
    "language_info": {
      "codemirror_mode": {
        "name": "ipython",
        "version": 3
      },
      "file_extension": ".py",
      "mimetype": "text/x-python",
      "name": "python",
      "nbconvert_exporter": "python",
      "pygments_lexer": "ipython3",
      "version": "3.8.5"
    },
    "colab": {
      "name": "In_class_exercise_05-2_.ipynb",
      "provenance": [],
      "collapsed_sections": [],
      "include_colab_link": true
    }
  },
  "nbformat": 4,
  "nbformat_minor": 0
}