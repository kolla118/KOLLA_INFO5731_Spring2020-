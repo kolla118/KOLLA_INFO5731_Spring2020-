{
  "cells": [
    {
      "cell_type": "markdown",
      "metadata": {
        "id": "view-in-github",
        "colab_type": "text"
      },
      "source": [
        "<a href=\"https://colab.research.google.com/github/kolla118/KOLLA_INFO5731_Spring2020-/blob/main/INFO5731_Assignment_One.ipynb\" target=\"_parent\"><img src=\"https://colab.research.google.com/assets/colab-badge.svg\" alt=\"Open In Colab\"/></a>"
      ]
    },
    {
      "cell_type": "markdown",
      "metadata": {
        "id": "Ryk8D1Q4Wsrp"
      },
      "source": [
        "# **INFO5731 Assignment One**"
      ]
    },
    {
      "cell_type": "markdown",
      "metadata": {
        "id": "90_NR8c5XGWc"
      },
      "source": [
        "# Question 1\n",
        "\n",
        "(20 points). Write a Python program to generate 12 random numbers between 1 and 100. Sort the list of numbers in ascending order and print it out. Sort the list of numbers in descending order and print it out. Calculate the average for the group and print it out."
      ]
    },
    {
      "cell_type": "code",
      "execution_count": null,
      "metadata": {
        "id": "5QX6bJjGWXY9",
        "colab": {
          "base_uri": "https://localhost:8080/"
        },
        "outputId": "6d65f803-f618-4837-b633-c4e658987d6e"
      },
      "outputs": [
        {
          "output_type": "stream",
          "name": "stdout",
          "text": [
            "randomaly generated 12 numbers between 1 to 100 are: \n",
            "36\t22\t72\t96\t4\t19\t80\t51\t9\t81\t75\t61\t\n",
            " list in Ascending order :\n",
            "4\t9\t19\t22\t36\t51\t61\t72\t75\t80\t81\t96\t\n",
            " list in descending order :\n",
            "96\t81\t80\t75\t72\t61\t51\t36\t22\t19\t9\t4\t\n",
            " Average of the list : 50.5\n"
          ]
        }
      ],
      "source": [
        "from numpy.lib.function_base import average\n",
        "import pandas as pd\n",
        "import random\n",
        "l=[]\n",
        "for x in range(12):\n",
        "  num=random.randint(1,100)\n",
        "  l.append(num)\n",
        "print(\"randomaly generated 12 numbers between 1 to 100 are: \")\n",
        "for i in range(len(l)):\n",
        "  print(l[i],end=\"\\t\",)\n",
        "\n",
        "l.sort()\n",
        "print(\"\\n list in Ascending order :\")\n",
        "for i in range(len(l)):\n",
        "  print(l[i],end='\\t',)\n",
        "\n",
        "print(\"\\n list in descending order :\")\n",
        "l.reverse()\n",
        "for i in range(len(l)):\n",
        "  print(l[i],end='\\t',)\n",
        "\n",
        "print(\"\\n Average of the list :\",average(l))\n",
        "\n"
      ]
    },
    {
      "cell_type": "markdown",
      "metadata": {
        "id": "1F_PZdH9Sh49"
      },
      "source": [
        "# Question 2\n",
        "(25 points). Write a program that will do the following string formatting tasks:\n",
        "\n",
        "(1) Ask the user to enter two sentences.\n",
        "\n",
        "(2) Make each sentence into a list. Each element in the list should correspond to a word in the sentence. For example, if the sentence is \"Alas! Am I alive? This is my first python program\", the program should print out ['Alas, '!', 'Am', 'I', 'alive, '?', 'This', 'is', 'my', 'first', 'python', 'program'].\n",
        "\n",
        "(3) Compare the two sentences. Print out a list of words that occur in both sentences.\n",
        "\n",
        "(4) Remove any punctuation from the sentence and print it back out. It should remove at least the following characters, but it can remove more: period(“.”), comma (“,”), semicolon (“;”), and colon (“:”)\n",
        "\n",
        "(5) Count the number of vowels in the sentences. Print out each vowel and the number of times it appears in the sentences, such as: a:2, e:1, i:0, etc"
      ]
    },
    {
      "cell_type": "code",
      "execution_count": null,
      "metadata": {
        "id": "Y0oOSlsOS0cq",
        "colab": {
          "base_uri": "https://localhost:8080/"
        },
        "outputId": "ec97ac68-742d-458a-d6bc-25ceb7a4d70f"
      },
      "outputs": [
        {
          "output_type": "stream",
          "name": "stdout",
          "text": [
            "Enter first string: Hi How are you ??\n",
            "Enter second string: I am fine thanks how are you ?\n",
            "First list: ['Hi', 'How', 'are', 'you', '?', '?']\n",
            "Second list: ['I', 'am', 'fine', 'thanks', 'how', 'are', 'you', '?']\n",
            "\n",
            " Following are common\n",
            "How\n",
            "are\n",
            "you\n",
            "?\n",
            "?\n",
            "\n",
            " Following are common without punctuation\n",
            "How\n",
            "are\n",
            "you\n",
            "\n",
            " Vowel frequency in first string: {'a': 1, 'e': 1, 'i': 1, 'o': 2, 'u': 1}\n",
            "\n",
            "Vowel frequency in second string: {'a': 3, 'e': 2, 'i': 2, 'o': 2, 'u': 1}\n"
          ]
        }
      ],
      "source": [
        "import string\n",
        "import re\n",
        "#list=[]\n",
        "a = input(\"Enter first string: \")\n",
        "b = input(\"Enter second string: \")\n",
        "\n",
        "str1 = re.findall(r\"[\\w']+|[.,!?;:]\", a)\n",
        "str2 = re.findall(r\"[\\w']+|[.,!?;:]\", b)\n",
        "\n",
        "print(\"First list:\",str1)\n",
        "print(\"Second list:\",str2)\n",
        "\n",
        "\n",
        "print(\"\\n Following are common\")\n",
        "for word in str1:\n",
        "  for other in str2:\n",
        "    #list.append(word)\n",
        "    if word.lower() == other.lower():\n",
        "      print(word)\n",
        "  \n",
        "print(\"\\n Following are common without punctuation\")\n",
        "for word in str1:\n",
        "  for other in str2:\n",
        "    #list.append(word)\n",
        "    if word.lower() == other.lower() and word not in string.punctuation:\n",
        "      print(word)\n",
        "  \n",
        "vowels = {'a':0, 'e':0, 'i':0, 'o':0, 'u':0}\n",
        "for letter in a:\n",
        "  if letter.lower() in vowels:\n",
        "    vowels[letter.lower()] += 1\n",
        "\n",
        "print(\"\\n Vowel frequency in first string:\",vowels)\n",
        "\n",
        "  \n",
        "vowels = {'a':0, 'e':0, 'i':0, 'o':0, 'u':0}\n",
        "for letter in b:\n",
        "  if letter.lower() in vowels:\n",
        "    vowels[letter.lower()] += 1\n",
        "\n",
        "print(\"\\nVowel frequency in second string:\",vowels)\n"
      ]
    },
    {
      "cell_type": "markdown",
      "metadata": {
        "id": "CmFoI4jDS9nx"
      },
      "source": [
        "# Question 3 \n",
        "\n",
        "(15 points). The formula that describes the volume V of a sphere with radius r is the following:\n",
        "\n",
        "$ V=\\frac{4}{3}\\ast\\ \\pi\\ast\\ r^3 $\n",
        "\n",
        "Write a program to calculate the value of V when r is in the range of 1–10. Output the result in the following format:\n",
        "\n",
        "\tr\tV\n",
        "\t1\t…\n",
        "\t2\t…\n",
        "\t3\t…\n"
      ]
    },
    {
      "cell_type": "code",
      "execution_count": null,
      "metadata": {
        "id": "pEyqeioAT95b",
        "colab": {
          "base_uri": "https://localhost:8080/"
        },
        "outputId": "39d03041-b969-4529-c525-71e737d9e76c"
      },
      "outputs": [
        {
          "output_type": "stream",
          "name": "stdout",
          "text": [
            "r\t V\n",
            "1 \t 4.188\n",
            "2 \t 33.504\n",
            "3 \t 113.076\n",
            "4 \t 268.032\n",
            "5 \t 523.5\n",
            "6 \t 904.608\n",
            "7 \t 1436.484\n",
            "8 \t 2144.256\n",
            "9 \t 3053.052\n",
            "10 \t 4188.0\n"
          ]
        }
      ],
      "source": [
        "print(\"r\\t V\")\n",
        "for r in range(1,11):\n",
        "  volume=4/3*3.141*r*r*r\n",
        "  print(r,\"\\t\",volume)\n",
        "\n",
        "\n",
        "\n"
      ]
    },
    {
      "cell_type": "code",
      "execution_count": null,
      "metadata": {
        "id": "pMCr3l8tnu0j"
      },
      "outputs": [],
      "source": [
        ""
      ]
    },
    {
      "cell_type": "markdown",
      "metadata": {
        "id": "z3tBE7E-Xn5X"
      },
      "source": [
        "# Question 4\n",
        "\n",
        "(40 points). In the field of Data Science, data is often formatted as a comma-delimited (CSV) file, where each line in a file corresponds to a field's value. Refer to Chapter 9 (p. 106) for more information on comma-delimited files. To answer this question, you will need to download the file [Assignment1_denton_housing.csv](https://raw.githubusercontent.com/unt-iialab/info5731-spring2022/main/assignments/Assignment1_denton_housing.csv) included with this assignment. The file [Assignment1_denton_housing.csv](https://raw.githubusercontent.com/unt-iialab/info5731-spring2022/main/assignments/Assignment1_denton_housing.csv) contains statistics about housing in the city of Denton from 2008 to 2014. Write a program to implement the following questions.\n",
        "\n",
        "(1) (10 pts) Calculate the difference in the number of Occupied Housing Units from year to year and print it. The difference must be calculated for the consecutive years such as 2008-2009, 2009-2010 etc. Finally, print the values in the ascending order.\n",
        "\n",
        "(2) (10 pts) For all the years, calculate the percentage of housing units which are vacant an occupied. Print the results in the following format:\n",
        "\n",
        "Year Vacant Housing Units Occupied Housing Units\n",
        "\n",
        "    2008  30%   70%                          \n",
        "\t2009 ----- -----\n",
        "\t2010 ----- -----\n",
        "    2011 ----- -----\n",
        "\t2012 ----- -----\n",
        "    2013 ----- -----\n",
        "\t2014 ----- -----\n",
        "  \n",
        "  \n",
        "\n",
        "(3) (10 pts) Calculate and print the valued and years in which the highest number of housing units were vacant and occupied. Print the results in the following format:  \n",
        "\n",
        "                              Year\tValue\n",
        "\tVacant Housing Units\t  -----   -----\n",
        "\tOccupied Housing Units\t-----   -----\n",
        "\n",
        "(4) (10 pts) Calculate the harmonic mean of the total housing units and print it out. You can find the information about harmonic mean here: https://ncalculators.com/statistics/harmonic-mean-calculator.htm"
      ]
    },
    {
      "cell_type": "code",
      "execution_count": 136,
      "metadata": {
        "id": "lqGYuHBhcsRH",
        "colab": {
          "base_uri": "https://localhost:8080/"
        },
        "outputId": "7bd1df02-75c2-48d9-a4b2-c1da00dea5c7"
      },
      "outputs": [
        {
          "output_type": "stream",
          "name": "stdout",
          "text": [
            "Shape:  (42, 3)\n",
            "[-5091, -2622, -1565, -1404, 303, 795]\n",
            "   year  Vacant House  ...  Percent of Vacant House  Percent of Occupied House\n",
            "0  2008          4483  ...                10.882653                  89.117347\n",
            "1  2009          3583  ...                 9.071116                  90.928884\n",
            "2  2010          3635  ...                 8.142556                  91.857444\n",
            "3  2011          4213  ...                 9.379522                  90.620478\n",
            "4  2012          3013  ...                 6.677600                  93.322400\n",
            "5  2013          4215  ...                 8.801788                  91.198212\n",
            "6  2014          2814  ...                 5.730111                  94.269889\n",
            "\n",
            "[7 rows x 5 columns]\n",
            "    year           title_field  value\n",
            "19  2008  Vacant Housing Units   4483\n",
            "   year             title_field  value\n",
            "2  2014  Occupied Housing Units  46295\n",
            "44398.28543969185\n"
          ]
        }
      ],
      "source": [
        "import pandas as pd\n",
        "import statistics\n",
        "\n",
        "house = pd.read_csv('https://raw.githubusercontent.com/unt-iialab/info5731-spring2022/main/assignments/Assignment1_denton_housing.csv')\n",
        "print('Shape: ',house.shape)\n",
        "house.head()\n",
        "\n",
        "occupied_houses = house[house['title_field'] == 'Occupied Housing Units'].sort_values(by=['year'])\n",
        "\n",
        "diff_house = [occupied_houses['value'].values[loop1] - occupied_houses['value'].values[loop1+1]\\\n",
        "              for loop1 in range(len(occupied_houses)-1)]          \n",
        "diff_house = sorted(diff_house)\n",
        "print(diff_house)\n",
        " \n",
        "unique_years = sorted(house['year'].unique())\n",
        "\n",
        "occupied_houses = house[house['title_field'] == 'Occupied Housing Units'].sort_values(by=['year'])\n",
        "\n",
        "vacant_houses = house[house['title_field'] == 'Vacant Housing Units'].sort_values(by=['year'])\n",
        "\n",
        "new_house_df = pd.DataFrame()\n",
        "new_house_df['year'] = unique_years\n",
        "new_house_df['Vacant House'] = vacant_houses['value'].values\n",
        "new_house_df['Occupied House'] = occupied_houses['value'].values\n",
        "new_house_df['Percent of Vacant House'] = [(new_house_df['Vacant House'][loop1] * 100) /\\\n",
        "                                           (new_house_df['Vacant House'][loop1] + new_house_df['Occupied House'][loop1])\\\n",
        "                                           for loop1 in range(len(new_house_df))]\n",
        "new_house_df['Percent of Occupied House'] = [(new_house_df['Occupied House'][loop1] * 100) /\\\n",
        "                                           (new_house_df['Vacant House'][loop1] + new_house_df['Occupied House'][loop1])\\\n",
        "                                           for loop1 in range(len(new_house_df))]\n",
        "print(new_house_df)\n",
        "\n",
        "max_vacant_houses = max(house[house['title_field'] == 'Vacant Housing Units'].value)\n",
        "vacant_houses = vacant_houses[vacant_houses['value'] == max_vacant_houses]\n",
        "print(vacant_houses)\n",
        "\n",
        "\n",
        "\n",
        "max_occupied_houses = max(house[house['title_field'] == 'Occupied Housing Units'].value)\n",
        "occupied_houses = occupied_houses[occupied_houses['value'] == max_occupied_houses]\n",
        "print(occupied_houses)\n",
        "\n",
        "\n",
        "\n",
        "\n",
        "print(statistics.harmonic_mean(house[house['title_field'] == 'Total Housing Units'].value))\n",
        "\n",
        "\n"
      ]
    }
  ],
  "metadata": {
    "colab": {
      "collapsed_sections": [],
      "name": "INFO5731_Assignment_One.ipynb",
      "provenance": [],
      "include_colab_link": true
    },
    "kernelspec": {
      "display_name": "Python 3",
      "language": "python",
      "name": "python3"
    },
    "language_info": {
      "codemirror_mode": {
        "name": "ipython",
        "version": 3
      },
      "file_extension": ".py",
      "mimetype": "text/x-python",
      "name": "python",
      "nbconvert_exporter": "python",
      "pygments_lexer": "ipython3",
      "version": "3.8.5"
    }
  },
  "nbformat": 4,
  "nbformat_minor": 0
}